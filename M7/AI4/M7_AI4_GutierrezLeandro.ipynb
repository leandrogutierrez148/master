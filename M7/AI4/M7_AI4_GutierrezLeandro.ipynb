{
  "cells": [
    {
      "cell_type": "markdown",
      "metadata": {
        "id": "4F8IIyhnt4jV"
      },
      "source": [
        "# M7_AI3_Generación de texto\n",
        "#### Autor: Leandro Gutierrez\n",
        "#### Este documento intenta dar respuesta a la actividad individual 4 propuesta en el Modulo **Técnicas Avanzadas de Machine Learning**. En él se describirán cada uno de los enunciados postulados y los resultados obtenidos.\n",
        "#### Enero 11, 2025"
      ]
    },
    {
      "cell_type": "markdown",
      "metadata": {
        "id": "tgmzVhKhmJHM"
      },
      "source": [
        "# Generación de texto con una red LSTM\n",
        "En esta actividad vamos a utilizar una red recurrente LSTM para generar texto.\n",
        "\n",
        "El corpus que sirve de referencia para generar los textos consiste en Alicia en el País de las Maravillas, aunque se puede utilizar cualquier otro.\n",
        "\n",
        "El interés de esta actividad es utilizar las redes **LSTM para algo distinto de una clasificación**, aunque, como se puede observar, la calidad de los textos generados es inferior a la que se consigue con otros modelos más actuales, como los transformer.\n",
        "\n",
        "**Debes completar el código en las secciones indicadas con # COMPLETAR CODIGO**"
      ]
    },
    {
      "cell_type": "markdown",
      "metadata": {
        "id": "lUGDPYoH6Vmh"
      },
      "source": [
        "## Instalación e importación de paquetes"
      ]
    },
    {
      "cell_type": "code",
      "execution_count": 1,
      "metadata": {
        "id": "XkmvTyPxA9bp",
        "colab": {
          "base_uri": "https://localhost:8080/"
        },
        "outputId": "d3b502b7-19d5-44c0-ffa1-00f5d0b7b34e"
      },
      "outputs": [
        {
          "output_type": "stream",
          "name": "stdout",
          "text": [
            "Requirement already satisfied: progressbar2 in /usr/local/lib/python3.10/dist-packages (4.5.0)\n",
            "Requirement already satisfied: python-utils>=3.8.1 in /usr/local/lib/python3.10/dist-packages (from progressbar2) (3.9.1)\n",
            "Requirement already satisfied: typing_extensions>3.10.0.2 in /usr/local/lib/python3.10/dist-packages (from python-utils>=3.8.1->progressbar2) (4.12.2)\n"
          ]
        }
      ],
      "source": [
        "!pip install progressbar2"
      ]
    },
    {
      "cell_type": "code",
      "execution_count": 2,
      "metadata": {
        "id": "hg_-Lc8WBBiu",
        "colab": {
          "base_uri": "https://localhost:8080/"
        },
        "outputId": "bc0ca7d8-7f8e-4978-a380-eeaa75cb3b6c"
      },
      "outputs": [
        {
          "output_type": "stream",
          "name": "stderr",
          "text": [
            "[nltk_data] Downloading package punkt to /root/nltk_data...\n",
            "[nltk_data]   Unzipping tokenizers/punkt.zip.\n",
            "[nltk_data] Downloading package punkt_tab to /root/nltk_data...\n",
            "[nltk_data]   Unzipping tokenizers/punkt_tab.zip.\n"
          ]
        },
        {
          "output_type": "stream",
          "name": "stdout",
          "text": [
            "use_moses_detokenizer=False\n"
          ]
        }
      ],
      "source": [
        "import os\n",
        "import urllib\n",
        "import numpy as np\n",
        "import matplotlib.pyplot as plt\n",
        "from collections import Counter\n",
        "import html\n",
        "\n",
        "import nltk\n",
        "from nltk import word_tokenize\n",
        "nltk.download('punkt')\n",
        "nltk.download('punkt_tab')\n",
        "import pickle\n",
        "import random\n",
        "import progressbar\n",
        "from tensorflow.keras import models, layers\n",
        "from tensorflow.keras.utils import to_categorical\n",
        "\n",
        "try:\n",
        "    from nltk.tokenize.moses import MosesDetokenizer\n",
        "    detokenizer = MosesDetokenizer()\n",
        "    use_moses_detokenizer = True\n",
        "except:\n",
        "    use_moses_detokenizer = False\n",
        "\n",
        "print(f\"use_moses_detokenizer={use_moses_detokenizer}\")"
      ]
    },
    {
      "cell_type": "markdown",
      "metadata": {
        "id": "-WtteF7Mu9r-"
      },
      "source": [
        "## Definición de parámetros del corpus y su preprocesado"
      ]
    },
    {
      "cell_type": "code",
      "execution_count": 3,
      "metadata": {
        "id": "uhtm7a7aCIr_"
      },
      "outputs": [],
      "source": [
        "corpus_url = \"https://www.gutenberg.org/cache/epub/11/pg11.txt\"\n",
        "corpus_path = \"alicia.txt\"\n",
        "preprocessed_corpus_path = \"alicia_preprocessed.p\"\n",
        "most_common_words_number = 10000\n"
      ]
    },
    {
      "cell_type": "markdown",
      "metadata": {
        "id": "kH8wS9yCvRXc"
      },
      "source": [
        "## Tranformación entre palabras e índices\n",
        "Se definen dos funciones:\n",
        "* **encode_sequence**: codifica una secuencia de palabras en una secuencia de índices\n",
        "* **decode_indices**: decodifica una secuencia de índices en la secuencia de palabras correspondiente"
      ]
    },
    {
      "cell_type": "code",
      "execution_count": 4,
      "metadata": {
        "id": "6uqjM9GSKNxM"
      },
      "outputs": [],
      "source": [
        "def encode_sequence(sequence, vocabulary):\n",
        "\n",
        "    return [vocabulary.index(element) for element in sequence if element in vocabulary]\n",
        "\n",
        "\n",
        "def decode_indices(indices, vocabulary):\n",
        "\n",
        "    decoded_tokens = [vocabulary[index] for index in indices]\n",
        "    if use_moses_detokenizer  == True:\n",
        "        return detokenizer.detokenize(decoded_tokens, return_str=True)\n",
        "    else:\n",
        "        return \" \".join(decoded_tokens)"
      ]
    },
    {
      "cell_type": "markdown",
      "metadata": {
        "id": "V0YFmoL9hXHi"
      },
      "source": [
        "## Descarga del corpus\n",
        "Solo se descarga si no se encuentra en local (Colab o disco)"
      ]
    },
    {
      "cell_type": "code",
      "execution_count": 124,
      "metadata": {
        "id": "U1NGiz_3hUru",
        "colab": {
          "base_uri": "https://localhost:8080/"
        },
        "outputId": "bb800665-1dc2-41ae-b6f6-01c260296a32"
      },
      "outputs": [
        {
          "output_type": "stream",
          "name": "stdout",
          "text": [
            "El corpus ya estaba grabado\n"
          ]
        }
      ],
      "source": [
        "import requests\n",
        "\n",
        "def download_corpus_if_necessary():\n",
        "\n",
        "    if not os.path.exists(corpus_path):\n",
        "        print(\"Descargamos el corpus...\")\n",
        "\n",
        "        # Descargamos el contenido\n",
        "        corpus_string = requests.get(corpus_url).content.decode('utf-8')\n",
        "\n",
        "        #print(corpus_string)\n",
        "        # Eliminamos etiquetas HTML\n",
        "        corpus_string = corpus_string.replace(\"<pre>\", \"\")\n",
        "        corpus_string = corpus_string.replace(\"</pre>\", \"\")\n",
        "\n",
        "\n",
        "        # Grabamos en fichero\n",
        "        corpus_file = open(corpus_path, \"w\")\n",
        "        corpus_file.write(corpus_string)\n",
        "        corpus_file.close()\n",
        "\n",
        "        print(\"El corpus se ha grabado en\", corpus_path)\n",
        "    else:\n",
        "        print(\"El corpus ya estaba grabado\")\n",
        "\n",
        "download_corpus_if_necessary()"
      ]
    },
    {
      "cell_type": "markdown",
      "metadata": {
        "id": "yd8FM41ODLCf"
      },
      "source": [
        "## Preprocesado del corpus\n",
        "Solo se preprocesa si no se ha hecho antes."
      ]
    },
    {
      "cell_type": "code",
      "execution_count": 6,
      "metadata": {
        "id": "ekKisSsb_fje",
        "colab": {
          "base_uri": "https://localhost:8080/"
        },
        "outputId": "86ef55f4-7dad-4291-a4f0-6d866ccb9d59"
      },
      "outputs": [
        {
          "output_type": "stream",
          "name": "stdout",
          "text": [
            "Preprocesamos el corpus...\n",
            "Extraemos las palabras (tokens)...\n",
            "Número de tokens: 38046\n",
            "Generamos el vocabulario...\n",
            "Longitud del vocabulario antes del corte: 3873\n",
            "Longitud del vocabulario después del corte: 3873\n",
            "Codificamos a índices...\n",
            "Número de índices: 38046\n",
            "Grabamos fichero de preprocesado del corpus...\n"
          ]
        }
      ],
      "source": [
        "def preprocess_corpus_if_necessary():\n",
        "\n",
        "    if not os.path.exists(preprocessed_corpus_path):\n",
        "        print(\"Preprocesamos el corpus...\")\n",
        "\n",
        "        corpus_file = open(corpus_path, \"r\")\n",
        "        corpus_string = corpus_file.read()\n",
        "\n",
        "        # Generación del vocabulario\n",
        "        print(\"Extraemos las palabras (tokens)...\")\n",
        "        corpus_tokens = word_tokenize(corpus_string)\n",
        "        print(\"Número de tokens:\", len(corpus_tokens))\n",
        "        print(\"Generamos el vocabulario...\")\n",
        "        word_counter = Counter()\n",
        "        word_counter.update(corpus_tokens)\n",
        "        print(\"Longitud del vocabulario antes del corte:\", len(word_counter))\n",
        "        vocabulary = [key for key, value in word_counter.most_common(most_common_words_number)]\n",
        "        print(\"Longitud del vocabulario después del corte:\", len(vocabulary))\n",
        "\n",
        "        # Conversión a índices\n",
        "        print(\"Codificamos a índices...\")\n",
        "        indices = encode_sequence(corpus_tokens, vocabulary)\n",
        "        print(\"Número de índices:\", len(indices))\n",
        "\n",
        "        # Saving.\n",
        "        print(\"Grabamos fichero de preprocesado del corpus...\")\n",
        "        pickle.dump((indices, vocabulary), open(preprocessed_corpus_path, \"wb\"))\n",
        "    else:\n",
        "        print(\"El corpus ya estaba preprocesado\")\n",
        "\n",
        "preprocess_corpus_if_necessary()"
      ]
    },
    {
      "cell_type": "markdown",
      "metadata": {
        "id": "uUGvyFcb0u4s"
      },
      "source": [
        "## Generación del dataset\n",
        "Enfocamos la generación del dataset como un **aprendizaje auto-supervisado (self-supervised learning)**:\n",
        "* para generar secuencias de entrada, seleccionamos de forma aleatoria una secuencia de índices (correspondientes a palabras) del corpus\n",
        "* para asignar una etiqueta, escogemos el índice de la palabra siguiente a la secuencia de entrada"
      ]
    },
    {
      "cell_type": "code",
      "execution_count": 7,
      "metadata": {
        "id": "z79RLSh50veq"
      },
      "outputs": [],
      "source": [
        "# Parámetros de generación del dataset\n",
        "dataset_size = 50000\n",
        "sequence_length = 30 # longitud de los textos del dataset de entrenamiento\n",
        "\n",
        "def get_dataset(indices):\n",
        "\n",
        "    data_input = []\n",
        "    data_output = []\n",
        "    current_size = 0\n",
        "    bar = progressbar.ProgressBar(max_value=dataset_size)\n",
        "    while current_size < dataset_size:\n",
        "\n",
        "        # seleccionamos de forma aleatoria una secuencia de índices (correspondientes a palabras)\n",
        "        random_index = random.randint(0, len(indices) - (sequence_length + 1))\n",
        "        input_sequence = indices[random_index:random_index + sequence_length]\n",
        "        # la etiqueta de la secuencia aleatoria es el índice de la siguiente palabra\n",
        "        output_label = indices[random_index + sequence_length]\n",
        "\n",
        "        data_input.append(input_sequence)\n",
        "        data_output.append(output_label)\n",
        "\n",
        "        current_size += 1\n",
        "        bar.update(current_size)\n",
        "    bar.finish()\n",
        "\n",
        "    # Transformamos las listas a numpy arrays\n",
        "    data_input = np.array(data_input)\n",
        "    data_output = np.array(data_output)\n",
        "    return (data_input, data_output)\n"
      ]
    },
    {
      "cell_type": "code",
      "execution_count": 24,
      "metadata": {
        "colab": {
          "base_uri": "https://localhost:8080/"
        },
        "id": "3XYNdhObt4jZ",
        "outputId": "20eb1152-2169-4f55-e6f6-1277962460d8"
      },
      "outputs": [
        {
          "output_type": "stream",
          "name": "stderr",
          "text": [
            "\u001b[38;2;0;255;0m100%\u001b[39m \u001b[38;2;0;255;0m(50000 of 50000)\u001b[39m |##################| Elapsed Time: 0:00:00 Time:  0:00:00\n"
          ]
        },
        {
          "output_type": "stream",
          "name": "stdout",
          "text": [
            "10\n",
            "[0. 0. 0. ... 0. 0. 0.]\n"
          ]
        }
      ],
      "source": [
        "indices, vocabulary = pickle.load(open(preprocessed_corpus_path, \"rb\"))\n",
        "data_input, data_output = get_dataset(indices)\n",
        "data_output = to_categorical(data_output, num_classes=len(vocabulary))\n",
        "print(len(data_output[:10]))\n",
        "print(data_output[0])"
      ]
    },
    {
      "cell_type": "code",
      "execution_count": 54,
      "metadata": {
        "colab": {
          "base_uri": "https://localhost:8080/"
        },
        "id": "BnU45tcHt4ja",
        "outputId": "4d5810da-1dfe-4394-fb19-99c3deb42571"
      },
      "outputs": [
        {
          "output_type": "execute_result",
          "data": {
            "text/plain": [
              "3873"
            ]
          },
          "metadata": {},
          "execution_count": 54
        }
      ],
      "source": [
        "len(vocabulary)"
      ]
    },
    {
      "cell_type": "code",
      "source": [
        "def plot_history(history_list):\n",
        "\n",
        "    print(history_list.keys())\n",
        "\n",
        "    _, axs = plt.subplots(nrows = len(history_list), ncols=2, figsize=(10, 8))\n",
        "\n",
        "    for i, (name, history) in enumerate(history_list.items()):\n",
        "        history_data = history.history\n",
        "\n",
        "        # graficamos la perdida del modelo\n",
        "        axs[i][0].plot(history_data['loss'], label='Loss')\n",
        "        axs[i][0].set_title(f'{name} - loss')\n",
        "        axs[i][0].set_ylabel('loss')\n",
        "        axs[i][0].set_xlabel('epoch')\n",
        "        axs[i][0].legend(loc='upper right')\n",
        "\n",
        "        # graficamos la accuracy del modelo\n",
        "        if 'categorical_accuracy' in history_data:\n",
        "            axs[i][1].plot(history_data['categorical_accuracy'], label='Accuracy')\n",
        "            axs[i][1].set_title(f'{name} - accuracy')\n",
        "            axs[i][1].set_ylabel('accuracy')\n",
        "            axs[i][1].set_xlabel('epoch')\n",
        "            axs[i][1].legend(loc='lower right')\n",
        "\n",
        "    # Ajustar el diseño de la figura\n",
        "    plt.tight_layout()\n",
        "    plt.show()"
      ],
      "metadata": {
        "id": "nuoow0z2VDn7"
      },
      "execution_count": 113,
      "outputs": []
    },
    {
      "cell_type": "markdown",
      "metadata": {
        "id": "hHOclEylxLOR"
      },
      "source": [
        "## Definición de la red LSTM y entrenamiento\n",
        "Solo se define y entrena si no se ha hecho antes, o si se fuerza con el parámetro train_anyway.\n",
        "\n",
        "Por último, se graba el modelo."
      ]
    },
    {
      "cell_type": "code",
      "execution_count": 109,
      "metadata": {
        "id": "mDbtuIYeA8Rk"
      },
      "outputs": [],
      "source": [
        "import tensorflow as tf\n",
        "\n",
        "# Parámetros del modelo y entrenamiento\n",
        "train_anyway = True # fuerza el entrenamiento, aunque se haya realizado antes\n",
        "epochs = 10 # número de interaciones a entrenar\n",
        "batch_size = 128 # tamaño de lote\n",
        "hidden_sizes = [256, 512, 1000] # número de nodos en la red LSTM\n",
        "model_path = \"alicia_model.h5\"\n",
        "history_list = {}\n",
        "\n",
        "def train_neural_network():\n",
        "\n",
        "    if not os.path.exists(model_path) or train_anyway == True:\n",
        "        for hidden_size in hidden_sizes:\n",
        "          name = 'modelo_' + str(hidden_size)\n",
        "          # Carga de las palabras del corpus y sus índices\n",
        "          indices, vocabulary = pickle.load(open(preprocessed_corpus_path, \"rb\"))\n",
        "\n",
        "          # Generación del dataset\n",
        "          print(\"\\nGeneramos el dataset...\")\n",
        "          data_input, data_output = get_dataset(indices)\n",
        "          data_output = to_categorical(data_output, num_classes=len(vocabulary))\n",
        "\n",
        "          # Creación del modelo\n",
        "          print(\"Creamos el modelo...\")\n",
        "\n",
        "          # config inicial\n",
        "          vocab_size = len(vocabulary)\n",
        "          embedding_size = 100\n",
        "\n",
        "          model = tf.keras.Sequential([\n",
        "              tf.keras.layers.Embedding(input_dim=vocab_size, output_dim=embedding_size, input_length=None, name=\"embedding\"),\n",
        "              tf.keras.layers.LSTM(hidden_size, return_sequences=False, name=\"lstm\"),\n",
        "              tf.keras.layers.Dense(vocab_size, activation='softmax', name=\"output\")\n",
        "          ])\n",
        "\n",
        "          # Definimos el resto del modelo: optimizador, función de pérdidas y métrica\n",
        "          model.compile(\n",
        "              optimizer='adam',\n",
        "              loss='categorical_crossentropy',\n",
        "              metrics=['categorical_accuracy']\n",
        "          )\n",
        "\n",
        "          model.summary()\n",
        "\n",
        "          # Entrenamiento del modelo\n",
        "          print(\"Entrenamos el modelo...\")\n",
        "          history = model.fit(data_input, data_output, epochs=epochs, batch_size=batch_size)\n",
        "          history_list[name] = history\n",
        "\n",
        "          print(history)\n",
        "          # Grabación del modelo\n",
        "          print(\"...y grabamos el modelo\")\n",
        "          model.save(model_path)\n",
        "\n",
        "          #plot_history(history)\n"
      ]
    },
    {
      "cell_type": "code",
      "source": [
        "train_neural_network()"
      ],
      "metadata": {
        "colab": {
          "base_uri": "https://localhost:8080/",
          "height": 1000
        },
        "id": "nkvy7TcUVKsd",
        "outputId": "d8fe11e8-ef97-4860-de22-a6c58a2a0531"
      },
      "execution_count": 110,
      "outputs": [
        {
          "output_type": "stream",
          "name": "stderr",
          "text": [
            "\u001b[38;2;0;255;0m100%\u001b[39m \u001b[38;2;0;255;0m(50000 of 50000)\u001b[39m |##################| Elapsed Time: 0:00:00 Time:  0:00:00\n"
          ]
        },
        {
          "output_type": "stream",
          "name": "stdout",
          "text": [
            "\n",
            "Generamos el dataset...\n",
            "Creamos el modelo...\n"
          ]
        },
        {
          "output_type": "display_data",
          "data": {
            "text/plain": [
              "\u001b[1mModel: \"sequential_9\"\u001b[0m\n"
            ],
            "text/html": [
              "<pre style=\"white-space:pre;overflow-x:auto;line-height:normal;font-family:Menlo,'DejaVu Sans Mono',consolas,'Courier New',monospace\"><span style=\"font-weight: bold\">Model: \"sequential_9\"</span>\n",
              "</pre>\n"
            ]
          },
          "metadata": {}
        },
        {
          "output_type": "display_data",
          "data": {
            "text/plain": [
              "┏━━━━━━━━━━━━━━━━━━━━━━━━━━━━━━━━━━━━━━┳━━━━━━━━━━━━━━━━━━━━━━━━━━━━━┳━━━━━━━━━━━━━━━━━┓\n",
              "┃\u001b[1m \u001b[0m\u001b[1mLayer (type)                        \u001b[0m\u001b[1m \u001b[0m┃\u001b[1m \u001b[0m\u001b[1mOutput Shape               \u001b[0m\u001b[1m \u001b[0m┃\u001b[1m \u001b[0m\u001b[1m        Param #\u001b[0m\u001b[1m \u001b[0m┃\n",
              "┡━━━━━━━━━━━━━━━━━━━━━━━━━━━━━━━━━━━━━━╇━━━━━━━━━━━━━━━━━━━━━━━━━━━━━╇━━━━━━━━━━━━━━━━━┩\n",
              "│ embedding (\u001b[38;5;33mEmbedding\u001b[0m)                │ ?                           │     \u001b[38;5;34m0\u001b[0m (unbuilt) │\n",
              "├──────────────────────────────────────┼─────────────────────────────┼─────────────────┤\n",
              "│ lstm (\u001b[38;5;33mLSTM\u001b[0m)                          │ ?                           │     \u001b[38;5;34m0\u001b[0m (unbuilt) │\n",
              "├──────────────────────────────────────┼─────────────────────────────┼─────────────────┤\n",
              "│ output (\u001b[38;5;33mDense\u001b[0m)                       │ ?                           │     \u001b[38;5;34m0\u001b[0m (unbuilt) │\n",
              "└──────────────────────────────────────┴─────────────────────────────┴─────────────────┘\n"
            ],
            "text/html": [
              "<pre style=\"white-space:pre;overflow-x:auto;line-height:normal;font-family:Menlo,'DejaVu Sans Mono',consolas,'Courier New',monospace\">┏━━━━━━━━━━━━━━━━━━━━━━━━━━━━━━━━━━━━━━┳━━━━━━━━━━━━━━━━━━━━━━━━━━━━━┳━━━━━━━━━━━━━━━━━┓\n",
              "┃<span style=\"font-weight: bold\"> Layer (type)                         </span>┃<span style=\"font-weight: bold\"> Output Shape                </span>┃<span style=\"font-weight: bold\">         Param # </span>┃\n",
              "┡━━━━━━━━━━━━━━━━━━━━━━━━━━━━━━━━━━━━━━╇━━━━━━━━━━━━━━━━━━━━━━━━━━━━━╇━━━━━━━━━━━━━━━━━┩\n",
              "│ embedding (<span style=\"color: #0087ff; text-decoration-color: #0087ff\">Embedding</span>)                │ ?                           │     <span style=\"color: #00af00; text-decoration-color: #00af00\">0</span> (unbuilt) │\n",
              "├──────────────────────────────────────┼─────────────────────────────┼─────────────────┤\n",
              "│ lstm (<span style=\"color: #0087ff; text-decoration-color: #0087ff\">LSTM</span>)                          │ ?                           │     <span style=\"color: #00af00; text-decoration-color: #00af00\">0</span> (unbuilt) │\n",
              "├──────────────────────────────────────┼─────────────────────────────┼─────────────────┤\n",
              "│ output (<span style=\"color: #0087ff; text-decoration-color: #0087ff\">Dense</span>)                       │ ?                           │     <span style=\"color: #00af00; text-decoration-color: #00af00\">0</span> (unbuilt) │\n",
              "└──────────────────────────────────────┴─────────────────────────────┴─────────────────┘\n",
              "</pre>\n"
            ]
          },
          "metadata": {}
        },
        {
          "output_type": "display_data",
          "data": {
            "text/plain": [
              "\u001b[1m Total params: \u001b[0m\u001b[38;5;34m0\u001b[0m (0.00 B)\n"
            ],
            "text/html": [
              "<pre style=\"white-space:pre;overflow-x:auto;line-height:normal;font-family:Menlo,'DejaVu Sans Mono',consolas,'Courier New',monospace\"><span style=\"font-weight: bold\"> Total params: </span><span style=\"color: #00af00; text-decoration-color: #00af00\">0</span> (0.00 B)\n",
              "</pre>\n"
            ]
          },
          "metadata": {}
        },
        {
          "output_type": "display_data",
          "data": {
            "text/plain": [
              "\u001b[1m Trainable params: \u001b[0m\u001b[38;5;34m0\u001b[0m (0.00 B)\n"
            ],
            "text/html": [
              "<pre style=\"white-space:pre;overflow-x:auto;line-height:normal;font-family:Menlo,'DejaVu Sans Mono',consolas,'Courier New',monospace\"><span style=\"font-weight: bold\"> Trainable params: </span><span style=\"color: #00af00; text-decoration-color: #00af00\">0</span> (0.00 B)\n",
              "</pre>\n"
            ]
          },
          "metadata": {}
        },
        {
          "output_type": "display_data",
          "data": {
            "text/plain": [
              "\u001b[1m Non-trainable params: \u001b[0m\u001b[38;5;34m0\u001b[0m (0.00 B)\n"
            ],
            "text/html": [
              "<pre style=\"white-space:pre;overflow-x:auto;line-height:normal;font-family:Menlo,'DejaVu Sans Mono',consolas,'Courier New',monospace\"><span style=\"font-weight: bold\"> Non-trainable params: </span><span style=\"color: #00af00; text-decoration-color: #00af00\">0</span> (0.00 B)\n",
              "</pre>\n"
            ]
          },
          "metadata": {}
        },
        {
          "output_type": "stream",
          "name": "stdout",
          "text": [
            "Entrenamos el modelo...\n",
            "Epoch 1/10\n",
            "\u001b[1m391/391\u001b[0m \u001b[32m━━━━━━━━━━━━━━━━━━━━\u001b[0m\u001b[37m\u001b[0m \u001b[1m6s\u001b[0m 12ms/step - categorical_accuracy: 0.0745 - loss: 6.3525\n",
            "Epoch 2/10\n",
            "\u001b[1m391/391\u001b[0m \u001b[32m━━━━━━━━━━━━━━━━━━━━\u001b[0m\u001b[37m\u001b[0m \u001b[1m4s\u001b[0m 10ms/step - categorical_accuracy: 0.1579 - loss: 5.1689\n",
            "Epoch 3/10\n",
            "\u001b[1m391/391\u001b[0m \u001b[32m━━━━━━━━━━━━━━━━━━━━\u001b[0m\u001b[37m\u001b[0m \u001b[1m5s\u001b[0m 11ms/step - categorical_accuracy: 0.2000 - loss: 4.6558\n",
            "Epoch 4/10\n",
            "\u001b[1m391/391\u001b[0m \u001b[32m━━━━━━━━━━━━━━━━━━━━\u001b[0m\u001b[37m\u001b[0m \u001b[1m5s\u001b[0m 10ms/step - categorical_accuracy: 0.2316 - loss: 4.2785\n",
            "Epoch 5/10\n",
            "\u001b[1m391/391\u001b[0m \u001b[32m━━━━━━━━━━━━━━━━━━━━\u001b[0m\u001b[37m\u001b[0m \u001b[1m4s\u001b[0m 10ms/step - categorical_accuracy: 0.2599 - loss: 3.9303\n",
            "Epoch 6/10\n",
            "\u001b[1m391/391\u001b[0m \u001b[32m━━━━━━━━━━━━━━━━━━━━\u001b[0m\u001b[37m\u001b[0m \u001b[1m6s\u001b[0m 11ms/step - categorical_accuracy: 0.2869 - loss: 3.6253\n",
            "Epoch 7/10\n",
            "\u001b[1m391/391\u001b[0m \u001b[32m━━━━━━━━━━━━━━━━━━━━\u001b[0m\u001b[37m\u001b[0m \u001b[1m4s\u001b[0m 10ms/step - categorical_accuracy: 0.3091 - loss: 3.4020\n",
            "Epoch 8/10\n",
            "\u001b[1m391/391\u001b[0m \u001b[32m━━━━━━━━━━━━━━━━━━━━\u001b[0m\u001b[37m\u001b[0m \u001b[1m4s\u001b[0m 10ms/step - categorical_accuracy: 0.3385 - loss: 3.1401\n",
            "Epoch 9/10\n",
            "\u001b[1m391/391\u001b[0m \u001b[32m━━━━━━━━━━━━━━━━━━━━\u001b[0m\u001b[37m\u001b[0m \u001b[1m6s\u001b[0m 13ms/step - categorical_accuracy: 0.3646 - loss: 2.9425\n",
            "Epoch 10/10\n",
            "\u001b[1m391/391\u001b[0m \u001b[32m━━━━━━━━━━━━━━━━━━━━\u001b[0m\u001b[37m\u001b[0m \u001b[1m4s\u001b[0m 10ms/step - categorical_accuracy: 0.3991 - loss: 2.7366\n"
          ]
        },
        {
          "output_type": "stream",
          "name": "stderr",
          "text": [
            "WARNING:absl:You are saving your model as an HDF5 file via `model.save()` or `keras.saving.save_model(model)`. This file format is considered legacy. We recommend using instead the native Keras format, e.g. `model.save('my_model.keras')` or `keras.saving.save_model(model, 'my_model.keras')`. \n"
          ]
        },
        {
          "output_type": "stream",
          "name": "stdout",
          "text": [
            "<keras.src.callbacks.history.History object at 0x7c41f53e92d0>\n",
            "...y grabamos el modelo\n"
          ]
        },
        {
          "output_type": "stream",
          "name": "stderr",
          "text": [
            "\r\u001b[38;2;255;0;0m  0%\u001b[39m \u001b[38;2;255;0;0m(0 of 50000)\u001b[39m |                      | Elapsed Time: 0:00:00 ETA:  --:--:--"
          ]
        },
        {
          "output_type": "stream",
          "name": "stdout",
          "text": [
            "\n",
            "Generamos el dataset...\n"
          ]
        },
        {
          "output_type": "stream",
          "name": "stderr",
          "text": [
            "\u001b[38;2;0;255;0m100%\u001b[39m \u001b[38;2;0;255;0m(50000 of 50000)\u001b[39m |##################| Elapsed Time: 0:00:00 Time:  0:00:00\n"
          ]
        },
        {
          "output_type": "stream",
          "name": "stdout",
          "text": [
            "Creamos el modelo...\n"
          ]
        },
        {
          "output_type": "display_data",
          "data": {
            "text/plain": [
              "\u001b[1mModel: \"sequential_10\"\u001b[0m\n"
            ],
            "text/html": [
              "<pre style=\"white-space:pre;overflow-x:auto;line-height:normal;font-family:Menlo,'DejaVu Sans Mono',consolas,'Courier New',monospace\"><span style=\"font-weight: bold\">Model: \"sequential_10\"</span>\n",
              "</pre>\n"
            ]
          },
          "metadata": {}
        },
        {
          "output_type": "display_data",
          "data": {
            "text/plain": [
              "┏━━━━━━━━━━━━━━━━━━━━━━━━━━━━━━━━━━━━━━┳━━━━━━━━━━━━━━━━━━━━━━━━━━━━━┳━━━━━━━━━━━━━━━━━┓\n",
              "┃\u001b[1m \u001b[0m\u001b[1mLayer (type)                        \u001b[0m\u001b[1m \u001b[0m┃\u001b[1m \u001b[0m\u001b[1mOutput Shape               \u001b[0m\u001b[1m \u001b[0m┃\u001b[1m \u001b[0m\u001b[1m        Param #\u001b[0m\u001b[1m \u001b[0m┃\n",
              "┡━━━━━━━━━━━━━━━━━━━━━━━━━━━━━━━━━━━━━━╇━━━━━━━━━━━━━━━━━━━━━━━━━━━━━╇━━━━━━━━━━━━━━━━━┩\n",
              "│ embedding (\u001b[38;5;33mEmbedding\u001b[0m)                │ ?                           │     \u001b[38;5;34m0\u001b[0m (unbuilt) │\n",
              "├──────────────────────────────────────┼─────────────────────────────┼─────────────────┤\n",
              "│ lstm (\u001b[38;5;33mLSTM\u001b[0m)                          │ ?                           │     \u001b[38;5;34m0\u001b[0m (unbuilt) │\n",
              "├──────────────────────────────────────┼─────────────────────────────┼─────────────────┤\n",
              "│ output (\u001b[38;5;33mDense\u001b[0m)                       │ ?                           │     \u001b[38;5;34m0\u001b[0m (unbuilt) │\n",
              "└──────────────────────────────────────┴─────────────────────────────┴─────────────────┘\n"
            ],
            "text/html": [
              "<pre style=\"white-space:pre;overflow-x:auto;line-height:normal;font-family:Menlo,'DejaVu Sans Mono',consolas,'Courier New',monospace\">┏━━━━━━━━━━━━━━━━━━━━━━━━━━━━━━━━━━━━━━┳━━━━━━━━━━━━━━━━━━━━━━━━━━━━━┳━━━━━━━━━━━━━━━━━┓\n",
              "┃<span style=\"font-weight: bold\"> Layer (type)                         </span>┃<span style=\"font-weight: bold\"> Output Shape                </span>┃<span style=\"font-weight: bold\">         Param # </span>┃\n",
              "┡━━━━━━━━━━━━━━━━━━━━━━━━━━━━━━━━━━━━━━╇━━━━━━━━━━━━━━━━━━━━━━━━━━━━━╇━━━━━━━━━━━━━━━━━┩\n",
              "│ embedding (<span style=\"color: #0087ff; text-decoration-color: #0087ff\">Embedding</span>)                │ ?                           │     <span style=\"color: #00af00; text-decoration-color: #00af00\">0</span> (unbuilt) │\n",
              "├──────────────────────────────────────┼─────────────────────────────┼─────────────────┤\n",
              "│ lstm (<span style=\"color: #0087ff; text-decoration-color: #0087ff\">LSTM</span>)                          │ ?                           │     <span style=\"color: #00af00; text-decoration-color: #00af00\">0</span> (unbuilt) │\n",
              "├──────────────────────────────────────┼─────────────────────────────┼─────────────────┤\n",
              "│ output (<span style=\"color: #0087ff; text-decoration-color: #0087ff\">Dense</span>)                       │ ?                           │     <span style=\"color: #00af00; text-decoration-color: #00af00\">0</span> (unbuilt) │\n",
              "└──────────────────────────────────────┴─────────────────────────────┴─────────────────┘\n",
              "</pre>\n"
            ]
          },
          "metadata": {}
        },
        {
          "output_type": "display_data",
          "data": {
            "text/plain": [
              "\u001b[1m Total params: \u001b[0m\u001b[38;5;34m0\u001b[0m (0.00 B)\n"
            ],
            "text/html": [
              "<pre style=\"white-space:pre;overflow-x:auto;line-height:normal;font-family:Menlo,'DejaVu Sans Mono',consolas,'Courier New',monospace\"><span style=\"font-weight: bold\"> Total params: </span><span style=\"color: #00af00; text-decoration-color: #00af00\">0</span> (0.00 B)\n",
              "</pre>\n"
            ]
          },
          "metadata": {}
        },
        {
          "output_type": "display_data",
          "data": {
            "text/plain": [
              "\u001b[1m Trainable params: \u001b[0m\u001b[38;5;34m0\u001b[0m (0.00 B)\n"
            ],
            "text/html": [
              "<pre style=\"white-space:pre;overflow-x:auto;line-height:normal;font-family:Menlo,'DejaVu Sans Mono',consolas,'Courier New',monospace\"><span style=\"font-weight: bold\"> Trainable params: </span><span style=\"color: #00af00; text-decoration-color: #00af00\">0</span> (0.00 B)\n",
              "</pre>\n"
            ]
          },
          "metadata": {}
        },
        {
          "output_type": "display_data",
          "data": {
            "text/plain": [
              "\u001b[1m Non-trainable params: \u001b[0m\u001b[38;5;34m0\u001b[0m (0.00 B)\n"
            ],
            "text/html": [
              "<pre style=\"white-space:pre;overflow-x:auto;line-height:normal;font-family:Menlo,'DejaVu Sans Mono',consolas,'Courier New',monospace\"><span style=\"font-weight: bold\"> Non-trainable params: </span><span style=\"color: #00af00; text-decoration-color: #00af00\">0</span> (0.00 B)\n",
              "</pre>\n"
            ]
          },
          "metadata": {}
        },
        {
          "output_type": "stream",
          "name": "stdout",
          "text": [
            "Entrenamos el modelo...\n",
            "Epoch 1/10\n",
            "\u001b[1m391/391\u001b[0m \u001b[32m━━━━━━━━━━━━━━━━━━━━\u001b[0m\u001b[37m\u001b[0m \u001b[1m9s\u001b[0m 18ms/step - categorical_accuracy: 0.0821 - loss: 6.2625\n",
            "Epoch 2/10\n",
            "\u001b[1m391/391\u001b[0m \u001b[32m━━━━━━━━━━━━━━━━━━━━\u001b[0m\u001b[37m\u001b[0m \u001b[1m7s\u001b[0m 18ms/step - categorical_accuracy: 0.1717 - loss: 5.1268\n",
            "Epoch 3/10\n",
            "\u001b[1m391/391\u001b[0m \u001b[32m━━━━━━━━━━━━━━━━━━━━\u001b[0m\u001b[37m\u001b[0m \u001b[1m10s\u001b[0m 18ms/step - categorical_accuracy: 0.2177 - loss: 4.4920\n",
            "Epoch 4/10\n",
            "\u001b[1m391/391\u001b[0m \u001b[32m━━━━━━━━━━━━━━━━━━━━\u001b[0m\u001b[37m\u001b[0m \u001b[1m10s\u001b[0m 18ms/step - categorical_accuracy: 0.2418 - loss: 4.0577\n",
            "Epoch 5/10\n",
            "\u001b[1m391/391\u001b[0m \u001b[32m━━━━━━━━━━━━━━━━━━━━\u001b[0m\u001b[37m\u001b[0m \u001b[1m11s\u001b[0m 19ms/step - categorical_accuracy: 0.2795 - loss: 3.6238\n",
            "Epoch 6/10\n",
            "\u001b[1m391/391\u001b[0m \u001b[32m━━━━━━━━━━━━━━━━━━━━\u001b[0m\u001b[37m\u001b[0m \u001b[1m7s\u001b[0m 19ms/step - categorical_accuracy: 0.3306 - loss: 3.1868\n",
            "Epoch 7/10\n",
            "\u001b[1m391/391\u001b[0m \u001b[32m━━━━━━━━━━━━━━━━━━━━\u001b[0m\u001b[37m\u001b[0m \u001b[1m7s\u001b[0m 19ms/step - categorical_accuracy: 0.4000 - loss: 2.7631\n",
            "Epoch 8/10\n",
            "\u001b[1m391/391\u001b[0m \u001b[32m━━━━━━━━━━━━━━━━━━━━\u001b[0m\u001b[37m\u001b[0m \u001b[1m7s\u001b[0m 18ms/step - categorical_accuracy: 0.4794 - loss: 2.3660\n",
            "Epoch 9/10\n",
            "\u001b[1m391/391\u001b[0m \u001b[32m━━━━━━━━━━━━━━━━━━━━\u001b[0m\u001b[37m\u001b[0m \u001b[1m7s\u001b[0m 17ms/step - categorical_accuracy: 0.5459 - loss: 2.0143\n",
            "Epoch 10/10\n",
            "\u001b[1m391/391\u001b[0m \u001b[32m━━━━━━━━━━━━━━━━━━━━\u001b[0m\u001b[37m\u001b[0m \u001b[1m7s\u001b[0m 18ms/step - categorical_accuracy: 0.6206 - loss: 1.7049\n"
          ]
        },
        {
          "output_type": "stream",
          "name": "stderr",
          "text": [
            "WARNING:absl:You are saving your model as an HDF5 file via `model.save()` or `keras.saving.save_model(model)`. This file format is considered legacy. We recommend using instead the native Keras format, e.g. `model.save('my_model.keras')` or `keras.saving.save_model(model, 'my_model.keras')`. \n"
          ]
        },
        {
          "output_type": "stream",
          "name": "stdout",
          "text": [
            "<keras.src.callbacks.history.History object at 0x7c41f45e92d0>\n",
            "...y grabamos el modelo\n",
            "\n",
            "Generamos el dataset..."
          ]
        },
        {
          "output_type": "stream",
          "name": "stderr",
          "text": [
            "\r\u001b[38;2;255;0;0m  0%\u001b[39m \u001b[38;2;255;0;0m(0 of 50000)\u001b[39m |                      | Elapsed Time: 0:00:00 ETA:  --:--:--"
          ]
        },
        {
          "output_type": "stream",
          "name": "stdout",
          "text": [
            "\n"
          ]
        },
        {
          "output_type": "stream",
          "name": "stderr",
          "text": [
            "\u001b[38;2;0;255;0m100%\u001b[39m \u001b[38;2;0;255;0m(50000 of 50000)\u001b[39m |##################| Elapsed Time: 0:00:00 Time:  0:00:00\n"
          ]
        },
        {
          "output_type": "stream",
          "name": "stdout",
          "text": [
            "Creamos el modelo...\n"
          ]
        },
        {
          "output_type": "display_data",
          "data": {
            "text/plain": [
              "\u001b[1mModel: \"sequential_11\"\u001b[0m\n"
            ],
            "text/html": [
              "<pre style=\"white-space:pre;overflow-x:auto;line-height:normal;font-family:Menlo,'DejaVu Sans Mono',consolas,'Courier New',monospace\"><span style=\"font-weight: bold\">Model: \"sequential_11\"</span>\n",
              "</pre>\n"
            ]
          },
          "metadata": {}
        },
        {
          "output_type": "display_data",
          "data": {
            "text/plain": [
              "┏━━━━━━━━━━━━━━━━━━━━━━━━━━━━━━━━━━━━━━┳━━━━━━━━━━━━━━━━━━━━━━━━━━━━━┳━━━━━━━━━━━━━━━━━┓\n",
              "┃\u001b[1m \u001b[0m\u001b[1mLayer (type)                        \u001b[0m\u001b[1m \u001b[0m┃\u001b[1m \u001b[0m\u001b[1mOutput Shape               \u001b[0m\u001b[1m \u001b[0m┃\u001b[1m \u001b[0m\u001b[1m        Param #\u001b[0m\u001b[1m \u001b[0m┃\n",
              "┡━━━━━━━━━━━━━━━━━━━━━━━━━━━━━━━━━━━━━━╇━━━━━━━━━━━━━━━━━━━━━━━━━━━━━╇━━━━━━━━━━━━━━━━━┩\n",
              "│ embedding (\u001b[38;5;33mEmbedding\u001b[0m)                │ ?                           │     \u001b[38;5;34m0\u001b[0m (unbuilt) │\n",
              "├──────────────────────────────────────┼─────────────────────────────┼─────────────────┤\n",
              "│ lstm (\u001b[38;5;33mLSTM\u001b[0m)                          │ ?                           │     \u001b[38;5;34m0\u001b[0m (unbuilt) │\n",
              "├──────────────────────────────────────┼─────────────────────────────┼─────────────────┤\n",
              "│ output (\u001b[38;5;33mDense\u001b[0m)                       │ ?                           │     \u001b[38;5;34m0\u001b[0m (unbuilt) │\n",
              "└──────────────────────────────────────┴─────────────────────────────┴─────────────────┘\n"
            ],
            "text/html": [
              "<pre style=\"white-space:pre;overflow-x:auto;line-height:normal;font-family:Menlo,'DejaVu Sans Mono',consolas,'Courier New',monospace\">┏━━━━━━━━━━━━━━━━━━━━━━━━━━━━━━━━━━━━━━┳━━━━━━━━━━━━━━━━━━━━━━━━━━━━━┳━━━━━━━━━━━━━━━━━┓\n",
              "┃<span style=\"font-weight: bold\"> Layer (type)                         </span>┃<span style=\"font-weight: bold\"> Output Shape                </span>┃<span style=\"font-weight: bold\">         Param # </span>┃\n",
              "┡━━━━━━━━━━━━━━━━━━━━━━━━━━━━━━━━━━━━━━╇━━━━━━━━━━━━━━━━━━━━━━━━━━━━━╇━━━━━━━━━━━━━━━━━┩\n",
              "│ embedding (<span style=\"color: #0087ff; text-decoration-color: #0087ff\">Embedding</span>)                │ ?                           │     <span style=\"color: #00af00; text-decoration-color: #00af00\">0</span> (unbuilt) │\n",
              "├──────────────────────────────────────┼─────────────────────────────┼─────────────────┤\n",
              "│ lstm (<span style=\"color: #0087ff; text-decoration-color: #0087ff\">LSTM</span>)                          │ ?                           │     <span style=\"color: #00af00; text-decoration-color: #00af00\">0</span> (unbuilt) │\n",
              "├──────────────────────────────────────┼─────────────────────────────┼─────────────────┤\n",
              "│ output (<span style=\"color: #0087ff; text-decoration-color: #0087ff\">Dense</span>)                       │ ?                           │     <span style=\"color: #00af00; text-decoration-color: #00af00\">0</span> (unbuilt) │\n",
              "└──────────────────────────────────────┴─────────────────────────────┴─────────────────┘\n",
              "</pre>\n"
            ]
          },
          "metadata": {}
        },
        {
          "output_type": "display_data",
          "data": {
            "text/plain": [
              "\u001b[1m Total params: \u001b[0m\u001b[38;5;34m0\u001b[0m (0.00 B)\n"
            ],
            "text/html": [
              "<pre style=\"white-space:pre;overflow-x:auto;line-height:normal;font-family:Menlo,'DejaVu Sans Mono',consolas,'Courier New',monospace\"><span style=\"font-weight: bold\"> Total params: </span><span style=\"color: #00af00; text-decoration-color: #00af00\">0</span> (0.00 B)\n",
              "</pre>\n"
            ]
          },
          "metadata": {}
        },
        {
          "output_type": "display_data",
          "data": {
            "text/plain": [
              "\u001b[1m Trainable params: \u001b[0m\u001b[38;5;34m0\u001b[0m (0.00 B)\n"
            ],
            "text/html": [
              "<pre style=\"white-space:pre;overflow-x:auto;line-height:normal;font-family:Menlo,'DejaVu Sans Mono',consolas,'Courier New',monospace\"><span style=\"font-weight: bold\"> Trainable params: </span><span style=\"color: #00af00; text-decoration-color: #00af00\">0</span> (0.00 B)\n",
              "</pre>\n"
            ]
          },
          "metadata": {}
        },
        {
          "output_type": "display_data",
          "data": {
            "text/plain": [
              "\u001b[1m Non-trainable params: \u001b[0m\u001b[38;5;34m0\u001b[0m (0.00 B)\n"
            ],
            "text/html": [
              "<pre style=\"white-space:pre;overflow-x:auto;line-height:normal;font-family:Menlo,'DejaVu Sans Mono',consolas,'Courier New',monospace\"><span style=\"font-weight: bold\"> Non-trainable params: </span><span style=\"color: #00af00; text-decoration-color: #00af00\">0</span> (0.00 B)\n",
              "</pre>\n"
            ]
          },
          "metadata": {}
        },
        {
          "output_type": "stream",
          "name": "stdout",
          "text": [
            "Entrenamos el modelo...\n",
            "Epoch 1/10\n",
            "\u001b[1m391/391\u001b[0m \u001b[32m━━━━━━━━━━━━━━━━━━━━\u001b[0m\u001b[37m\u001b[0m \u001b[1m20s\u001b[0m 43ms/step - categorical_accuracy: 0.0834 - loss: 6.1915\n",
            "Epoch 2/10\n",
            "\u001b[1m391/391\u001b[0m \u001b[32m━━━━━━━━━━━━━━━━━━━━\u001b[0m\u001b[37m\u001b[0m \u001b[1m20s\u001b[0m 43ms/step - categorical_accuracy: 0.1997 - loss: 4.6672\n",
            "Epoch 3/10\n",
            "\u001b[1m391/391\u001b[0m \u001b[32m━━━━━━━━━━━━━━━━━━━━\u001b[0m\u001b[37m\u001b[0m \u001b[1m18s\u001b[0m 45ms/step - categorical_accuracy: 0.2758 - loss: 3.6700\n",
            "Epoch 4/10\n",
            "\u001b[1m391/391\u001b[0m \u001b[32m━━━━━━━━━━━━━━━━━━━━\u001b[0m\u001b[37m\u001b[0m \u001b[1m17s\u001b[0m 44ms/step - categorical_accuracy: 0.4220 - loss: 2.6683\n",
            "Epoch 5/10\n",
            "\u001b[1m391/391\u001b[0m \u001b[32m━━━━━━━━━━━━━━━━━━━━\u001b[0m\u001b[37m\u001b[0m \u001b[1m20s\u001b[0m 42ms/step - categorical_accuracy: 0.6170 - loss: 1.7252\n",
            "Epoch 6/10\n",
            "\u001b[1m391/391\u001b[0m \u001b[32m━━━━━━━━━━━━━━━━━━━━\u001b[0m\u001b[37m\u001b[0m \u001b[1m17s\u001b[0m 43ms/step - categorical_accuracy: 0.7800 - loss: 1.0436\n",
            "Epoch 7/10\n",
            "\u001b[1m391/391\u001b[0m \u001b[32m━━━━━━━━━━━━━━━━━━━━\u001b[0m\u001b[37m\u001b[0m \u001b[1m22s\u001b[0m 47ms/step - categorical_accuracy: 0.8899 - loss: 0.5913\n",
            "Epoch 8/10\n",
            "\u001b[1m391/391\u001b[0m \u001b[32m━━━━━━━━━━━━━━━━━━━━\u001b[0m\u001b[37m\u001b[0m \u001b[1m18s\u001b[0m 46ms/step - categorical_accuracy: 0.9519 - loss: 0.3123\n",
            "Epoch 9/10\n",
            "\u001b[1m391/391\u001b[0m \u001b[32m━━━━━━━━━━━━━━━━━━━━\u001b[0m\u001b[37m\u001b[0m \u001b[1m17s\u001b[0m 44ms/step - categorical_accuracy: 0.9826 - loss: 0.1558\n",
            "Epoch 10/10\n",
            "\u001b[1m391/391\u001b[0m \u001b[32m━━━━━━━━━━━━━━━━━━━━\u001b[0m\u001b[37m\u001b[0m \u001b[1m17s\u001b[0m 44ms/step - categorical_accuracy: 0.9955 - loss: 0.0753\n"
          ]
        },
        {
          "output_type": "stream",
          "name": "stderr",
          "text": [
            "WARNING:absl:You are saving your model as an HDF5 file via `model.save()` or `keras.saving.save_model(model)`. This file format is considered legacy. We recommend using instead the native Keras format, e.g. `model.save('my_model.keras')` or `keras.saving.save_model(model, 'my_model.keras')`. \n"
          ]
        },
        {
          "output_type": "stream",
          "name": "stdout",
          "text": [
            "<keras.src.callbacks.history.History object at 0x7c42527a35e0>\n",
            "...y grabamos el modelo\n"
          ]
        }
      ]
    },
    {
      "cell_type": "code",
      "source": [
        "plot_history(history_list)"
      ],
      "metadata": {
        "colab": {
          "base_uri": "https://localhost:8080/",
          "height": 824
        },
        "id": "PKMLfsEqYoEw",
        "outputId": "b08f029f-6a08-4315-ab45-5d602819de92"
      },
      "execution_count": 114,
      "outputs": [
        {
          "output_type": "stream",
          "name": "stdout",
          "text": [
            "dict_keys(['modelo_256', 'modelo_512', 'modelo_1000'])\n"
          ]
        },
        {
          "output_type": "display_data",
          "data": {
            "text/plain": [
              "<Figure size 1000x800 with 6 Axes>"
            ],
            "image/png": "[encoded data removed]"
          },
          "metadata": {}
        }
      ]
    },
    {
      "cell_type": "markdown",
      "metadata": {
        "id": "MCzZpOgI3U-T"
      },
      "source": [
        "## Generación de texto\n",
        "\n",
        "La generación de texto se basa en la función **get_index_from_prediction**, que obtiene un índice a partir de una predicción y un parámetro de temperatura"
      ]
    },
    {
      "cell_type": "code",
      "execution_count": 117,
      "metadata": {
        "id": "mry9VsvlW2yU",
        "colab": {
          "base_uri": "https://localhost:8080/"
        },
        "outputId": "57b65cf1-5a20-4fca-bb5a-c4c3ed802110"
      },
      "outputs": [
        {
          "output_type": "stream",
          "name": "stdout",
          "text": [
            "Generamos 15 textos...\n"
          ]
        },
        {
          "output_type": "stream",
          "name": "stderr",
          "text": [
            "WARNING:absl:Compiled the loaded model, but the compiled metrics have yet to be built. `model.compile_metrics` will be empty until you train or evaluate the model.\n"
          ]
        },
        {
          "output_type": "stream",
          "name": "stdout",
          "text": [
            "Temperatura: 0.714597409960669\n",
            "Texto entrada:  that , you know , ” Alice gently remarked ; “ they ’ d have been ill. ” “ So they were , ” said the Dormouse ; “ _very_\n",
            "Texto generado:  ill. ” Alice tried to fancy to herself what such an extraordinary way of tears “ Come , I ’ m sure to ask me a story ! ” “ I _have_ you more , ” said Alice ; “ it ’ s laid her own more as an of\n",
            "\n",
            "Temperatura: 0.6560870880418379\n",
            "Texto entrada:  don ’ t bother _me_ , ” said the Duchess ; “ I never could abide figures ! ” And with that she began nursing her child again , singing\n",
            "Texto generado:  a sort of lullaby to it , and all just at another moment , it was some tears to keep her ; then , as they all crowded at the Duchess , she was this much to the back of her sister , but at the time she went on\n",
            "\n",
            "Temperatura: 0.13745969730772256\n",
            "Texto entrada:  that she was now the right size for going through the little door into that lovely garden . First , however , she waited for a few minutes to see\n",
            "Texto generado:  if she had made of a moment of it in her , then , by the door was quite quite confusion with one , and the other was sitting on the ground as she had been a good deal worse off , Alice was a good deal about , and\n",
            "\n",
            "Temperatura: 0.9670155264167725\n",
            "Texto entrada:  ’ s over ! ” thought Alice . One of the jurors had a pencil that squeaked . This of course , Alice could _not_ stand , and she went\n",
            "Texto generado:  round the court : the next went ” “ If you it , ” Father William replied in an tone , “ I feared it would injure the Mock Turtle : but I should see after would can , ” She said nothing , she had made the way into\n",
            "\n",
            "Temperatura: 0.03922975862317635\n",
            "Texto entrada:  race is over ! ” and they all crowded round it , panting , and asking , “ But who has won ? ” This question the Dodo could not\n",
            "Texto generado:  , and said “ No , this ’ re doing to do the story . The Queen took to the kitchen : ‘ I ’ ll have to my own size , ” she added in an explanation ; and the White Rabbit was on the table : the cook\n",
            "\n",
            "Temperatura: 0.7848731035886719\n",
            "Texto entrada:  hands and feet at the corners : next the ten courtiers ; these were ornamented all over with diamonds , and walked two and two , as the soldiers did\n",
            "Texto generado:  in make that would could be been , but she tried to work on again , and he sat down very head . “ What ’ s your curious curious now ’ s King in a day-school of your time , ” said Alice . “ Yes , it ’\n",
            "\n",
            "Temperatura: 0.6085095312640465\n",
            "Texto entrada:  to ear . “ Please would you tell me , ” said Alice , a little timidly , for she was not quite sure whether it was good manners for\n",
            "Texto generado:  her . “ Not I ’ re not , ” said Alice , a little little child , “ this was a large Turtle. It was a copy . Oh , there ’ s no harm in trying. and one to be Then from the time at the baby ;\n",
            "\n",
            "Temperatura: 0.5549277158714304\n",
            "Texto entrada:  he taught us , ” said the Mock Turtle angrily : “ really you are very dull ! ” “ You ought to be ashamed of yourself for asking such\n",
            "Texto generado:  a simple ” Alice began a dead feeling to seeing the question . The moment Alice was at the White Cat , and had surprised to the table , half hoping she was quite about whether it as ) , and they went on like in her feet , and\n",
            "\n",
            "Temperatura: 0.10687213675408669\n",
            "Texto entrada:  here , O Mouse ! ” ( Alice thought this must be the right way of speaking to a mouse : she had never done such a thing before ,\n",
            "Texto generado:  but she remembered that she was now about it , and found it was not a moment to eat her up . She was rather thoughtfully to the table , and she tried to find quite a moment that she had never done such a thing before , she had\n",
            "\n",
            "Temperatura: 0.0041079352211836895\n",
            "Texto entrada:  of the words have got altered. ” “ It is wrong from beginning to end , ” said the Caterpillar decidedly , and there was silence for some minutes .\n",
            "Texto generado:  The Caterpillar was the eyes to speak her at the baby : and Alice was a large mushroom , and large just like to Alice , which all both Alice again . “ What fun a curious little must be dance from my mouths—and , ” said Alice . “\n",
            "\n",
            "Temperatura: 0.1853239953300133\n",
            "Texto entrada:  “ —as far out to sea as you can— ” “ Swim after them ! ” screamed the Gryphon . “ Turn a somersault in the sea ! ” cried\n",
            "Texto generado:  the Mock Turtle , capering . “ I ’ ve tried to go down , ” the Gryphon replied . “ I ’ m getting not read in the whiting to-day , ” said the Mock Turtle ; “ but it seems to be a letter , written by the\n",
            "\n",
            "Temperatura: 0.6566144157710149\n",
            "Texto entrada:  t have done that , you know , ” Alice gently remarked ; “ they ’ d have been ill. ” “ So they were , ” said the Dormouse\n",
            "Texto generado:  ; and he was all the Gryphon . “ I can ’ t explain it ! ” pleaded Alice replied ; “ but when the Hatter was become , you know ? ” “ I never went as well , ” said the Cat , as round the procession ,\n",
            "\n",
            "Temperatura: 0.6208551696178399\n",
            "Texto entrada:  . Alice led the way , and the whole party swam to the shore . CHAPTER III . A Caucus-Race and a Long Tale They were indeed a queer-looking party\n",
            "Texto generado:  that assembled to the other gardeners with the public door and all . The crowd below . The Foundation ’ s Croquet-Ground office is in the kitchen of the baby , and only to Alice ; and he eyes kept up and Alice had been fallen to say it .\n",
            "\n",
            "Temperatura: 0.4192385706219107\n",
            "Texto entrada:  fish would go anywhere without a porpoise. ” “ Wouldn ’ t it really ? ” said Alice in a tone of great surprise . “ Of course not ,\n",
            "Texto generado:  ” said the Mock Turtle : “ why , if you ’ ve got the highest figure , you know. ” “ I never went ” said Alice . “ That ’ s a _very_ cat , ” said the Duchess . “ I ’ ve tried the roots of\n",
            "\n",
            "Temperatura: 0.3808040764633469\n",
            "Texto entrada:  . A Mad Tea-Party CHAPTER VIII . The Queen ’ s Croquet-Ground CHAPTER IX . The Mock Turtle ’ s Story CHAPTER X . The Lobster Quadrille CHAPTER XI .\n",
            "Texto generado:  Who was the Queen ? ” “ He told I were done , ” Alice said to herself ; “ the way would the creatures wouldn ’ t be beheaded , ” he was remarked , turning to Alice , and looking at the Cat ’ s head . “\n",
            "\n"
          ]
        }
      ],
      "source": [
        "# Parámetros de generación de texto\n",
        "generated_sequence_length = 50 # longitud de los textos generados\n",
        "n_generated_texts = 15 # número de textos a generar\n",
        "\n",
        "def generate_texts(n_generated_texts=10):\n",
        "\n",
        "    print(f\"Generamos {n_generated_texts} textos...\")\n",
        "\n",
        "    # carga del corpus\n",
        "    indices, vocabulary = pickle.load(open(preprocessed_corpus_path, \"rb\"))\n",
        "\n",
        "    # carga del modelo previamente grabado\n",
        "    model = models.load_model(model_path)\n",
        "\n",
        "    # Generamos tantos textos como indique el parámetro n_generated_texts\n",
        "    for _ in range(n_generated_texts):\n",
        "\n",
        "        # Escogemos un parámetro aleatorio \"temperature\" para la predicción\n",
        "        temperature = random.uniform(0.0, 1.0)\n",
        "        print(\"Temperatura:\", temperature)\n",
        "\n",
        "        # Obtenemos una muestra aleatoria a modo de secuencia semilla a partir de la cual se generarán textos\n",
        "        random_index = random.randint(0, len(indices) - (generated_sequence_length))\n",
        "        input_sequence = indices[random_index:random_index + sequence_length]\n",
        "\n",
        "        # Convertimos la secuencia de índices de entrada en una frase\n",
        "        #print(\"input_sequence:\", input_sequence)\n",
        "        text = decode_indices(input_sequence, vocabulary)\n",
        "        print(\"Texto entrada: \", text)\n",
        "\n",
        "        # Generamos la secuenca de salida repitiendo la predicción\n",
        "        generated_sequence = []\n",
        "        while len(generated_sequence) < generated_sequence_length:\n",
        "            prediction = model.predict(np.expand_dims(input_sequence, axis=0), verbose = 0)\n",
        "            predicted_index = get_index_from_prediction(prediction[0], temperature)\n",
        "            generated_sequence.append(predicted_index)\n",
        "            input_sequence = input_sequence[1:]\n",
        "            #print(\"input_sequence:\", input_sequence)\n",
        "            input_sequence.append(predicted_index)\n",
        "\n",
        "        # Convertimos la secuencia de índices generada en una frase\n",
        "        #print(\"generated_sequence:\", generated_sequence)\n",
        "        text = decode_indices(generated_sequence, vocabulary)\n",
        "        print(\"Texto generado: \", text)\n",
        "        print(\"\")\n",
        "\n",
        "\n",
        "def get_index_from_prediction(prediction, temperature=0.0):\n",
        "\n",
        "    # Temperatura cero - usamos argmax.\n",
        "    if temperature == 0.0:\n",
        "        return np.argmax(prediction)\n",
        "\n",
        "    # Temperatura distinta de cero - aplicamos cierta aleatoriedad\n",
        "    else:\n",
        "        prediction = np.asarray(prediction).astype('float64')\n",
        "        prediction = np.log(prediction) / temperature\n",
        "        exp_prediction= np.exp(prediction)\n",
        "        prediction = exp_prediction / np.sum(exp_prediction)\n",
        "        probabilities = np.random.multinomial(1, prediction, 1)\n",
        "        return np.argmax(probabilities)\n",
        "\n",
        "\n",
        "generate_texts(n_generated_texts)"
      ]
    },
    {
      "cell_type": "markdown",
      "source": [
        "## Conclusiones\n",
        "\n",
        "### Comparativa entre los tamaños de la capa LSTM\n",
        "Pudimos experimentar con diferentes tamaños en la capa LSTM identificando el efecto que tiene cada uno de los valores, a saber se utilizaron 3 tamaños diferentes: 256, 512 y 1000. Los primeros dos son valores encontrados en diferentes lecturas sobre donde se los identifica como \"comunes\" durante etapas de experimentación, mientras que el último es el tamaño propuesto en la actividad.\n",
        "\n",
        "Aumentar el tamaño conlleva un aumento considerable en el tiempo de entrenamiento del modelo, vimos que utilizar una capa LSTM con 256 nodos ocultos implica un tiempo de alrededor de **5 segundos por epoch**, mientras que el tiempo medio con 512 y 1000 nodos ocultos fué de **8.2 y 18.6 segundos por epoch** respectivamente.\n",
        "\n",
        "Asimismo, notamos que al aumentar el tamaño del modelo tambien mejoran las métricas de evaluación del mismo. Como muestran las imagenes, los tres modelos convergen de diferente manera a medida que transcurren las iteraciones de entrenamiento. Para modelo de 256 nodos encontramos unos valores de accuracy de **0.398** y loss de **2.75** al concluir el décimo epoch de entrenamiento. Para el modelo de 512 nodos los valores son consitentemente mejores, tanto accuracy como loss mejoraron en sus medidas, obteniendo valores de **0.62 y 1.7** respectivamente al finalizar el entrenamiento. Los resultados para el último modelo son incluso mejores, marcando una accuracy de **0.99** y un valor de loss de **0.071**\n",
        "\n",
        "### Comentarios sobre los resultados\n",
        "Se realizaron pequeñas modificaciones al código original provisto con la intención de mejorar la interpretabilidad del proceso generativo. Se puede notar que el modelo generador pudo extraer y reproducir el estilo de `Alice’s Adventures in Wonderland`. Si bien, los resultados obtenidos no son completamente comprensibles y se percibe falta de coherencia en algunos casos, los textos generados son remarcables. El modelo es capaz de emular el estilo \"conversacional\" en el que la historia está redactada. Aunque la generación no es perfecta se puede apreciar cierto hilo de similitud entre la frase inicial utilizada y el resultado generado. Podemos ver, en algunos ejemplos donde el modelo reutiliza algunas de las palabras que sirvieron de input, generalmente parece reutilizar nombres propios presentes en la entrada para generar los textos a su salida. Es tambien interesante remarcar el uso de los simbolos de puntuación por parte del modelo, por ejemplo la utilización correcta de las comillas dobles (`\"`), indicando citas de los personajes de la obra, por lo general estas acompañadas de estructuras correctas (\"said Alice\", \"the Gryphon replied\").\n"
      ],
      "metadata": {
        "id": "coBIEgb_Ul4m"
      }
    }
  ],
  "metadata": {
    "accelerator": "GPU",
    "colab": {
      "provenance": [],
      "gpuType": "T4"
    },
    "kernelspec": {
      "display_name": "TFM",
      "language": "python",
      "name": "tfm"
    },
    "language_info": {
      "codemirror_mode": {
        "name": "ipython",
        "version": 3
      },
      "file_extension": ".py",
      "mimetype": "text/x-python",
      "name": "python",
      "nbconvert_exporter": "python",
      "pygments_lexer": "ipython3",
      "version": "3.12.1"
    }
  },
  "nbformat": 4,
  "nbformat_minor": 0
}