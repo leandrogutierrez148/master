{
  "cells": [
    {
      "attachments": {},
      "cell_type": "markdown",
      "metadata": {
        "id": "jwDQ0WjtgTKo"
      },
      "source": [
        "# M2_AG1: Predicción de Ventas\n",
        "#### Autores: Jorge Ramirez y Leandro Gutierrez\n",
        "#### Este documento intenta dar respuesta a la actividad grupal 1 propuesta en el Modulo **Fundamentos de Estadística** del **Master en Big Data y Ciencia de Datos**. En él se describirán cada uno de los enunciados postulados y los resultados obtenidos a través del uso de Python y Google Colab.\n",
        "#### Junio 20, 2024"
      ]
    },
    {
      "attachments": {},
      "cell_type": "markdown",
      "metadata": {
        "id": "3hg9LaNGgTKp"
      },
      "source": [
        "## Enunciado\n",
        "Una empresa os ha facilitado las inversiones y las ventas obtenidas desde el año 1980 hasta 2017. La unidad está en millones de euros.\n",
        "\n",
        "\n",
        "IMPORTANTE: LA OBTENCIÓN DE LOS RESULTADOS (el dato numérico y el código) SIN LOS COMENTARIOS Y LA JUSTIFICACIÓN ANALITICA. NO PUNTÚA NOTA.\n",
        "\n",
        "Debes entregar un Notebook de Colab, donde los comentarios analíticos o explicaciones se usarán las celdas de comentarios, y el código irán tanto las sentencias como los comentarios de programación necesarios para el entendimiento del código de Python (que se entregará siempre ejecutado).\n",
        "\n",
        "Necesitáis realizar las siguientes tareas:\n",
        "\n",
        "- Ajustar un modelo de regresión lineal (esto implica escribir la fórmula y su sustitución). Obtener una estimación de los parámetros del modelo y la interpretación de los parámetros. (85%)\n",
        "- ¿Cuántas ventas se obtendrían si se invirtiesen 7 millones de euros? (10%)\n",
        "- Evaluar el modelo a través de la SCE y el coeficiente de determinación. (5%)\n",
        "Observaciones:\n",
        "\n",
        "El dataset se llama datos_ventas.csv.\n"
      ]
    },
    {
      "attachments": {},
      "cell_type": "markdown",
      "metadata": {
        "id": "VG8Uip1CgTKp"
      },
      "source": [
        "## Solución"
      ]
    },
    {
      "attachments": {},
      "cell_type": "markdown",
      "metadata": {
        "id": "Z8FlU9iTgTKp"
      },
      "source": [
        "### Diccionario de datos"
      ]
    },
    {
      "attachments": {},
      "cell_type": "markdown",
      "metadata": {
        "id": "Tz5ZZsR4gTKp"
      },
      "source": [
        "<table>\n",
        "<tbody>\n",
        "<tr><th><b>Variable</b></th><th><b>Definition</b></th><th><b>Key</b></th></tr>\n",
        "<tr>\n",
        "    <td>Fecha_Anual</td>\n",
        "    <td>Identificador correlativo y secuencial del año de la observación.</td>\n",
        "    <td></td>\n",
        "</tr>\n",
        "<tr>\n",
        "    <td>Inversion</td>\n",
        "    <td>Monto de Inversión durante el año calendario, expresado en millones de Euros.</td>\n",
        "    <td></td>\n",
        "</tr>\n",
        "<tr>\n",
        "    <td>Ventas</td>\n",
        "    <td>Monto de Ventas durante el año calendario, expresado en millones de Euros</td>\n",
        "    <td></td>\n",
        "</tr>\n",
        "</tbody>\n",
        "</table>\n"
      ]
    },
    {
      "attachments": {},
      "cell_type": "markdown",
      "metadata": {
        "id": "VGSBhFSXgTKp"
      },
      "source": [
        "### Carga del dataset"
      ]
    },
    {
      "cell_type": "code",
      "execution_count": 1,
      "metadata": {
        "id": "AtXLxGq9gTKp"
      },
      "outputs": [],
      "source": [
        "# importando librerias\n",
        "import pandas as pd\n",
        "import numpy as np\n",
        "import matplotlib.pyplot as plt\n",
        "import seaborn as sns\n",
        "\n",
        "# definición de la url de los datos\n",
        "url = 'https://github.com/md-lorente/data/blob/master/datos_ventas.csv?raw=true'\n",
        "\n",
        "# creacion Dataframe\n",
        "df_org = pd.read_csv(url, sep=';', decimal=',')\n",
        "\n",
        "# visualización del dataframe (la cabecera)\n",
        "df_org.head(10)\n",
        "\n",
        "# copiamos dataframe para no alterar original\n",
        "df_aux = df_org.copy()\n"
      ]
    },
    {
      "attachments": {},
      "cell_type": "markdown",
      "metadata": {
        "id": "kKkXdzk1gTKq"
      },
      "source": [
        "### Análisis del dataset"
      ]
    },
    {
      "attachments": {},
      "cell_type": "markdown",
      "metadata": {
        "id": "GXXXg4I8gTKq"
      },
      "source": [
        "Navegaremos en el dataset para ver su estructura, esquema, completitud y los conjuntos de valores de las variables."
      ]
    },
    {
      "attachments": {},
      "cell_type": "markdown",
      "metadata": {
        "id": "91XT5n06gTKq"
      },
      "source": [
        "#### Forma y esquema"
      ]
    },
    {
      "cell_type": "code",
      "execution_count": 2,
      "metadata": {
        "colab": {
          "base_uri": "https://localhost:8080/"
        },
        "id": "vTtGGSKtgTKq",
        "outputId": "b774a6e7-8e93-4d37-af13-8ed8f5523233"
      },
      "outputs": [
        {
          "name": "stdout",
          "output_type": "stream",
          "text": [
            "<class 'pandas.core.frame.DataFrame'>\n",
            "RangeIndex: 38 entries, 0 to 37\n",
            "Data columns (total 3 columns):\n",
            " #   Column       Non-Null Count  Dtype  \n",
            "---  ------       --------------  -----  \n",
            " 0   Fecha_anual  38 non-null     int64  \n",
            " 1   Inversion    38 non-null     float64\n",
            " 2   Ventas       38 non-null     float64\n",
            "dtypes: float64(2), int64(1)\n",
            "memory usage: 1.0 KB\n",
            "None\n"
          ]
        }
      ],
      "source": [
        "# resumen información del dataset\n",
        "print(df_aux.info())"
      ]
    },
    {
      "cell_type": "code",
      "execution_count": 3,
      "metadata": {
        "colab": {
          "base_uri": "https://localhost:8080/"
        },
        "id": "fHnTvYIKgTKq",
        "outputId": "7ca203c0-49fe-4da7-ad2e-059633761ef2"
      },
      "outputs": [
        {
          "data": {
            "text/plain": [
              "(38, 3)"
            ]
          },
          "execution_count": 3,
          "metadata": {},
          "output_type": "execute_result"
        }
      ],
      "source": [
        "# controlamos forma del dataset\n",
        "df_aux.shape"
      ]
    },
    {
      "attachments": {},
      "cell_type": "markdown",
      "metadata": {
        "id": "tY-o86aWgTKq"
      },
      "source": [
        "Contamos con 38 observaciones y 3 variables."
      ]
    },
    {
      "attachments": {},
      "cell_type": "markdown",
      "metadata": {
        "id": "PFQ4XhwngTKq"
      },
      "source": [
        "#### Completitud"
      ]
    },
    {
      "cell_type": "code",
      "execution_count": 4,
      "metadata": {
        "colab": {
          "base_uri": "https://localhost:8080/"
        },
        "id": "qf6gUh0FgTKq",
        "outputId": "6cd2ecbe-b666-4209-c5fd-81a0a6db5f04"
      },
      "outputs": [
        {
          "data": {
            "text/plain": [
              "Fecha_anual    0\n",
              "Inversion      0\n",
              "Ventas         0\n",
              "dtype: int64"
            ]
          },
          "execution_count": 4,
          "metadata": {},
          "output_type": "execute_result"
        }
      ],
      "source": [
        "# controlamos valores nulos en los datos\n",
        "df_aux.isna().sum()"
      ]
    },
    {
      "attachments": {},
      "cell_type": "markdown",
      "metadata": {
        "id": "gdrPXcWfgTKq"
      },
      "source": [
        "No se registran valores nulos en el dataset."
      ]
    },
    {
      "attachments": {},
      "cell_type": "markdown",
      "metadata": {
        "id": "2O5PqiREgTKr"
      },
      "source": [
        "#### Conjunto de valores"
      ]
    },
    {
      "cell_type": "code",
      "execution_count": 5,
      "metadata": {
        "colab": {
          "base_uri": "https://localhost:8080/"
        },
        "id": "3iOe6cEqgTKr",
        "outputId": "55f2df23-4614-4c22-c3de-8f3bc4106d99"
      },
      "outputs": [
        {
          "name": "stdout",
          "output_type": "stream",
          "text": [
            "count      38.000000\n",
            "mean     1998.500000\n",
            "std        11.113055\n",
            "min      1980.000000\n",
            "25%      1989.250000\n",
            "50%      1998.500000\n",
            "75%      2007.750000\n",
            "max      2017.000000\n",
            "Name: Fecha_anual, dtype: float64\n",
            "count    38.000000\n",
            "mean     10.250000\n",
            "std       5.556528\n",
            "min       1.000000\n",
            "25%       5.625000\n",
            "50%      10.250000\n",
            "75%      14.875000\n",
            "max      19.500000\n",
            "Name: Inversion, dtype: float64\n",
            "count    38.000000\n",
            "mean     10.492895\n",
            "std       4.315321\n",
            "min       0.620000\n",
            "25%       7.565000\n",
            "50%      11.080000\n",
            "75%      14.032500\n",
            "max      17.450000\n",
            "Name: Ventas, dtype: float64\n"
          ]
        }
      ],
      "source": [
        "# controlamos estadisticos principales y valores posibles de las variables\n",
        "# descomentar prints para ver todos los valores posibles\n",
        "\n",
        "# print(df_aux['Fecha_anual'].value_counts())\n",
        "print(df_aux['Fecha_anual'].describe())\n",
        "\n",
        "# print(df_aux['Inversion'].value_counts())\n",
        "print(df_aux['Inversion'].describe())\n",
        "\n",
        "# print(df_aux['Ventas'].value_counts())\n",
        "print(df_aux['Ventas'].describe())"
      ]
    },
    {
      "attachments": {},
      "cell_type": "markdown",
      "metadata": {
        "id": "oGyUhrpUgTKr"
      },
      "source": [
        "#### Análisis de los tipos de variables"
      ]
    },
    {
      "attachments": {},
      "cell_type": "markdown",
      "metadata": {
        "id": "IZ-0Z_megTKr"
      },
      "source": [
        "1. Fecha_anual: variable numérica que indica el año calendario donde se tomó la observación. A pesar de ser una variable numérica, la definiremos como cualitativa ordinal, ya que nos sirve para agrupar y ordenar nuestras observaciones. Podemos observar que los valores van desde 1980 hasta 2017, por lo que tenemos al menos 4 decadas completas, nos servirá si quisieramos hacer analisis agrupado en décadas. Es una variable cualitativa ordinal.\n",
        "3. Inversion: variable numérica que indica el monto de lo invertido por la empresa durante el año observado. Toma valores continuos y está expresada en **millones de Euros**. Su recorrido va de 1M a 19.5M de euros. Utilizaremos esta variable para operar. Es una variable cuantitativa continua.\n",
        "4. Ventas: variable numérica que indica el monto bruto de ventas de la empresa durante el año observado. Toma valores continuos y está expresado en **millones de Euros**. Su recorrido va de 0.62M a 17.45M de euros. Utilizaremos esta variable para operar. Es una variable cuantitativa continua."
      ]
    },
    {
      "attachments": {},
      "cell_type": "markdown",
      "metadata": {
        "id": "wXy1nGV_P5kp"
      },
      "source": [
        "#### Variable Ventas"
      ]
    },
    {
      "attachments": {},
      "cell_type": "markdown",
      "metadata": {
        "id": "PvsSMmEBgfVF"
      },
      "source": [
        "##### Medidas de centralizacion"
      ]
    },
    {
      "attachments": {},
      "cell_type": "markdown",
      "metadata": {
        "id": "O2Nac3KEQmTD"
      },
      "source": [
        "Vamos a excluir de éste análisis las modas de la variable *Ventas* ya que son únicos todos los valores tomados por la variable, generando 38 modas diferentes. Analizar dicho estadístico aportaría nada al desarrollo."
      ]
    },
    {
      "cell_type": "code",
      "execution_count": 6,
      "metadata": {
        "colab": {
          "base_uri": "https://localhost:8080/",
          "height": 489
        },
        "id": "NS_PRf_dNoA0",
        "outputId": "9f415ebe-3e9f-4052-d9ab-7b18a53d594c"
      },
      "outputs": [
        {
          "data": {
            "text/plain": [
              "<matplotlib.legend.Legend at 0x11ae1fe60>"
            ]
          },
          "execution_count": 6,
          "metadata": {},
          "output_type": "execute_result"
        },
        {
          "data": {
            "image/png": "[encoded data removed]",
            "text/plain": [
              "<Figure size 640x480 with 1 Axes>"
            ]
          },
          "metadata": {},
          "output_type": "display_data"
        }
      ],
      "source": [
        "# encontramos media\n",
        "media = df_aux['Ventas'].mean()\n",
        "\n",
        "# encontramos media\n",
        "mediana = df_aux['Ventas'].median()\n",
        "\n",
        "# encontramos moda (descomentar para ver)\n",
        "# modes = df_aux['Ventas'].mode()\n",
        "# print(modes)\n",
        "\n",
        "# creamos un histograma para la visualizar las frecuencias absolutas de la variable\n",
        "plot = sns.histplot(df_aux['Ventas'])\n",
        "plot.set_title(\"Histograma de 'Ventas'\")\n",
        "plot.set_xlabel('Ventas')\n",
        "plot.set_ylabel('frecuencia')\n",
        "\n",
        "plot.axvline(media, color='brown', linestyle='dashed', linewidth=2, label=f'media: {media:.2f}')\n",
        "plot.axvline(mediana, color='orange', linestyle='dashed', linewidth=2, label=f'mediana: {mediana:.2f}')\n",
        "\n",
        "# añadir una leyenda\n",
        "plt.legend()"
      ]
    },
    {
      "attachments": {},
      "cell_type": "markdown",
      "metadata": {
        "id": "O4DYnbmmT5YI"
      },
      "source": [
        "Podemos observar que la *mediana* es ligeramente mas alta que la *media* con valores de *11.08 Millones de euros* y *10.49 euros* respectivamente. Lo que expresa una leve concentración hacia valores mas pequeños, que lleven la media hacia abajo.\n",
        "\n",
        "A su vez podemos ver que tenemos 38 modas diferentes (descomentar código para poder observarlo), debido a que el dataset presenta para la variable *Ventas* todos valores únicos. Excluimos del análisis el tratamiento de la moda ya que no aporta valor al análisis."
      ]
    },
    {
      "attachments": {},
      "cell_type": "markdown",
      "metadata": {
        "id": "615jUBujPW5t"
      },
      "source": [
        "##### Medidas de disperción"
      ]
    },
    {
      "cell_type": "code",
      "execution_count": 7,
      "metadata": {
        "colab": {
          "base_uri": "https://localhost:8080/"
        },
        "id": "oW-HxfeIPaJc",
        "outputId": "d91d9251-88c2-481f-f745-da36c92f14c9"
      },
      "outputs": [
        {
          "name": "stdout",
          "output_type": "stream",
          "text": [
            "min: 0.62\n",
            "max: 17.45\n",
            "var: 18.62199950213371\n",
            "std: 4.315321483057051\n"
          ]
        }
      ],
      "source": [
        "# encontramos minimo y maximo\n",
        "min = df_aux['Ventas'].min()\n",
        "max = df_aux['Ventas'].max()\n",
        "\n",
        "print(f'min: {min}')\n",
        "print(f'max: {max}')\n",
        "\n",
        "# encontramos varianza\n",
        "var = df_aux['Ventas'].var()\n",
        "print(f'var: {var}')\n",
        "\n",
        "# encontramos desviacion standard\n",
        "std = df_aux['Ventas'].std()\n",
        "print(f'std: {std}')"
      ]
    },
    {
      "attachments": {},
      "cell_type": "markdown",
      "metadata": {
        "id": "--E8W3g1Pruq"
      },
      "source": [
        "Obtenemos Coeficiente de Variación de Sperman, utilizando la siguiente definición:\n",
        "$$\n",
        "\\begin{align*}\n",
        "CV = \\frac{\\sigma}{\\overline{x}}\n",
        "\\end{align*}\n",
        "$$"
      ]
    },
    {
      "cell_type": "code",
      "execution_count": 8,
      "metadata": {
        "colab": {
          "base_uri": "https://localhost:8080/"
        },
        "id": "U702OdWtPupq",
        "outputId": "f8e74a4e-41fe-4cd4-eb2f-840dab744271"
      },
      "outputs": [
        {
          "name": "stdout",
          "output_type": "stream",
          "text": [
            "cv: 0.411261295503644\n"
          ]
        }
      ],
      "source": [
        "# encontramos Coeficiente de Variación de Sperman\n",
        "cv = std / media\n",
        "print(f'cv: {cv}')"
      ]
    },
    {
      "attachments": {},
      "cell_type": "markdown",
      "metadata": {
        "id": "4gqEotu5RwS7"
      },
      "source": [
        "Vemos que la variable tiene un *recorrido de 16.83 Millones de euros*, que va de 0.62 a 17.45 Millones euros. A su vez obtenemos un valor de *varianza de 18.62*. Para ayudar en la interpretación obtenemos el valor de *desviación estandar de 4.31 Millones de euros*, que para una muestra con *media de 10.49 Millones de euros* expresa variabilidad moderada.\n",
        "\n",
        "Para facilitar la interpretación de la variable, utilizamos el Coeficiente de Variación de Sperman, que pondera el valor de la desviación estandar, sobre el valor medio de la muestra. Esta medida de disperción no da un 42%, podemos decir que el conjunto de datos es homogeneo."
      ]
    },
    {
      "attachments": {},
      "cell_type": "markdown",
      "metadata": {
        "id": "h8mgYMWZUzE_"
      },
      "source": [
        "##### Medidas de posición"
      ]
    },
    {
      "cell_type": "code",
      "execution_count": 9,
      "metadata": {
        "colab": {
          "base_uri": "https://localhost:8080/"
        },
        "id": "q4dO8OJnU2hR",
        "outputId": "0ea5aa43-f4ed-4e0f-c199-d59b970f06bc"
      },
      "outputs": [
        {
          "name": "stdout",
          "output_type": "stream",
          "text": [
            "rq: 6.4674999999999985\n"
          ]
        }
      ],
      "source": [
        "# obtenemos Q1 y Q3\n",
        "q1 = df_aux['Ventas'].quantile(0.25)\n",
        "q3 = df_aux['Ventas'].quantile(0.75)\n",
        "\n",
        "# obtenemos rango intercuartílico\n",
        "rq = q3 - q1\n",
        "\n",
        "print(f'rq: {rq}')"
      ]
    },
    {
      "cell_type": "code",
      "execution_count": 10,
      "metadata": {
        "colab": {
          "base_uri": "https://localhost:8080/",
          "height": 489
        },
        "id": "IYSMXQPOVCdR",
        "outputId": "e9fd1f15-b73c-4b51-ac97-73f27b3773ec"
      },
      "outputs": [
        {
          "data": {
            "text/plain": [
              "<matplotlib.legend.Legend at 0x11af30650>"
            ]
          },
          "execution_count": 10,
          "metadata": {},
          "output_type": "execute_result"
        },
        {
          "data": {
            "image/png": "[encoded data removed]",
            "text/plain": [
              "<Figure size 640x480 with 1 Axes>"
            ]
          },
          "metadata": {},
          "output_type": "display_data"
        }
      ],
      "source": [
        "# creamos un histograma para la visualizar las frecuencias absolutas de la variable\n",
        "plot = sns.histplot(df_aux['Ventas'], bins=7)\n",
        "plot.set_title(\"Histograma de 'Ventas'\")\n",
        "plot.set_xlabel('Ventas')\n",
        "plot.set_ylabel('frecuencia')\n",
        "\n",
        "plot.axvline(q1, color='brown', linestyle='dashed', linewidth=2, label=f'q1: {q1:.1f}')\n",
        "plot.axvline(q3, color='brown', linestyle='dashed', linewidth=2, label=f'q3: {q3:.1f}')\n",
        "\n",
        "# añadir una leyenda\n",
        "plt.legend()"
      ]
    },
    {
      "attachments": {},
      "cell_type": "markdown",
      "metadata": {
        "id": "5cAFrXSAVQUb"
      },
      "source": [
        "Obtenemos un *Q1* igual **7.6 Millones de euros** y un *Q2* igual **14.0 Millone de euros** respectivamente. Dejando como resultado un *rango intercuartil* de **6.46 Millones de euros**. Utilizaremos estos resultados para analizar valores extermos (outliers):"
      ]
    },
    {
      "cell_type": "code",
      "execution_count": 11,
      "metadata": {
        "colab": {
          "base_uri": "https://localhost:8080/"
        },
        "id": "pb2V-Cy1V3DK",
        "outputId": "59e8ea79-f6de-48d5-90f1-7ca7aa26a30f"
      },
      "outputs": [
        {
          "name": "stdout",
          "output_type": "stream",
          "text": [
            "lim_inferior: -2.1362499999999978\n",
            "lim_superior: 23.733749999999997\n"
          ]
        }
      ],
      "source": [
        "lim_inferior = q1 - 1.5 * rq\n",
        "lim_superior = q3 + 1.5 * rq\n",
        "\n",
        "print(f'lim_inferior: {lim_inferior}')\n",
        "print(f'lim_superior: {lim_superior}')"
      ]
    },
    {
      "attachments": {},
      "cell_type": "markdown",
      "metadata": {
        "id": "SHprA3ksWYfC"
      },
      "source": [
        "Podemos observar que los límites teórico de nuestro \"bigotes\", son en valores absolutos mayores que los valores reales tomados por la variable, por lo que serán $Ventas_{min}$ y $Ventas_{max}$ las medidas que usaremos para detectar outliers. Podemos entonces decir que no existen outliers para el caso de la variable *Ventas*, ya que todos los valores estan contendios en el rango $[Ventas_{min}, Ventas_{max}]$"
      ]
    },
    {
      "cell_type": "code",
      "execution_count": 12,
      "metadata": {
        "colab": {
          "base_uri": "https://localhost:8080/",
          "height": 450
        },
        "id": "3GSQtrcdWNfc",
        "outputId": "5aa6358b-94b5-450b-b634-3c2eec5eeb7f"
      },
      "outputs": [
        {
          "data": {
            "text/plain": [
              "Text(0.25, 0.62, 'Mín: 0.62')"
            ]
          },
          "execution_count": 12,
          "metadata": {},
          "output_type": "execute_result"
        },
        {
          "data": {
            "image/png": "[encoded data removed]",
            "text/plain": [
              "<Figure size 640x480 with 1 Axes>"
            ]
          },
          "metadata": {},
          "output_type": "display_data"
        }
      ],
      "source": [
        "# creamos box-plot de la variable\n",
        "sns.boxplot(df_aux['Ventas'])\n",
        "\n",
        "# añadimos título y etiquetas\n",
        "plt.title('Boxplot de Ventas')\n",
        "\n",
        "# añadimos etiquetas a los valores representativos\n",
        "plt.text(0.25, q1, f'Q1: {q1:.2f}', ha='center', va='bottom', color='lime', fontsize=10)\n",
        "plt.text(0.25, q3, f'Q3: {q3:.2f}', ha='center', va='top', color='lime', fontsize=10)\n",
        "\n",
        "plt.text(0.25, max, f'Máx: {max:.2f}', ha='center', va='bottom', color='red', fontsize=10)\n",
        "plt.text(0.25, min, f'Mín: {min:.2f}', ha='center', va='top', color='red', fontsize=10)\n"
      ]
    },
    {
      "attachments": {},
      "cell_type": "markdown",
      "metadata": {
        "id": "Uz0Lt6JCP9B9"
      },
      "source": [
        "#### Variable Inversion"
      ]
    },
    {
      "attachments": {},
      "cell_type": "markdown",
      "metadata": {
        "id": "G8LudNbsP_co"
      },
      "source": [
        "##### Medidas de centralización"
      ]
    },
    {
      "cell_type": "code",
      "execution_count": 13,
      "metadata": {
        "colab": {
          "base_uri": "https://localhost:8080/",
          "height": 489
        },
        "id": "Epq1uUsaOptw",
        "outputId": "e1b754fd-7b3b-48c4-8e23-e43faf195565"
      },
      "outputs": [
        {
          "data": {
            "text/plain": [
              "<matplotlib.legend.Legend at 0x11af7b2c0>"
            ]
          },
          "execution_count": 13,
          "metadata": {},
          "output_type": "execute_result"
        },
        {
          "data": {
            "image/png": "[encoded data removed]",
            "text/plain": [
              "<Figure size 640x480 with 1 Axes>"
            ]
          },
          "metadata": {},
          "output_type": "display_data"
        }
      ],
      "source": [
        "# encontramos media\n",
        "media = df_aux['Inversion'].mean()\n",
        "\n",
        "# encontramos media\n",
        "mediana = df_aux['Inversion'].median()\n",
        "\n",
        "# encontramos moda (descomentar para ver)\n",
        "# modes = df_aux['Inversion'].mode()\n",
        "# print(modes)\n",
        "\n",
        "# creamos un histograma para la visualizar las frecuencias absolutas de la variable\n",
        "plot = sns.histplot(df_aux['Inversion'])\n",
        "plot.set_title(\"Histograma de 'Inversion'\")\n",
        "plot.set_xlabel('Inversion')\n",
        "plot.set_ylabel('frecuencia')\n",
        "\n",
        "plot.axvline(media, color='brown', linestyle='dashed', linewidth=2, label=f'media: {media:.2f}')\n",
        "plot.axvline(mediana, color='orange', linestyle='dashed', linewidth=2, label=f'mediana: {mediana:.2f}')\n",
        "\n",
        "# añadir una leyenda\n",
        "plt.legend()"
      ]
    },
    {
      "attachments": {},
      "cell_type": "markdown",
      "metadata": {
        "id": "Ra5fv9drXnAG"
      },
      "source": [
        "Podemos observar que la *mediana* y *media* son exactamente iguales, *10.25 Millones de euros*. Esto quiere decir, que es una distribución simétrica, los valores están distribuidos de manera uniforme alrededor del centro\n",
        "\n",
        "A su vez podemos ver que tenemos 38 modas diferentes, debido a que el dataset presenta para la variable *Inversion* todos valores únicos. Excluimos del análisis el tratamiento de la moda ya que no aporta valor al análisis."
      ]
    },
    {
      "attachments": {},
      "cell_type": "markdown",
      "metadata": {
        "id": "ypBUkC18YSV3"
      },
      "source": [
        "##### Medidas de dispersion"
      ]
    },
    {
      "cell_type": "code",
      "execution_count": 14,
      "metadata": {
        "colab": {
          "base_uri": "https://localhost:8080/"
        },
        "id": "hqLKPYkPYVS1",
        "outputId": "3b2bd44b-1f24-4745-b4c4-200bc420cbed"
      },
      "outputs": [
        {
          "name": "stdout",
          "output_type": "stream",
          "text": [
            "min: 1.0\n",
            "max: 19.5\n",
            "var: 30.875\n",
            "std: 5.5565276927232174\n"
          ]
        }
      ],
      "source": [
        "# encontramos minimo y maximo\n",
        "min = df_aux['Inversion'].min()\n",
        "max = df_aux['Inversion'].max()\n",
        "\n",
        "print(f'min: {min}')\n",
        "print(f'max: {max}')\n",
        "\n",
        "# encontramos varianza\n",
        "var = df_aux['Inversion'].var()\n",
        "print(f'var: {var}')\n",
        "\n",
        "# encontramos desviacion standard\n",
        "std = df_aux['Inversion'].std()\n",
        "print(f'std: {std}')"
      ]
    },
    {
      "cell_type": "code",
      "execution_count": 15,
      "metadata": {
        "colab": {
          "base_uri": "https://localhost:8080/"
        },
        "id": "j3IGCPuLYrz9",
        "outputId": "8281bc4d-b53e-4b95-d449-0ca81bdc1f19"
      },
      "outputs": [
        {
          "name": "stdout",
          "output_type": "stream",
          "text": [
            "cv: 0.5421002627047041\n"
          ]
        }
      ],
      "source": [
        "# encontramos Coeficiente de Variación de Sperman\n",
        "cv = std / media\n",
        "print(f'cv: {cv}')"
      ]
    },
    {
      "attachments": {},
      "cell_type": "markdown",
      "metadata": {
        "id": "xNaq1VtWYwys"
      },
      "source": [
        "Vemos que la variable tiene un recorrido de **18.50 Millones de euros**, que va de 1.00 a 19.50 Millones euros. A su vez obtenemos un valor de varianza de 30.87. Para ayudar en la interpretación obtenemos el valor de desviación estandar de 5.55 Millones de euros, que para una muestra con media de 10.25 Millones de euros expresa variabilidad moderada.\n",
        "\n",
        "Para facilitar la interpretación de la variable, utilizamos el Coeficiente de Variación de Sperman, que pondera el valor de la desviación estandar, sobre el valor medio de la muestra. Esta medida de disperción no da un 54%, podemos decir que el conjunto de datos es homogeneo."
      ]
    },
    {
      "attachments": {},
      "cell_type": "markdown",
      "metadata": {
        "id": "nCIYbZgHaEr0"
      },
      "source": [
        "##### Medidas de posición"
      ]
    },
    {
      "cell_type": "code",
      "execution_count": 16,
      "metadata": {
        "colab": {
          "base_uri": "https://localhost:8080/"
        },
        "id": "fPHDrVCbaO5E",
        "outputId": "79e784c0-9022-401a-b2e5-b56447d92e6b"
      },
      "outputs": [
        {
          "name": "stdout",
          "output_type": "stream",
          "text": [
            "rq: 9.25\n"
          ]
        }
      ],
      "source": [
        "# obtenemos Q1 y Q3\n",
        "q1 = df_aux['Inversion'].quantile(0.25)\n",
        "q3 = df_aux['Inversion'].quantile(0.75)\n",
        "\n",
        "# obtenemos rango intercuartílico\n",
        "rq = q3 - q1\n",
        "\n",
        "print(f'rq: {rq}')"
      ]
    },
    {
      "cell_type": "code",
      "execution_count": 17,
      "metadata": {
        "colab": {
          "base_uri": "https://localhost:8080/",
          "height": 489
        },
        "id": "yaDAE2M0aTrz",
        "outputId": "892bb06e-6daa-4281-b957-39ec1278009d"
      },
      "outputs": [
        {
          "data": {
            "text/plain": [
              "<matplotlib.legend.Legend at 0x11b0b3e60>"
            ]
          },
          "execution_count": 17,
          "metadata": {},
          "output_type": "execute_result"
        },
        {
          "data": {
            "image/png": "[encoded data removed]",
            "text/plain": [
              "<Figure size 640x480 with 1 Axes>"
            ]
          },
          "metadata": {},
          "output_type": "display_data"
        }
      ],
      "source": [
        "# creamos un histograma para la visualizar las frecuencias absolutas de la variable\n",
        "plot = sns.histplot(df_aux['Inversion'], bins=7)\n",
        "plot.set_title(\"Histograma de 'Inversion'\")\n",
        "plot.set_xlabel('Inversion')\n",
        "plot.set_ylabel('frecuencia')\n",
        "\n",
        "plot.axvline(q1, color='brown', linestyle='dashed', linewidth=2, label=f'q1: {q1:.1f}')\n",
        "plot.axvline(q3, color='brown', linestyle='dashed', linewidth=2, label=f'q3: {q3:.1f}')\n",
        "\n",
        "# añadir una leyenda\n",
        "plt.legend()"
      ]
    },
    {
      "attachments": {},
      "cell_type": "markdown",
      "metadata": {
        "id": "cxRmjvz2akNc"
      },
      "source": [
        "Obtenemos un Q1 igual 5.62 Millones de euros y un Q2 igual 14.88 Millone de euros respectivamente. Dejando como resultado un rango intercuartil de 9.25 Millones de euros. Utilizaremos estos resultados para analizar valores extermos (outliers):"
      ]
    },
    {
      "cell_type": "code",
      "execution_count": 18,
      "metadata": {
        "colab": {
          "base_uri": "https://localhost:8080/"
        },
        "id": "huceK3XAasfI",
        "outputId": "82951b07-6a47-41e1-97f7-928ad5438908"
      },
      "outputs": [
        {
          "name": "stdout",
          "output_type": "stream",
          "text": [
            "lim_inferior: -8.25\n",
            "lim_superior: 28.75\n"
          ]
        }
      ],
      "source": [
        "lim_inferior = q1 - 1.5 * rq\n",
        "lim_superior = q3 + 1.5 * rq\n",
        "\n",
        "print(f'lim_inferior: {lim_inferior}')\n",
        "print(f'lim_superior: {lim_superior}')"
      ]
    },
    {
      "attachments": {},
      "cell_type": "markdown",
      "metadata": {
        "id": "azoyrfgvaxs9"
      },
      "source": [
        "Podemos observar que los límites teórico de nuestro \"bigotes\", son en valores absolutos mayores que los valores reales tomados por la variable, por lo que serán $Inversion_{𝑚in}$ y $Inversion_{𝑚𝑎𝑥}$ las medidas que usaremos para detectar outliers. Podemos entonces decir que no existen outliers para el caso de la variable Inversion, ya que todos los valores estan contendios en el rango $[Inversion_{𝑚𝑖𝑛},Inversion_{𝑚𝑎𝑥}]$."
      ]
    },
    {
      "cell_type": "code",
      "execution_count": 19,
      "metadata": {
        "colab": {
          "base_uri": "https://localhost:8080/",
          "height": 450
        },
        "id": "etZ5BI2pbNpj",
        "outputId": "67bc41d4-695c-4267-cf36-fe18774f6e23"
      },
      "outputs": [
        {
          "data": {
            "text/plain": [
              "Text(0.25, 1.0, 'Mín: 1.00')"
            ]
          },
          "execution_count": 19,
          "metadata": {},
          "output_type": "execute_result"
        },
        {
          "data": {
            "image/png": "[encoded data removed]",
            "text/plain": [
              "<Figure size 640x480 with 1 Axes>"
            ]
          },
          "metadata": {},
          "output_type": "display_data"
        }
      ],
      "source": [
        "# creamos box-plot de la variable\n",
        "sns.boxplot(df_aux['Inversion'])\n",
        "\n",
        "# añadimos título y etiquetas\n",
        "plt.title('Boxplot de Inversion')\n",
        "\n",
        "# añadimos etiquetas a los valores representativos\n",
        "plt.text(0.25, q1, f'Q1: {q1:.2f}', ha='center', va='bottom', color='lime', fontsize=10)\n",
        "plt.text(0.25, q3, f'Q3: {q3:.2f}', ha='center', va='top', color='lime', fontsize=10)\n",
        "\n",
        "plt.text(0.25, max, f'Máx: {max:.2f}', ha='center', va='bottom', color='red', fontsize=10)\n",
        "plt.text(0.25, min, f'Mín: {min:.2f}', ha='center', va='top', color='red', fontsize=10)"
      ]
    },
    {
      "attachments": {},
      "cell_type": "markdown",
      "metadata": {
        "id": "sGe8VV1rgTKr"
      },
      "source": [
        "### Apartado 1"
      ]
    },
    {
      "attachments": {},
      "cell_type": "markdown",
      "metadata": {
        "id": "W_priPQlMgCi"
      },
      "source": [
        "#### Análisis visual"
      ]
    },
    {
      "attachments": {},
      "cell_type": "markdown",
      "metadata": {
        "id": "oGQSgcCUH-W6"
      },
      "source": [
        "Comenzamos haciendo un análisis visual de nuestro dataset, para ello utilizaremos un diagrama de dispersión para las variables *Inversion* y *Ventas*"
      ]
    },
    {
      "cell_type": "code",
      "execution_count": 20,
      "metadata": {
        "colab": {
          "base_uri": "https://localhost:8080/",
          "height": 489
        },
        "id": "w1bnTra6ik35",
        "outputId": "6168d4eb-7b03-4a38-b3c8-00107666e291"
      },
      "outputs": [
        {
          "data": {
            "text/plain": [
              "Text(0, 0.5, 'Ventas')"
            ]
          },
          "execution_count": 20,
          "metadata": {},
          "output_type": "execute_result"
        },
        {
          "data": {
            "image/png": "[encoded data removed]",
            "text/plain": [
              "<Figure size 640x480 with 1 Axes>"
            ]
          },
          "metadata": {},
          "output_type": "display_data"
        }
      ],
      "source": [
        "# creamos\n",
        "plt.scatter(x='Inversion', y='Ventas', data=df_aux)\n",
        "\n",
        "# limits\n",
        "plt.xlim(df_aux[\"Inversion\"].min() , df_aux[\"Inversion\"].max() )\n",
        "plt.ylim(df_aux[\"Ventas\"].min() , df_aux[\"Ventas\"].max() )\n",
        "\n",
        "# añadimos título y etiquetas\n",
        "plt.title(\"Dispersión de Inversión y Ventas\")\n",
        "plt.xlabel(\"Inversion\")\n",
        "plt.ylabel(\"Ventas\")"
      ]
    },
    {
      "attachments": {},
      "cell_type": "markdown",
      "metadata": {
        "id": "16ImkvqnILWJ"
      },
      "source": [
        "Podemos intuir a simple vista que la función de una recta lineal podría ajustarse a nuestra distribución."
      ]
    },
    {
      "attachments": {},
      "cell_type": "markdown",
      "metadata": {
        "id": "ZrPzIvfUMnBJ"
      },
      "source": [
        "#### Análisis de Covarianza\n",
        "Veamos la matriz de covarianzas de nuestros datos, de manera de poder observar como varían de forma conjunta nuestras variables."
      ]
    },
    {
      "cell_type": "code",
      "execution_count": 21,
      "metadata": {
        "colab": {
          "base_uri": "https://localhost:8080/",
          "height": 125
        },
        "id": "1JkxJTS41TmJ",
        "outputId": "9dc25cdb-4dea-42a4-b2eb-df4be0306e93"
      },
      "outputs": [
        {
          "data": {
            "text/html": [
              "<div>\n",
              "<style scoped>\n",
              "    .dataframe tbody tr th:only-of-type {\n",
              "        vertical-align: middle;\n",
              "    }\n",
              "\n",
              "    .dataframe tbody tr th {\n",
              "        vertical-align: top;\n",
              "    }\n",
              "\n",
              "    .dataframe thead th {\n",
              "        text-align: right;\n",
              "    }\n",
              "</style>\n",
              "<table border=\"1\" class=\"dataframe\">\n",
              "  <thead>\n",
              "    <tr style=\"text-align: right;\">\n",
              "      <th></th>\n",
              "      <th>Inversion</th>\n",
              "      <th>Ventas</th>\n",
              "    </tr>\n",
              "  </thead>\n",
              "  <tbody>\n",
              "    <tr>\n",
              "      <th>Inversion</th>\n",
              "      <td>30.875000</td>\n",
              "      <td>22.929932</td>\n",
              "    </tr>\n",
              "    <tr>\n",
              "      <th>Ventas</th>\n",
              "      <td>22.929932</td>\n",
              "      <td>18.622000</td>\n",
              "    </tr>\n",
              "  </tbody>\n",
              "</table>\n",
              "</div>"
            ],
            "text/plain": [
              "           Inversion     Ventas\n",
              "Inversion  30.875000  22.929932\n",
              "Ventas     22.929932  18.622000"
            ]
          },
          "execution_count": 21,
          "metadata": {},
          "output_type": "execute_result"
        }
      ],
      "source": [
        "# encontramos la tabla de covarianza\n",
        "cov_matrix = df_aux[['Inversion','Ventas']].cov()\n",
        "cov_matrix"
      ]
    },
    {
      "attachments": {},
      "cell_type": "markdown",
      "metadata": {
        "id": "NsB6Wj4OJOuC"
      },
      "source": [
        "El par ordenado que estamos estudiando es $(Inversion, Ventas)$, de la tabla obtenida podemos ver que poseen una **covarianza de 22.92**.\n",
        "\n",
        "Recordemos que la *Covarianza* es el Momento Bidimensional respecto de la Media mas importante, donde $r = 1$ y $s = 1$, supongamos dos variables $X$ e $Y$:\n",
        "\n",
        "$$\n",
        "\\mu_{rs} = \\mu_{11} = \\sum_{i=1}^{k}(x_{i} - \\bar{x}) (y_{i} - \\bar{y}) f_{i}\n",
        "=\\frac{1}{N} \\sum_{i=1}^{k}(x_{i} - \\bar{x}) (y_{i} - \\bar{y}) n_{i}\n",
        "$$\n",
        "\n",
        "La Covarianza es una medida de la variabilidad conjunta de las variables $X$ e $Y$.\n",
        "\n",
        "**El signo de la covarianza indica el sentido en el que varían conjuntamente** las dos variables. Por tanto:\n",
        "\n",
        "* Si la $ \\mu_{xy} > 0 $ entonces las **variables $X$ e $Y$ varían en el mismo sentido**. Las dos variables crecen o decrecen a la vez (**nube de puntos creciente**). Por ejemplo a mayor *Inversion*, mayor *Venta*.\n",
        "\n",
        "* Si la  $ \\mu_{xy} < 0 $ entonces las **variables $X$ e $Y$ varían en sentido opuesto**. Cuando una variable crece, la otra variable tiene tendencia a decrecer (**nube de puntos decreciente**).\n",
        "\n",
        "* Si **las variables son independientes, la covarianza es nula**. El recíproco no es cierto.\n",
        "\n",
        "En consonancia con el punto anterior podemos asumir una relación directa entre las variables *Inversion* y *Ventas*. De manera que, además de ajustarse a una recta lineal, podemos decir que la misma tendrá pendiente positiva. Es decir, cuando una de las variables crezca, lo mismo hará la otra.\n"
      ]
    },
    {
      "attachments": {},
      "cell_type": "markdown",
      "metadata": {
        "id": "zIZolstmMsIv"
      },
      "source": [
        "#### Análisis de Coeficiente de Correlación de Pearson"
      ]
    },
    {
      "attachments": {},
      "cell_type": "markdown",
      "metadata": {
        "id": "2ICLj2KGMy3O"
      },
      "source": [
        "\n",
        "Veamos la matriz de coeficientes de correlación de nuestro dataset para mejorar nuestra interpretación.\n"
      ]
    },
    {
      "cell_type": "code",
      "execution_count": 22,
      "metadata": {
        "colab": {
          "base_uri": "https://localhost:8080/",
          "height": 125
        },
        "id": "BzptVqpIBVf-",
        "outputId": "255e2a2b-96f9-4295-9037-d1e0a3cc3441"
      },
      "outputs": [
        {
          "data": {
            "text/html": [
              "<div>\n",
              "<style scoped>\n",
              "    .dataframe tbody tr th:only-of-type {\n",
              "        vertical-align: middle;\n",
              "    }\n",
              "\n",
              "    .dataframe tbody tr th {\n",
              "        vertical-align: top;\n",
              "    }\n",
              "\n",
              "    .dataframe thead th {\n",
              "        text-align: right;\n",
              "    }\n",
              "</style>\n",
              "<table border=\"1\" class=\"dataframe\">\n",
              "  <thead>\n",
              "    <tr style=\"text-align: right;\">\n",
              "      <th></th>\n",
              "      <th>Inversion</th>\n",
              "      <th>Ventas</th>\n",
              "    </tr>\n",
              "  </thead>\n",
              "  <tbody>\n",
              "    <tr>\n",
              "      <th>Inversion</th>\n",
              "      <td>1.000000</td>\n",
              "      <td>0.956282</td>\n",
              "    </tr>\n",
              "    <tr>\n",
              "      <th>Ventas</th>\n",
              "      <td>0.956282</td>\n",
              "      <td>1.000000</td>\n",
              "    </tr>\n",
              "  </tbody>\n",
              "</table>\n",
              "</div>"
            ],
            "text/plain": [
              "           Inversion    Ventas\n",
              "Inversion   1.000000  0.956282\n",
              "Ventas      0.956282  1.000000"
            ]
          },
          "execution_count": 22,
          "metadata": {},
          "output_type": "execute_result"
        }
      ],
      "source": [
        "# encontramos la matriz de correlación\n",
        "correlacion = df_aux[['Inversion','Ventas']].corr(method='pearson')\n",
        "correlacion"
      ]
    },
    {
      "attachments": {},
      "cell_type": "markdown",
      "metadata": {
        "id": "5DPeZ9QONgJH"
      },
      "source": [
        "**El coeficiente de correlación lineal** es una **medida adimensional** que determina el grado de ajuste entre una nube de puntos y una recta de regresión. Es decir, un coeficiente que **mide el grado de variación conjunta** entre las variables. Se representa por $r$.\n",
        "\n",
        "Se define como:\n",
        "\n",
        "$$ \\\\ {\n",
        "   r = \\frac{\\sigma_{xy}} { \\sigma_{x} \\sigma_{y}}  \n",
        "} \\\\ $$\n",
        "\n",
        "Este coeficiente determina si existe relación lineal entre dos variables, toma valores entre -1 y 1, esto es:\n",
        "\n",
        "$$ \\\\ {\n",
        "  -1 \\leq r \\leq 1  \n",
        "} $$\n"
      ]
    },
    {
      "attachments": {},
      "cell_type": "markdown",
      "metadata": {
        "id": "bAG2bxHhNyZn"
      },
      "source": [
        "Para las variables *Inversion* y *Ventas* obtuvimos un valor del coeficiente de correlación en torno a los **0.95**. Lo que indica:\n",
        "- $r$ positivo: implica que existe una dependencia aleatoria directa entre las variables.\n",
        "- $|r|$ está próximo a 1: implica que existe una relación lineal fuerte entre las variables."
      ]
    },
    {
      "attachments": {},
      "cell_type": "markdown",
      "metadata": {
        "id": "prLxV9o7Hs6t"
      },
      "source": [
        "#### Ajuste con modelo de regresión lineal"
      ]
    },
    {
      "attachments": {},
      "cell_type": "markdown",
      "metadata": {
        "id": "7-NI9spO0s83"
      },
      "source": [
        "Intentaremos aproximar nuestras mediciones a una función matemática que describa el comportamiento de las variables.\n",
        "\n",
        "Por lo visto en el apartado vamos a utilizar la función de una recta en el plano (x,y), donde ecuación teórica de la recta es:\n",
        "$$\n",
        "  y = \\beta_{0} + \\beta_{1}x\n",
        "$$\n",
        "\n",
        "La función indica que para cada valor $x_{i}$ que tome la variable $x$ le corresponde un valor de $y_{i}$ a $y$, de manera que: $\\beta_{0}$ es la ordenada al origen y $\\beta_{1}$ la pendiente de la recta.\n",
        "\n",
        "Nuestra aproximación no será perfecta, es decir nuestro modelo tendrá un error $ɛ$\n",
        "\n",
        "$$\n",
        "  y = \\beta_{0} + \\beta_{1}x + \\varepsilon\n",
        "$$\n",
        "\n",
        "donde el error representa la diferencia entre el valor real y el predicho por el modelo\n",
        "\n",
        "$$\n",
        "  \\varepsilon_{i} =  y_{i} - \\widehat{y}_{i}\n",
        "$$\n",
        "\n",
        "Para obtener los valores de los parametros de la función utilizaremos el *Metodo de los minimos cuadrados*. No abordaremos las demostraciones, solo utilizaremos los resultados del método.\n",
        "\n",
        "\n",
        "$$\n",
        "\\begin{align*}\n",
        "  \\beta_{1} &= \\frac{\\sigma_{xy}} { \\sigma_{x}^2 } \\\\\n",
        "  \\beta_{0} &=  \\bar{y} - \\frac{\\sigma_{xy}} { \\sigma_{x}^2 } \\bar{x}  \n",
        "\\end{align*}\n",
        "$$\n",
        "\n",
        "- $\\beta_{0}$ representa la ordenada al origen en nuestra recta, es decir nos dice cuanto es el valor estimado de nuestra variable *Ventas* cuando *Inversion* sea 0.\n",
        "\n",
        "- $\\beta_{1}$ representa la pendiente de la recta, en este caso de valor positivo, asegurando que a cada aumento de la variable *Inversion* le corresponde un aumento proporcional a *Ventas*.\n",
        "\n",
        "\n"
      ]
    },
    {
      "cell_type": "code",
      "execution_count": 23,
      "metadata": {
        "colab": {
          "base_uri": "https://localhost:8080/",
          "height": 541
        },
        "id": "cq4_7nqcxA7m",
        "outputId": "3ccff793-f845-44df-ddf8-895568b17b0e"
      },
      "outputs": [
        {
          "name": "stdout",
          "output_type": "stream",
          "text": [
            "B0: 2.8805285042127133\n",
            "B1: 0.7426698763540869\n",
            "Error: 0.037853202945296\n",
            "Coef Pearson: 0.9562823420491507\n"
          ]
        },
        {
          "data": {
            "image/png": "[encoded data removed]",
            "text/plain": [
              "<Figure size 640x480 with 1 Axes>"
            ]
          },
          "metadata": {},
          "output_type": "display_data"
        }
      ],
      "source": [
        "from scipy import stats as ss\n",
        "\n",
        "# linregress es el metodo para extraer la recta\n",
        "pendiente, ordenada, pearson, p, error = ss.linregress(df_aux[\"Inversion\"],df_aux[\"Ventas\"])\n",
        "\n",
        "def recta(x):\n",
        "    return ordenada + pendiente * x\n",
        "\n",
        "print(f'B0: {ordenada}')\n",
        "print(f'B1: {pendiente}')\n",
        "print(f'Error: {error}')\n",
        "print(f'Coef Pearson: {pearson}')\n",
        "\n",
        "recta = np.vectorize(recta)\n",
        "linea = recta(np.arange(3000))\n",
        "\n",
        "# labels\n",
        "plt.title(\"Distribución de Inversion VS Ventas\")\n",
        "plt.xlabel(\"Inversion\")\n",
        "plt.ylabel(\"Ventas\")\n",
        "\n",
        "# limits\n",
        "plt.xlim(0 , df_aux[\"Inversion\"].max() )\n",
        "plt.ylim(df_aux[\"Ventas\"].min() , df_aux[\"Ventas\"].max() )\n",
        "\n",
        "# dibujamos nube de puntos + recta de regresión\n",
        "plt.scatter(df_aux[\"Inversion\"],df_aux[\"Ventas\"])\n",
        "plt.plot(linea , color='red')\n",
        "\n",
        "plt.show()"
      ]
    },
    {
      "attachments": {},
      "cell_type": "markdown",
      "metadata": {
        "id": "1D_yWYvHqy6A"
      },
      "source": [
        "Obtenemos $β_{0}$ igual 2.88, coeficiente expresado en *Millones de Euros*, recordemos que este coeficiente indica el valor esperado de *Ventas* para una *Inversion* igual a 0.\n",
        "\n",
        "Además obtenemos $β_{1}$ igual a 0.74, este coeficiente es adimensional y representa el factor de cambio entre las variables, es decir, el cambio en *Ventas* por cada unidad de cambio en *Inversion*. Es la pendiente de la recta, su valor positivo refleja la relación directa entre las variables, cuando una sube la otra tambien crece.\n",
        "\n"
      ]
    },
    {
      "attachments": {},
      "cell_type": "markdown",
      "metadata": {
        "id": "gvc4ktFtwzy6"
      },
      "source": [
        "### Apartado 2"
      ]
    },
    {
      "attachments": {},
      "cell_type": "markdown",
      "metadata": {
        "id": "AfEe7_MTw2dN"
      },
      "source": [
        "Para estimar el valor de ventas que se obtiene al invertir **7 Millones de Euros** utilizaremos la recta que definimos antes y veremos que valor toma *Ventas* para una *Inversion* de **7 Millones de Euros**"
      ]
    },
    {
      "cell_type": "code",
      "execution_count": 24,
      "metadata": {
        "colab": {
          "base_uri": "https://localhost:8080/",
          "height": 472
        },
        "id": "-dTlEqQEDEXc",
        "outputId": "d373327a-dd8d-4996-fb09-65fe2b000899"
      },
      "outputs": [
        {
          "data": {
            "image/png": "[encoded data removed]",
            "text/plain": [
              "<Figure size 640x480 with 1 Axes>"
            ]
          },
          "metadata": {},
          "output_type": "display_data"
        }
      ],
      "source": [
        "# labels\n",
        "plt.title(\"Distribución de Inversion VS Ventas\")\n",
        "plt.xlabel(\"Inversion\")\n",
        "plt.ylabel(\"Ventas\")\n",
        "\n",
        "# limits\n",
        "plt.xlim(df_aux[\"Inversion\"].min() , df_aux[\"Inversion\"].max() )\n",
        "plt.ylim(df_aux[\"Ventas\"].min() , df_aux[\"Ventas\"].max() )\n",
        "\n",
        "# dibujamos nube de puntos + recta de regresión\n",
        "plt.scatter(df_aux[\"Inversion\"],df_aux[\"Ventas\"])\n",
        "plt.plot(linea , color='red')\n",
        "\n",
        "# agregamos referencia de la estimación buscada\n",
        "plt.axvline(7, color='brown', linestyle='dashed', linewidth=2, label='X^: 7')\n",
        "plt.axhline(recta(7), color='brown', linestyle='dashed', linewidth=2, label=f'Y^: {recta(7):.1f}')\n",
        "plt.legend()\n",
        "\n",
        "plt.show()"
      ]
    },
    {
      "cell_type": "code",
      "execution_count": 25,
      "metadata": {
        "colab": {
          "base_uri": "https://localhost:8080/"
        },
        "id": "8YM2k9zbyynj",
        "outputId": "4625aad6-ac8f-4250-acd2-c1948dd19975"
      },
      "outputs": [
        {
          "name": "stdout",
          "output_type": "stream",
          "text": [
            "Ventas estimadas por el modelo: 8.079217638691322\n"
          ]
        }
      ],
      "source": [
        "print(f'Ventas estimadas por el modelo: {recta(7)}')"
      ]
    },
    {
      "attachments": {},
      "cell_type": "markdown",
      "metadata": {
        "id": "w607e4eUdGhf"
      },
      "source": [
        "El modelo estima *Ventas* por **8.07 Millones de Euros** para una *Inversion* de **7 Millones de Euros**."
      ]
    },
    {
      "attachments": {},
      "cell_type": "markdown",
      "metadata": {
        "id": "Hqaxa58LcjZH"
      },
      "source": [
        "Veamos si nuestro dataset tiene algún el dato real correspondiente a dicha relación *Inversion/Ventas*"
      ]
    },
    {
      "cell_type": "code",
      "execution_count": 26,
      "metadata": {
        "colab": {
          "base_uri": "https://localhost:8080/",
          "height": 81
        },
        "id": "UgSga97oci9O",
        "outputId": "981fc990-3f61-440a-c5eb-71786b36940e"
      },
      "outputs": [
        {
          "data": {
            "text/html": [
              "<div>\n",
              "<style scoped>\n",
              "    .dataframe tbody tr th:only-of-type {\n",
              "        vertical-align: middle;\n",
              "    }\n",
              "\n",
              "    .dataframe tbody tr th {\n",
              "        vertical-align: top;\n",
              "    }\n",
              "\n",
              "    .dataframe thead th {\n",
              "        text-align: right;\n",
              "    }\n",
              "</style>\n",
              "<table border=\"1\" class=\"dataframe\">\n",
              "  <thead>\n",
              "    <tr style=\"text-align: right;\">\n",
              "      <th></th>\n",
              "      <th>Fecha_anual</th>\n",
              "      <th>Inversion</th>\n",
              "      <th>Ventas</th>\n",
              "    </tr>\n",
              "  </thead>\n",
              "  <tbody>\n",
              "    <tr>\n",
              "      <th>12</th>\n",
              "      <td>1992</td>\n",
              "      <td>7.0</td>\n",
              "      <td>8.22</td>\n",
              "    </tr>\n",
              "  </tbody>\n",
              "</table>\n",
              "</div>"
            ],
            "text/plain": [
              "    Fecha_anual  Inversion  Ventas\n",
              "12         1992        7.0    8.22"
            ]
          },
          "execution_count": 26,
          "metadata": {},
          "output_type": "execute_result"
        }
      ],
      "source": [
        "df_aux[df_aux['Inversion'] == 7]"
      ]
    },
    {
      "attachments": {},
      "cell_type": "markdown",
      "metadata": {
        "id": "tFagxk0pzAvQ"
      },
      "source": [
        "Podemos ver que para la observación de 1992 el valor de *Inversion* fué de **7 Millones de Euros**, y que estos representaron *Ventas* por **8.22 Millones de Euros**."
      ]
    },
    {
      "attachments": {},
      "cell_type": "markdown",
      "metadata": {
        "id": "9lSMAwwtrwC3"
      },
      "source": [
        "obtenemos un error de\n",
        "$$\n",
        "  \\begin{align*}\n",
        "  \\varepsilon_{i} &= y_{i} - \\widehat{y}_{i}\\\\\n",
        "  \\varepsilon_{i} &= 8.22 - 8.07\\\\\n",
        "  \\varepsilon_{i} &= 0.15\n",
        "  \\end{align*}\n",
        "$$"
      ]
    },
    {
      "attachments": {},
      "cell_type": "markdown",
      "metadata": {
        "id": "WZP2tLqxteQb"
      },
      "source": [
        "Para la predicción de cuanto se generaría en *Ventas* si la *Inversion* correspondiente es de **7 Millones de Euros**, tenemos un error de 0.15 Millones de Euros, respecto del valor real tomado en el año 1992.\n",
        "\n",
        "Respecto de la media de Ventas tenemos:\n",
        "\n",
        "$$\n",
        "\\frac{\\varepsilon_{x=7}}{\\bar{y}} = \\frac{0.15}{10.49} = 0.014\n",
        "$$\n",
        "\n",
        "El error en el punto representa un 1.4% del valor de la media de la variable.\n",
        "\n",
        "Un punto aislado no nos da la visión general, ampliemos el análisis y busquemos la bondad de nuestro ajuste."
      ]
    },
    {
      "attachments": {},
      "cell_type": "markdown",
      "metadata": {
        "id": "li42aT22xTnz"
      },
      "source": [
        "### Apartado 3"
      ]
    },
    {
      "attachments": {},
      "cell_type": "markdown",
      "metadata": {
        "id": "1ThcjHyh0IgD"
      },
      "source": [
        "#### Bondad del modelo"
      ]
    },
    {
      "attachments": {},
      "cell_type": "markdown",
      "metadata": {
        "id": "EIeZWxyoLLjO"
      },
      "source": [
        "##### Suma de los Cuadrados de los Errores"
      ]
    },
    {
      "attachments": {},
      "cell_type": "markdown",
      "metadata": {
        "id": "OwAga7EP-RPV"
      },
      "source": [
        "Uno de las medidas de bondad del modelo es la Suma de los Cuadrados de los Errores (SCE), el cual expresa la diferencia entre los valores reales y los predichos por el modelo.\n",
        "\n",
        "Su expresión matemática es:\n",
        "$$\n",
        "  \\begin{align*}\n",
        "  SCE = \\sum_{i=1}^n\\varepsilon_{i}^2 &= \\sum_{i=1}^n(y_{i} - \\widehat{y}_{i})^2\\\\\n",
        "  \\end{align*}\n",
        "$$"
      ]
    },
    {
      "cell_type": "code",
      "execution_count": 27,
      "metadata": {
        "colab": {
          "base_uri": "https://localhost:8080/"
        },
        "id": "FZ1HTS99LQlq",
        "outputId": "c98ef82a-3a4d-49f8-a513-5a46cff74f69"
      },
      "outputs": [
        {
          "name": "stdout",
          "output_type": "stream",
          "text": [
            "SCE: 58.927288456067416\n"
          ]
        }
      ],
      "source": [
        "# calculamos sce\n",
        "sce = np.sum((df_aux['Ventas'] - recta(df_aux['Inversion']))**2)\n",
        "\n",
        "print(f'SCE: {sce}')"
      ]
    },
    {
      "attachments": {},
      "cell_type": "markdown",
      "metadata": {
        "id": "nXlQRaVuPlTt"
      },
      "source": [
        "Obtenemos un SCE de $58.92$, cuya una unidad representa \"Millones de Euros elevado al cuadrado\". Esta medida nos da noción del error total que tiene nuestro modelo."
      ]
    },
    {
      "attachments": {},
      "cell_type": "markdown",
      "metadata": {
        "id": "szI3YjjIL_Aa"
      },
      "source": [
        "Es importante destacar que este estadistico no tiene las mismas unidades que nuestra variable original. Lo que hace poco intuitivo su análisis, veamos la Raiz del Error Cuadratico Medio, para volver sobre las unidades de análisis original.\n",
        "\n",
        "$$\n",
        "RMSE = \\sqrt{MSE}\n",
        "$$\n",
        "\n",
        "donde $MSC$ es el Error Cuadratico Medio, y se define como\n",
        "\n",
        "$$\n",
        "  \\begin{align*}\n",
        "  MSE = \\frac{1} {n}\\sum_{i=1}^n\\varepsilon_{i}^2 &= \\frac{1} {n}\\sum_{i=1}^n(y_{i} - \\widehat{y}_{i})^2\\\\\n",
        "  \\end{align*}\n",
        "$$\n",
        "\n",
        "Esta medida tambíen estará expresada en \"Millones de Euros elevado al cuadrado\" pero nos dara una vision ponderada, haciendo la medida independiente del número de observaciones. Además nos servirá par calcular $RMSE$."
      ]
    },
    {
      "cell_type": "code",
      "execution_count": 28,
      "metadata": {
        "colab": {
          "base_uri": "https://localhost:8080/"
        },
        "id": "7BpXaIwpPMi1",
        "outputId": "2ee4521a-5740-4542-c055-30ead7abb08a"
      },
      "outputs": [
        {
          "name": "stdout",
          "output_type": "stream",
          "text": [
            "MSE: 1.550718117264932\n"
          ]
        }
      ],
      "source": [
        "from sklearn.metrics import r2_score, mean_squared_error\n",
        "\n",
        "# calculamos mse\n",
        "mse = mean_squared_error(df_aux['Ventas'], recta(df_aux['Inversion']))\n",
        "\n",
        "print(f'MSE: {mse}')"
      ]
    },
    {
      "attachments": {},
      "cell_type": "markdown",
      "metadata": {
        "id": "OyGdrLJrSUJF"
      },
      "source": [
        "Obtenemos un MSE de 1.55, el cual nos da una perspectiva normalizada del error total, esta medida facilita la comparación con otros modelos de diferentes tamaños.\n",
        "\n",
        "Nos queda obtener la Raiz del Error Cuadratico Medio (RMSE)"
      ]
    },
    {
      "cell_type": "code",
      "execution_count": 29,
      "metadata": {
        "colab": {
          "base_uri": "https://localhost:8080/"
        },
        "id": "Lm2STg3USlfs",
        "outputId": "d1b4a991-8593-454a-d561-349d24816d9e"
      },
      "outputs": [
        {
          "name": "stdout",
          "output_type": "stream",
          "text": [
            "RMSE: 1.2452783292360516\n"
          ]
        }
      ],
      "source": [
        "# calculamos rmse\n",
        "rmse = np.sqrt(mse)\n",
        "\n",
        "print(f'RMSE: {rmse}')"
      ]
    },
    {
      "attachments": {},
      "cell_type": "markdown",
      "metadata": {
        "id": "oM03vhN8Srug"
      },
      "source": [
        "Nos da un RMSE de **1.24 Millones de Euros**. Medida que se encuentra en la misma unidad que nuestra variable y permite comparar magnitudes.\n",
        "\n",
        "Comparado con la media por ejemplo obtenemos\n",
        "\n",
        "$$\n",
        "\\frac{RMSE} {\\bar{y}} = \\frac{1.24} {10.49}\n",
        " = 0.11\n",
        " $$\n",
        "\n",
        " RMSE representa el 11% del valor de la media de la variable *Ventas*.\n",
        "\n",
        " Obtengamos otro estadístico para facilitar la interpretación de la bondad del ajuste realizado."
      ]
    },
    {
      "attachments": {},
      "cell_type": "markdown",
      "metadata": {
        "id": "rjQYs67M8g8F"
      },
      "source": [
        "##### Coeficiente de Determinación"
      ]
    },
    {
      "attachments": {},
      "cell_type": "markdown",
      "metadata": {
        "id": "NOPhSkO62rde"
      },
      "source": [
        "Este coeficiente representa la calidad del modelo para replicar los resultados.\n",
        "\n",
        "Su símbolo es $R^2$. Y la expresión matemática es la siguiente:\n",
        "\n",
        "$$\n",
        "   R^2 = \\frac{\\sum_{i=1}^n (\\widehat{y} - \\bar{y})^2 }{\\sum_{i=1}^n ( y_{i} - \\bar{y})^2}\n",
        "$$\n",
        "\n",
        "\n",
        "Este coeficiente determina el grado de relación lineal entre dos variables, y toma valores entre 0 y 1. Esto se traduce en que cumple la siguiente regla:\n",
        "\n",
        "$$\n",
        "  0 \\leq R^2 \\leq 1  \n",
        "$$\n"
      ]
    },
    {
      "cell_type": "code",
      "execution_count": 30,
      "metadata": {
        "colab": {
          "base_uri": "https://localhost:8080/"
        },
        "id": "hv1-y8721uWz",
        "outputId": "ff32a4c3-4d30-4e5d-f0d3-7033c6d22f4c"
      },
      "outputs": [
        {
          "name": "stdout",
          "output_type": "stream",
          "text": [
            "R^2: 0.9144759177150086\n"
          ]
        }
      ],
      "source": [
        "# obtenemos r^2\n",
        "r2 = r2_score(df_aux['Ventas'], recta(df_aux['Inversion']))\n",
        "\n",
        "print(f'R^2: {r2}')"
      ]
    },
    {
      "attachments": {},
      "cell_type": "markdown",
      "metadata": {
        "id": "WomCz4Fo_qGY"
      },
      "source": [
        "Obtenemos un $R^2$ igual a **0.91**. Recordemos que un valor $\\approx1$ indica un buen ajuste."
      ]
    },
    {
      "attachments": {},
      "cell_type": "markdown",
      "metadata": {
        "id": "0ljJZ6ChQZiK"
      },
      "source": [
        "### Análisis final"
      ]
    },
    {
      "attachments": {},
      "cell_type": "markdown",
      "metadata": {
        "id": "jX197N6_XfSE"
      },
      "source": [
        "De lo desarrollado en el apartado, obtenemos un RMSE que representa un 11% del valor medio de la variable Ventas. Esto indica que el modelo tiene errores de predicción que son, en promedio, alrededor del 11% del valor medio de lo vendido en el año.\n",
        "\n",
        "Además pudimos calcular un $R^2$ igual 0.91. Podemos decir que tenemos un modelo predictivo con un buen ajuste, donde el 91% de la varianza total de la variable dependiente es explicada por el modelo de regresión."
      ]
    },
    {
      "attachments": {},
      "cell_type": "markdown",
      "metadata": {
        "id": "DM7DbDl4kRbI"
      },
      "source": [
        "\n",
        "En este trabajo que utilizaron datos que una empresa nos ha facilitado, los registros van desde el año 1980 hasta 2017. El dataset cuenta con tres columnas *Fecha_anual*, *Ventas* e *Inversion*. Tiene un total 38 registros, una observación por año entre 1980 y 2017. La unidad está en millones de euros.\n",
        "\n",
        "Del análisis visual en el gráfico de distribución conjunta, podemos observar que es factible ajustar la función que define la relación en tre *Ventas* e *Inversiones* con una recta lineal. Obtenemos una Covarianza de 22.92, la cual indica una relación directa entre las variables, es decir, cuando una de las variables crezca, lo mismo hará la otra. Mientras que obtuvimos un coeficiente de correlación lineal de Pearson de 0.95, el cual implica que existe una relación lineal fuerte entre las variables.\n",
        "\n",
        "Al calcular los parámetros de la recta obtuvimos β0 igual 2.88 Millones de Euros, recordemos es el valor esperado de Ventas para una Inversion igual a 0 y representa la ordenada al origen de la recta. Además obtuvimos β1 igual a 0.74, su valor positivo refleja la relación directa entre las variables, ambas crecen o decrecen de manera conjunta.\n",
        "\n",
        "Asimismo, en el análiis de bondad de nuestra regresión, calculamos un SCE de 58.92 expresado en \"Millones de Euros al cuadrado\", un MSE de 1.55 expresado en la misma unidad que SCE. y un RMSE de 1.24 Millones de Euros. Al comprar la Raiz del Error Cuadratico Medio con la média de la variable obtenemos proporción del 11% entre los valores. Es decir, de media tenemos un error del 11% del valor medio de lo vendido durante el año. Además calculamos un  $𝑅^2$ igual 0.91, lo que implica que el 91% de la varianza total de la variable dependiente es explicada por el modelo de regresión.\n",
        "\n",
        "En conclusión, el análisis de los datos proporcionados por la empresa ha permitido identificar una relación significativa entre las inversiones y las ventas anuales, destacando la utilidad del modelo de regresión lineal para este conjunto de datos. Los resultados obtenidos muestran una fuerte correlación y una adecuada bondad de ajuste, con un coeficiente de correlación de Pearson de 0.95 y un coeficiente de determinación $R^2$ de 0.91. Estos indicadores sugieren que el 91% de la variabilidad en las ventas puede ser explicada por el nivel de inversión. Además, el RMSE del modelo, que es de 1.24 millones de euros, representa aproximadamente un 11% del valor medio de las ventas anuales, lo cual es un margen de error relativamente pequeño."
      ]
    }
  ],
  "metadata": {
    "colab": {
      "provenance": []
    },
    "kernelspec": {
      "display_name": "M2AG1n",
      "language": "python",
      "name": "m2ag1"
    },
    "language_info": {
      "codemirror_mode": {
        "name": "ipython",
        "version": 3
      },
      "file_extension": ".py",
      "mimetype": "text/x-python",
      "name": "python",
      "nbconvert_exporter": "python",
      "pygments_lexer": "ipython3",
      "version": "3.12.1"
    }
  },
  "nbformat": 4,
  "nbformat_minor": 0
}
