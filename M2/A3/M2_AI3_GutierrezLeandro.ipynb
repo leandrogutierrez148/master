{
 "cells": [
  {
   "cell_type": "code",
   "execution_count": 42,
   "metadata": {},
   "outputs": [
    {
     "name": "stdout",
     "output_type": "stream",
     "text": [
      "Error al leer el archivo Excel desde la URL: File is not a zip file\n"
     ]
    }
   ],
   "source": [
    "import pandas as pd\n",
    "\n",
    "url = 'https://campus.il3.ub.edu/pluginfile.php/444355/mod_assign/intro/datos_obesidad.xlsx'\n",
    "\n",
    "\n",
    "try:\n",
    "    # Leer el archivo Excel desde la URL\n",
    "    df = pd.read_excel(url, engine='openpyxl')\n",
    "    \n",
    "    # Ahora puedes trabajar con el DataFrame df\n",
    "    print(df.head())  # Imprime las primeras filas del DataFrame\n",
    "    \n",
    "except Exception as e:\n",
    "    print(f\"Error al leer el archivo Excel desde la URL: {e}\")"
   ]
  }
 ],
 "metadata": {
  "kernelspec": {
   "display_name": "Kernel 1",
   "language": "python",
   "name": "kernel-1"
  },
  "language_info": {
   "codemirror_mode": {
    "name": "ipython",
    "version": 3
   },
   "file_extension": ".py",
   "mimetype": "text/x-python",
   "name": "python",
   "nbconvert_exporter": "python",
   "pygments_lexer": "ipython3",
   "version": "3.12.1"
  },
  "orig_nbformat": 4
 },
 "nbformat": 4,
 "nbformat_minor": 2
}
