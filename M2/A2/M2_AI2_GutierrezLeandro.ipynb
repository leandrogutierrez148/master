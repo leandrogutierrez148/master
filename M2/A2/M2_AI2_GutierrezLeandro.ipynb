{
 "cells": [
  {
   "attachments": {},
   "cell_type": "markdown",
   "metadata": {},
   "source": [
    "# M2_AI2: Gestión de facturas\n",
    "#### Autor: Leandro Gutierrez\n",
    "#### Este documento intenta dar respuesta a la actividad 2 propuesta en el Modulo **Fundamentos de Estadística** del **Master en Big Data y Ciencia de Datos**. En él se describirán cada uno de los enunciados postulados y los resultados obtenidos a través del uso de Python y Google Colab.\n",
    "#### Junio 12, 2024"
   ]
  },
  {
   "attachments": {},
   "cell_type": "markdown",
   "metadata": {},
   "source": [
    "## Enunciado\n",
    "El objetivo de esta actividad consiste en identificar y analizar el total pagado de un dataset de facturas que tiene una compañía. La moneda está en euros.\n",
    "\n",
    "IMPORTANTE: LA OBTENCIÓN DE LOS RESULTADOS (el dato numérico y el código) SIN LOS COMENTARIOS Y LA JUSTIFICACIÓN ANALÍTICA. NO PUNTÚA NOTA\n",
    "\n",
    "Con el dataset de la gestión de facturas, debes analizar la variable “total pagado” para poder responder a las siguientes preguntas:\n",
    "\n",
    "- Parte1: Unidimensional (50%)\n",
    "1. Hallar las medidas de centralización: media, mediana y moda. Analiza los resultados obtenidos.  \n",
    "2. Las medidas de dispersión: rango, varianza, desviación típica y coeficiente de variación. Analiza los resultados obtenidos. \n",
    "3. Las medidas de posición: rango intercuartílico, cuartil primero y percentil 90. Analiza los resultados obtenidos. \n",
    "4. Las medidas de concentración y forma: curtosis, asimetría y el gráfico asociado. Analiza los resultados obtenidos. \n",
    "5. Realiza un análisis de todos los datos obtenidos en los apartados anteriores y añade un gráfico de box-plot explicando los resultados.\n",
    "\n",
    "- Parte2: Análisis de la información de la empresa y su situación  (20%)\n",
    "1. ANALIZA los resultados e informa de quién es el cliente que ha pagado MÁS en todas las facturas.\n",
    "2. ANALIZA los resultados e informa de quién es el cliente que ha pagado MENOS facturas en el mes de febrero.\n",
    "3. Añadir un gráfico de box-plot de los clientes. Conclusiones y recomendaciones después de todo el análisis realizado.\n",
    "\n",
    "\n",
    "- Parte3: Análisis Bidimensional (15%)\n",
    "1. Crea un gráfico de dispersión que represente el total pagado de las facturas respecto del IVA aplicado. Explica el resultado obtenido.\n",
    "2. Determina el valor de la covarianza de ambas variables. Analiza el dato resultante obtenido.\n",
    "3. ¿Se podría hacer un modelo predictivo? ¿porque?\n",
    "\n",
    "\n",
    "- Parte 4: Análisis Global. (15%)\n",
    "1. ANALIZA toda la información obtenida. ¿Cuál sería la recomendación que darías para la toma de decisión en la compañía?"
   ]
  },
  {
   "attachments": {},
   "cell_type": "markdown",
   "metadata": {},
   "source": [
    "## Solución"
   ]
  },
  {
   "attachments": {},
   "cell_type": "markdown",
   "metadata": {},
   "source": [
    "### Diccionario de datos"
   ]
  },
  {
   "attachments": {},
   "cell_type": "markdown",
   "metadata": {},
   "source": [
    "<table>\n",
    "<tbody>\n",
    "<tr><th><b>Variable</b></th><th><b>Definition</b></th><th><b>Key</b></th></tr>\n",
    "<tr>\n",
    "    <td>id</td>\n",
    "    <td>Identificador correlativo y secuencial del número de registros de facturas.</td>\n",
    "    <td></td>\n",
    "</tr>\n",
    "<tr>\n",
    "    <td>fecha</td>\n",
    "    <td>Fecha en la que se generó la factura.</td>\n",
    "    <td></td>\n",
    "</tr>\n",
    "<tr>\n",
    "    <td>mes</td>\n",
    "    <td>Mes en la que se generó la factura</td>\n",
    "    <td></td>\n",
    "</tr>\n",
    "<tr>\n",
    "    <td>cliente</td>\n",
    "    <td>Tipo de cliente, clasificado de la A a la D</td>\n",
    "    <td>ClienteA - ClienteB - ClienteC - ClienteD</td>\n",
    "</tr>\n",
    "<tr>\n",
    "    <td>factura_pagada</td>\n",
    "    <td>Descriptivo de si está pagada o no, en la fecha de generación.</td>\n",
    "    <td>si - no</td>\n",
    "</tr>\n",
    "<tr>\n",
    "    <td>importe_factura</td>\n",
    "    <td>Importe neto sin el IVA.</td>\n",
    "    <td></td>\n",
    "</tr>\n",
    "<tr>\n",
    "    <td>tio_IVA</td>\n",
    "    <td>Es el tipo de impuesto aplicado (descriptivo).</td>\n",
    "    <td>normal - reducido</td>\n",
    "</tr>\n",
    "<tr>\n",
    "    <td>porcentaje_IVA</td>\n",
    "    <td>Es el porcentaje aplicado.</td>\n",
    "    <td></td>\n",
    "</tr>\n",
    "<tr>\n",
    "    <td>IVA</td>\n",
    "    <td>Es el valor numérico del porcentaje correspondiente a la factura.</td>\n",
    "    <td></td>\n",
    "</tr>\n",
    "<tr>\n",
    "    <td>total_pagado</td>\n",
    "    <td>es el importe bruto de la factura (el neto más el importe IVA).</td>\n",
    "    <td></td>\n",
    "</tr>\n",
    "</tbody>\n",
    "</table>\n"
   ]
  },
  {
   "attachments": {},
   "cell_type": "markdown",
   "metadata": {},
   "source": [
    "### Carga del dataset"
   ]
  },
  {
   "cell_type": "code",
   "execution_count": 1,
   "metadata": {},
   "outputs": [
    {
     "data": {
      "text/html": [
       "<div>\n",
       "<style scoped>\n",
       "    .dataframe tbody tr th:only-of-type {\n",
       "        vertical-align: middle;\n",
       "    }\n",
       "\n",
       "    .dataframe tbody tr th {\n",
       "        vertical-align: top;\n",
       "    }\n",
       "\n",
       "    .dataframe thead th {\n",
       "        text-align: right;\n",
       "    }\n",
       "</style>\n",
       "<table border=\"1\" class=\"dataframe\">\n",
       "  <thead>\n",
       "    <tr style=\"text-align: right;\">\n",
       "      <th></th>\n",
       "      <th>id</th>\n",
       "      <th>fecha</th>\n",
       "      <th>mes</th>\n",
       "      <th>cliente</th>\n",
       "      <th>factura_pagada</th>\n",
       "      <th>importe_factura</th>\n",
       "      <th>tipo_IVA</th>\n",
       "      <th>porcentaje_IVA</th>\n",
       "      <th>IVA</th>\n",
       "      <th>total_pagado</th>\n",
       "    </tr>\n",
       "  </thead>\n",
       "  <tbody>\n",
       "    <tr>\n",
       "      <th>0</th>\n",
       "      <td>1</td>\n",
       "      <td>01/01/2010</td>\n",
       "      <td>Enero</td>\n",
       "      <td>clienteA</td>\n",
       "      <td>si</td>\n",
       "      <td>100</td>\n",
       "      <td>normal</td>\n",
       "      <td>18</td>\n",
       "      <td>18.0</td>\n",
       "      <td>118.0</td>\n",
       "    </tr>\n",
       "    <tr>\n",
       "      <th>1</th>\n",
       "      <td>2</td>\n",
       "      <td>02/01/2010</td>\n",
       "      <td>Enero</td>\n",
       "      <td>clienteB</td>\n",
       "      <td>no</td>\n",
       "      <td>150</td>\n",
       "      <td>normal</td>\n",
       "      <td>18</td>\n",
       "      <td>27.0</td>\n",
       "      <td>177.0</td>\n",
       "    </tr>\n",
       "    <tr>\n",
       "      <th>2</th>\n",
       "      <td>3</td>\n",
       "      <td>03/01/2010</td>\n",
       "      <td>Enero</td>\n",
       "      <td>clienteC</td>\n",
       "      <td>si</td>\n",
       "      <td>75</td>\n",
       "      <td>normal</td>\n",
       "      <td>18</td>\n",
       "      <td>13.5</td>\n",
       "      <td>88.5</td>\n",
       "    </tr>\n",
       "    <tr>\n",
       "      <th>3</th>\n",
       "      <td>4</td>\n",
       "      <td>04/01/2010</td>\n",
       "      <td>Enero</td>\n",
       "      <td>clienteD</td>\n",
       "      <td>si</td>\n",
       "      <td>200</td>\n",
       "      <td>normal</td>\n",
       "      <td>18</td>\n",
       "      <td>36.0</td>\n",
       "      <td>236.0</td>\n",
       "    </tr>\n",
       "    <tr>\n",
       "      <th>4</th>\n",
       "      <td>5</td>\n",
       "      <td>05/01/2010</td>\n",
       "      <td>Enero</td>\n",
       "      <td>clienteA</td>\n",
       "      <td>no</td>\n",
       "      <td>125</td>\n",
       "      <td>normal</td>\n",
       "      <td>18</td>\n",
       "      <td>22.5</td>\n",
       "      <td>147.5</td>\n",
       "    </tr>\n",
       "  </tbody>\n",
       "</table>\n",
       "</div>"
      ],
      "text/plain": [
       "   id       fecha    mes   cliente factura_pagada  importe_factura tipo_IVA  \\\n",
       "0   1  01/01/2010  Enero  clienteA             si              100   normal   \n",
       "1   2  02/01/2010  Enero  clienteB             no              150   normal   \n",
       "2   3  03/01/2010  Enero  clienteC             si               75   normal   \n",
       "3   4  04/01/2010  Enero  clienteD             si              200   normal   \n",
       "4   5  05/01/2010  Enero  clienteA             no              125   normal   \n",
       "\n",
       "   porcentaje_IVA   IVA  total_pagado  \n",
       "0              18  18.0         118.0  \n",
       "1              18  27.0         177.0  \n",
       "2              18  13.5          88.5  \n",
       "3              18  36.0         236.0  \n",
       "4              18  22.5         147.5  "
      ]
     },
     "execution_count": 1,
     "metadata": {},
     "output_type": "execute_result"
    }
   ],
   "source": [
    "# importando librerias\n",
    "import pandas as pd\n",
    "import numpy as np\n",
    "import matplotlib.pyplot as plt\n",
    "import seaborn as sns\n",
    "\n",
    "# definición de la url de los datos\n",
    "url = 'https://github.com/md-lorente/data/blob/master/datos_facturas.csv?raw=true'\n",
    "\n",
    "# creacion Dataframe\n",
    "df_org = pd.read_csv(url, sep=';', decimal=',')\n",
    "\n",
    "# visualización del dataframe (la cabecera)\n",
    "df_org.head()\n"
   ]
  },
  {
   "attachments": {},
   "cell_type": "markdown",
   "metadata": {},
   "source": [
    "### Análisis del dataset"
   ]
  },
  {
   "attachments": {},
   "cell_type": "markdown",
   "metadata": {},
   "source": [
    "Navegaremos en el dataset para ver su estructura, esquema, completitud y los conjuntos de valores de las variables."
   ]
  },
  {
   "attachments": {},
   "cell_type": "markdown",
   "metadata": {},
   "source": [
    "#### Forma y esquema"
   ]
  },
  {
   "cell_type": "code",
   "execution_count": 2,
   "metadata": {},
   "outputs": [
    {
     "name": "stdout",
     "output_type": "stream",
     "text": [
      "<class 'pandas.core.frame.DataFrame'>\n",
      "RangeIndex: 45 entries, 0 to 44\n",
      "Data columns (total 10 columns):\n",
      " #   Column           Non-Null Count  Dtype  \n",
      "---  ------           --------------  -----  \n",
      " 0   id               45 non-null     int64  \n",
      " 1   fecha            45 non-null     object \n",
      " 2   mes              45 non-null     object \n",
      " 3   cliente          45 non-null     object \n",
      " 4   factura_pagada   45 non-null     object \n",
      " 5   importe_factura  45 non-null     int64  \n",
      " 6   tipo_IVA         45 non-null     object \n",
      " 7   porcentaje_IVA   45 non-null     int64  \n",
      " 8   IVA              45 non-null     float64\n",
      " 9   total_pagado     45 non-null     float64\n",
      "dtypes: float64(2), int64(3), object(5)\n",
      "memory usage: 3.6+ KB\n",
      "None\n"
     ]
    }
   ],
   "source": [
    "# copiamos dataframe para no alterar original\n",
    "df_aux = df_org.copy()\n",
    "\n",
    "# resumen información del dataset\n",
    "print(df_aux.info())"
   ]
  },
  {
   "cell_type": "code",
   "execution_count": 3,
   "metadata": {},
   "outputs": [
    {
     "data": {
      "text/plain": [
       "(45, 10)"
      ]
     },
     "execution_count": 3,
     "metadata": {},
     "output_type": "execute_result"
    }
   ],
   "source": [
    "# controlamos forma del dataset\n",
    "df_aux.shape"
   ]
  },
  {
   "attachments": {},
   "cell_type": "markdown",
   "metadata": {},
   "source": [
    "Contamos con 45 observaciones y 10 variables."
   ]
  },
  {
   "attachments": {},
   "cell_type": "markdown",
   "metadata": {},
   "source": [
    "#### Completitud"
   ]
  },
  {
   "cell_type": "code",
   "execution_count": 7,
   "metadata": {},
   "outputs": [
    {
     "data": {
      "text/plain": [
       "id                 0\n",
       "fecha              0\n",
       "mes                0\n",
       "cliente            0\n",
       "factura_pagada     0\n",
       "importe_factura    0\n",
       "tipo_IVA           0\n",
       "porcentaje_IVA     0\n",
       "IVA                0\n",
       "total_pagado       0\n",
       "dtype: int64"
      ]
     },
     "execution_count": 7,
     "metadata": {},
     "output_type": "execute_result"
    }
   ],
   "source": [
    "# controlamos valores nulos en los datos\n",
    "df_aux.isna().sum(axis=0)"
   ]
  },
  {
   "attachments": {},
   "cell_type": "markdown",
   "metadata": {},
   "source": [
    "No se registran valores nulos en el dataset."
   ]
  },
  {
   "attachments": {},
   "cell_type": "markdown",
   "metadata": {},
   "source": [
    "#### Conjunto de valores"
   ]
  },
  {
   "cell_type": "code",
   "execution_count": 9,
   "metadata": {},
   "outputs": [
    {
     "name": "stdout",
     "output_type": "stream",
     "text": [
      "count                     45\n",
      "mean     2010-01-23 00:00:00\n",
      "min      2010-01-01 00:00:00\n",
      "25%      2010-01-12 00:00:00\n",
      "50%      2010-01-23 00:00:00\n",
      "75%      2010-02-03 00:00:00\n",
      "max      2010-02-14 00:00:00\n",
      "Name: fecha, dtype: object\n",
      "mes\n",
      "Enero      31\n",
      "Febrero    14\n",
      "Name: count, dtype: int64\n",
      "cliente\n",
      "clienteA    14\n",
      "clienteB    11\n",
      "clienteD    11\n",
      "clienteC     9\n",
      "Name: count, dtype: int64\n",
      "factura_pagada\n",
      "si    31\n",
      "no    14\n",
      "Name: count, dtype: int64\n",
      "importe_factura\n",
      "100    12\n",
      "200     8\n",
      "150     6\n",
      "75      6\n",
      "125     6\n",
      "175     4\n",
      "50      1\n",
      "25      1\n",
      "30      1\n",
      "Name: count, dtype: int64\n",
      "tipo_IVA\n",
      "normal      36\n",
      "reducido     9\n",
      "Name: count, dtype: int64\n",
      "porcentaje_IVA\n",
      "18    36\n",
      "8      9\n",
      "Name: count, dtype: int64\n",
      "count    45.000000\n",
      "mean     20.531111\n",
      "std      10.026461\n",
      "min       2.400000\n",
      "25%      13.500000\n",
      "50%      18.000000\n",
      "75%      27.000000\n",
      "max      36.000000\n",
      "Name: IVA, dtype: float64\n"
     ]
    }
   ],
   "source": [
    "# controlamos valores posibles de las variables\n",
    "\n",
    "# descomentar si se quisiera apreciar las variables 'fecha' e 'id' \n",
    "# print(df_aux['id'].sort_index)\n",
    "fechas = pd.to_datetime(df_aux['fecha'], format='%d/%m/%Y' )\n",
    "print(fechas.describe())\n",
    "\n",
    "print(df_aux['mes'].value_counts())\n",
    "print(df_aux['cliente'].value_counts())\n",
    "print(df_aux['factura_pagada'].value_counts())\n",
    "print(df_aux['importe_factura'].value_counts())\n",
    "print(df_aux['tipo_IVA'].value_counts())\n",
    "print(df_aux['porcentaje_IVA'].value_counts())\n",
    "print(df_aux['IVA'].describe())"
   ]
  },
  {
   "attachments": {},
   "cell_type": "markdown",
   "metadata": {},
   "source": [
    "#### Análisis de los tipos de variables"
   ]
  },
  {
   "attachments": {},
   "cell_type": "markdown",
   "metadata": {},
   "source": [
    "\n",
    "1. id: Id secuencial identificador de la factura. Es una variable numerica consecutiva y entera. Es una variable cualitativa ordinal.\n",
    "2. fecha: Fecha en la que se generó la factura. Formato DD/MM/AAAA. Valores que van del 14/01/2010 al 14/02/2010. Lo utilizaremos para agrupar los datos. Es una variable cualitativa ordinal.\n",
    "3. mes: Mes en el que se realizó la compra. Variable tipo texto. Sin el año, conocer el mes puede generar errores o resultados inesperados. Puede ser inferido con la variable *fecha*. Tendrá repeticiones anuales. Variable cualitativa ordinal.\n",
    "4. cliente: Tipo de cliente. Variable categórica que nos sirve para agrupar. A pesar de que el set de datos muestra valores secuenciales, vamos a considerar que es una variable clasificatoria nominal y que los datos con los que se cuentan representan una segmento pequeño del total de información.\n",
    "5. factura_pagada: Indica si la factura está pagada o no. Es una variable binaria asimetrica ya que uno de sus valores indica ausencia y el otro presencia.\n",
    "6. importe_factura: Importe neto de la factura sin IVA. Variable numerica continua. En el dataset solo encontramos valores enteros, sin embargo vamos a considerar solo contamos con una fracción total de los datos y que la variable puede contener decimales. Variable numerica que utilizaremos para operar. Por lo que será considerada cuantitativa continua.\n",
    "7. tipo_IVA: indica los posible valores de IVA aplicado. En España, donde éste trabajo tiene su desarrollo, existen actualmente multiples tipos de IVA. Hacienda comparte un [pdf](https://sede.agenciatributaria.gob.es/static_files/Sede/Tema/IVA/IVA_repercTipos_IVA_2024.pdf) donde indica la existencia de: Tipo general con una alicuota del 21%, Tipo reducidos con alícuotas que van del 5% al 21%. Tipo superreducidos con alícuotas entre 0% y 21%. Es una variable que nos permite agrupar y calificar. No posee orden específico. Es una variable cualitativa nominal.\n",
    "8. porcentaje_IVA: Indica la alícuota aplicada. Cada tipo de iva tiene sus porcentajes dependiendo del rubro/sector de la actividad. Si bien es una variable numérica y los valores que eventualmente puede tomar el iva van de 0 a 100 con todos los decimales que se requiera. En general la variabilidad de las alícuotas es bajo, actualmente en España son cinco valores: 0%, 4%, 5%, 10%, 21%. Por lo que utilizaremos esta variable para agrupar y calificar las observaciones. Es una variable cualitativa nominal.\n",
    "9. IVA: Importe correspondiente al IVA. Variable numerica que utilizaremos para operar. Es una variable cuantitativa continua.\n",
    "10. total_pagado:Importe bruto de la factura (neto mas IVA). Variable numerica que utilizaremos para operar. Es una variable cuantitativa continua.\n",
    "    "
   ]
  },
  {
   "attachments": {},
   "cell_type": "markdown",
   "metadata": {},
   "source": [
    "### Apartado 1"
   ]
  },
  {
   "attachments": {},
   "cell_type": "markdown",
   "metadata": {},
   "source": [
    "#### Analisis de la variable *total_pagado*\n",
    "Representa el importe bruto de la factura, es decir, el *importe neto* mas el *importe IVA*. Está expresada en Euros. Es una variable cuantitativa continua, por lo que podremos obtener medidas de centralización, disperción, posición, concentración y forma."
   ]
  },
  {
   "attachments": {},
   "cell_type": "markdown",
   "metadata": {},
   "source": [
    "##### Frecuencias absolutas y relativas\n",
    "Como mencionamos anteriormente contamos con un dataset reducido, por lo que ver todos los posibles valores de la variable *total_pagado* y sus frecuencias absolutas no es un inconveniente. En caso de crecer el numero de observaciones este apartado se debería resolver con análisis de frecuencias agrupadas."
   ]
  },
  {
   "cell_type": "code",
   "execution_count": 10,
   "metadata": {},
   "outputs": [
    {
     "name": "stdout",
     "output_type": "stream",
     "text": [
      "total_pagado\n",
      "29.5     1\n",
      "32.4     1\n",
      "59.0     1\n",
      "88.5     6\n",
      "108.0    4\n",
      "118.0    8\n",
      "135.0    2\n",
      "147.5    4\n",
      "177.0    6\n",
      "189.0    2\n",
      "206.5    2\n",
      "236.0    8\n",
      "Name: count, dtype: int64\n"
     ]
    }
   ],
   "source": [
    "# controlamos valores existentes\n",
    "print(df_aux['total_pagado'].value_counts().sort_index())"
   ]
  },
  {
   "attachments": {},
   "cell_type": "markdown",
   "metadata": {},
   "source": [
    "Podemos observar la distribución de la frecuencia absolunta de la variable *total_pagado*"
   ]
  },
  {
   "cell_type": "code",
   "execution_count": 11,
   "metadata": {},
   "outputs": [
    {
     "data": {
      "image/png": "[encoded data removed]",
      "text/plain": [
       "<Figure size 640x480 with 1 Axes>"
      ]
     },
     "metadata": {},
     "output_type": "display_data"
    }
   ],
   "source": [
    "# creamos un histograma para la visualizar las frecuencias absolutas de la variable precio\n",
    "sns.histplot(data=df_aux['total_pagado'])  # Ajustar bins según sea necesario\n",
    "plt.title(\"Histograma de 'total_pagado'\")\n",
    "plt.xlabel('total_pagado')\n",
    "plt.ylabel('frecuencia')\n",
    "plt.show()"
   ]
  },
  {
   "attachments": {},
   "cell_type": "markdown",
   "metadata": {},
   "source": [
    "##### Medidas de centralización"
   ]
  },
  {
   "attachments": {},
   "cell_type": "markdown",
   "metadata": {},
   "source": [
    "No agruparemos los datos de la variable en tramos debido a la baja cantidad de observaciones, y para obtener los resultados con la mayor precisión posible."
   ]
  },
  {
   "cell_type": "code",
   "execution_count": 12,
   "metadata": {},
   "outputs": [
    {
     "name": "stdout",
     "output_type": "stream",
     "text": [
      "147.30888888888887\n"
     ]
    }
   ],
   "source": [
    "# encontramos media \n",
    "media = df_aux['total_pagado'].mean()\n",
    "print(media)"
   ]
  },
  {
   "cell_type": "code",
   "execution_count": 13,
   "metadata": {},
   "outputs": [
    {
     "name": "stdout",
     "output_type": "stream",
     "text": [
      "135.0\n"
     ]
    }
   ],
   "source": [
    "# encontramos mediana\n",
    "mediana = df_aux['total_pagado'].median()\n",
    "print(mediana)"
   ]
  },
  {
   "cell_type": "code",
   "execution_count": 14,
   "metadata": {},
   "outputs": [
    {
     "name": "stdout",
     "output_type": "stream",
     "text": [
      "0    118.0\n",
      "1    236.0\n",
      "Name: total_pagado, dtype: float64\n"
     ]
    }
   ],
   "source": [
    "# encontramos las modas\n",
    "modas = df_aux['total_pagado'].mode()\n",
    "print(modas)"
   ]
  },
  {
   "attachments": {},
   "cell_type": "markdown",
   "metadata": {},
   "source": [
    "Visualizamos los valores de concentración en el histograma de frecuencias anterior."
   ]
  },
  {
   "cell_type": "code",
   "execution_count": 15,
   "metadata": {},
   "outputs": [
    {
     "data": {
      "text/plain": [
       "<matplotlib.legend.Legend at 0x16e092990>"
      ]
     },
     "execution_count": 15,
     "metadata": {},
     "output_type": "execute_result"
    },
    {
     "data": {
      "image/png": "[encoded data removed]",
      "text/plain": [
       "<Figure size 640x480 with 1 Axes>"
      ]
     },
     "metadata": {},
     "output_type": "display_data"
    }
   ],
   "source": [
    "# creamos un histograma para la visualizar las frecuencias absolutas de la variable precio\n",
    "plot = sns.histplot(df_aux['total_pagado'])\n",
    "plot.set_title(\"Histograma de 'total_pagado'\")\n",
    "plot.set_xlabel('total_pagado')\n",
    "plot.set_ylabel('frecuencia')\n",
    "\n",
    "plot.axvline(media, color='brown', linestyle='dashed', linewidth=2, label=f'media: {media:.2f}')\n",
    "plot.axvline(mediana, color='orange', linestyle='dashed', linewidth=2, label=f'mediana: {mediana:.2f}')\n",
    "plot.axvline(modas[1], color='lime', linestyle='dashed', linewidth=2, label=f'moda1: {modas[0]:.2f}')\n",
    "plot.axvline(modas[0], color='lime', linestyle='dashed', linewidth=2, label=f'moda2: {modas[1]:.2f}')\n",
    "\n",
    "# añadir una leyenda\n",
    "plt.legend()"
   ]
  },
  {
   "attachments": {},
   "cell_type": "markdown",
   "metadata": {},
   "source": [
    "Podemos observar que la *media* es ligeramente mas alta que la *mediana* con valores de *147.3 euros* y *135.0 euros* respectivamente. Debido a la sensibilidad de la media respecto a valores extremos esta diferencia probablemente exprese un desbalance hacia arriba de los datos, que lleven la media a elevarse.\n",
    "\n",
    "A su vez podemos ver que tenemos dos modas: 118.0 euros y 236.0 euros, ambas con 8 ocurrencias. Esto quiere decir que son los importes pagados con mayor frecuencia. Casualmente 236.0 es un valor alejado en 101 euros de la mediana, explicando una de las razones por la que la media es más elevada que la mediana."
   ]
  },
  {
   "attachments": {},
   "cell_type": "markdown",
   "metadata": {},
   "source": [
    "##### Medidas de disperción"
   ]
  },
  {
   "cell_type": "code",
   "execution_count": 16,
   "metadata": {},
   "outputs": [
    {
     "name": "stdout",
     "output_type": "stream",
     "text": [
      "29.5\n",
      "236.0\n"
     ]
    }
   ],
   "source": [
    "# encontramos minimo y maximo\n",
    "min = df_aux['total_pagado'].min()\n",
    "max = df_aux['total_pagado'].max()\n",
    "print(min)\n",
    "print(max)"
   ]
  },
  {
   "cell_type": "code",
   "execution_count": 17,
   "metadata": {},
   "outputs": [
    {
     "name": "stdout",
     "output_type": "stream",
     "text": [
      "3356.593555555555\n"
     ]
    }
   ],
   "source": [
    "# encontramos varianza \n",
    "var = df_aux['total_pagado'].var()\n",
    "print(var)"
   ]
  },
  {
   "cell_type": "code",
   "execution_count": 18,
   "metadata": {},
   "outputs": [
    {
     "name": "stdout",
     "output_type": "stream",
     "text": [
      "57.93611615871015\n"
     ]
    }
   ],
   "source": [
    "# encontramos desviacion standard\n",
    "std = df_aux['total_pagado'].std()\n",
    "print(std)"
   ]
  },
  {
   "attachments": {},
   "cell_type": "markdown",
   "metadata": {},
   "source": [
    "Obtenemos Coeficiente de Variación de Sperman, utilizando la siguiente definición:\n",
    "$$\n",
    "\\begin{align*}\n",
    "CV = \\frac{\\sigma}{\\overline{x}}\n",
    "\\end{align*}\n",
    "$$"
   ]
  },
  {
   "cell_type": "code",
   "execution_count": 19,
   "metadata": {},
   "outputs": [
    {
     "name": "stdout",
     "output_type": "stream",
     "text": [
      "0.39329681050279186\n"
     ]
    }
   ],
   "source": [
    "# encontramos Coeficiente de Variación de Sperman\n",
    "cv = std / media\n",
    "print(cv)"
   ]
  },
  {
   "attachments": {},
   "cell_type": "markdown",
   "metadata": {},
   "source": [
    "Vemos que la variable tiene un *recorrido de 206.5 euros*, que va de 29.5 a 236.5 euros. A su vez obtenemos un valor de *varianza de 3356.59*. Para ayudar en la interpretación obtenemos el valor de *desviación estandar de 57.9 euros*, que para una muestra con *media de 147.3 euros* expresa variabilidad moderada.\n",
    "\n",
    "Para facilitar la interpretación de la variable, utilizamos el Coeficiente de Variación de Sperman, que pondera el valor de la desviación estandar, sobre el valor medio de la muestra. Esta medida de disperción no da un 39%, y como es menor a un 80%, podemos decir que la media aritmética es representativa de la muestra, y por lo tanto el conjunto de datos es homogeneo."
   ]
  },
  {
   "attachments": {},
   "cell_type": "markdown",
   "metadata": {},
   "source": [
    "##### Medidas de posición"
   ]
  },
  {
   "cell_type": "code",
   "execution_count": 20,
   "metadata": {},
   "outputs": [
    {
     "name": "stdout",
     "output_type": "stream",
     "text": [
      "81.0\n"
     ]
    }
   ],
   "source": [
    "# obtenemos Q1 y Q3\n",
    "q1 = df_aux['total_pagado'].quantile(0.25)\n",
    "q3 = df_aux['total_pagado'].quantile(0.75)\n",
    "\n",
    "# obtenemos rango intercuartílico\n",
    "rq = q3 - q1\n",
    "\n",
    "print(rq)"
   ]
  },
  {
   "cell_type": "code",
   "execution_count": 21,
   "metadata": {},
   "outputs": [
    {
     "name": "stdout",
     "output_type": "stream",
     "text": [
      "88.5\n"
     ]
    }
   ],
   "source": [
    "# obtenemos decil primero\n",
    "d1 = df_aux['total_pagado'].quantile(0.10)\n",
    "print(d1)"
   ]
  },
  {
   "cell_type": "code",
   "execution_count": 22,
   "metadata": {},
   "outputs": [
    {
     "name": "stdout",
     "output_type": "stream",
     "text": [
      "236.0\n"
     ]
    }
   ],
   "source": [
    "# obtenemos percentil 90\n",
    "p90 = df_aux['total_pagado'].quantile(0.90)\n",
    "print(p90)"
   ]
  },
  {
   "cell_type": "code",
   "execution_count": 23,
   "metadata": {},
   "outputs": [
    {
     "data": {
      "text/plain": [
       "<matplotlib.legend.Legend at 0x16e15ae10>"
      ]
     },
     "execution_count": 23,
     "metadata": {},
     "output_type": "execute_result"
    },
    {
     "data": {
      "image/png": "[encoded data removed]",
      "text/plain": [
       "<Figure size 640x480 with 1 Axes>"
      ]
     },
     "metadata": {},
     "output_type": "display_data"
    }
   ],
   "source": [
    "# creamos un histograma para la visualizar las frecuencias absolutas de la variable precio\n",
    "plot = sns.histplot(df_aux['total_pagado'], bins=7)\n",
    "plot.set_title(\"Histograma de 'total_pagado'\")\n",
    "plot.set_xlabel('total_pagado')\n",
    "plot.set_ylabel('frecuencia')\n",
    "\n",
    "plot.axvline(q1, color='brown', linestyle='dashed', linewidth=2, label=f'q1: {q1:.1f}')\n",
    "plot.axvline(q3, color='brown', linestyle='dashed', linewidth=2, label=f'q3: {q3:.1f}')\n",
    "plot.axvline(d1, color='yellow', linestyle='dashed', linewidth=2, label=f'decil 10: {d1:.1f}')\n",
    "plot.axvline(p90, color='lime', linestyle='dashed', linewidth=2, label=f'percentil 90: {p90:.1f}')\n",
    "\n",
    "# añadir una leyenda\n",
    "plt.legend()"
   ]
  },
  {
   "attachments": {},
   "cell_type": "markdown",
   "metadata": {},
   "source": [
    "##### Medidas de concentración y forma"
   ]
  },
  {
   "cell_type": "code",
   "execution_count": 24,
   "metadata": {},
   "outputs": [
    {
     "name": "stdout",
     "output_type": "stream",
     "text": [
      "0.09319685759185291\n"
     ]
    }
   ],
   "source": [
    "#importamos scipy\n",
    "import scipy.stats as sci\n",
    "\n",
    "#encontramos coeficiente de Asimetría de Fisher\n",
    "coef_asimetria = sci.skew(df_aux['total_pagado'])\n",
    "print(coef_asimetria)"
   ]
  },
  {
   "attachments": {},
   "cell_type": "markdown",
   "metadata": {},
   "source": [
    "Podemos observar que un valor de 0.9 de coeficiente de asimetría nos indica una ligera asimetría positiva."
   ]
  },
  {
   "cell_type": "code",
   "execution_count": 25,
   "metadata": {},
   "outputs": [
    {
     "name": "stdout",
     "output_type": "stream",
     "text": [
      "-0.8434624840832021\n"
     ]
    }
   ],
   "source": [
    "# encontramos coef de curtosis\n",
    "coef_curtosis = sci.kurtosis(df_aux['total_pagado'])\n",
    "print(coef_curtosis)"
   ]
  },
  {
   "attachments": {},
   "cell_type": "markdown",
   "metadata": {},
   "source": [
    "El resultado obtenido del estadístico indica que la distribución toma una forma **platicurtica**, es decir los valores estan dispersos respecto de la media."
   ]
  },
  {
   "cell_type": "code",
   "execution_count": 26,
   "metadata": {},
   "outputs": [
    {
     "data": {
      "text/plain": [
       "Text(0.25, 29.5, 'Mín: 29.50')"
      ]
     },
     "execution_count": 26,
     "metadata": {},
     "output_type": "execute_result"
    },
    {
     "data": {
      "image/png": "[encoded data removed]",
      "text/plain": [
       "<Figure size 640x480 with 1 Axes>"
      ]
     },
     "metadata": {},
     "output_type": "display_data"
    }
   ],
   "source": [
    "# creamos box-plot de la variable\n",
    "sns.boxplot(df_aux['total_pagado'])\n",
    "\n",
    "# añadimos título y etiquetas\n",
    "plt.title('Boxplot de Total Pagado')\n",
    "\n",
    "# añadimos etiquetas a los valores representativos\n",
    "plt.text(0.25, q1, f'Q1: {q1:.2f}', ha='center', va='bottom', color='lime', fontsize=10)\n",
    "plt.text(0.25, q3, f'Q3: {q3:.2f}', ha='center', va='top', color='lime', fontsize=10)\n",
    "\n",
    "plt.text(0.25, max, f'Máx: {max:.2f}', ha='center', va='bottom', color='red', fontsize=10)\n",
    "plt.text(0.25, min, f'Mín: {min:.2f}', ha='center', va='top', color='red', fontsize=10)\n"
   ]
  },
  {
   "attachments": {},
   "cell_type": "markdown",
   "metadata": {},
   "source": [
    "Podemos encontrar los limites teoricos de nuestros \"bigotes\" utilizando el rango intercuartil y con ello saber si tenemos o no outliers"
   ]
  },
  {
   "cell_type": "code",
   "execution_count": 27,
   "metadata": {},
   "outputs": [
    {
     "name": "stdout",
     "output_type": "stream",
     "text": [
      "-13.5\n",
      "310.5\n"
     ]
    }
   ],
   "source": [
    "iqr = q3 - q1\n",
    "lim_inferior = q1 - 1.5 * iqr\n",
    "lim_superior = q3 + 1.5 * iqr\n",
    "\n",
    "print(lim_inferior)\n",
    "print(lim_superior)"
   ]
  },
  {
   "attachments": {},
   "cell_type": "markdown",
   "metadata": {},
   "source": [
    "En ambos casos limitados por los valores reales tomados por la variable"
   ]
  },
  {
   "cell_type": "code",
   "execution_count": 28,
   "metadata": {},
   "outputs": [
    {
     "name": "stdout",
     "output_type": "stream",
     "text": [
      "29.5\n",
      "236.0\n"
     ]
    }
   ],
   "source": [
    "print(min)\n",
    "print(max)"
   ]
  },
  {
   "attachments": {},
   "cell_type": "markdown",
   "metadata": {},
   "source": [
    "Podemos decir que no encontramos outliers en el dataset."
   ]
  },
  {
   "attachments": {},
   "cell_type": "markdown",
   "metadata": {},
   "source": [
    "##### Análisis"
   ]
  },
  {
   "attachments": {},
   "cell_type": "markdown",
   "metadata": {},
   "source": [
    "La variable presenta una distribución con una *media de 143.3 euros*, ligeramente mas alta que la *mediana de 135.0*. La sensibilidad de la media respecto a valores extremos explica este desbalance hacia los valores mas altos del dataset. Los importes que mas se repiten son *118.0 euros y 236.0 euros*, quedando definidos como ambas *modas* con 8 ocurrencias. Casualmente 236.0 es a su vez valor máximo para la variable en la muestra.\n",
    "\n",
    "La variable presenta un *rango de 206.5 euros*, oscilando entre 29.5 y 236.0 euros. También hemos calculado una *varianza de 3356.6*. Para facilitar la interpretación, calculamos una *desviación estándar de 57.9 euros*, que en relación con una *media de 147.3 euros*, indica una variabilidad moderada. Para interpretar mejor la dispersión de los datos, utilizamos el Coeficiente de Variación de Spearman, que relaciona la desviación estándar con la media de la muestra. Este coeficiente es del 39%, y dado que es menor al 80%, podemos afirmar que la media aritmética es representativa de la muestra, indicando que el conjunto de datos es homogéneo.\n",
    "\n",
    "Un coeficiente de asimetría de 0.9 sugiere una ligera asimetría hacia la derecha en la distribución. El análisis de la curtosis muestra que la distribución es platicúrtica, lo que significa que los valores están más dispersos alrededor de la media. Tampoco encontramos valores outliers en el dataset.\n",
    "\n",
    "Es importante destacar que el dataset contiene 45 observaciones y 10 variables diferentes, con baja variabilidad en cada uno de sus valores posibles. Esto se daba posiblemente a que contamos con un segmento pequeño de los datos totales, y los valores que toman no sean representativos de la operatoria real de la empresa. Probablemente si contasemos con mas datos, algunas apreciaciones hechas sería diferentes y las medidas recientemente obtenidas tomarian otros valores."
   ]
  },
  {
   "attachments": {},
   "cell_type": "markdown",
   "metadata": {},
   "source": [
    "### Apartado 2"
   ]
  },
  {
   "attachments": {},
   "cell_type": "markdown",
   "metadata": {},
   "source": [
    "##### Cliente que ha pagado MÁS en todas las facturas."
   ]
  },
  {
   "attachments": {},
   "cell_type": "markdown",
   "metadata": {},
   "source": [
    "Encontraremos el cliente que mas pagó dentro de los registros. Para saber si efectivamente el pago está realizado cotejamos la variable *factura_pagada*, es decir solo se contabilizarán las transacciones con dicho valor igual a 'si'."
   ]
  },
  {
   "cell_type": "code",
   "execution_count": 29,
   "metadata": {},
   "outputs": [
    {
     "data": {
      "text/html": [
       "<div>\n",
       "<style scoped>\n",
       "    .dataframe tbody tr th:only-of-type {\n",
       "        vertical-align: middle;\n",
       "    }\n",
       "\n",
       "    .dataframe tbody tr th {\n",
       "        vertical-align: top;\n",
       "    }\n",
       "\n",
       "    .dataframe thead th {\n",
       "        text-align: right;\n",
       "    }\n",
       "</style>\n",
       "<table border=\"1\" class=\"dataframe\">\n",
       "  <thead>\n",
       "    <tr style=\"text-align: right;\">\n",
       "      <th></th>\n",
       "      <th>sum</th>\n",
       "    </tr>\n",
       "    <tr>\n",
       "      <th>cliente</th>\n",
       "      <th></th>\n",
       "    </tr>\n",
       "  </thead>\n",
       "  <tbody>\n",
       "    <tr>\n",
       "      <th>clienteA</th>\n",
       "      <td>1534.0</td>\n",
       "    </tr>\n",
       "    <tr>\n",
       "      <th>clienteD</th>\n",
       "      <td>1534.0</td>\n",
       "    </tr>\n",
       "    <tr>\n",
       "      <th>clienteB</th>\n",
       "      <td>924.0</td>\n",
       "    </tr>\n",
       "    <tr>\n",
       "      <th>clienteC</th>\n",
       "      <td>584.5</td>\n",
       "    </tr>\n",
       "  </tbody>\n",
       "</table>\n",
       "</div>"
      ],
      "text/plain": [
       "             sum\n",
       "cliente         \n",
       "clienteA  1534.0\n",
       "clienteD  1534.0\n",
       "clienteB   924.0\n",
       "clienteC   584.5"
      ]
     },
     "execution_count": 29,
     "metadata": {},
     "output_type": "execute_result"
    }
   ],
   "source": [
    "# encontramos el ranking de clientes teniendo en cuenta la variable 'factura_pagada'\n",
    "df_aux[df_aux['factura_pagada'] == 'si'].groupby('cliente')['total_pagado'].agg(['sum']).sort_values(by='sum', ascending=False)"
   ]
  },
  {
   "attachments": {},
   "cell_type": "markdown",
   "metadata": {},
   "source": [
    "Podemos dos clientes con igual monto pagado dentro de los datos con los que se cuentan. *ClienteA* y *ClienteD* registraron un total de *1534.0 euros* pagados. Los siguen en montos *ClienteB* con *924.0 euros* y *ClienteC* con *584.5 euros* respectivamente."
   ]
  },
  {
   "attachments": {},
   "cell_type": "markdown",
   "metadata": {},
   "source": [
    "Nos puede servir de referencia tener el total de facturas a cada cliente, aquí no estaremos considerando si la misma está o no pagada."
   ]
  },
  {
   "cell_type": "code",
   "execution_count": 30,
   "metadata": {},
   "outputs": [
    {
     "data": {
      "text/html": [
       "<div>\n",
       "<style scoped>\n",
       "    .dataframe tbody tr th:only-of-type {\n",
       "        vertical-align: middle;\n",
       "    }\n",
       "\n",
       "    .dataframe tbody tr th {\n",
       "        vertical-align: top;\n",
       "    }\n",
       "\n",
       "    .dataframe thead th {\n",
       "        text-align: right;\n",
       "    }\n",
       "</style>\n",
       "<table border=\"1\" class=\"dataframe\">\n",
       "  <thead>\n",
       "    <tr style=\"text-align: right;\">\n",
       "      <th></th>\n",
       "      <th>sum</th>\n",
       "    </tr>\n",
       "    <tr>\n",
       "      <th>cliente</th>\n",
       "      <th></th>\n",
       "    </tr>\n",
       "  </thead>\n",
       "  <tbody>\n",
       "    <tr>\n",
       "      <th>clienteA</th>\n",
       "      <td>2099.0</td>\n",
       "    </tr>\n",
       "    <tr>\n",
       "      <th>clienteD</th>\n",
       "      <td>2038.4</td>\n",
       "    </tr>\n",
       "    <tr>\n",
       "      <th>clienteB</th>\n",
       "      <td>1337.0</td>\n",
       "    </tr>\n",
       "    <tr>\n",
       "      <th>clienteC</th>\n",
       "      <td>1154.5</td>\n",
       "    </tr>\n",
       "  </tbody>\n",
       "</table>\n",
       "</div>"
      ],
      "text/plain": [
       "             sum\n",
       "cliente         \n",
       "clienteA  2099.0\n",
       "clienteD  2038.4\n",
       "clienteB  1337.0\n",
       "clienteC  1154.5"
      ]
     },
     "execution_count": 30,
     "metadata": {},
     "output_type": "execute_result"
    }
   ],
   "source": [
    "# encontramos el ranking de ventas totales sin contar pago de factura\n",
    "df_aux.groupby('cliente')['total_pagado'].agg(['sum']).sort_values(by='sum', ascending=False)"
   ]
  },
  {
   "attachments": {},
   "cell_type": "markdown",
   "metadata": {},
   "source": [
    "Observamos que siguen ambos, *ClienteA* y *ClienteD* liderando el ranking, con montos similares entre si, mientras que *ClienteB* y *ClienteC* mantienen los ultimos lugares."
   ]
  },
  {
   "attachments": {},
   "cell_type": "markdown",
   "metadata": {},
   "source": [
    "#### Cliente que ha pagado MENOS facturas en el mes de febrero."
   ]
  },
  {
   "attachments": {},
   "cell_type": "markdown",
   "metadata": {},
   "source": [
    "Para encontrar el cliente que menos facturas pagó en el mes de Febrero primero crearemos un dataframe auxiliar para operar de forma mas sencilla"
   ]
  },
  {
   "cell_type": "code",
   "execution_count": 31,
   "metadata": {},
   "outputs": [
    {
     "data": {
      "text/html": [
       "<div>\n",
       "<style scoped>\n",
       "    .dataframe tbody tr th:only-of-type {\n",
       "        vertical-align: middle;\n",
       "    }\n",
       "\n",
       "    .dataframe tbody tr th {\n",
       "        vertical-align: top;\n",
       "    }\n",
       "\n",
       "    .dataframe thead th {\n",
       "        text-align: right;\n",
       "    }\n",
       "</style>\n",
       "<table border=\"1\" class=\"dataframe\">\n",
       "  <thead>\n",
       "    <tr style=\"text-align: right;\">\n",
       "      <th></th>\n",
       "      <th>id</th>\n",
       "      <th>fecha</th>\n",
       "      <th>mes</th>\n",
       "      <th>cliente</th>\n",
       "      <th>factura_pagada</th>\n",
       "      <th>importe_factura</th>\n",
       "      <th>tipo_IVA</th>\n",
       "      <th>porcentaje_IVA</th>\n",
       "      <th>IVA</th>\n",
       "      <th>total_pagado</th>\n",
       "    </tr>\n",
       "  </thead>\n",
       "  <tbody>\n",
       "    <tr>\n",
       "      <th>31</th>\n",
       "      <td>32</td>\n",
       "      <td>01/02/2010</td>\n",
       "      <td>Febrero</td>\n",
       "      <td>clienteC</td>\n",
       "      <td>no</td>\n",
       "      <td>150</td>\n",
       "      <td>normal</td>\n",
       "      <td>18</td>\n",
       "      <td>27.0</td>\n",
       "      <td>177.0</td>\n",
       "    </tr>\n",
       "    <tr>\n",
       "      <th>32</th>\n",
       "      <td>33</td>\n",
       "      <td>02/02/2010</td>\n",
       "      <td>Febrero</td>\n",
       "      <td>clienteD</td>\n",
       "      <td>si</td>\n",
       "      <td>75</td>\n",
       "      <td>normal</td>\n",
       "      <td>18</td>\n",
       "      <td>13.5</td>\n",
       "      <td>88.5</td>\n",
       "    </tr>\n",
       "    <tr>\n",
       "      <th>33</th>\n",
       "      <td>34</td>\n",
       "      <td>03/02/2010</td>\n",
       "      <td>Febrero</td>\n",
       "      <td>clienteA</td>\n",
       "      <td>si</td>\n",
       "      <td>200</td>\n",
       "      <td>normal</td>\n",
       "      <td>18</td>\n",
       "      <td>36.0</td>\n",
       "      <td>236.0</td>\n",
       "    </tr>\n",
       "    <tr>\n",
       "      <th>34</th>\n",
       "      <td>35</td>\n",
       "      <td>04/02/2010</td>\n",
       "      <td>Febrero</td>\n",
       "      <td>clienteB</td>\n",
       "      <td>si</td>\n",
       "      <td>125</td>\n",
       "      <td>normal</td>\n",
       "      <td>18</td>\n",
       "      <td>22.5</td>\n",
       "      <td>147.5</td>\n",
       "    </tr>\n",
       "    <tr>\n",
       "      <th>35</th>\n",
       "      <td>36</td>\n",
       "      <td>05/02/2010</td>\n",
       "      <td>Febrero</td>\n",
       "      <td>clienteC</td>\n",
       "      <td>no</td>\n",
       "      <td>100</td>\n",
       "      <td>reducido</td>\n",
       "      <td>8</td>\n",
       "      <td>8.0</td>\n",
       "      <td>108.0</td>\n",
       "    </tr>\n",
       "    <tr>\n",
       "      <th>36</th>\n",
       "      <td>37</td>\n",
       "      <td>06/02/2010</td>\n",
       "      <td>Febrero</td>\n",
       "      <td>clienteD</td>\n",
       "      <td>si</td>\n",
       "      <td>175</td>\n",
       "      <td>normal</td>\n",
       "      <td>18</td>\n",
       "      <td>31.5</td>\n",
       "      <td>206.5</td>\n",
       "    </tr>\n",
       "    <tr>\n",
       "      <th>37</th>\n",
       "      <td>38</td>\n",
       "      <td>07/02/2010</td>\n",
       "      <td>Febrero</td>\n",
       "      <td>clienteA</td>\n",
       "      <td>si</td>\n",
       "      <td>100</td>\n",
       "      <td>normal</td>\n",
       "      <td>18</td>\n",
       "      <td>18.0</td>\n",
       "      <td>118.0</td>\n",
       "    </tr>\n",
       "    <tr>\n",
       "      <th>38</th>\n",
       "      <td>39</td>\n",
       "      <td>08/02/2010</td>\n",
       "      <td>Febrero</td>\n",
       "      <td>clienteA</td>\n",
       "      <td>si</td>\n",
       "      <td>150</td>\n",
       "      <td>normal</td>\n",
       "      <td>18</td>\n",
       "      <td>27.0</td>\n",
       "      <td>177.0</td>\n",
       "    </tr>\n",
       "    <tr>\n",
       "      <th>39</th>\n",
       "      <td>40</td>\n",
       "      <td>09/02/2010</td>\n",
       "      <td>Febrero</td>\n",
       "      <td>clienteB</td>\n",
       "      <td>si</td>\n",
       "      <td>75</td>\n",
       "      <td>normal</td>\n",
       "      <td>18</td>\n",
       "      <td>13.5</td>\n",
       "      <td>88.5</td>\n",
       "    </tr>\n",
       "    <tr>\n",
       "      <th>40</th>\n",
       "      <td>41</td>\n",
       "      <td>10/02/2010</td>\n",
       "      <td>Febrero</td>\n",
       "      <td>clienteD</td>\n",
       "      <td>si</td>\n",
       "      <td>200</td>\n",
       "      <td>normal</td>\n",
       "      <td>18</td>\n",
       "      <td>36.0</td>\n",
       "      <td>236.0</td>\n",
       "    </tr>\n",
       "    <tr>\n",
       "      <th>41</th>\n",
       "      <td>42</td>\n",
       "      <td>11/02/2010</td>\n",
       "      <td>Febrero</td>\n",
       "      <td>clienteA</td>\n",
       "      <td>no</td>\n",
       "      <td>125</td>\n",
       "      <td>reducido</td>\n",
       "      <td>8</td>\n",
       "      <td>10.0</td>\n",
       "      <td>135.0</td>\n",
       "    </tr>\n",
       "    <tr>\n",
       "      <th>42</th>\n",
       "      <td>43</td>\n",
       "      <td>12/02/2010</td>\n",
       "      <td>Febrero</td>\n",
       "      <td>clienteB</td>\n",
       "      <td>no</td>\n",
       "      <td>50</td>\n",
       "      <td>normal</td>\n",
       "      <td>18</td>\n",
       "      <td>9.0</td>\n",
       "      <td>59.0</td>\n",
       "    </tr>\n",
       "    <tr>\n",
       "      <th>43</th>\n",
       "      <td>44</td>\n",
       "      <td>13/02/2010</td>\n",
       "      <td>Febrero</td>\n",
       "      <td>clienteC</td>\n",
       "      <td>si</td>\n",
       "      <td>25</td>\n",
       "      <td>normal</td>\n",
       "      <td>18</td>\n",
       "      <td>4.5</td>\n",
       "      <td>29.5</td>\n",
       "    </tr>\n",
       "    <tr>\n",
       "      <th>44</th>\n",
       "      <td>45</td>\n",
       "      <td>14/02/2010</td>\n",
       "      <td>Febrero</td>\n",
       "      <td>clienteD</td>\n",
       "      <td>no</td>\n",
       "      <td>30</td>\n",
       "      <td>reducido</td>\n",
       "      <td>8</td>\n",
       "      <td>2.4</td>\n",
       "      <td>32.4</td>\n",
       "    </tr>\n",
       "  </tbody>\n",
       "</table>\n",
       "</div>"
      ],
      "text/plain": [
       "    id       fecha      mes   cliente factura_pagada  importe_factura  \\\n",
       "31  32  01/02/2010  Febrero  clienteC             no              150   \n",
       "32  33  02/02/2010  Febrero  clienteD             si               75   \n",
       "33  34  03/02/2010  Febrero  clienteA             si              200   \n",
       "34  35  04/02/2010  Febrero  clienteB             si              125   \n",
       "35  36  05/02/2010  Febrero  clienteC             no              100   \n",
       "36  37  06/02/2010  Febrero  clienteD             si              175   \n",
       "37  38  07/02/2010  Febrero  clienteA             si              100   \n",
       "38  39  08/02/2010  Febrero  clienteA             si              150   \n",
       "39  40  09/02/2010  Febrero  clienteB             si               75   \n",
       "40  41  10/02/2010  Febrero  clienteD             si              200   \n",
       "41  42  11/02/2010  Febrero  clienteA             no              125   \n",
       "42  43  12/02/2010  Febrero  clienteB             no               50   \n",
       "43  44  13/02/2010  Febrero  clienteC             si               25   \n",
       "44  45  14/02/2010  Febrero  clienteD             no               30   \n",
       "\n",
       "    tipo_IVA  porcentaje_IVA   IVA  total_pagado  \n",
       "31    normal              18  27.0         177.0  \n",
       "32    normal              18  13.5          88.5  \n",
       "33    normal              18  36.0         236.0  \n",
       "34    normal              18  22.5         147.5  \n",
       "35  reducido               8   8.0         108.0  \n",
       "36    normal              18  31.5         206.5  \n",
       "37    normal              18  18.0         118.0  \n",
       "38    normal              18  27.0         177.0  \n",
       "39    normal              18  13.5          88.5  \n",
       "40    normal              18  36.0         236.0  \n",
       "41  reducido               8  10.0         135.0  \n",
       "42    normal              18   9.0          59.0  \n",
       "43    normal              18   4.5          29.5  \n",
       "44  reducido               8   2.4          32.4  "
      ]
     },
     "execution_count": 31,
     "metadata": {},
     "output_type": "execute_result"
    }
   ],
   "source": [
    "# creamos un dataframe auxiliar\n",
    "df_feb = df_aux[df_aux['mes'] == 'Febrero'].copy()\n",
    "df_feb"
   ]
  },
  {
   "cell_type": "code",
   "execution_count": 32,
   "metadata": {},
   "outputs": [
    {
     "data": {
      "text/html": [
       "<div>\n",
       "<style scoped>\n",
       "    .dataframe tbody tr th:only-of-type {\n",
       "        vertical-align: middle;\n",
       "    }\n",
       "\n",
       "    .dataframe tbody tr th {\n",
       "        vertical-align: top;\n",
       "    }\n",
       "\n",
       "    .dataframe thead th {\n",
       "        text-align: right;\n",
       "    }\n",
       "</style>\n",
       "<table border=\"1\" class=\"dataframe\">\n",
       "  <thead>\n",
       "    <tr style=\"text-align: right;\">\n",
       "      <th></th>\n",
       "      <th>sum</th>\n",
       "      <th>count</th>\n",
       "    </tr>\n",
       "    <tr>\n",
       "      <th>cliente</th>\n",
       "      <th></th>\n",
       "      <th></th>\n",
       "    </tr>\n",
       "  </thead>\n",
       "  <tbody>\n",
       "    <tr>\n",
       "      <th>clienteA</th>\n",
       "      <td>666.0</td>\n",
       "      <td>4</td>\n",
       "    </tr>\n",
       "    <tr>\n",
       "      <th>clienteB</th>\n",
       "      <td>295.0</td>\n",
       "      <td>3</td>\n",
       "    </tr>\n",
       "    <tr>\n",
       "      <th>clienteC</th>\n",
       "      <td>314.5</td>\n",
       "      <td>3</td>\n",
       "    </tr>\n",
       "    <tr>\n",
       "      <th>clienteD</th>\n",
       "      <td>563.4</td>\n",
       "      <td>4</td>\n",
       "    </tr>\n",
       "  </tbody>\n",
       "</table>\n",
       "</div>"
      ],
      "text/plain": [
       "            sum  count\n",
       "cliente               \n",
       "clienteA  666.0      4\n",
       "clienteB  295.0      3\n",
       "clienteC  314.5      3\n",
       "clienteD  563.4      4"
      ]
     },
     "execution_count": 32,
     "metadata": {},
     "output_type": "execute_result"
    }
   ],
   "source": [
    "# creamos un dataframe auxiliar\n",
    "facturado = df_feb.groupby('cliente')['total_pagado'].agg(['sum', 'count'])\n",
    "facturado"
   ]
  },
  {
   "cell_type": "code",
   "execution_count": 33,
   "metadata": {},
   "outputs": [
    {
     "data": {
      "text/html": [
       "<div>\n",
       "<style scoped>\n",
       "    .dataframe tbody tr th:only-of-type {\n",
       "        vertical-align: middle;\n",
       "    }\n",
       "\n",
       "    .dataframe tbody tr th {\n",
       "        vertical-align: top;\n",
       "    }\n",
       "\n",
       "    .dataframe thead th {\n",
       "        text-align: right;\n",
       "    }\n",
       "</style>\n",
       "<table border=\"1\" class=\"dataframe\">\n",
       "  <thead>\n",
       "    <tr style=\"text-align: right;\">\n",
       "      <th></th>\n",
       "      <th>sum</th>\n",
       "      <th>count</th>\n",
       "    </tr>\n",
       "    <tr>\n",
       "      <th>cliente</th>\n",
       "      <th></th>\n",
       "      <th></th>\n",
       "    </tr>\n",
       "  </thead>\n",
       "  <tbody>\n",
       "    <tr>\n",
       "      <th>clienteA</th>\n",
       "      <td>531.0</td>\n",
       "      <td>3</td>\n",
       "    </tr>\n",
       "    <tr>\n",
       "      <th>clienteB</th>\n",
       "      <td>236.0</td>\n",
       "      <td>2</td>\n",
       "    </tr>\n",
       "    <tr>\n",
       "      <th>clienteC</th>\n",
       "      <td>29.5</td>\n",
       "      <td>1</td>\n",
       "    </tr>\n",
       "    <tr>\n",
       "      <th>clienteD</th>\n",
       "      <td>531.0</td>\n",
       "      <td>3</td>\n",
       "    </tr>\n",
       "  </tbody>\n",
       "</table>\n",
       "</div>"
      ],
      "text/plain": [
       "            sum  count\n",
       "cliente               \n",
       "clienteA  531.0      3\n",
       "clienteB  236.0      2\n",
       "clienteC   29.5      1\n",
       "clienteD  531.0      3"
      ]
     },
     "execution_count": 33,
     "metadata": {},
     "output_type": "execute_result"
    }
   ],
   "source": [
    "# creamos un dataframe auxiliar\n",
    "pagado = df_feb[df_feb['factura_pagada'] == 'si'].groupby('cliente')['total_pagado'].agg(['sum', 'count'])\n",
    "pagado\n"
   ]
  },
  {
   "cell_type": "code",
   "execution_count": 34,
   "metadata": {},
   "outputs": [
    {
     "data": {
      "text/html": [
       "<div>\n",
       "<style scoped>\n",
       "    .dataframe tbody tr th:only-of-type {\n",
       "        vertical-align: middle;\n",
       "    }\n",
       "\n",
       "    .dataframe tbody tr th {\n",
       "        vertical-align: top;\n",
       "    }\n",
       "\n",
       "    .dataframe thead th {\n",
       "        text-align: right;\n",
       "    }\n",
       "</style>\n",
       "<table border=\"1\" class=\"dataframe\">\n",
       "  <thead>\n",
       "    <tr style=\"text-align: right;\">\n",
       "      <th></th>\n",
       "      <th>facturado</th>\n",
       "      <th>pagado</th>\n",
       "      <th>deuda</th>\n",
       "      <th>tasa_pagado</th>\n",
       "      <th>tx_totales</th>\n",
       "      <th>tx_pagadas</th>\n",
       "      <th>tasa_tx</th>\n",
       "    </tr>\n",
       "    <tr>\n",
       "      <th>cliente</th>\n",
       "      <th></th>\n",
       "      <th></th>\n",
       "      <th></th>\n",
       "      <th></th>\n",
       "      <th></th>\n",
       "      <th></th>\n",
       "      <th></th>\n",
       "    </tr>\n",
       "  </thead>\n",
       "  <tbody>\n",
       "    <tr>\n",
       "      <th>clienteC</th>\n",
       "      <td>314.5</td>\n",
       "      <td>29.5</td>\n",
       "      <td>285.0</td>\n",
       "      <td>0.093800</td>\n",
       "      <td>3</td>\n",
       "      <td>1</td>\n",
       "      <td>0.333333</td>\n",
       "    </tr>\n",
       "    <tr>\n",
       "      <th>clienteA</th>\n",
       "      <td>666.0</td>\n",
       "      <td>531.0</td>\n",
       "      <td>135.0</td>\n",
       "      <td>0.797297</td>\n",
       "      <td>4</td>\n",
       "      <td>3</td>\n",
       "      <td>0.750000</td>\n",
       "    </tr>\n",
       "    <tr>\n",
       "      <th>clienteB</th>\n",
       "      <td>295.0</td>\n",
       "      <td>236.0</td>\n",
       "      <td>59.0</td>\n",
       "      <td>0.800000</td>\n",
       "      <td>3</td>\n",
       "      <td>2</td>\n",
       "      <td>0.666667</td>\n",
       "    </tr>\n",
       "    <tr>\n",
       "      <th>clienteD</th>\n",
       "      <td>563.4</td>\n",
       "      <td>531.0</td>\n",
       "      <td>32.4</td>\n",
       "      <td>0.942492</td>\n",
       "      <td>4</td>\n",
       "      <td>3</td>\n",
       "      <td>0.750000</td>\n",
       "    </tr>\n",
       "  </tbody>\n",
       "</table>\n",
       "</div>"
      ],
      "text/plain": [
       "          facturado  pagado  deuda  tasa_pagado  tx_totales  tx_pagadas  \\\n",
       "cliente                                                                   \n",
       "clienteC      314.5    29.5  285.0     0.093800           3           1   \n",
       "clienteA      666.0   531.0  135.0     0.797297           4           3   \n",
       "clienteB      295.0   236.0   59.0     0.800000           3           2   \n",
       "clienteD      563.4   531.0   32.4     0.942492           4           3   \n",
       "\n",
       "           tasa_tx  \n",
       "cliente             \n",
       "clienteC  0.333333  \n",
       "clienteA  0.750000  \n",
       "clienteB  0.666667  \n",
       "clienteD  0.750000  "
      ]
     },
     "execution_count": 34,
     "metadata": {},
     "output_type": "execute_result"
    }
   ],
   "source": [
    "# creamos un dataframe auxiliar\n",
    "clientes_feb =  pd.DataFrame({\n",
    "    'facturado': facturado['sum'],\n",
    "    'pagado': pagado['sum'],\n",
    "    'deuda': facturado['sum'] - pagado['sum'],\n",
    "    'tasa_pagado': pagado['sum']/facturado['sum'],\n",
    "    'tx_totales': facturado['count'],\n",
    "    'tx_pagadas': pagado['count'],\n",
    "    'tasa_tx': pagado['count']/facturado['count']\n",
    "})\n",
    "clientes_feb.sort_values(by='tasa_pagado')"
   ]
  },
  {
   "cell_type": "code",
   "execution_count": 35,
   "metadata": {},
   "outputs": [
    {
     "data": {
      "text/plain": [
       "count    4.000000\n",
       "mean     0.658397\n",
       "std      0.382459\n",
       "min      0.093800\n",
       "25%      0.621423\n",
       "50%      0.798649\n",
       "75%      0.835623\n",
       "max      0.942492\n",
       "Name: tasa_pagado, dtype: float64"
      ]
     },
     "execution_count": 35,
     "metadata": {},
     "output_type": "execute_result"
    }
   ],
   "source": [
    "# describimos la variable tasa de pagado\n",
    "clientes_feb['tasa_pagado'].describe()"
   ]
  },
  {
   "attachments": {},
   "cell_type": "markdown",
   "metadata": {},
   "source": [
    "En el análisis anterior lo hacemos sabiendo que solo se cuentan con observaciones de entre el 2010-01-01 y 2010-02-14, por lo que utilizar la variable 'mes' de tipo categoríca para agrupar las transacciones.\n",
    "\n",
    "Es el *Cliente C* el que registra mayor adeudamiento con la empresa, ya que de un total de *314.5 euros* que compró, solo pagó *29.5*, lo que representa un 9.38% de la deuda total contraida. Si tenemos en cuenta el números de transacciones que se realizaron, tambien es el *ClienteC* el que mayor porcentaje debe, con un total de 66.6% de deuda aun activa, en un total de 3 transacciones totales para el mes de Febrero."
   ]
  },
  {
   "cell_type": "code",
   "execution_count": 36,
   "metadata": {},
   "outputs": [
    {
     "data": {
      "text/plain": [
       "Text(0.5, 1.0, 'Boxplot de Total Pagado')"
      ]
     },
     "execution_count": 36,
     "metadata": {},
     "output_type": "execute_result"
    },
    {
     "data": {
      "image/png": "[encoded data removed]",
      "text/plain": [
       "<Figure size 640x480 with 1 Axes>"
      ]
     },
     "metadata": {},
     "output_type": "display_data"
    }
   ],
   "source": [
    "# creamos box-plot de la variable\n",
    "sns.boxplot(clientes_feb['tasa_pagado'])\n",
    "\n",
    "# añadimos título y etiquetas\n",
    "plt.title('Boxplot de Total Pagado')"
   ]
  },
  {
   "attachments": {},
   "cell_type": "markdown",
   "metadata": {},
   "source": [
    "Podemos observar que el valor del porcentaje de pago del Cliente C se expresa como un outlier en nuestro box-plot. "
   ]
  },
  {
   "attachments": {},
   "cell_type": "markdown",
   "metadata": {},
   "source": [
    "#### Análisis y recomendaciones\n",
    "Los clientes: ClienteA y ClienteD resultaron ser los de mayores compras dentro del set de datos con el que contamos. Teniendo un importe total pagado de 1534.0 euros cada uno. El ClienteD resulta en una deuda menor debido a que registra de una deuda total de *2038.4 euros*, frente a los *2099.0 euros* del ClienteA.\n",
    "\n",
    "A su vez el ClienteC, es el más moroso durante el mes de febrero, registrando un total de *285.0 euros* adeudados, representando una mora del 90.62%. Y habiendo solamente pagado 1 de las 3 facturas que se le realizaron.\n",
    "\n",
    "Se recomienda iniciar gestiones de cobranza con el ClienteC."
   ]
  },
  {
   "attachments": {},
   "cell_type": "markdown",
   "metadata": {},
   "source": [
    "### Apartado 3"
   ]
  },
  {
   "cell_type": "code",
   "execution_count": 37,
   "metadata": {},
   "outputs": [
    {
     "data": {
      "text/plain": [
       "Text(0, 0.5, 'IVA')"
      ]
     },
     "execution_count": 37,
     "metadata": {},
     "output_type": "execute_result"
    },
    {
     "data": {
      "image/png": "[encoded data removed]",
      "text/plain": [
       "<Figure size 640x480 with 1 Axes>"
      ]
     },
     "metadata": {},
     "output_type": "display_data"
    }
   ],
   "source": [
    "# creamos \n",
    "sns.regplot(x='total_pagado', y='IVA', data=df_aux)\n",
    "\n",
    "# añadimos título y etiquetas\n",
    "plt.title(\"Dispersión de monto IVA y el total pagado\")\n",
    "plt.xlabel(\"total_pagado\")\n",
    "plt.ylabel(\"IVA\")"
   ]
  },
  {
   "attachments": {},
   "cell_type": "markdown",
   "metadata": {},
   "source": [
    "Como dijimos anteriormente contamos solamente con 12 montos diferentes para la variable 'total_pagado' en el set de datos con el que contamos. Cada uno de ellos se puede ver en el diagrama de disperción anterior. A su vez, cada uno de ellos con un valor de IVA correspondiente, que van de 2.4 euros hasta 36.0 euros.\n",
    "\n",
    "Se puede apreciar un relación directa entre ambas variables, dado que a medida que aumenta el monto pagado, tambien aumenta el monto de IVA."
   ]
  },
  {
   "cell_type": "code",
   "execution_count": 38,
   "metadata": {},
   "outputs": [
    {
     "data": {
      "text/html": [
       "<div>\n",
       "<style scoped>\n",
       "    .dataframe tbody tr th:only-of-type {\n",
       "        vertical-align: middle;\n",
       "    }\n",
       "\n",
       "    .dataframe tbody tr th {\n",
       "        vertical-align: top;\n",
       "    }\n",
       "\n",
       "    .dataframe thead th {\n",
       "        text-align: right;\n",
       "    }\n",
       "</style>\n",
       "<table border=\"1\" class=\"dataframe\">\n",
       "  <thead>\n",
       "    <tr style=\"text-align: right;\">\n",
       "      <th></th>\n",
       "      <th>total_pagado</th>\n",
       "      <th>IVA</th>\n",
       "    </tr>\n",
       "  </thead>\n",
       "  <tbody>\n",
       "    <tr>\n",
       "      <th>total_pagado</th>\n",
       "      <td>3356.593556</td>\n",
       "      <td>526.768808</td>\n",
       "    </tr>\n",
       "    <tr>\n",
       "      <th>IVA</th>\n",
       "      <td>526.768808</td>\n",
       "      <td>100.529919</td>\n",
       "    </tr>\n",
       "  </tbody>\n",
       "</table>\n",
       "</div>"
      ],
      "text/plain": [
       "              total_pagado         IVA\n",
       "total_pagado   3356.593556  526.768808\n",
       "IVA             526.768808  100.529919"
      ]
     },
     "execution_count": 38,
     "metadata": {},
     "output_type": "execute_result"
    }
   ],
   "source": [
    "df_cov = df_aux[['total_pagado', 'IVA']].copy()\n",
    "df_cov.cov()"
   ]
  },
  {
   "attachments": {},
   "cell_type": "markdown",
   "metadata": {},
   "source": [
    "Vemos que la covarianza para las variables *total_pagado* e *IVA* es de *526.7*, lo que representa una dependencia directa (positiva). Es decir a medida que aumentan los valores de una variable, tambien lo hacen los valores de la otra."
   ]
  },
  {
   "attachments": {},
   "cell_type": "markdown",
   "metadata": {},
   "source": [
    "Teniendo en cuenta que el gráfico de disperción nos muestra una relacion linean entre las variables, y la covarianza es positiva indicando una relación directa entre las mismas, podemos sugerir un modelo predictivo utilizando una linea recta de pendiente positiva."
   ]
  },
  {
   "attachments": {},
   "cell_type": "markdown",
   "metadata": {},
   "source": [
    "### Apartado 4"
   ]
  },
  {
   "attachments": {},
   "cell_type": "markdown",
   "metadata": {},
   "source": [
    "Los datos observados corresponden a un volumen demasiado pequeño para obtener definiciones absolutas. Aún así nos permite ver el comportamiento aparente de sus variables. Por ejemplo, el total de facturación reporta una media de 143.3 euros, una mediana ligeramente menor de 135.0 euros, y dos modas una a cada lado de la media. Además posee una ligera asimetria hacia la derecha en su distribución, con un coeficiente de asimetría del 0.9. Mientras que el análisis de la curtosis muestra una distribución platicurtica.\n",
    "\n",
    "En cuanto al estado de las cuentas de los clientes para el mes de febrero notamos baja mora general con una tasa de pago del 65%. Y con la menor proporción de pago del ClienteC con un 9.38% pagado sobre el total de la deuda. Se sugieren iniciar acciones de cobro contra dicho cliente.\n",
    "\n",
    "De igual manera se obtuvo una relación lineal positiva entre las variables 'total_pagado' e 'iva', lo que puede llevar a sugerir el uso de un metodo predictivo mediante la aproximación de la función a una recta cuya pendiente es positiva."
   ]
  }
 ],
 "metadata": {
  "kernelspec": {
   "display_name": "M3",
   "language": "python",
   "name": "m3"
  },
  "language_info": {
   "codemirror_mode": {
    "name": "ipython",
    "version": 3
   },
   "file_extension": ".py",
   "mimetype": "text/x-python",
   "name": "python",
   "nbconvert_exporter": "python",
   "pygments_lexer": "ipython3",
   "version": "3.12.1"
  }
 },
 "nbformat": 4,
 "nbformat_minor": 4
}
