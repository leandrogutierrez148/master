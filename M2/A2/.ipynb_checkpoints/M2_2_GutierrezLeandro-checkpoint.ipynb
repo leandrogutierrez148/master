{
 "cells": [
  {
   "attachments": {},
   "cell_type": "markdown",
   "metadata": {},
   "source": [
    "# M2_AI2: Gestión de facturas\n",
    "#### Autor: Leandro Gutierrez\n",
    "#### Este documento intenta dar respuesta a la actividad 2 propuesta en el Modulo **Fundamentos de Estadística** del **Master en Big Data y Ciencia de Datos**. En él se describirán cada uno de los enunciados postulados y los resultados obtenidos a través del uso de la base de datos relacional Oracle y su interfaz SQL.\n",
    "#### Junio 12, 2024"
   ]
  },
  {
   "attachments": {},
   "cell_type": "markdown",
   "metadata": {},
   "source": [
    "<h3><center>Data Dictionary</center></h3>\n",
    "<table>\n",
    "<tbody>\n",
    "<tr><th><b>Variable</b></th><th><b>Definition</b></th><th><b>Key</b></th></tr>\n",
    "<tr>\n",
    "<td>Provincia</td>\n",
    "<td>Provincia de la gasolinera donde se tomó la muestra</td>\n",
    "<td></td>\n",
    "</tr>\n",
    "<tr>\n",
    "<td>Localidad</td>\n",
    "<td>Localidad de la gasolinera donde se tomó la muestra</td>\n",
    "<td></td>\n",
    "</tr>\n",
    "<tr>\n",
    "<td>Codigo Postal</td>\n",
    "<td>Codigo Postal de la gasolinera donde se tomó la muestra</td>\n",
    "<td></td>\n",
    "</tr>\n",
    "<tr>\n",
    "<td>Dirección</td>\n",
    "<td>Dirección de la gasolinera donde se tomó la muestra</td>\n",
    "<td> </td>\n",
    "</tr>\n",
    "<tr>\n",
    "<td>Margen</td>\n",
    "<td>Margen de la carretera donde se encuentra la gasolinera</td>\n",
    "<td>D: Derecho - I: Izquierdo - N: No aplica</td>\n",
    "</tr>\n",
    "<tr>\n",
    "<td>Toma de datos</td>\n",
    "<td>Fecha y hora en la que se tomó la muestra\n",
    "</td>\n",
    "<td></td>\n",
    "</tr>\n",
    "<tr>\n",
    "<td>Precio</td>\n",
    "<td>Precio en euros de la gasolina de 95 octanos</td>\n",
    "<td></td>\n",
    "</tr>\n",
    "<tr>\n",
    "<td>Rotulo</td>\n",
    "<td>Nombre de la gasolinera</td>\n",
    "<td></td>\n",
    "</tr>\n",
    "<tr>\n",
    "<td>Tipo de venta</td>\n",
    "<td>Indica tipo de venta publico general o restringida</td>\n",
    "<td>P: Venta al público en general - R: Venta restringida a socios o cooperativistas</td>\n",
    "</tr>\n",
    "<tr>\n",
    "<td>Rem</td>\n",
    "<td>Indica distribuidor mayorista o minorista</td>\n",
    "<td>OM: Datos procedentes del operador mayorista - DM: Datos procedentes del distribuidor minorista</td>\n",
    "</tr>\n",
    "<tr>\n",
    "<td>Horario</td>\n",
    "<td>Indica dias y horarios de atencion de la gasolinera</td>\n",
    "<td>formato: dD hhmmHHMM - d: dia desde, D: dia hasta (opcional), hhmm: horas y minutos de apertura, HHMM horas y minutos de cierre</td>\n",
    "</tr>\n",
    "<tr>\n",
    "<td>Fecha extraccion</td>\n",
    "<td>Fecha de extraccion</td>\n",
    "<td></td>\n",
    "</tr>\n",
    "</tbody>\n",
    "</table>\n"
   ]
  },
  {
   "cell_type": "code",
   "execution_count": 2,
   "metadata": {},
   "outputs": [
    {
     "ename": "ModuleNotFoundError",
     "evalue": "No module named 'pandas.io.formats.string'",
     "output_type": "error",
     "traceback": [
      "\u001b[0;31m---------------------------------------------------------------------------\u001b[0m",
      "\u001b[0;31mModuleNotFoundError\u001b[0m                       Traceback (most recent call last)",
      "File \u001b[0;32m~/Proyectos/master/M2/.venv/lib/python3.12/site-packages/IPython/core/formatters.py:711\u001b[0m, in \u001b[0;36m__call__\u001b[0;34m(self, obj)\u001b[0m\n",
      "File \u001b[0;32m~/Proyectos/master/M2/.venv/lib/python3.12/site-packages/IPython/lib/pretty.py:411\u001b[0m, in \u001b[0;36mpretty\u001b[0;34m(self, obj)\u001b[0m\n",
      "File \u001b[0;32m~/Proyectos/master/M2/.venv/lib/python3.12/site-packages/IPython/lib/pretty.py:779\u001b[0m, in \u001b[0;36m_repr_pprint\u001b[0;34m(obj, p, cycle)\u001b[0m\n",
      "File \u001b[0;32m~/Proyectos/master/M2/.venv/lib/python3.12/site-packages/pandas/core/frame.py:1064\u001b[0m, in \u001b[0;36m__repr__\u001b[0;34m(self)\u001b[0m\n",
      "File \u001b[0;32m~/Proyectos/master/M2/.venv/lib/python3.12/site-packages/pandas/core/frame.py:1245\u001b[0m, in \u001b[0;36mto_string\u001b[0;34m(self, buf, columns, col_space, header, index, na_rep, formatters, float_format, sparsify, index_names, justify, max_rows, max_cols, show_dimensions, decimal, line_width, min_rows, max_colwidth, encoding)\u001b[0m\n",
      "File \u001b[0;32m~/Proyectos/master/M2/.venv/lib/python3.12/site-packages/pandas/io/formats/format.py:1133\u001b[0m, in \u001b[0;36mto_string\u001b[0;34m(self, buf, encoding, line_width)\u001b[0m\n",
      "\u001b[0;31mModuleNotFoundError\u001b[0m: No module named 'pandas.io.formats.string'"
     ]
    },
    {
     "ename": "ModuleNotFoundError",
     "evalue": "No module named 'pandas.io.formats.html'",
     "output_type": "error",
     "traceback": [
      "\u001b[0;31m---------------------------------------------------------------------------\u001b[0m",
      "\u001b[0;31mModuleNotFoundError\u001b[0m                       Traceback (most recent call last)",
      "File \u001b[0;32m~/Proyectos/master/M2/.venv/lib/python3.12/site-packages/IPython/core/formatters.py:347\u001b[0m, in \u001b[0;36m__call__\u001b[0;34m(self, obj)\u001b[0m\n",
      "File \u001b[0;32m~/Proyectos/master/M2/.venv/lib/python3.12/site-packages/pandas/core/frame.py:1106\u001b[0m, in \u001b[0;36m_repr_html_\u001b[0;34m(self)\u001b[0m\n",
      "File \u001b[0;32m~/Proyectos/master/M2/.venv/lib/python3.12/site-packages/pandas/io/formats/format.py:1096\u001b[0m, in \u001b[0;36mto_html\u001b[0;34m(self, buf, encoding, classes, notebook, border, table_id, render_links)\u001b[0m\n",
      "\u001b[0;31mModuleNotFoundError\u001b[0m: No module named 'pandas.io.formats.html'"
     ]
    }
   ],
   "source": [
    "# Importing the libraries\n",
    "import pandas as pd\n",
    "import numpy as np\n",
    "\n",
    "# Carga del fichero desde el enlace web y creación del dataframe\n",
    "url = 'https://github.com/md-lorente/data/blob/master/datos_facturas.csv?raw=true'\n",
    "\n",
    "# Creacion Dataframe\n",
    "df = pd.read_csv(url, sep=';')\n",
    "\n",
    "# Visualización del dataframe (la cabecera)\n",
    "df.head()"
   ]
  },
  {
   "cell_type": "code",
   "execution_count": 9,
   "metadata": {},
   "outputs": [
    {
     "name": "stdout",
     "output_type": "stream",
     "text": [
      "<class 'pandas.core.frame.DataFrame'>\n",
      "RangeIndex: 9991 entries, 0 to 9990\n",
      "Data columns (total 13 columns):\n",
      " #   Column            Non-Null Count  Dtype \n",
      "---  ------            --------------  ----- \n",
      " 0   Provincia         9991 non-null   object\n",
      " 1   Localidad         9991 non-null   object\n",
      " 2   Codigo_postal     9991 non-null   int64 \n",
      " 3   Direccion         9991 non-null   object\n",
      " 4   Margen            9991 non-null   object\n",
      " 5   Toma_de_datos     9991 non-null   object\n",
      " 6   Precio            9991 non-null   object\n",
      " 7   Rotulo            9990 non-null   object\n",
      " 8   Tipo_venta        9991 non-null   object\n",
      " 9   Rem               9991 non-null   object\n",
      " 10  Horario           9991 non-null   object\n",
      " 11  Tipo_servicio     9845 non-null   object\n",
      " 12  Fecha_extraccion  9991 non-null   object\n",
      "dtypes: int64(1), object(12)\n",
      "memory usage: 1014.8+ KB\n",
      "None\n"
     ]
    }
   ],
   "source": [
    "# Resumen información del fichero\n",
    "print(df.info())"
   ]
  }
 ],
 "metadata": {
  "kernelspec": {
   "display_name": "Kernel 2",
   "language": "python",
   "name": "kernel_2"
  },
  "language_info": {
   "codemirror_mode": {
    "name": "ipython",
    "version": 3
   },
   "file_extension": ".py",
   "mimetype": "text/x-python",
   "name": "python",
   "nbconvert_exporter": "python",
   "pygments_lexer": "ipython3",
   "version": "3.12.1"
  }
 },
 "nbformat": 4,
 "nbformat_minor": 4
}
