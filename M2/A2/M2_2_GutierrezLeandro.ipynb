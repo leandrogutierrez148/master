{
 "cells": [
  {
   "attachments": {},
   "cell_type": "markdown",
   "metadata": {},
   "source": [
    "# M2_AI2: Gestión de facturas\n",
    "#### Autor: Leandro Gutierrez\n",
    "#### Este documento intenta dar respuesta a la actividad 2 propuesta en el Modulo **Fundamentos de Estadística** del **Master en Big Data y Ciencia de Datos**. En él se describirán cada uno de los enunciados postulados y los resultados obtenidos a través del uso de la base de datos relacional Oracle y su interfaz SQL.\n",
    "#### Junio 12, 2024"
   ]
  },
  {
   "attachments": {},
   "cell_type": "markdown",
   "metadata": {},
   "source": [
    "## Enunciado\n",
    "El objetivo de esta actividad consiste en identificar y analizar el total pagado de un dataset de facturas que tiene una compañía. La moneda está en euros.\n",
    "\n",
    "IMPORTANTE: LA OBTENCIÓN DE LOS RESULTADOS (el dato numérico y el código) SIN LOS COMENTARIOS Y LA JUSTIFICACIÓN ANALÍTICA. NO PUNTÚA NOTA\n",
    "\n",
    "Con el dataset de la gestión de facturas, debes analizar la variable “total pagado” para poder responder a las siguientes preguntas:\n",
    "\n",
    "- Parte1: Unidimensional (50%)\n",
    "1. Hallar las medidas de centralización: media, mediana y moda. Analiza los resultados obtenidos.  \n",
    "2. Las medidas de dispersión: rango, varianza, desviación típica y coeficiente de variación. Analiza los resultados obtenidos. \n",
    "3. Las medidas de posición: rango intercuartílico, cuartil primero y percentil 90. Analiza los resultados obtenidos. \n",
    "4. Las medidas de concentración y forma: curtosis, asimetría y el gráfico asociado. Analiza los resultados obtenidos. \n",
    "5. Realiza un análisis de todos los datos obtenidos en los apartados anteriores y añade un gráfico de box-plot explicando los resultados.\n",
    "\n",
    "- Parte2: Análisis de la información de la empresa y su situación  (20%)\n",
    "1. ANALIZA los resultados e informa de quién es el cliente que ha pagado MÁS en todas las facturas.\n",
    "2. ANALIZA los resultados e informa de quién es el cliente que ha pagado MENOS facturas en el mes de febrero.\n",
    "3. Añadir un gráfico de box-plot de los clientes. Conclusiones y recomendaciones después de todo el análisis realizado.\n",
    "\n",
    "\n",
    "- Parte3: Análisis Bidimensional (15%)\n",
    "1. Crea un gráfico de dispersión que represente el total pagado de las facturas respecto del IVA aplicado. Explica el resultado obtenido.\n",
    "2. Determina el valor de la covarianza de ambas variables. Analiza el dato resultante obtenido.\n",
    "3. ¿Se podría hacer un modelo predictivo? ¿porque?\n",
    "\n",
    "\n",
    "- Parte 4: Análisis Global. (15%)\n",
    "1. ANALIZA toda la información obtenida. ¿Cuál sería la recomendación que darías para la toma de decisión en la compañía?"
   ]
  },
  {
   "attachments": {},
   "cell_type": "markdown",
   "metadata": {},
   "source": [
    "## Solución"
   ]
  },
  {
   "attachments": {},
   "cell_type": "markdown",
   "metadata": {},
   "source": [
    "### Diccionario de datos"
   ]
  },
  {
   "attachments": {},
   "cell_type": "markdown",
   "metadata": {},
   "source": [
    "<table>\n",
    "<tbody>\n",
    "<tr><th><b>Variable</b></th><th><b>Definition</b></th><th><b>Key</b></th></tr>\n",
    "<tr>\n",
    "    <td>id</td>\n",
    "    <td>Identificador correlativo y secuencial del número de registros de facturas.</td>\n",
    "    <td></td>\n",
    "</tr>\n",
    "<tr>\n",
    "    <td>fecha</td>\n",
    "    <td>Fecha en la que se generó la factura.</td>\n",
    "    <td></td>\n",
    "</tr>\n",
    "<tr>\n",
    "    <td>mes</td>\n",
    "    <td>Mes en la que se generó la factura</td>\n",
    "    <td></td>\n",
    "</tr>\n",
    "<tr>\n",
    "    <td>cliente</td>\n",
    "    <td>Tipo de cliente, clasificado de la A a la D</td>\n",
    "    <td>ClienteA - ClienteB - ClienteC - ClienteD</td>\n",
    "</tr>\n",
    "<tr>\n",
    "    <td>factura_pagada</td>\n",
    "    <td>Descriptivo de si está pagada o no, en la fecha de generación.</td>\n",
    "    <td>si - no</td>\n",
    "</tr>\n",
    "<tr>\n",
    "    <td>importe_factura</td>\n",
    "    <td>Importe neto sin el IVA.</td>\n",
    "    <td></td>\n",
    "</tr>\n",
    "<tr>\n",
    "    <td>tio_IVA</td>\n",
    "    <td>Es el tipo de impuesto aplicado (descriptivo).</td>\n",
    "    <td>normal - reducido</td>\n",
    "</tr>\n",
    "<tr>\n",
    "    <td>porcentaje_IVA</td>\n",
    "    <td>Es el porcentaje aplicado.</td>\n",
    "    <td></td>\n",
    "</tr>\n",
    "<tr>\n",
    "    <td>IVA</td>\n",
    "    <td>Es el valor numérico del porcentaje correspondiente a la factura.</td>\n",
    "    <td></td>\n",
    "</tr>\n",
    "<tr>\n",
    "    <td>total_pagado</td>\n",
    "    <td>es el importe bruto de la factura (el neto más el importe IVA).</td>\n",
    "    <td></td>\n",
    "</tr>\n",
    "</tbody>\n",
    "</table>\n"
   ]
  },
  {
   "attachments": {},
   "cell_type": "markdown",
   "metadata": {},
   "source": [
    "### Carga del dataset"
   ]
  },
  {
   "cell_type": "code",
   "execution_count": 40,
   "metadata": {},
   "outputs": [
    {
     "data": {
      "text/html": [
       "<div>\n",
       "<style scoped>\n",
       "    .dataframe tbody tr th:only-of-type {\n",
       "        vertical-align: middle;\n",
       "    }\n",
       "\n",
       "    .dataframe tbody tr th {\n",
       "        vertical-align: top;\n",
       "    }\n",
       "\n",
       "    .dataframe thead th {\n",
       "        text-align: right;\n",
       "    }\n",
       "</style>\n",
       "<table border=\"1\" class=\"dataframe\">\n",
       "  <thead>\n",
       "    <tr style=\"text-align: right;\">\n",
       "      <th></th>\n",
       "      <th>id</th>\n",
       "      <th>fecha</th>\n",
       "      <th>mes</th>\n",
       "      <th>cliente</th>\n",
       "      <th>factura_pagada</th>\n",
       "      <th>importe_factura</th>\n",
       "      <th>tipo_IVA</th>\n",
       "      <th>porcentaje_IVA</th>\n",
       "      <th>IVA</th>\n",
       "      <th>total_pagado</th>\n",
       "    </tr>\n",
       "  </thead>\n",
       "  <tbody>\n",
       "    <tr>\n",
       "      <th>0</th>\n",
       "      <td>1</td>\n",
       "      <td>01/01/2010</td>\n",
       "      <td>Enero</td>\n",
       "      <td>clienteA</td>\n",
       "      <td>si</td>\n",
       "      <td>100</td>\n",
       "      <td>normal</td>\n",
       "      <td>18</td>\n",
       "      <td>18.0</td>\n",
       "      <td>118.0</td>\n",
       "    </tr>\n",
       "    <tr>\n",
       "      <th>1</th>\n",
       "      <td>2</td>\n",
       "      <td>02/01/2010</td>\n",
       "      <td>Enero</td>\n",
       "      <td>clienteB</td>\n",
       "      <td>no</td>\n",
       "      <td>150</td>\n",
       "      <td>normal</td>\n",
       "      <td>18</td>\n",
       "      <td>27.0</td>\n",
       "      <td>177.0</td>\n",
       "    </tr>\n",
       "    <tr>\n",
       "      <th>2</th>\n",
       "      <td>3</td>\n",
       "      <td>03/01/2010</td>\n",
       "      <td>Enero</td>\n",
       "      <td>clienteC</td>\n",
       "      <td>si</td>\n",
       "      <td>75</td>\n",
       "      <td>normal</td>\n",
       "      <td>18</td>\n",
       "      <td>13.5</td>\n",
       "      <td>88.5</td>\n",
       "    </tr>\n",
       "    <tr>\n",
       "      <th>3</th>\n",
       "      <td>4</td>\n",
       "      <td>04/01/2010</td>\n",
       "      <td>Enero</td>\n",
       "      <td>clienteD</td>\n",
       "      <td>si</td>\n",
       "      <td>200</td>\n",
       "      <td>normal</td>\n",
       "      <td>18</td>\n",
       "      <td>36.0</td>\n",
       "      <td>236.0</td>\n",
       "    </tr>\n",
       "    <tr>\n",
       "      <th>4</th>\n",
       "      <td>5</td>\n",
       "      <td>05/01/2010</td>\n",
       "      <td>Enero</td>\n",
       "      <td>clienteA</td>\n",
       "      <td>no</td>\n",
       "      <td>125</td>\n",
       "      <td>normal</td>\n",
       "      <td>18</td>\n",
       "      <td>22.5</td>\n",
       "      <td>147.5</td>\n",
       "    </tr>\n",
       "  </tbody>\n",
       "</table>\n",
       "</div>"
      ],
      "text/plain": [
       "   id       fecha    mes   cliente factura_pagada  importe_factura tipo_IVA  \\\n",
       "0   1  01/01/2010  Enero  clienteA             si              100   normal   \n",
       "1   2  02/01/2010  Enero  clienteB             no              150   normal   \n",
       "2   3  03/01/2010  Enero  clienteC             si               75   normal   \n",
       "3   4  04/01/2010  Enero  clienteD             si              200   normal   \n",
       "4   5  05/01/2010  Enero  clienteA             no              125   normal   \n",
       "\n",
       "   porcentaje_IVA   IVA  total_pagado  \n",
       "0              18  18.0         118.0  \n",
       "1              18  27.0         177.0  \n",
       "2              18  13.5          88.5  \n",
       "3              18  36.0         236.0  \n",
       "4              18  22.5         147.5  "
      ]
     },
     "execution_count": 40,
     "metadata": {},
     "output_type": "execute_result"
    }
   ],
   "source": [
    "# importando librerias\n",
    "import pandas as pd\n",
    "import numpy as np\n",
    "import matplotlib.pyplot as plt\n",
    "\n",
    "# definición de la url de los datos\n",
    "url = 'https://github.com/md-lorente/data/blob/master/datos_facturas.csv?raw=true'\n",
    "\n",
    "# creacion Dataframe\n",
    "df_org = pd.read_csv(url, sep=';', decimal=',')\n",
    "\n",
    "# visualización del dataframe (la cabecera)\n",
    "df_org.head()\n"
   ]
  },
  {
   "attachments": {},
   "cell_type": "markdown",
   "metadata": {},
   "source": [
    "### Análisis del dataset"
   ]
  },
  {
   "attachments": {},
   "cell_type": "markdown",
   "metadata": {},
   "source": [
    "Navegaremos en el dataset para ver su estructura, esquema, completitud y los conjuntos de valores de las variables."
   ]
  },
  {
   "attachments": {},
   "cell_type": "markdown",
   "metadata": {},
   "source": [
    "#### Forma y esquema"
   ]
  },
  {
   "cell_type": "code",
   "execution_count": 41,
   "metadata": {},
   "outputs": [
    {
     "name": "stdout",
     "output_type": "stream",
     "text": [
      "<class 'pandas.core.frame.DataFrame'>\n",
      "RangeIndex: 45 entries, 0 to 44\n",
      "Data columns (total 10 columns):\n",
      " #   Column           Non-Null Count  Dtype  \n",
      "---  ------           --------------  -----  \n",
      " 0   id               45 non-null     int64  \n",
      " 1   fecha            45 non-null     object \n",
      " 2   mes              45 non-null     object \n",
      " 3   cliente          45 non-null     object \n",
      " 4   factura_pagada   45 non-null     object \n",
      " 5   importe_factura  45 non-null     int64  \n",
      " 6   tipo_IVA         45 non-null     object \n",
      " 7   porcentaje_IVA   45 non-null     int64  \n",
      " 8   IVA              45 non-null     float64\n",
      " 9   total_pagado     45 non-null     float64\n",
      "dtypes: float64(2), int64(3), object(5)\n",
      "memory usage: 3.6+ KB\n",
      "None\n"
     ]
    }
   ],
   "source": [
    "# copiamos dataframe para no alterar original\n",
    "df_aux = df_org.copy()\n",
    "\n",
    "# resumen información del dataset\n",
    "print(df_aux.info())"
   ]
  },
  {
   "cell_type": "code",
   "execution_count": 42,
   "metadata": {},
   "outputs": [
    {
     "data": {
      "text/plain": [
       "(45, 10)"
      ]
     },
     "execution_count": 42,
     "metadata": {},
     "output_type": "execute_result"
    }
   ],
   "source": [
    "# controlamos forma del dataset\n",
    "df_aux.shape"
   ]
  },
  {
   "attachments": {},
   "cell_type": "markdown",
   "metadata": {},
   "source": [
    "Contamos con 45 observaciones y 10 variables."
   ]
  },
  {
   "attachments": {},
   "cell_type": "markdown",
   "metadata": {},
   "source": [
    "#### Completitud"
   ]
  },
  {
   "cell_type": "code",
   "execution_count": 43,
   "metadata": {},
   "outputs": [
    {
     "data": {
      "text/plain": [
       "id                 0\n",
       "fecha              0\n",
       "mes                0\n",
       "cliente            0\n",
       "factura_pagada     0\n",
       "importe_factura    0\n",
       "tipo_IVA           0\n",
       "porcentaje_IVA     0\n",
       "IVA                0\n",
       "total_pagado       0\n",
       "dtype: int64"
      ]
     },
     "execution_count": 43,
     "metadata": {},
     "output_type": "execute_result"
    }
   ],
   "source": [
    "# controlamos valores nulos en los datos\n",
    "df_aux.isna().sum()"
   ]
  },
  {
   "attachments": {},
   "cell_type": "markdown",
   "metadata": {},
   "source": [
    "No se registran valores nulos en el dataset."
   ]
  },
  {
   "attachments": {},
   "cell_type": "markdown",
   "metadata": {},
   "source": [
    "#### Conjunto de valores"
   ]
  },
  {
   "cell_type": "code",
   "execution_count": 44,
   "metadata": {},
   "outputs": [
    {
     "name": "stdout",
     "output_type": "stream",
     "text": [
      "mes\n",
      "Enero      31\n",
      "Febrero    14\n",
      "Name: count, dtype: int64\n",
      "cliente\n",
      "clienteA    14\n",
      "clienteB    11\n",
      "clienteD    11\n",
      "clienteC     9\n",
      "Name: count, dtype: int64\n",
      "factura_pagada\n",
      "si    31\n",
      "no    14\n",
      "Name: count, dtype: int64\n",
      "importe_factura\n",
      "100    12\n",
      "200     8\n",
      "150     6\n",
      "75      6\n",
      "125     6\n",
      "175     4\n",
      "50      1\n",
      "25      1\n",
      "30      1\n",
      "Name: count, dtype: int64\n",
      "tipo_IVA\n",
      "normal      36\n",
      "reducido     9\n",
      "Name: count, dtype: int64\n",
      "porcentaje_IVA\n",
      "18    36\n",
      "8      9\n",
      "Name: count, dtype: int64\n"
     ]
    }
   ],
   "source": [
    "# controlamos valores posibles de las variables\n",
    "\n",
    "# descomentar si se quisiera apreciar las variables 'fecha' e 'id' \n",
    "# fechas = pd.to_datetime(df_org['fecha'], format='%d/%m/%Y' )\n",
    "# print(df_org['id'].sort_index)\n",
    "# print(fechas.value_counts().sort_index())\n",
    "\n",
    "print(df_aux['mes'].value_counts())\n",
    "print(df_aux['cliente'].value_counts())\n",
    "print(df_aux['factura_pagada'].value_counts())\n",
    "print(df_aux['importe_factura'].value_counts())\n",
    "print(df_aux['tipo_IVA'].value_counts())\n",
    "print(df_aux['porcentaje_IVA'].value_counts())"
   ]
  },
  {
   "attachments": {},
   "cell_type": "markdown",
   "metadata": {},
   "source": [
    "#### Análisis de los tipos de variables"
   ]
  },
  {
   "attachments": {},
   "cell_type": "markdown",
   "metadata": {},
   "source": [
    "\n",
    "1. id: Id secuencial identificador de la factura. Es una variable numerica consecutiva y entera. Es una variable cualitativa ordinal.\n",
    "2. fecha: Fecha en la que se generó la factura. Formato DD/MM/AAAA. Valores que van del 14/01/2010 al 14/02/2010. Lo utilizaremos para agrupar los datos. Es una variable cualitativa ordinal.\n",
    "3. mes: Mes en el que se realizó la compra. Variable tipo texto. Sin el año, conocer el mes puede generar errores o resultados inesperados. Puede ser inferido con la variable *fecha*. Tendrá repeticiones anuales. Variable cualitativa ordinal.\n",
    "4. cliente: Tipo de cliente. Variable categórica que nos sirve para agrupar. A pesar de que el set de datos muestra valores secuenciales, vamos a considerar que es una variable clasificatoria nominal y que los datos con los que se cuentan representan una segmento pequeño del total de información.\n",
    "5. factura_pagada: Indica si la factura está pagada o no. Es una variable binaria asimetrica ya que uno de sus valores indica ausencia y el otro presencia.\n",
    "6. importe_factura: Importe neto de la factura sin IVA. Variable numerica continua. En el dataset solo encontramos valores enteros, sin embargo vamos a considerar solo contamos con una fracción total de los datos y que la variable puede contener decimales. Variable numerica que utilizaremos para operar. Por lo que será considerada cuantitativa continua.\n",
    "7. tipo_IVA: indica los posible valores de IVA aplicado. En España, donde éste trabajo tiene su desarrollo, existen actualmente multiples tipos de IVA. Hacienda comparte un [pdf](https://sede.agenciatributaria.gob.es/static_files/Sede/Tema/IVA/IVA_repercTipos_IVA_2024.pdf) donde indica la existencia de: Tipo general con una alicuota del 21%, Tipo reducidos con alícuotas que van del 5% al 21%. Tipo superreducidos con alícuotas entre 0% y 21%. Es una variable que nos permite agrupar y calificar. No posee orden específico. Es una variable cualitativa nominal.\n",
    "8. porcentaje_IVA: Indica la alícuota aplicada. Cada tipo de iva tiene sus porcentajes dependiendo del rubro/sector de la actividad. Si bien es una variable numérica y los valores que eventualmente puede tomar el iva van de 0 a 100 con todos los decimales que se requiera. En general la variabilidad de las alícuotas es bajo, actualmente en España son cinco valores: 0%, 4%, 5%, 10%, 21%. Por lo que utilizaremos esta variable para agrupar y calificar las observaciones. Es una variable cualitativa nominal.\n",
    "9. IVA: Importe correspondiente al IVA. Variable numerica que utilizaremos para operar. Es una variable cuantitativa continua.\n",
    "10. total_pagado:Importe bruto de la factura (neto mas IVA). Variable numerica que utilizaremos para operar. Es una variable cuantitativa continua.\n",
    "    "
   ]
  },
  {
   "attachments": {},
   "cell_type": "markdown",
   "metadata": {},
   "source": [
    "### Apartado 1"
   ]
  },
  {
   "attachments": {},
   "cell_type": "markdown",
   "metadata": {},
   "source": [
    "#### Analisis de la variable *total_pagado*\n",
    "Representa el importe bruto de la factura, es decir, el *importe neto* mas el *importe IVA*. Está expresada en Euros. Es una variable cuantitativa continua, por lo que podremos obtener medidas de centralización, disperción, posición, concentración y forma."
   ]
  },
  {
   "attachments": {},
   "cell_type": "markdown",
   "metadata": {},
   "source": [
    "##### Frecuencias absolutas y relativas\n",
    "Como mencionamos anteriormente contamos con un dataset reducido, por lo que ver todos los posibles valores de la variable *total_pagado* y sus frecuencias absolutas no es un inconveniente. En caso de crecer el numero de observaciones este apartado se debería resolver con análisis de frecuencias agrupadas."
   ]
  },
  {
   "cell_type": "code",
   "execution_count": 45,
   "metadata": {},
   "outputs": [
    {
     "name": "stdout",
     "output_type": "stream",
     "text": [
      "total_pagado\n",
      "29.5     1\n",
      "32.4     1\n",
      "59.0     1\n",
      "88.5     6\n",
      "108.0    4\n",
      "118.0    8\n",
      "135.0    2\n",
      "147.5    4\n",
      "177.0    6\n",
      "189.0    2\n",
      "206.5    2\n",
      "236.0    8\n",
      "Name: count, dtype: int64\n"
     ]
    }
   ],
   "source": [
    "# controlamos valores existentes\n",
    "print(df_aux['total_pagado'].value_counts().sort_index())"
   ]
  },
  {
   "attachments": {},
   "cell_type": "markdown",
   "metadata": {},
   "source": [
    "En consonancia con lo anterior, la cantidad de valores que adopta la variable *total_pagado* es relativamente bajo y por lo tanto visualizar las distribuciones de frecuencias absolutas tampoco es problematico y agrega valor a la interpretación. Sabiendo que son 12 valores diferentes los que integran el dominio de la variable para las 45 observaciones que se tienen, y que si crece el numero de observaciones y el de valores de la variable, el análisis debería adecuarse a dicha situación.\n",
    "\n",
    "Obtendremos el números de clases con la Regla de Sturges para N no demasiado grandes:\n",
    "$$\n",
    "\\begin{align*}\n",
    "clases &= \\sqrt{N}\\\\\n",
    "clases &= \\sqrt{45}\\\\\n",
    "clases &= 6.70\\\\\n",
    "clases &\\approx 7\n",
    "\\end{align*}\n",
    "$$\n"
   ]
  },
  {
   "cell_type": "code",
   "execution_count": 51,
   "metadata": {},
   "outputs": [
    {
     "data": {
      "image/png": "[encoded data removed]",
      "text/plain": [
       "<Figure size 640x480 with 1 Axes>"
      ]
     },
     "metadata": {},
     "output_type": "display_data"
    }
   ],
   "source": [
    "# obtenemos frecuencias relativas de la variable\n",
    "frecuencia_total_pagado = df_aux['total_pagado'].value_counts(normalize=True).sort_index()\n",
    "\n",
    "# creamos un histograma para la visualizar las frecuencias absolutas de la variable precio\n",
    "plt.hist(df_aux['total_pagado'], bins=7, edgecolor='black')  # Ajustar bins según sea necesario\n",
    "plt.title(\"Histograma de 'total_pagado'\")\n",
    "plt.xlabel('total_pagado')\n",
    "plt.ylabel('frecuencia')\n",
    "plt.show()"
   ]
  },
  {
   "attachments": {},
   "cell_type": "markdown",
   "metadata": {},
   "source": [
    "##### Medidas de centralización"
   ]
  },
  {
   "attachments": {},
   "cell_type": "markdown",
   "metadata": {},
   "source": [
    "No agruparemos los datos de la variable en tramos debido a la baja cantidad de observaciones, y para obtener los resultados con la mayor precisión posible."
   ]
  },
  {
   "cell_type": "code",
   "execution_count": 25,
   "metadata": {},
   "outputs": [
    {
     "name": "stdout",
     "output_type": "stream",
     "text": [
      "147.30888888888887\n"
     ]
    }
   ],
   "source": [
    "# encontramos media \n",
    "media = df_aux['total_pagado'].mean()\n",
    "print(media)"
   ]
  },
  {
   "cell_type": "code",
   "execution_count": 26,
   "metadata": {},
   "outputs": [
    {
     "name": "stdout",
     "output_type": "stream",
     "text": [
      "135.0\n"
     ]
    }
   ],
   "source": [
    "# encontramos mediana\n",
    "mediana = df_aux['total_pagado'].median()\n",
    "print(mediana)"
   ]
  },
  {
   "cell_type": "code",
   "execution_count": 27,
   "metadata": {},
   "outputs": [
    {
     "name": "stdout",
     "output_type": "stream",
     "text": [
      "0    118.0\n",
      "1    236.0\n",
      "Name: total_pagado, dtype: float64\n"
     ]
    }
   ],
   "source": [
    "# encontramos las modas\n",
    "modas = df_aux['total_pagado'].mode()\n",
    "print(modas)"
   ]
  },
  {
   "attachments": {},
   "cell_type": "markdown",
   "metadata": {},
   "source": [
    "Visualizamos los valores de concentración en el histograma de frecuencias anterior."
   ]
  },
  {
   "cell_type": "code",
   "execution_count": 71,
   "metadata": {},
   "outputs": [
    {
     "data": {
      "image/png": "[encoded data removed]",
      "text/plain": [
       "<Figure size 640x480 with 1 Axes>"
      ]
     },
     "metadata": {},
     "output_type": "display_data"
    }
   ],
   "source": [
    "# creamos un histograma para la visualizar las frecuencias absolutas de la variable precio\n",
    "plt.hist(df_aux['total_pagado'], bins=7, edgecolor='black')  # Ajustar bins según sea necesario\n",
    "plt.title(\"Histograma de 'total_pagado'\")\n",
    "plt.xlabel('total_pagado')\n",
    "plt.ylabel('frecuencia')\n",
    "plt.axvline(media, color='brown', linestyle='dashed', linewidth=2, label=f'media: {media:.2f}')\n",
    "plt.axvline(mediana, color='orange', linestyle='dashed', linewidth=2, label=f'mediana: {mediana:.2f}')\n",
    "plt.axvline(modas[1], color='lime', linestyle='dashed', linewidth=2, label=f'moda1: {modas[0]:.2f}')\n",
    "plt.axvline(modas[0], color='lime', linestyle='dashed', linewidth=2, label=f'moda2: {modas[1]:.2f}')\n",
    "# Añadir una leyenda\n",
    "plt.legend()\n",
    "plt.show()\n",
    "\n"
   ]
  },
  {
   "attachments": {},
   "cell_type": "markdown",
   "metadata": {},
   "source": [
    "Podemos observar que la *media* es ligeramente mas alta que la *mediana* con valores de *147.3 euros* y *135.0 euros* respectivamente. Debido a la sensibilidad de la media respecto a valores extremos esta diferencia probablemente exprese un desbalance hacia arriba de los datos, que lleven la media a elevarse.\n",
    "\n",
    "A su vez podemos ver que tenemos dos modas: 118.0 euros y 236.0 euros, ambas con 8 ocurrencias. Esto quiere decir que son los importes pagados con mayor frecuencia. Casualmente 236.0 es un valor alejado en 101 euros de la mediana, explicando una de las razones por la que la media es más elevada que la mediana."
   ]
  },
  {
   "attachments": {},
   "cell_type": "markdown",
   "metadata": {},
   "source": [
    "##### Medidas de disperción"
   ]
  },
  {
   "cell_type": "code",
   "execution_count": null,
   "metadata": {},
   "outputs": [
    {
     "name": "stdout",
     "output_type": "stream",
     "text": [
      "29.5\n",
      "236.0\n"
     ]
    }
   ],
   "source": [
    "# encontramos minimo y maximo\n",
    "min = df_org['total_pagado'].min()\n",
    "max = df_org['total_pagado'].max()\n",
    "print(min)\n",
    "print(max)"
   ]
  },
  {
   "cell_type": "code",
   "execution_count": null,
   "metadata": {},
   "outputs": [
    {
     "name": "stdout",
     "output_type": "stream",
     "text": [
      "3356.593555555555\n"
     ]
    }
   ],
   "source": [
    "# encontramos varianza \n",
    "var = df_org['total_pagado'].var()\n",
    "print(var)"
   ]
  },
  {
   "cell_type": "code",
   "execution_count": null,
   "metadata": {},
   "outputs": [
    {
     "name": "stdout",
     "output_type": "stream",
     "text": [
      "57.93611615871015\n"
     ]
    }
   ],
   "source": [
    "# encontramos desviacion standard\n",
    "std = df_org['total_pagado'].std()\n",
    "print(std)"
   ]
  },
  {
   "attachments": {},
   "cell_type": "markdown",
   "metadata": {},
   "source": [
    "Obtenemos Coeficiente de Variación de Sperman, utilizando la siguiente definición:\n",
    "$$\n",
    "\\begin{align*}\n",
    "CV = \\frac{\\sigma}{\\overline{x}}\n",
    "\\end{align*}\n",
    "$$"
   ]
  },
  {
   "cell_type": "code",
   "execution_count": null,
   "metadata": {},
   "outputs": [
    {
     "name": "stdout",
     "output_type": "stream",
     "text": [
      "0.39329681050279186\n"
     ]
    }
   ],
   "source": [
    "cv = std / media\n",
    "print(cv)"
   ]
  },
  {
   "attachments": {},
   "cell_type": "markdown",
   "metadata": {},
   "source": [
    "Vemos que la variable tiene un *recorrido de 206.5 euros*, que va de 29.5 a 236.5 euros. A su vez obtenemos un valor de *varianza de 3356.59*. Para ayudar en la interpretación obtenemos el valor de *desviación estandar de 57.9 euros*, que para una muestra con *media de 147.3 euros* expresa variabilidad moderada.\n",
    "\n",
    "Para facilitar la interpretación de la variable, utilizamos el Coeficiente de Variación de Sperman, que pondera el valor de la desviación estandar, sobre el valor medio de la muestra. Esta medida de disperción no da un 39%, y como es menor a un 80%, podemos decir que la media aritmética es representativa de la muestra, y por lo tanto el conjunto de datos es homogeneo."
   ]
  },
  {
   "attachments": {},
   "cell_type": "markdown",
   "metadata": {},
   "source": [
    "##### Medidas de posición"
   ]
  },
  {
   "cell_type": "code",
   "execution_count": null,
   "metadata": {},
   "outputs": [
    {
     "name": "stdout",
     "output_type": "stream",
     "text": [
      "81.0\n"
     ]
    }
   ],
   "source": [
    "# obtenemos Q1 y Q3\n",
    "q1 = df_org['total_pagado'].quantile(0.25)\n",
    "q3 = df_org['total_pagado'].quantile(0.75)\n",
    "\n",
    "# obtenemos rango intercuartílico\n",
    "rq = q3 - q1\n",
    "\n",
    "print(rq)"
   ]
  },
  {
   "cell_type": "code",
   "execution_count": null,
   "metadata": {},
   "outputs": [
    {
     "name": "stdout",
     "output_type": "stream",
     "text": [
      "88.5\n"
     ]
    }
   ],
   "source": [
    "# obtenemos decil primero\n",
    "d1 = df_org['total_pagado'].quantile(0.10)\n",
    "print(d1)"
   ]
  },
  {
   "cell_type": "code",
   "execution_count": null,
   "metadata": {},
   "outputs": [
    {
     "name": "stdout",
     "output_type": "stream",
     "text": [
      "236.0\n"
     ]
    }
   ],
   "source": [
    "# obtenemos percentil 90\n",
    "p1 = df_org['total_pagado'].quantile(0.90)\n",
    "print(p1)"
   ]
  },
  {
   "attachments": {},
   "cell_type": "markdown",
   "metadata": {},
   "source": [
    "##### Medidas de concentración y forma"
   ]
  }
 ],
 "metadata": {
  "kernelspec": {
   "display_name": "Kernel 1",
   "language": "python",
   "name": "kernel-1"
  },
  "language_info": {
   "codemirror_mode": {
    "name": "ipython",
    "version": 3
   },
   "file_extension": ".py",
   "mimetype": "text/x-python",
   "name": "python",
   "nbconvert_exporter": "python",
   "pygments_lexer": "ipython3",
   "version": "3.12.1"
  }
 },
 "nbformat": 4,
 "nbformat_minor": 4
}
