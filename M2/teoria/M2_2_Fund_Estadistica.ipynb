{
  "cells": [
    {
      "attachments": {},
      "cell_type": "markdown",
      "metadata": {
        "id": "qRNdbPLqB7hQ"
      },
      "source": [
        "# **Fundamentos de Estadística**\n",
        "\n",
        "---\n",
        "---\n",
        "<!-- Star Wars: Episodio II - El ataque de los clones -->\n",
        "\n",
        "\n",
        "<!-- script html for image -->\n",
        "<figure>\n",
        "<center>\n",
        "<img src='https://upload.wikimedia.org/wikipedia/commons/5/52/Sw-ep2-logo.png' width=\"500\" height=\"150\" />\n",
        "<figcaption></figcaption></center>\n",
        "</figure>\n",
        "\n",
        "Fuente de la imagen: [https://es.wikipedia.org](https://es.wikipedia.org/wiki/Star_Wars:_Episodio_II_-_El_ataque_de_los_clones)\n"
      ]
    },
    {
      "attachments": {},
      "cell_type": "markdown",
      "metadata": {
        "id": "c3MfC8t0mHx5"
      },
      "source": [
        "# **Índice**\n",
        "\n",
        "---\n",
        "\n",
        "\n",
        "\n",
        "\n"
      ]
    },
    {
      "attachments": {},
      "cell_type": "markdown",
      "metadata": {
        "id": "l-p6H-isRNjh"
      },
      "source": [
        "> [Fundamentos de Estadística](#scrollTo=qRNdbPLqB7hQ&line=6&uniqifier=1)\n",
        "<br>\n",
        ">>\n",
        ">> [2 - Estadística Descriptiva Unidimensional](#scrollTo=OybWl-c0W-XH&line=1&uniqifier=1) \\\\\n",
        ">>> [2.1. Distribución de frecuencias, tablas estadísticas y métodos gráficos](#scrollTo=Yjb1QeDlUKHP&line=1&uniqifier=1) \\\\\n",
        ">>>> [2.1.1. Frecuencia Absoluta](#scrollTo=MxXJSTdvKYmS&line=18&uniqifier=1) \\\\\n",
        ">>>> [2.1.2. Frecuencia Relativa](#scrollTo=rl-bP927Oplp&line=1&uniqifier=1) \\\\\n",
        ">>>> [2.1.3. Frecuencia Acumulada](#scrollTo=PTm_p3LjRQZn&line=1&uniqifier=1) \\\\\n",
        ">>>> [2.1.4. Tablas estadísticas](#scrollTo=6HnglnYBgivj&line=7&uniqifier=1) \\\\\n",
        ">>>> [2.1.5. Métodos gráficos](#scrollTo=-jUznn5ybOeg) \\\\\n",
        ">>>>\n",
        ">>>[Actividad: Titanic](#scrollTo=888YRcZvboKo) \\\\\n",
        ">>>>\n",
        ">>>>[Solución](#scrollTo=9hwMygGjMSsm) \\\\\n",
        ">>>>\n",
        ">>>>\n",
        ">>>[2.2. Medidas de centralización, dispersión, posición, concentración y forma. Gráficos.](#scrollTo=d12gyirKdynL&line=5&uniqifier=1)\n",
        ">>>> [2.2.1. Medidas de Centralización](#scrollTo=-fO1EQ0OyfJL&line=1&uniqifier=1) \\\\\n",
        ">>>> [2.2.2. Medidas de Dispersión](#scrollTo=u2eiagA2xPec&line=1&uniqifier=1) \\\\\n",
        ">>>> [2.2.3. Medidas de Posición](#scrollTo=wDpjV6eIaVkT) \\\\\n",
        ">>>> [2.2.4. Medidas de Concentración y forma](#scrollTo=Q7wux1IYybrb&line=3&uniqifier=1) \\\\\n",
        ">>>> [2.2.5. Métodos gráficos](#scrollTo=dYyJv2cIHLpL&line=1&uniqifier=1) \\\\\n",
        ">>>>\n",
        ">>> [Actividad: Titanic](#scrollTo=IpHk48ZJJWxL&line=8&uniqifier=1) \\\\\n",
        ">>>>\n",
        ">>>>[Solución](#scrollTo=MhecfIWoNNIH) \\\\\n",
        ">>>>\n",
        ">>\n",
        ">> [Ideas Clave](#scrollTo=pDOYCNKbDNUI&line=20&uniqifier=1) \\\\\n",
        "\n",
        "<br>\n",
        "\n",
        "< [1 - Introducción a la Estadística](https://colab.research.google.com/drive/1QjskktIR5hzTKVuEUzosrcgYJ4gmo872?usp=sharing) |\n",
        "[3 - Estadística Descriptiva Bidimensional](https://colab.research.google.com/drive/1zkj_jhGyKEAzCq4WEZ-HMbDlCxtlVCYO?usp=sharing) >\n",
        "\n"
      ]
    },
    {
      "attachments": {},
      "cell_type": "markdown",
      "metadata": {
        "id": "OybWl-c0W-XH"
      },
      "source": [
        "# 2 - Estadística Descriptiva Unidimensional\n",
        "\n",
        "La estadística descriptiva se ocupa de tomar los datos de un conjunto dado, **organizarlos en tablas o representaciones gráficas** y del cálculo de unos números que **nos informen, de manera global, del conjunto estudiado**.\n",
        "\n",
        "La estadística descriptiva unidimensional o univariante **se centra en el análisis de una única característica** o cualidad del individuo. Las características a analizar presentan $k$ variables (modalidades o características), que son exhaustivas y mutuamente excluyentes."
      ]
    },
    {
      "attachments": {},
      "cell_type": "markdown",
      "metadata": {
        "id": "Yjb1QeDlUKHP"
      },
      "source": [
        "## 2.1. Distribución de frecuencias, tablas estadísticas y métodos gráficos\n",
        "\n",
        "La distribución de frecuencias o tabla de frecuencias **es una ordenación** en forma de tabla de los datos estadísticos, asignando a cada dato su frecuencia correspondiente."
      ]
    },
    {
      "attachments": {},
      "cell_type": "markdown",
      "metadata": {
        "id": "MxXJSTdvKYmS"
      },
      "source": [
        "### 2.1.1. Frecuencia Absoluta\n",
        "\n",
        "La **frecuencia absoluta** de un valor o modalidad de una variable estadística es el **número de veces** que el valor o modalidad aparece en la población objeto de estudio. Se representa por  $n_{i}$.\n",
        "\n",
        "La **suma** de las frecuencias absolutas es igual al número total de datos, que se representa por **N** (también se dice que **N** es el número de observaciones o frecuencia total).\n",
        "\n",
        "\n",
        "Su fórmula es:\n",
        "\n",
        "$$\n",
        " {\\sum_{i=1}^{k} n_{i} = N} $$\n",
        "\n",
        "\n",
        "La propiedad de la frecuencia absoluta la verificaremos a través del siguiente sumatorio:\n",
        "\n",
        "> $\\sum_{i=1}^{k} n_{i} = n_{1} + n_{2} + n_{3} + \\ldots + n_{k}= N $\n",
        "\n",
        "\n",
        "donde:  $ \\quad 0 \\leq n_{i} \\leq N  \\quad y \\quad i = 1 , 2 , 3 , \\ldots \\in \\Bbb N $\n",
        "\n",
        "<br>\n",
        "\n",
        "$\\bbox{Ejemplo}$\n",
        "\n",
        "Las edades de los participantes de un concurso de ajedrez son: 18, 13, 12, 14, 11, 12, 15, 20, 18, 14, 15, 11, 10, 10, 11, 13, 15, 16, 12, 11.\n",
        "\n",
        "*  La frecuencia absoluta de 10 es 2, porque la edad de 10 años se repite 2 veces.\n",
        "*  La frecuencia absoluta de 15 es 3, porque la edad de 15 años se repite 3 veces."
      ]
    },
    {
      "attachments": {},
      "cell_type": "markdown",
      "metadata": {
        "id": "rl-bP927Oplp"
      },
      "source": [
        "### 2.1.2. Frecuencia Relativa\n",
        "\n",
        "**La frecuencia relativa** es el cociente entre la frecuencia absoluta de un determinado valor y el número total de datos, o dicho de otro modo, **es el resultado de dividir la frecuencia absoluta entre el tamaño de la población**. Se puede expresar en tantos por ciento y se representa por $f_{i}$.\n",
        "\n",
        "La suma de las frecuencias relativas es igual a **1**.\n",
        "\n",
        "Su fórmula es:\n",
        "\n",
        "$$ { f_{i} = \\frac{n_{i}}{N}} $$\n",
        "\n",
        "\n",
        "La propiedad de la frecuencia relativa la verificaremos a través del siguiente sumatorio:\n",
        "\n",
        "> $\\sum_{i=1}^{k} f_{i} = f_{1} + f_{2} + f_{3} + \\ldots + f_{k}= 1 $\n",
        "\n",
        "donde:  $ \\quad 0 \\leq f_{i} \\leq 1  $\n",
        "\n",
        "<br>\n",
        "\n",
        "$$\n",
        "\n",
        "Las edades de los 20 participantes de un concurso de ajedrez son: 18, 13, 12, 14, 11, 12, 15, 20, 18, 14, 15, 11, 10, 10, 11, 13, 15, 16, 12, 11.\n",
        "\n",
        "*  La frecuencia relativa de 10 es 2/20, que es la frecuencia absoluta/total de la cantidad de los datos.\n",
        "\n",
        "*  La frecuencia relativa de 15 es 3/20, que es la frecuencia absoluta/ total de la cantidad de los datos.\n"
      ]
    },
    {
      "attachments": {},
      "cell_type": "markdown",
      "metadata": {
        "id": "PTm_p3LjRQZn"
      },
      "source": [
        "### 2.1.3. Frecuencia Acumulada\n",
        "\n",
        "La **frecuencia acumulada** es la suma de las frecuencias absolutas o relativas de todos los valores inferiores o iguales al valor considerado. Se representan con las letras mayúsculas  $N_{i}$ y  $F_{i}$, respectivamente.\n",
        "\n",
        "\\\\\n",
        "\n",
        "<p> <mark>OBSERVACIÓN</mark> </p>\n",
        "<hr>\n",
        "\n",
        "La frecuencia relativa (o la frecuencia relativa acumulada) se suele expresar o representar en **tanto por ciento**.\n",
        "\n",
        "\\\\\n",
        "\n",
        "$$\n",
        "\n",
        "Las edades de los 20 participantes de un concurso de ajedrez son: 18, 13, 12, 14, 11, 12, 15, 20, 18, 14, 15, 11, 10, 10, 11, 13, 15, 16, 12, 11.\n",
        "\n",
        "\n",
        "*   Frecuencia Absoluta Acumulada\n",
        "\n",
        "  *   La frecuencia absoluta acumulada de 10 es 2, ya que el primer elemento no varÍa de la frecuencia absoluta.\n",
        "  *   La frecuencia absoluta acumulada de 15 es 16, que es el resultado de sumar todas las frecuencias hasta el elemento 15.\n",
        "\n",
        "\n",
        "*   Frecuencia Relativa Acumulada\n",
        "\n",
        "  *   La frecuencia relativa acumulada de 10 es 2/20, que es igual que la frecuencia absoluta dividido entre el total de la cantidad de los datos. Al igual que antes, el primer elemento no varÍa.\n",
        "  *   La frecuencia relativa acumulada de 15 es 16/20=0.8, que es la frecuencia relativa del elemento 15 dividido entre el total de la cantidad de los datos.\n",
        "\n"
      ]
    },
    {
      "attachments": {},
      "cell_type": "markdown",
      "metadata": {
        "id": "6HnglnYBgivj"
      },
      "source": [
        "### 2.1.4. Tablas estadísticas\n",
        "\n",
        "Como puedes observar, el cálculo de las frecuencias acumuladas, parece complejo de calcular a primera vista, pero en realidad es sencillo.\n",
        "\n",
        "**Para simplificar y dar transparencia al cálculo** tanto de los componentes básicos y principales de estadística así como a cálculos más complejos que se verán más adelante, **se usan las tablas de frecuencias**.\n",
        "\n"
      ]
    },
    {
      "attachments": {},
      "cell_type": "markdown",
      "metadata": {
        "id": "Llz8iaU4v1Pg"
      },
      "source": [
        "2.1.4.1. **Tablas estadísticas para variables discretas (datos no agrupados)**\n",
        "\n",
        "\n",
        "Veamos el ejemplo en el que se acaban de calcular todas las frecuencias, pero esta vez se agruparán y resumirán en una tabla de frecuencias.\n",
        "\n",
        "Teníamos la siguiente entrada de información: 18, 13, 12, 14, 11, 12, 15, 20, 18, 14, 15, 11, 10, 10, 11, 13, 15, 16, 12, 11.\n",
        "\n",
        "Luego, la tabla para datos no agrupados o variables discretas es:\n",
        "\n",
        "| $x_{i}$ |   $$n_{i}$$    |     $N_{i}$    |     $f_{i}$    |    $F_{i}$   \n",
        "|---------|--------------|----------------|----------------|-------------|\n",
        "| 10 | 2         | 2     | 2/20 = 0,1       | 2/20 =  0,1       |  \n",
        "| 11 | 4         | 6     | 4/20 = 0,2       | 6/20 = 0,3        |   \n",
        "| 12 | 3         | 9     | 3/20 = 0,15      | 9/20 = 0,45       |   \n",
        "| 13 | 2         | 11    | 2/20 = 0,1       | 11/20 = 0,55      |   \n",
        "| 14 | 2         | 13    | 2/20 = 0,1       | 13/20 = 0,65      |   \n",
        "| 15 | 3         | 16    | 3/20 = 0,15      | 16/20 = 0,8       |   \n",
        "| 16 | 1         | 17    | 1/20 = 0,05      | 17/20 = 0,85      |   \n",
        "| 18 | 2         | 19    | 2/20 = 0,1       | 19/20 = 0,95      |   \n",
        "| 20 | 1         | 20    | 1/20 = 0,05      | 20/20 = 1         |   \n",
        "\n",
        "\n",
        "Así, se obtiene de manera sencilla y rápida el cálculo de las 4 tipologías de cálculo de las frecuencias (absoluta y relativa) tanto acumulativa como no.\n",
        "\n",
        "Como \"buena costumbre\" realizaremos un sumatorio al final del cálculo, que servirá de medida de comprobación de que los cálculos se han realizado correctamente. En él se busca el cumplimiento de las propiedades de las frecuencias.\n",
        "\n",
        "En el siguiente ejemplo se añadirá esta línea adicional.\n",
        "\n",
        "\\\\\n",
        "\n",
        "$$\n",
        "\n",
        "En una empresa quieren ver la edad media de sus trabajadores/as. Para ello, se han registrado los siguientes datos de edades: 32, 31, 28, 29, 33, 32, 31, 30, 31, 31, 27, 28, 29, 30, 32, 31, 31, 30, 30, 29, 29, 30, 30, 31, 30, 31, 34, 33, 33, 29, 29.\n",
        "\n",
        "<center><b>\n",
        "\n",
        "TABLA PARA DATOS NO AGRUPADOS\n",
        "\n",
        "</center></b>\n",
        "\n",
        "| $x_{i}$        | Recuento    |    $$n_{i}$$   |    $N_{i}$    |     $f_{i}$               |   $F_{i}$              |\n",
        "|-----------|-------------|-----------|-----------|----------------------|----------------------|\n",
        "|     27    |     I       |     1     |     1     |     1/31 = 0.032     |     1/31 = 0.032     |\n",
        "|     28    |     II      |     2     |     3     |     2/31 = 0.065     |     3/31 = 0.097     |\n",
        "|     29    |     VI      |     6     |     9     |      6/31 = 0.194    |     9/31 = 0.290     |\n",
        "|     30    |     VII     |     7     |     16    |     7/31 = 0.226     |     16/31 = 0.516    |\n",
        "|     31    |     VIII    |     8     |     24    |     8/31 = 0.258     |     24/31 = 0.774    |\n",
        "|     32    |     III     |     3     |     27    |     3/31 = 0.097     |     27/31 = 0.871    |\n",
        "|     33    |     III     |     3     |     30    |     3/31 = 0.097     |     30/31 = 0.968    |\n",
        "|     34    |     I       |     1     |   <strong> 31</strong>    |     1/31 = 0.032     |       31/31 = <strong> 1</strong>       |\n",
        "$\\sum$ |    | <strong> 31</strong>      |       |  <strong><center> 1</strong></center>         |           |   \n",
        "\n"
      ]
    },
    {
      "attachments": {},
      "cell_type": "markdown",
      "metadata": {
        "id": "Jz_3pZ-YwnY4"
      },
      "source": [
        "2.1.4.2. **Tablas estadísticas para variables continuas (datos agrupados)**\n",
        "\n",
        "Cuando la variable es continua o cuando la variable discreta toma un gran número de valores, se utiliza la **distribución de frecuencias agrupadas** o tabla con datos agrupados.\n",
        "\n",
        "Se pueden agrupar los valores en intervalos de **idéntica o distinta amplitud** denominados clases y, a cada una de ellas, se le asigna su frecuencia correspondiente.\n",
        "\n",
        "En este tipo de tabla, hay que tener en cuenta los siguientes conceptos:\n",
        "\n",
        "*   **Límites de la clase.** El límite se representa por  $L_{i}$. Cada clase está delimitada por el límite inferior de la clase y el límite superior de dicha clase. Se representa respectivamente por $L_{i+1}$ para el límite superior y $L_{i-1}$ para el límite inferior.\n",
        "\n",
        "*  **Amplitud de la clase.** La amplitud de la clase se representa por $a_{i}$  , que es la diferencia entre el límite superior e inferior de la clase. Su fórmula es:\n",
        "\n",
        "$$a_{i}=  L_{i+1} - L_{i-1}$$\n",
        "\n",
        "*  **Marca de la clase.** La marca de clase $C_{i}$ es el punto medio de cada intervalo y es el valor que representa a todo intervalo para el cálculo de algunos parámetros. Su fórmula es:  \n",
        "\n",
        "$$C_{i}= ( L_{i-1} - L_{i} ) / 2$$\n",
        "\n",
        "\\\\\n",
        "\n",
        "\n",
        "\n",
        "En una cosecha, la recolecta de trigo obtenida en Kg. ha sido: 3, 15, 24, 28, 33, 35, 38, 42, 43, 38, 36, 34, 29, 25, 17, 7, 34, 36, 39, 44, 31, 26, 20, 11, 13, 22, 27, 47, 39, 37, 34, 32, 35, 28, 38, 41, 48, 15, 32, 13.  \n",
        "\n",
        "Calcula las frecuencias y determina cuál es la amplitud para la marca de clase $C_{2}$.\n",
        "\n",
        "En este caso, se tienen muchos datos con muy poca frecuencia (24 números se repiten sólo una vez), por lo que se elige agrupar la información en intervalos, para que los cálculos sean más sencillos.\n",
        "\n",
        "<center><b>\n",
        "\n",
        "TABLA PARA DATOS AGRUPADOS\n",
        "\n",
        "</center></b>\n",
        "\n",
        "\n",
        "|   Int  |   $C_{i}$    |  $$n_{i}$$  |  $N_{i}$  |  $f_{i}$  |   $F_{i}$    |\n",
        "|-----------|---------|-----------|-----------|--------------|--------------|\n",
        "|     [0,5)      |     2.5     |     1     |     1     |     1/40 = 0.025     |     1/40 = 0.025       |\n",
        "|     [5,10)     |     7.5     |     1     |     2     |     1/40 = 0.025     |     2/40 = 0.050       |\n",
        "|     [10,15)    |     12.5    |     3     |     5     |     3/40 = 0.075     |     5/40 = 0.125       |\n",
        "|     [15,20)    |     17.5    |     3     |     8     |     3/40 = 0.075     |     8/40 = 0.200       |\n",
        "|     [20,25)    |     22.5    |     3     |     11    |     3/40 = 0.075     |      11/40 = 0.2775    |\n",
        "|     [25,30)    |     27.5    |     6     |     17    |     6/40 = 0.150     |     17/40 = 0.425      |\n",
        "|     [30,35)    |     32.5    |     7     |     24    |     7/40 = 0.175     |     24/40 = 0.600      |\n",
        "|     [35,40)    |     37.5    |     10    |     34    |     10/40 = 0.250    |     34/40 = 0.850      |\n",
        "|     [40,45)    |     42.5    |     4     |     38    |     4/40 = 0.100     |     38/40 = 0.950      |\n",
        "|     [45,50)    |     47.5    |     2     |     40    |     2/40 = 0.050     |     40/40 = 1          |\n",
        "|     Σ          |             |     40    |           |     1                |                        |\n",
        "\n",
        "<br>\n",
        "\n",
        "Para calcular la amplitud de la marca de clase $C_{2}$, hay que situarse en la segunda fila donde comprobamos que, para la marca de clase, el valor es de 7.5. Este valor está situado dentro del intervalo [5, 10). Por tanto, se puede calcular la amplitud de la siguiente forma:\n",
        "\n",
        "\n",
        "$\\quad  a_{i}= L_{i+1} - L_{i-1} \\quad \\rightarrow \\quad  a_{2}= L_{2+1} - L_{2-1} = L_{3} - L_{1} = 10 - 5 = 5 $"
      ]
    },
    {
      "attachments": {},
      "cell_type": "markdown",
      "metadata": {
        "id": "nE7xknr7Xigv"
      },
      "source": [
        "2.1.4.3. Elección en el número de clases\n",
        "\n",
        "El **número de clases o intervalos se puede obtener a través de dos fórmulas**. La segunda fórmula se la conoce también como la **Regla de Sturges**.\n",
        "\n",
        "*  Si $N$ no es muy grande: $ \\quad \\sqrt{ N }  $\n",
        "*  Si $N$ es grande:  $ \\quad \\quad \\quad \\quad 1 + 3.22 \\cdot \\log_{10} N  $\n",
        "\n",
        "\n",
        "\\\\\n",
        "\n",
        "$$\n",
        "\n",
        "\n",
        "Se tiene una localidad con 100 personas y otra con 1.000.000 habitantes. Se necesita calcular el número de intervalos que hay que utilizar para cada población.\n",
        "\n",
        "•\tSi $N = 100$ entonces se puede utilizar la primera fórmula:  \n",
        "\n",
        "$$ \\quad \\sqrt{ N } = \\sqrt{ 100 } = 10 \\\\ \\\\ $$\n",
        "\n",
        "•\tSi $N = 1000000$ entonces se debería aplicar la **Regla de Sturges**, esto es:  \n",
        "\n",
        "$$ \\quad 1 + 3.22 \\cdot \\log_{10} N  = 1 + 3.22 \\cdot \\log_{10} 1000000 = 20.32 \\approx 20 \\\\ $$\n",
        "\n",
        "**Los intervalos han de ser razonables**, ni muy grandes ni muy pequeños para que no haya pérdida de información. Siempre hay que observar los datos de la frecuencia acumulada, cómo están distribuidos.\n",
        "\n",
        "Si los datos son homogéneos, modificaremos la amplitud para que los datos estén lo más dispersos y conseguir que la heterogeneidad sea la mayor posible.\n",
        "\n",
        "\n",
        "<!-- script html for \"Recuerda\" -->\n",
        "<!-- espaciado salto <br> espaciado de linea &nbsp; -->\n",
        "<br>\n",
        "<p> <mark> RECUERDA</mark> </p>\n",
        "<hr>\n",
        "<p>Hay que tener en cuenta que, <strong>cuando se trabaja con intervalos y tienen distinta amplitud, las fórmulas y consideraciones se vuelven más complejas.</strong> Aunque si la prioridad es obtener una mayor precisión en el análisis, entonces en esos casos, compensa agrupar la información o los datos con distinta amplitud de intervalos.\n",
        "\n",
        "En **Matplotlib** se llama ***bins*** a la elección del **número de intervalos** para hacer las gráficas. Par ampliar información,\n",
        "te recomendamos la lectura de los siguientes enlaces:\n",
        "\n",
        "[www.datatofish.com](https://datatofish.com/plot-histogram-python/)\n",
        "\n",
        "[www.statisticshowto.com](https://www.statisticshowto.com/choose-bin-sizes-statistics/)\n",
        "\n"
      ]
    },
    {
      "attachments": {},
      "cell_type": "markdown",
      "metadata": {
        "id": "-jUznn5ybOeg"
      },
      "source": [
        "### 2.1.5. Métodos gráficos\n",
        "\n",
        "Las distintas representaciones gráficas están previstas para usarse con un tipo de datos, esto es, no todos los gráficos sirven para representar cualquier dato.\n",
        "\n",
        "Los gráficos tienen como objetivo explicar un dato \"a golpe de vista\", por tanto en la búsqueda se debe usar el gráfico apropiado, con el mejor diseño y color para que ayude a entender y aclarar conceptos y mejorar la toma de decisiones.\n",
        "\n",
        "<br>\n",
        "<p> <mark> PARA SABER MÁS</mark> </p>\n",
        "<hr>\n",
        "\n",
        "El paquete ***Matplotlib*** es una biblioteca bastante completa para crear visualizaciones estáticas, animadas e interactivas en Python.\n",
        "\n",
        "El enlace a la documentación y a la galería con ejemplos es el siguiente:\n",
        "\n",
        "[www.matplotlib.org](https://matplotlib.org/)\n",
        "\n",
        "Con *matplotlib* también se pueden hacer ***visualizaciones con mapas*** (con [Basemap](https://matplotlib.org/basemap/) y [mplot3D](https://matplotlib.org/mpl_toolkits/mplot3d/index.html) para tres dimensiones), donde existe la posibilidad de rotar la figura e incluso hacer zoom en la propia visualización.\n",
        "\n",
        "Por otro lado, ***Seaborn*** es una librería para *Python* que permite generar gráficos elegantes de forma sencilla. *Seaborn* está basado en *matplotlib* y proporciona una interfaz de alto nivel que es realmente sencilla de aprender. Es una interfaz para crear gráficos estadísticos explicativos y atractivos: el objetivo es visualizar datos complejos de forma sencilla y extraer conclusiones.\n",
        "\n",
        "El enlace a la documentación y a la galería con ejemplos es el siguiente:\n",
        "\n",
        "[www.seaborn.pydata.org](http://seaborn.pydata.org/#)"
      ]
    },
    {
      "cell_type": "code",
      "execution_count": 1,
      "metadata": {
        "id": "OpDazkbryREo"
      },
      "outputs": [],
      "source": [
        "# Importar pandas y numpy\n",
        "import pandas as pd\n",
        "import numpy as np\n",
        "\n",
        "## Importación paquete Matplotlib\n",
        "import matplotlib.pyplot as plt\n",
        "\n",
        "## Importación Seaborn\n",
        "import seaborn as sns"
      ]
    },
    {
      "attachments": {},
      "cell_type": "markdown",
      "metadata": {
        "id": "INbRkRK5eEX0"
      },
      "source": [
        "2.1.5.1. Diagrama de barras\n",
        "\n",
        "**Un diagrama de barras se utiliza para representar datos cualitativos o cuantitativos de tipo discreto**.\n",
        "\n",
        "Se representa sobre unos ejes de coordenadas. En el eje de abscisas, se colocan los valores de la variable, y sobre el eje de ordenadas, las frecuencias absolutas o relativas o acumuladas. Los datos se representan mediante barras de una altura proporcional a la frecuencia.\n",
        "\n",
        "Sus características son:\n",
        "- Barras con anchuras iguales.\n",
        "- Espacio entre barras iguales.\n",
        "- Altura proporcional a  $ n_{i} $ o  $ f_{i} $.\n",
        "- El eje _OY_ es ilimitado (a veces se representa con flecha).\n",
        "- El eje _OX_ es limitado.\n",
        "\n",
        "\n",
        "\n",
        "\\\\\n",
        "\n",
        "$$\n",
        "\n",
        "Un estudio realizado a 25 alumnos/as de una clase de informática para determinar su grupo sanguíneo ha dado el siguiente resultado: 11 del grupo A, 7 del grupo B, 1 del grupo AB y 6 del grupo O.\n"
      ]
    },
    {
      "cell_type": "code",
      "execution_count": 2,
      "metadata": {
        "colab": {
          "base_uri": "https://localhost:8080/",
          "height": 296
        },
        "id": "z6o10B51eqrv",
        "outputId": "4f44d721-5559-452e-b0cb-f460715d8d41"
      },
      "outputs": [
        {
          "data": {
            "image/png": "[encoded data removed]",
            "text/plain": [
              "<Figure size 640x480 with 1 Axes>"
            ]
          },
          "metadata": {},
          "output_type": "display_data"
        }
      ],
      "source": [
        "# Gráfico de barras\n",
        "plt.title(\"Diagrama de barras\")\n",
        "plt.xlabel(\"Grupo Sanguíneo\")\n",
        "plt.ylabel(\"Número de Alumnos\")\n",
        "\n",
        "grupo = ['A', 'B', 'AB', 'O']\n",
        "alumnos = [11, 7, 1, 6]\n",
        "\n",
        "plt.bar(range(4), alumnos, edgecolor='black')\n",
        "plt.xticks(range(4), grupo, rotation=360)\n",
        "\n",
        "#limit\n",
        "plt.ylim(min(alumnos)-1, max(alumnos)+1)\n",
        "\n",
        "plt.show()"
      ]
    },
    {
      "attachments": {},
      "cell_type": "markdown",
      "metadata": {
        "id": "lI1xd9XYuJb0"
      },
      "source": [
        "2.1.5.2. Diagrama de frecuencias acumuladas\n",
        "\n",
        "El diagrama de frecuencias acumuladas se utiliza para **representar datos de tipo discreto**.\n",
        "\n",
        "Este gráfico se corresponde con la función constante entre cada dos valores de la variable a representar e igual en cada tramo a la frecuencia relativa (o absoluta) acumulada hasta el menor de los dos valores de la variable que construyen el tramo en el que es constante.\n",
        "\n",
        "Si las frecuencias representadas son las absolutas, entonces el mayor valor que se toma,  el eje _OY_ es el tamaño muestral $N$.\n",
        "\n",
        "Sus características son:\n",
        "- Cerrado por la izquierda (sin punto) y abierto por la derecha (con punto).\n",
        "- Espacio entre líneas.\n",
        "- Altura proporcional a  $N_{i}$ o  $F_{i}$.\n",
        "- El eje de la _OX_ es ilimitado.\n",
        "\n",
        "\\\\\n",
        "\n",
        "$$\n",
        "\n",
        "En un estudio sobre el nº de hijos en una población, donde las madres no han tenido más de cuatro hijos (0, 1, 2, 3 ó 4), se ha obtenido la siguiente frecuencia relativa acumulada: 0.2, 0.41, 0.78 y 0.9.\n"
      ]
    },
    {
      "cell_type": "code",
      "execution_count": 3,
      "metadata": {
        "colab": {
          "base_uri": "https://localhost:8080/",
          "height": 296
        },
        "id": "TKTq4FiPo0dU",
        "outputId": "488e9821-a41d-4ade-b474-0462fe5e913e"
      },
      "outputs": [
        {
          "data": {
            "image/png": "[encoded data removed]",
            "text/plain": [
              "<Figure size 640x480 with 1 Axes>"
            ]
          },
          "metadata": {},
          "output_type": "display_data"
        }
      ],
      "source": [
        "# Lineal Graphic\n",
        "plt.title(\"Diagrama de frecuencias acumuladas\")\n",
        "plt.ylabel(\"$F_{i}$ = Frecuencia Relativa Acumulada\")\n",
        "plt.xlabel(\"Número de Hijos\")\n",
        "\n",
        "# Limits\n",
        "plt.ylim(0, 1)\n",
        "\n",
        "# Data\n",
        "x= [1,   2,    3,    4   ]\n",
        "y= [0.2, 0.41, 0.78, 0.9 ]\n",
        "\n",
        "plt.hlines(y=0.2,  xmin=1, xmax=2, color='blue')\n",
        "plt.hlines(y=0.41, xmin=2, xmax=3, color='blue')\n",
        "plt.hlines(y=0.78, xmin=3, xmax=4, color='blue')\n",
        "plt.hlines(y=0.9,  xmin=4, xmax=5, color='blue')\n",
        "\n",
        "plt.plot(x, y, 'D',  color='darkblue')\n",
        "\n",
        "plt.show()"
      ]
    },
    {
      "attachments": {},
      "cell_type": "markdown",
      "metadata": {
        "id": "Rq82Ngz2_2V4"
      },
      "source": [
        "<br>\n",
        "<p> <mark> OBSERVACIÓN</mark> </p>\n",
        "<hr>\n",
        "\n",
        "Para indicar que el punto está incluido se utilizan los puntos en intervalos. La línea indica que está abierto y, por tanto, no se incluye el punto."
      ]
    },
    {
      "attachments": {},
      "cell_type": "markdown",
      "metadata": {
        "id": "X7dOuOAgHHKi"
      },
      "source": [
        "2.1.5.3. Histograma\n",
        "\n",
        "**Un histograma es una representación gráfica de una variable en forma de barras.** En el eje de abscisas, se construyen unos rectángulos que tienen por base la amplitud del intervalo, y por altura, la frecuencia absoluta de cada intervalo.\n",
        "\n",
        "La superficie de cada barra es proporcional a la frecuencia de los valores representados.\n",
        "\n",
        "Los histogramas **se utilizan para variables continuas o para variables discretas**, con un gran número de datos, y que se han agrupado en clases. A continuación, vamos a mostrar dos ejemplos, el primero para variables discretas y el segundo para variables continuas.\n",
        "\n",
        "\\\\\n",
        "\n",
        "$$\n",
        "\n",
        "Un estudio sobre la edad de 130 personas de todas las edades (a partir del año de edad) ha recogido la siguiente información:\n",
        "\n",
        "1,1,2,3,3,5,7,8,9,10,10,11,11,13,13,15,16,17,18,18,18,19,20,21,21,23,24,24,25,25,25,25,26,26,26,27,27,27,27,27,29,30,30,31,33,34,34,34,35,36,36,37,37,38,38,39,40,41,41,42,43,44,45,45,46,47,48,48,49,50,51,52,53,54,55,55,56,57,58,60,61,63,64,65,66,68,70,71,72,74,75,77,81,83,84,87,89,90,90,91\n",
        "\n",
        "Realiza el gráfico del histograma.\n"
      ]
    },
    {
      "cell_type": "code",
      "execution_count": 4,
      "metadata": {
        "colab": {
          "base_uri": "https://localhost:8080/",
          "height": 295
        },
        "id": "GupQ-rtS5Awx",
        "outputId": "0579e08f-b95c-4a4f-861a-1463154d1597"
      },
      "outputs": [
        {
          "data": {
            "image/png": "[encoded data removed]",
            "text/plain": [
              "<Figure size 640x480 with 1 Axes>"
            ]
          },
          "metadata": {},
          "output_type": "display_data"
        }
      ],
      "source": [
        "## Histograma - variable discreta\n",
        "plt.title(\"Histograma - variable discreta\")\n",
        "plt.xlabel(\"Intervalos\")\n",
        "plt.ylabel(\"Frecuencia Absoluta ( $n_{i}$) \")\n",
        "\n",
        "\n",
        "# Raw data\n",
        "x = [1,1,2,3,3,5,7,8,9,10,10,11,11,13,13,15,16,17,18,18,18,19,20,\n",
        "     21,21,23,24,24,25,25,25,25,26,26,26,27,27,27,27,27,29,30,30,\n",
        "     31,33,34,34,34,35,36,36,37,37,38,38,39,40,41,41,42,43,44,45,\n",
        "     45,46,47,48,48,49,50,51,52,53,54,55,55,56,57,58,60,61,63,64,\n",
        "     65,66,68,70,71,72,74,75,77,81,83,84,87,89,90,90,91\n",
        "    ]\n",
        "\n",
        "# Plot the distribution of data\n",
        "plt.hist(x, bins=10, color='b', edgecolor='black')\n",
        "\n",
        "plt.show()"
      ]
    },
    {
      "attachments": {},
      "cell_type": "markdown",
      "metadata": {
        "id": "SKZAsrzAAIPU"
      },
      "source": [
        "<br>\n",
        "<p> <mark> OBSERVACIÓN</mark> </p>\n",
        "<hr>\n",
        "\n",
        "Para saber el número de bins (o intervalos) que le corresponde, revisa el apartado [Elección en el número de clases](#scrollTo=nE7xknr7Xigv&line=33&uniqifier=1)\n",
        "\n",
        "\\\\\n",
        "\n",
        "\n",
        "\n",
        "Se ha recogido el salario bruto anual de 46 trabajadores/as de una empresa para analizar la distribución. El salario se ha expresado en miles, es decir, la expresión 12.5 equivale a 12.500 euros brutos anuales.\n",
        "\n",
        "Los datos son los siguientes:\n",
        "\n",
        "12.5, 15.3, 13.7, 20.5, 19.1, 20.2, 11.3, 19.4, 11.8, 12.9, 19.2, 13, 12.5,\n",
        "10.2, 16.5, 19.3, 19, 18.5, 19.3, 20.7, 19.9, 36, 35.4,19.5, 19.7, 17.3, 16.8, 11.9, 33.5, 28.5, 25.3, 35, 37.3, 22.5,24.7, 23.7, 21.5, 22.4, 25.3, 24.7, 26, 28, 26.3, 31.2, 31, 34.5."
      ]
    },
    {
      "cell_type": "code",
      "execution_count": 5,
      "metadata": {
        "colab": {
          "base_uri": "https://localhost:8080/",
          "height": 295
        },
        "id": "-gxcvY2w7mwt",
        "outputId": "782f7c11-b338-45b3-9246-dab33635dc99"
      },
      "outputs": [
        {
          "data": {
            "image/png": "[encoded data removed]",
            "text/plain": [
              "<Figure size 640x480 with 1 Axes>"
            ]
          },
          "metadata": {},
          "output_type": "display_data"
        }
      ],
      "source": [
        "## Histograma - variable continua\n",
        "plt.title(\"Histograma - variable continua\")\n",
        "plt.ylabel(\"Frecuencia Absoluta ( $n_{i}$) \")\n",
        "plt.xlabel(\"Salario\")\n",
        "\n",
        "# Data in numpy array\n",
        "x = np.array([12.5, 15.3, 13.7, 20.5, 19.1, 20.2, 11.3, 19.4, 11.8, 12.9, 19.2,\n",
        "              13, 12.5, 10.2, 16.5, 19.3, 19, 18.5, 19.3, 20.7, 19.9, 36, 35.4,\n",
        "              19.5, 19.7, 17.3, 16.8, 11.9, 33.5, 28.5, 25.3, 35, 37.3, 22.5,\n",
        "              24.7, 23.7, 21.5, 22.4, 25.3, 24.7, 26, 28, 26.3, 31.2, 31, 34.5])\n",
        "\n",
        "# Plot the distribution of numpy data\n",
        "plt.hist(x, bins=15, align='left', color='b', edgecolor='black')\n",
        "\n",
        "plt.show()"
      ]
    },
    {
      "attachments": {},
      "cell_type": "markdown",
      "metadata": {
        "id": "nKWu5YBeH_UP"
      },
      "source": [
        "Observa que los intervalos de amplitud por defecto se hacen iguales. Hay situaciones en las que no se recomienda realizar el mismo tamaño de amplitud y conviene realizar distintos tamaños de amplitud.\n",
        "\n",
        "Para construir un **histograma con intervalo de amplitud diferente**, hay que calcular las alturas de los rectángulos del histograma.\n",
        "\n",
        "Se representa la altura del intervalo como $h_{i}$. Siendo la frecuencia del intervalo $n_{i}$ y la amplitud del intervalo $a_{i}$. Entonces la fórmula es:\n",
        "\n",
        "$$ { h_{i} = \\frac{n_{i}}{a_{i}}} $$\n",
        "\n",
        "Donde la fórmula de la amplitud es: $${a_{i}=L_{i+1}-L_{i-1}}$$\n",
        "\n",
        "Este cálculo será igual tanto para frecuencias absolutas como para las frecuencias relativas, acumuladas o no.\n",
        "\n",
        "\\\\\n",
        "\n",
        "\n",
        "\n",
        "En la siguiente tabla se muestran las calificaciones (suspenso, aprobado, notable y sobresaliente) obtenidas por un grupo de 50 alumnos/as. Las notas obtenidas son:\n",
        "\n",
        "0,1.1,2.2,3.8,4,0,4,1,4,8,4,9,5.2,5.3,5.6,5.5,5,5,5,5,6,6,6,6.5,6,6,6,6.3,6.4,6.5,6.5,6.6,7,7,7.6,7.3,7.5,7.7,8.1,8.2,8,8.5,8.5,8.6,8.7,8.89,9.2,9.4,9.5,10.\n",
        "\n",
        "Realizaremos la tabla de frecuencias, calculando la altura y, después, construiremos el histograma asociado.\n",
        "\n",
        "| $$c_{i}$$ | $$n_{i}$$ | $$a_{i}$$   | $$h_{i}$$  |\n",
        "|-----------|:--:|:---------:|:---------:|\n",
        "| [0, 5)    | 10 | 5 - 0 = 5  | 10 / 5 = 2  |\n",
        "| [5, 7)    | 20 | 7 - 5 = 2  | 20 / 2 = 10 |\n",
        "| [7, 9)    | 15 | 9 - 7 = 2  | 15 / 2 = 7.5  |\n",
        "| [9, 10)   |  5 | 10 - 9 = 1 | 5 / 1 = 5   |\n",
        "| $\\sum$     | 50 |  |    |\n"
      ]
    },
    {
      "cell_type": "code",
      "execution_count": 6,
      "metadata": {
        "colab": {
          "base_uri": "https://localhost:8080/",
          "height": 295
        },
        "id": "xFKY_642Nx0w",
        "outputId": "651ad365-4c1d-432c-b39f-a9607fe0d3d8"
      },
      "outputs": [
        {
          "data": {
            "image/png": "[encoded data removed]",
            "text/plain": [
              "<Figure size 640x480 with 1 Axes>"
            ]
          },
          "metadata": {},
          "output_type": "display_data"
        }
      ],
      "source": [
        "## Histograma - con distinta amplitud\n",
        "plt.title(\"Histograma - con distinta amplitud\")\n",
        "plt.ylabel(\"Altura ( $h_{i}$) \")\n",
        "plt.xlabel(\"Notas\")\n",
        "\n",
        "# Axis OX\n",
        "notas = [0, 5, 7, 9, 10]\n",
        "plt.xticks(notas)\n",
        "plt.xlim(0, 10)\n",
        "\n",
        "# Raw data\n",
        "# no se necesita todo el dataset sólo la parte de la frecuencia representativa\n",
        "hi = np.array([1, 2.2,\n",
        "               5.2, 5.3, 5.6, 5.5, 5, 5, 5, 5, 6, 6,\n",
        "               7, 7, 7, 7.7, 8.1, 8.2, 8,\n",
        "               9.2, 9.4, 9.5, 10])\n",
        "\n",
        "\n",
        "bins_list = [0, 5, 7, 9, 10]\n",
        "# El primer bin [0, 5) incluye el 0 y excluye el 5. Todos son iguales excepto el\n",
        "# último bin, que incluye ambos intervalos (el 9 y el 10)\n",
        "\n",
        "plt.hist(hi, bins = bins_list, color='b', edgecolor='black')\n",
        "\n",
        "plt.show()"
      ]
    },
    {
      "attachments": {},
      "cell_type": "markdown",
      "metadata": {
        "id": "JOnil_GYOodO"
      },
      "source": [
        "Realizaremos el mismo gráfico **sin tener en cuenta que la amplitud es distinta**, por lo que lo haremos sin el cálculo de la altura.\n",
        "\n"
      ]
    },
    {
      "cell_type": "code",
      "execution_count": 7,
      "metadata": {
        "colab": {
          "base_uri": "https://localhost:8080/",
          "height": 295
        },
        "id": "T67el0O4EHGK",
        "outputId": "b843cc00-9676-4acc-9594-51fffc0c866a"
      },
      "outputs": [
        {
          "data": {
            "image/png": "[encoded data removed]",
            "text/plain": [
              "<Figure size 640x480 with 1 Axes>"
            ]
          },
          "metadata": {},
          "output_type": "display_data"
        }
      ],
      "source": [
        "## Histograma - con distinta amplitud\n",
        "plt.title(\"Histograma - con distinta amplitud\")\n",
        "plt.ylabel(\"Altura ( $h_{i}$) \")\n",
        "plt.xlabel(\"Notas\")\n",
        "\n",
        "# Axis OX\n",
        "notas = [0, 5, 7, 9, 10]\n",
        "plt.xticks(notas)\n",
        "plt.xlim(0, 10)\n",
        "\n",
        "# Raw data\n",
        "x_notas = np.array([0,1.1,2.2,3.8,4,0,4,1,4,8,4,9,5.2,5.3,5.6,5.5,5,5,5,5,6,6,6,6.5,\n",
        "           6,6,6,6.3,6.4,6.5,6.5,6.6,7,7,7.6,7.3,7.5,7.7,8.1,8.2,8,8.5,8.5,\n",
        "           8.6,8.7,8.89,9.2,9.4,9.5, 10])\n",
        "\n",
        "bins_list = [0, 5, 7, 9, 10]\n",
        "# El primer bin [0, 5) incluye el 0 y excluye el 5. Todos son iguales excepto el\n",
        "# último bin, que incluye ambos intervalos (el 9 y el 10)\n",
        "\n",
        "\n",
        "plt.hist(x_notas, bins = bins_list, color='b', edgecolor='black')\n",
        "\n",
        "plt.show()\n"
      ]
    },
    {
      "attachments": {},
      "cell_type": "markdown",
      "metadata": {
        "id": "TVk-fG0MPuUG"
      },
      "source": [
        "Si observas los dos gráficos juntos, verás mejor que el segundo puede llevar a error la apreciación de aprobados y notables.\n",
        "\n",
        "Observa también cómo la interpretación del gráfico al no estar bien construido genera más dificultad."
      ]
    },
    {
      "attachments": {},
      "cell_type": "markdown",
      "metadata": {
        "id": "Fb_U-giUHeZe"
      },
      "source": [
        "2.1.5.4. Polígono de frecuencias\n",
        "\n",
        "**Un polígono de frecuencias se forma uniendo los extremos** de las barras mediante segmentos. También se puede realizar trazando los puntos que representan las frecuencias y uniéndolos mediante segmentos.\n",
        "\n",
        "**Se aplica tanto en variables discretas como continuas**. Teniendo en cuenta que para construir el polígono de frecuencias con datos agrupados, se toma la marca de clase que coincide con el punto medio de cada rectángulo.\n",
        "\n",
        "Suele representarse junto con el diagrama de barras o el histograma, para ver mejor los puntos de inflexión del gráfico.\n",
        "\n",
        "Sus características son:\n",
        "- Barras con anchuras iguales.\n",
        "- Sin espacio entre barras.\n",
        "- Altura proporcional a  $n_{i}$ o  $f_{i}$.\n",
        "- Sin límites en el eje .\n",
        "- Con límites en eje _OX_.\n",
        "\n",
        "\\\\\n",
        "\n",
        "\n",
        "\n",
        "Las temperaturas en un día de otoño de la ciudad de Burgos han sufrido las siguientes variaciones: 7º, 12º, 14º, 11º. 12º, 10 º y 8º (en centígrados) correspondientes a las siguientes horas: 6, 9, 12, 15, 18, 21 y 24.\n"
      ]
    },
    {
      "cell_type": "code",
      "execution_count": 8,
      "metadata": {
        "colab": {
          "base_uri": "https://localhost:8080/",
          "height": 295
        },
        "id": "Ms-A3OW3H3MH",
        "outputId": "9c09088e-8264-498e-96eb-358490bca689"
      },
      "outputs": [
        {
          "data": {
            "image/png": "[encoded data removed]",
            "text/plain": [
              "<Figure size 640x480 with 1 Axes>"
            ]
          },
          "metadata": {},
          "output_type": "display_data"
        }
      ],
      "source": [
        "# Poligono de frecuencias\n",
        "plt.title(\"Polígono de frecuencias\")\n",
        "plt.ylabel(\"Altura proporcional a( $n_{i}$) - Grados \")\n",
        "plt.xlabel(\"Horas\")\n",
        "\n",
        "# Axis - Tratamiento eje OX\n",
        "plt.xlim(0, 24)\n",
        "horas = [0, 3, 6, 9, 12, 15, 18, 21, 24]\n",
        "plt.xticks(horas)\n",
        "\n",
        "# Data\n",
        "x = [6, 9, 12, 15, 18, 21, 23]\n",
        "y = [7, 12, 14, 11, 12, 10, 8]\n",
        "\n",
        "# Graphs\n",
        "plt.plot(x, y)\n",
        "plt.plot(x, y, 'D', color='darkblue')\n",
        "\n",
        "plt.show()\n"
      ]
    },
    {
      "attachments": {},
      "cell_type": "markdown",
      "metadata": {
        "id": "kVn1_0n2EYpR"
      },
      "source": [
        "**Polígono de frecuencias e histograma de frecuencias**\n",
        "\n",
        "En muchas ocasiones, el polígono no se representa sólo, se utiliza de forma conjunta con las frecuencias.  \n",
        "\n",
        "Las características de este tipo de gráfico son:\n",
        "- Barras con anchuras iguales.\n",
        "- Sin espacio entre barras.\n",
        "- Altura proporcional a  $n_{i}$ o  $f_{i}$.\n",
        "\n",
        "\\\\\n",
        "\n",
        "\n",
        "\n",
        "A partir de una muestra de 200 elementos, extraídos de forma aleatoria, se construye el histograma de frecuencias y su respectivo polígono."
      ]
    },
    {
      "cell_type": "code",
      "execution_count": 9,
      "metadata": {
        "colab": {
          "base_uri": "https://localhost:8080/",
          "height": 338
        },
        "id": "YuCXyq27J0Oo",
        "outputId": "87d7ffdd-3eb4-4ffd-895b-b3a266950b89"
      },
      "outputs": [
        {
          "name": "stderr",
          "output_type": "stream",
          "text": [
            "/var/folders/my/09bf240x4h946c1pgg99rmmh0000gn/T/ipykernel_25799/3267546903.py:10: UserWarning: \n",
            "\n",
            "`distplot` is a deprecated function and will be removed in seaborn v0.14.0.\n",
            "\n",
            "Please adapt your code to use either `displot` (a figure-level function with\n",
            "similar flexibility) or `histplot` (an axes-level function for histograms).\n",
            "\n",
            "For a guide to updating your code to use the new functions, please see\n",
            "https://gist.github.com/mwaskom/de44147ed2974457ad6372750bbe5751\n",
            "\n",
            "  sns.distplot(x, hist_kws=kwargs, kde_kws=kwargs)\n"
          ]
        },
        {
          "data": {
            "image/png": "[encoded data removed]",
            "text/plain": [
              "<Figure size 640x480 with 1 Axes>"
            ]
          },
          "metadata": {},
          "output_type": "display_data"
        }
      ],
      "source": [
        "# Poligono de frecuencias\n",
        "plt.title(\"Histograma + Polígono de frecuencias\")\n",
        "plt.ylabel(\"Altura proporcional a( $n_{i}$) \")\n",
        "\n",
        "# Data\n",
        "x = np.random.randn(200)\n",
        "\n",
        "# Plot\n",
        "kwargs = {'cumulative': False}\n",
        "sns.distplot(x, hist_kws=kwargs, kde_kws=kwargs)\n",
        "\n",
        "plt.show()"
      ]
    },
    {
      "attachments": {},
      "cell_type": "markdown",
      "metadata": {
        "id": "7-dREX9jppaG"
      },
      "source": [
        "**Polígono de frecuencias e histograma de frecuencias acumulado**\n",
        "\n",
        "Al igual que en el apartado anterior, el polígono suele dibujarse unido a la gráfica de frecuencias acumuladas.  \n",
        "\n",
        "Las características de este tipo de gráficos con:\n",
        "- Barras con anchuras iguales.\n",
        "- Sin espacio entre barras.\n",
        "- Altura proporcional a  $N_{i}$ o  $F_{i}$.\n",
        "- Aumenta de manera escalada.\n",
        "\n",
        "\\\\\n",
        "\n",
        "\n",
        "\n",
        "Basándonos en el ejemplo anterior, construimos el histograma acumulado y el polígono de frecuencias asociado.\n"
      ]
    },
    {
      "cell_type": "code",
      "execution_count": 10,
      "metadata": {
        "colab": {
          "base_uri": "https://localhost:8080/",
          "height": 352
        },
        "id": "nkvSa-EE1dX-",
        "outputId": "89e0cfa8-f987-4fac-ced3-5058640e4e36"
      },
      "outputs": [
        {
          "name": "stderr",
          "output_type": "stream",
          "text": [
            "/var/folders/my/09bf240x4h946c1pgg99rmmh0000gn/T/ipykernel_25799/764359428.py:14: UserWarning: \n",
            "\n",
            "`distplot` is a deprecated function and will be removed in seaborn v0.14.0.\n",
            "\n",
            "Please adapt your code to use either `displot` (a figure-level function with\n",
            "similar flexibility) or `histplot` (an axes-level function for histograms).\n",
            "\n",
            "For a guide to updating your code to use the new functions, please see\n",
            "https://gist.github.com/mwaskom/de44147ed2974457ad6372750bbe5751\n",
            "\n",
            "  sns.distplot(x, hist_kws=kwargs, kde_kws=kwargs)\n"
          ]
        },
        {
          "data": {
            "image/png": "[encoded data removed]",
            "text/plain": [
              "<Figure size 640x480 with 1 Axes>"
            ]
          },
          "metadata": {},
          "output_type": "display_data"
        }
      ],
      "source": [
        "# Poligono de frecuencias\n",
        "plt.title(\"Polígono de frecuencias e Histogrmaa Acumulado\")\n",
        "plt.ylabel(\"Altura proporcional a( $F_{i}$) - Grados \")\n",
        "plt.xlabel(\"Valores\")\n",
        "\n",
        "# Axis - Tratamiento eje OY\n",
        "plt.ylim(0,1)\n",
        "\n",
        "# Data\n",
        "x = np.random.randn(200)\n",
        "\n",
        "# Plot\n",
        "kwargs = {'cumulative': True}\n",
        "sns.distplot(x, hist_kws=kwargs, kde_kws=kwargs)\n",
        "plt.show()"
      ]
    },
    {
      "attachments": {},
      "cell_type": "markdown",
      "metadata": {
        "id": "YaOrLNavMHAy"
      },
      "source": [
        "2.1.5.5. Diagrama de Tallo y hojas\n",
        "\n",
        "El diagrama de tallos y hojas (o  Stem-and-leaf plot) **sólo se puede utilizar con variables cuantitativas**.\n",
        "\n",
        "Para construirlo, basta con ordenar a los individuos de menor a mayor. A la izquierda se coloca el tallo y a la derecha se colocará la hoja. El tallo está compuesto por la parte entera de las observaciones y las hojas por la parte decimal. Las hojas siempre deben estar ordenadas de menor a mayor.\n",
        "\n",
        "<br>\n",
        "<p> <mark>IMPORTANTE</mark> </p>\n",
        "<hr>\n",
        "\n",
        "Para construir este gráfico, existen varias formas, aunque la más sencilla y visual es con el paquete [stemgraphic](http://stemgraphic.org/) de *python*. Por defecto en colab no está instalado, por tanto se necesita instalar dicho paquete.\n"
      ]
    },
    {
      "cell_type": "code",
      "execution_count": 11,
      "metadata": {
        "colab": {
          "base_uri": "https://localhost:8080/",
          "height": 421
        },
        "id": "9nQio1snVXpg",
        "outputId": "3b96e964-ab7a-41a4-a69a-4aa78a6d13a2"
      },
      "outputs": [
        {
          "name": "stdout",
          "output_type": "stream",
          "text": [
            "Collecting stemgraphic\n",
            "  Obtaining dependency information for stemgraphic from https://files.pythonhosted.org/packages/38/ea/5a6a3c28e4404d5f57f1bd9c332e48e99b548a881570eef9b1fc0ceb0598/stemgraphic-0.9.1-py3-none-any.whl.metadata\n",
            "  Downloading stemgraphic-0.9.1-py3-none-any.whl.metadata (10 kB)\n",
            "Collecting docopt (from stemgraphic)\n",
            "  Downloading docopt-0.6.2.tar.gz (25 kB)\n",
            "  Installing build dependencies ... \u001b[?25ldone\n",
            "\u001b[?25h  Getting requirements to build wheel ... \u001b[?25ldone\n",
            "\u001b[?25h  Preparing metadata (pyproject.toml) ... \u001b[?25ldone\n",
            "\u001b[?25hRequirement already satisfied: matplotlib in /Users/lgutierrez/Proyectos/master/M2/A2/.venv/lib/python3.12/site-packages (from stemgraphic) (3.9.0)\n",
            "Requirement already satisfied: pandas in /Users/lgutierrez/Proyectos/master/M2/A2/.venv/lib/python3.12/site-packages (from stemgraphic) (2.2.2)\n",
            "Requirement already satisfied: seaborn in /Users/lgutierrez/Proyectos/master/M2/A2/.venv/lib/python3.12/site-packages (from stemgraphic) (0.13.2)\n",
            "Requirement already satisfied: contourpy>=1.0.1 in /Users/lgutierrez/Proyectos/master/M2/A2/.venv/lib/python3.12/site-packages (from matplotlib->stemgraphic) (1.2.1)\n",
            "Requirement already satisfied: cycler>=0.10 in /Users/lgutierrez/Proyectos/master/M2/A2/.venv/lib/python3.12/site-packages (from matplotlib->stemgraphic) (0.12.1)\n",
            "Requirement already satisfied: fonttools>=4.22.0 in /Users/lgutierrez/Proyectos/master/M2/A2/.venv/lib/python3.12/site-packages (from matplotlib->stemgraphic) (4.53.0)\n",
            "Requirement already satisfied: kiwisolver>=1.3.1 in /Users/lgutierrez/Proyectos/master/M2/A2/.venv/lib/python3.12/site-packages (from matplotlib->stemgraphic) (1.4.5)\n",
            "Requirement already satisfied: numpy>=1.23 in /Users/lgutierrez/Proyectos/master/M2/A2/.venv/lib/python3.12/site-packages (from matplotlib->stemgraphic) (1.26.4)\n",
            "Requirement already satisfied: packaging>=20.0 in /Users/lgutierrez/Proyectos/master/M2/A2/.venv/lib/python3.12/site-packages (from matplotlib->stemgraphic) (24.1)\n",
            "Requirement already satisfied: pillow>=8 in /Users/lgutierrez/Proyectos/master/M2/A2/.venv/lib/python3.12/site-packages (from matplotlib->stemgraphic) (10.3.0)\n",
            "Requirement already satisfied: pyparsing>=2.3.1 in /Users/lgutierrez/Proyectos/master/M2/A2/.venv/lib/python3.12/site-packages (from matplotlib->stemgraphic) (3.1.2)\n",
            "Requirement already satisfied: python-dateutil>=2.7 in /Users/lgutierrez/Proyectos/master/M2/A2/.venv/lib/python3.12/site-packages (from matplotlib->stemgraphic) (2.9.0.post0)\n",
            "Requirement already satisfied: pytz>=2020.1 in /Users/lgutierrez/Proyectos/master/M2/A2/.venv/lib/python3.12/site-packages (from pandas->stemgraphic) (2024.1)\n",
            "Requirement already satisfied: tzdata>=2022.7 in /Users/lgutierrez/Proyectos/master/M2/A2/.venv/lib/python3.12/site-packages (from pandas->stemgraphic) (2024.1)\n",
            "Requirement already satisfied: six>=1.5 in /Users/lgutierrez/Proyectos/master/M2/A2/.venv/lib/python3.12/site-packages (from python-dateutil>=2.7->matplotlib->stemgraphic) (1.16.0)\n",
            "Downloading stemgraphic-0.9.1-py3-none-any.whl (61 kB)\n",
            "\u001b[2K   \u001b[90m━━━━━━━━━━━━━━━━━━━━━━━━━━━━━━━━━━━━━━━━\u001b[0m \u001b[32m61.9/61.9 kB\u001b[0m \u001b[31m225.2 kB/s\u001b[0m eta \u001b[36m0:00:00\u001b[0m00:01\u001b[0m:01\u001b[0m\n",
            "\u001b[?25hBuilding wheels for collected packages: docopt\n",
            "  Building wheel for docopt (pyproject.toml) ... \u001b[?25ldone\n",
            "\u001b[?25h  Created wheel for docopt: filename=docopt-0.6.2-py2.py3-none-any.whl size=13706 sha256=695c324870b5b943696458c4a9ac99af24fd8d379798134a1aea6a9066f65c17\n",
            "  Stored in directory: /Users/lgutierrez/Library/Caches/pip/wheels/1a/bf/a1/4cee4f7678c68c5875ca89eaccf460593539805c3906722228\n",
            "Successfully built docopt\n",
            "Installing collected packages: docopt, stemgraphic\n",
            "Successfully installed docopt-0.6.2 stemgraphic-0.9.1\n",
            "\n",
            "\u001b[1m[\u001b[0m\u001b[34;49mnotice\u001b[0m\u001b[1;39;49m]\u001b[0m\u001b[39;49m A new release of pip is available: \u001b[0m\u001b[31;49m23.2.1\u001b[0m\u001b[39;49m -> \u001b[0m\u001b[32;49m24.0\u001b[0m\n",
            "\u001b[1m[\u001b[0m\u001b[34;49mnotice\u001b[0m\u001b[1;39;49m]\u001b[0m\u001b[39;49m To update, run: \u001b[0m\u001b[32;49mpip install --upgrade pip\u001b[0m\n"
          ]
        }
      ],
      "source": [
        "import sys\n",
        "\n",
        "!{sys.executable} -m pip install stemgraphic\n",
        "\n",
        "import stemgraphic"
      ]
    },
    {
      "attachments": {},
      "cell_type": "markdown",
      "metadata": {
        "id": "UUSH3cplWqSS"
      },
      "source": [
        "\n",
        "\n",
        "Las edades en una excursión de 10 personas han sido: 30, 22, 41, 16, 23, 15, 32, 22, 21, 23.\n",
        "\n",
        "Luego el **tallo** corresponde con las **decenas**: 1, 2, 3 y 4. Y las **hojas** hacen referencia a las **unidades**: 1, 2, 3,..."
      ]
    },
    {
      "cell_type": "code",
      "execution_count": 12,
      "metadata": {
        "colab": {
          "base_uri": "https://localhost:8080/",
          "height": 193
        },
        "id": "pUp6cXguWwW_",
        "outputId": "e0dfdf69-0eab-4af8-e809-04b90362609b"
      },
      "outputs": [
        {
          "data": {
            "image/png": "[encoded data removed]",
            "text/plain": [
              "<Figure size 750x250 with 1 Axes>"
            ]
          },
          "metadata": {},
          "output_type": "display_data"
        }
      ],
      "source": [
        "# Raw data\n",
        "x = [ 30, 22, 41, 16, 23, 15, 32, 22, 21, 23]\n",
        "y = pd.Series(x)\n",
        "\n",
        "# Plot\n",
        "fig, ax = stemgraphic.stem_graphic(y)"
      ]
    },
    {
      "attachments": {},
      "cell_type": "markdown",
      "metadata": {
        "id": "DNCx6sbbYcdm"
      },
      "source": [
        "Esta representación de los datos es semejante a la de un histograma pero, además de ser fáciles de elaborar, presentan más información que estos. También se puede representar a través de una sencilla tabla:\n",
        "\n",
        "| Tallos | Hojas     |\n",
        "|--------|-----------|\n",
        "| 1      | 5 6       |\n",
        "| 2      | 1 2 2 3 3 |\n",
        "| 3      | 0 2       |\n",
        "| 4      | 1         |"
      ]
    },
    {
      "attachments": {},
      "cell_type": "markdown",
      "metadata": {
        "id": "yrIuub6fB2FU"
      },
      "source": [
        "2.1.5.6. Diagrama de Sectores\n",
        "\n",
        "El uso principal de un  diagrama de sectores es para las **variables de tipo cualitativas o discretas**. Son gráficos que sólo son útiles si **las categorías son pocas**, en el momento que hay un excesivo volumen no resulta tan comprensible.\n",
        "\n",
        "**Los datos se representan en un círculo**, de modo que el ángulo de cada porción o **sector es proporcional a la frecuencia absoluta** correspondiente.\n",
        "\n",
        "Recibe multitud de nombres, también se llama *diagrama circular, de tarta o de queso o quesito.*\n",
        "\n",
        "Sabiendo que 360º son los grados que tiene una circunferencia, su fórmula se puede expresar de la siguiente forma:\n",
        "\n",
        "$$ { Ángulo = f_{i} \\cdot 360º } $$\n",
        "\n",
        "\\\\\n",
        "\n",
        "\n",
        "\n",
        "En una clase de 30 alumnos/as, 12 juegan a baloncesto, 6 practican la natación, 9 juegan al fútbol y el resto no practica ningún deporte. Según la tabla siguiente:\n",
        "\n",
        "\n",
        "| Deporte     | $$ n_{i} $$  | Ángulo |  $$ f_{i} $$   | Porcentaje |\n",
        "|-------------|----|--------|-----|------------|\n",
        "| Baloncesto  | 12 | 144º   | 0,4 | 40         |\n",
        "| Natación    | 6  | 72º    | 0,2 | 20         |\n",
        "| Fútbol      | 9  | 108º   | 0,3 | 30         |\n",
        "| Sin deporte | 3  | 36º    | 0,1 | 10         |\n",
        "| $$ \\sum $$ | 30 | 360º   | 1   | 100        |"
      ]
    },
    {
      "cell_type": "code",
      "execution_count": 13,
      "metadata": {
        "colab": {
          "base_uri": "https://localhost:8080/",
          "height": 264
        },
        "id": "An_xoZGILsu8",
        "outputId": "0d1c6650-f4cf-489c-e9d8-54341665f470"
      },
      "outputs": [
        {
          "data": {
            "image/png": "[encoded data removed]",
            "text/plain": [
              "<Figure size 640x480 with 1 Axes>"
            ]
          },
          "metadata": {},
          "output_type": "display_data"
        }
      ],
      "source": [
        "# Gráfico circular o de pastel\n",
        "plt.title('Gráfico circular o de pastel')\n",
        "\n",
        "# etiquetas de los sectores\n",
        "categorias = ['Baloncesto', 'Natación', 'Fútbol', 'Sin deporte']\n",
        "\n",
        "# porciones o sectores\n",
        "porcentajes = [40, 20, 30, 10]\n",
        "\n",
        "# Destacar algunas porciones\n",
        "explode = [0, 0, 0, 0]  # hay que cambiar el valor 0 por 0.1\n",
        "\n",
        "# Plot\n",
        "plt.pie(porcentajes, labels=categorias, explode=explode,  autopct='%1.1f%%', shadow=True, startangle=90)\n",
        "plt.show()"
      ]
    },
    {
      "attachments": {},
      "cell_type": "markdown",
      "metadata": {
        "id": "Kgy_o8yHShB4"
      },
      "source": [
        "<br>\n",
        "<p> <mark>OBSERVACIÓN</mark> </p>\n",
        "<hr>\n",
        "\n",
        "Si tuviéramos 50 categorías resultaría menos legible e interpretable.\n"
      ]
    },
    {
      "cell_type": "code",
      "execution_count": 14,
      "metadata": {
        "colab": {
          "base_uri": "https://localhost:8080/",
          "height": 17
        },
        "id": "G3SL8XvhSt9m",
        "outputId": "1ed3ca81-21b0-46c9-8eaf-07fb13f294f0"
      },
      "outputs": [
        {
          "ename": "ModuleNotFoundError",
          "evalue": "No module named 'plotly'",
          "output_type": "error",
          "traceback": [
            "\u001b[0;31m---------------------------------------------------------------------------\u001b[0m",
            "\u001b[0;31mModuleNotFoundError\u001b[0m                       Traceback (most recent call last)",
            "Cell \u001b[0;32mIn[14], line 1\u001b[0m\n\u001b[0;32m----> 1\u001b[0m \u001b[39mimport\u001b[39;00m \u001b[39mplotly\u001b[39;00m\u001b[39m.\u001b[39;00m\u001b[39mexpress\u001b[39;00m \u001b[39mas\u001b[39;00m \u001b[39mpx\u001b[39;00m\n\u001b[1;32m      2\u001b[0m df \u001b[39m=\u001b[39m px\u001b[39m.\u001b[39mdata\u001b[39m.\u001b[39mgapminder()\u001b[39m.\u001b[39mquery(\u001b[39m\"\u001b[39m\u001b[39myear == 2007\u001b[39m\u001b[39m\"\u001b[39m)\u001b[39m.\u001b[39mquery(\u001b[39m\"\u001b[39m\u001b[39mcontinent == \u001b[39m\u001b[39m'\u001b[39m\u001b[39mEurope\u001b[39m\u001b[39m'\u001b[39m\u001b[39m\"\u001b[39m)\n\u001b[1;32m      3\u001b[0m df\u001b[39m.\u001b[39mloc[df[\u001b[39m'\u001b[39m\u001b[39mpop\u001b[39m\u001b[39m'\u001b[39m] \u001b[39m<\u001b[39m \u001b[39m2.e6\u001b[39m, \u001b[39m'\u001b[39m\u001b[39mcountry\u001b[39m\u001b[39m'\u001b[39m] \u001b[39m=\u001b[39m \u001b[39m'\u001b[39m\u001b[39mOther countries\u001b[39m\u001b[39m'\u001b[39m \u001b[39m# Represent only large countries\u001b[39;00m\n",
            "\u001b[0;31mModuleNotFoundError\u001b[0m: No module named 'plotly'"
          ]
        }
      ],
      "source": [
        "import plotly.express as px\n",
        "df = px.data.gapminder().query(\"year == 2007\").query(\"continent == 'Europe'\")\n",
        "df.loc[df['pop'] < 2.e6, 'country'] = 'Other countries' # Represent only large countries\n",
        "fig = px.pie(df, values='pop', names='country', title='Population of European continent')\n",
        "fig.show()"
      ]
    },
    {
      "attachments": {},
      "cell_type": "markdown",
      "metadata": {
        "id": "888YRcZvboKo"
      },
      "source": [
        "### Actividad: Titanic"
      ]
    },
    {
      "attachments": {},
      "cell_type": "markdown",
      "metadata": {
        "id": "lpxgNHkG9tG-"
      },
      "source": [
        "El **objetivo** de esta actividad consiste en crear una **tabla de frecuencias** para las siguientes variables:\n",
        "\n",
        "*   **PClass** (variable que clasifica la variable socioeconómica de cada pasajero/a, variable cualitativa ordinal).\n",
        "*   **Sex** (variable que identifica el género de los pasajeros/as, variable cualitativa binaria o dicotómica).\n",
        "*   **Age** (variable que tiene la edad de los pasajeros/as, variable cuantitativa continua).\n",
        "\n",
        "\n",
        "Además, pedimos **añadir el gráfico correspondiente para cada tipo de variable.**"
      ]
    },
    {
      "attachments": {},
      "cell_type": "markdown",
      "metadata": {
        "id": "9hwMygGjMSsm"
      },
      "source": [
        "#### Solución\n",
        "\n",
        "[*A continuación, haz clic para conocer la solución*.]"
      ]
    },
    {
      "attachments": {},
      "cell_type": "markdown",
      "metadata": {
        "id": "8V2qdJ46MUCS"
      },
      "source": [
        "El primer paso consiste en analizar el tipo de variables, aunque te recordamos que este análisis ya se realizó en el tema 1:\n",
        "\n",
        "[Análisis del tipo de variables - Titanic](#scrollTo=jF6YiKGfYIj0)"
      ]
    },
    {
      "cell_type": "code",
      "execution_count": null,
      "metadata": {
        "colab": {
          "base_uri": "https://localhost:8080/",
          "height": 206
        },
        "id": "Xykmxl4cZyac",
        "outputId": "5a9ed5bb-fe9b-436f-bf30-827f5111f910"
      },
      "outputs": [
        {
          "data": {
            "text/html": [
              "<div>\n",
              "<style scoped>\n",
              "    .dataframe tbody tr th:only-of-type {\n",
              "        vertical-align: middle;\n",
              "    }\n",
              "\n",
              "    .dataframe tbody tr th {\n",
              "        vertical-align: top;\n",
              "    }\n",
              "\n",
              "    .dataframe thead th {\n",
              "        text-align: right;\n",
              "    }\n",
              "</style>\n",
              "<table border=\"1\" class=\"dataframe\">\n",
              "  <thead>\n",
              "    <tr style=\"text-align: right;\">\n",
              "      <th></th>\n",
              "      <th>PassengerId</th>\n",
              "      <th>Survived</th>\n",
              "      <th>Pclass</th>\n",
              "      <th>Name</th>\n",
              "      <th>Sex</th>\n",
              "      <th>Age</th>\n",
              "      <th>SibSp</th>\n",
              "      <th>Parch</th>\n",
              "      <th>Ticket</th>\n",
              "      <th>Fare</th>\n",
              "      <th>Cabin</th>\n",
              "      <th>Embarked</th>\n",
              "    </tr>\n",
              "  </thead>\n",
              "  <tbody>\n",
              "    <tr>\n",
              "      <th>0</th>\n",
              "      <td>1</td>\n",
              "      <td>0</td>\n",
              "      <td>3</td>\n",
              "      <td>Braund, Mr. Owen Harris</td>\n",
              "      <td>male</td>\n",
              "      <td>22.0</td>\n",
              "      <td>1</td>\n",
              "      <td>0</td>\n",
              "      <td>A/5 21171</td>\n",
              "      <td>7.2500</td>\n",
              "      <td>NaN</td>\n",
              "      <td>S</td>\n",
              "    </tr>\n",
              "    <tr>\n",
              "      <th>1</th>\n",
              "      <td>2</td>\n",
              "      <td>1</td>\n",
              "      <td>1</td>\n",
              "      <td>Cumings, Mrs. John Bradley (Florence Briggs Th...</td>\n",
              "      <td>female</td>\n",
              "      <td>38.0</td>\n",
              "      <td>1</td>\n",
              "      <td>0</td>\n",
              "      <td>PC 17599</td>\n",
              "      <td>71.2833</td>\n",
              "      <td>C85</td>\n",
              "      <td>C</td>\n",
              "    </tr>\n",
              "    <tr>\n",
              "      <th>2</th>\n",
              "      <td>3</td>\n",
              "      <td>1</td>\n",
              "      <td>3</td>\n",
              "      <td>Heikkinen, Miss. Laina</td>\n",
              "      <td>female</td>\n",
              "      <td>26.0</td>\n",
              "      <td>0</td>\n",
              "      <td>0</td>\n",
              "      <td>STON/O2. 3101282</td>\n",
              "      <td>7.9250</td>\n",
              "      <td>NaN</td>\n",
              "      <td>S</td>\n",
              "    </tr>\n",
              "    <tr>\n",
              "      <th>3</th>\n",
              "      <td>4</td>\n",
              "      <td>1</td>\n",
              "      <td>1</td>\n",
              "      <td>Futrelle, Mrs. Jacques Heath (Lily May Peel)</td>\n",
              "      <td>female</td>\n",
              "      <td>35.0</td>\n",
              "      <td>1</td>\n",
              "      <td>0</td>\n",
              "      <td>113803</td>\n",
              "      <td>53.1000</td>\n",
              "      <td>C123</td>\n",
              "      <td>S</td>\n",
              "    </tr>\n",
              "    <tr>\n",
              "      <th>4</th>\n",
              "      <td>5</td>\n",
              "      <td>0</td>\n",
              "      <td>3</td>\n",
              "      <td>Allen, Mr. William Henry</td>\n",
              "      <td>male</td>\n",
              "      <td>35.0</td>\n",
              "      <td>0</td>\n",
              "      <td>0</td>\n",
              "      <td>373450</td>\n",
              "      <td>8.0500</td>\n",
              "      <td>NaN</td>\n",
              "      <td>S</td>\n",
              "    </tr>\n",
              "  </tbody>\n",
              "</table>\n",
              "</div>"
            ],
            "text/plain": [
              "   PassengerId  Survived  Pclass  ...     Fare Cabin  Embarked\n",
              "0            1         0       3  ...   7.2500   NaN         S\n",
              "1            2         1       1  ...  71.2833   C85         C\n",
              "2            3         1       3  ...   7.9250   NaN         S\n",
              "3            4         1       1  ...  53.1000  C123         S\n",
              "4            5         0       3  ...   8.0500   NaN         S\n",
              "\n",
              "[5 rows x 12 columns]"
            ]
          },
          "execution_count": 21,
          "metadata": {
            "tags": []
          },
          "output_type": "execute_result"
        }
      ],
      "source": [
        "# Se importan las librerías\n",
        "import pandas as pd\n",
        "import numpy as np\n",
        "import matplotlib.pyplot as plt\n",
        "\n",
        "# Carga del fichero desde el enlace web y creación del dataframe\n",
        "url_data = 'https://raw.githubusercontent.com/md-lorente/data/master/titanic.csv'\n",
        "\n",
        "# Creacion Dataframe\n",
        "df = pd.read_csv(url_data, sep=',')\n",
        "\n",
        "# Visualización del dataframe (la cabecera)\n",
        "df.head()"
      ]
    },
    {
      "attachments": {},
      "cell_type": "markdown",
      "metadata": {
        "id": "loebJGTe-rfD"
      },
      "source": [
        "Para resolver la actividad, realiza los siguientes **pasos**:\n",
        "\n",
        "1.  Copia el dataframe con la variable que deseas analizar.\n",
        "2.  Añade un descriptivo para facilitar la visualización de los análisis y de los gráficos.\n",
        "3.  Construye la tabla de frecuencias:\n",
        "\n",
        "  *   Frecuencia Absoluta ($n_{i}$).\n",
        "  *   Frecuencia Absoluta Acumulada ($N_{i}$).\n",
        "  *   Frecuencia Relativa ($f_{i}$).\n",
        "  *   Frecuencia Relativa Acumulada ($F_{i}$).\n",
        "\n",
        "4.  Realiza los gráficos asociados al tipo de variable."
      ]
    },
    {
      "attachments": {},
      "cell_type": "markdown",
      "metadata": {
        "id": "U_yul3bm53lu"
      },
      "source": [
        "Análisis de la variable Clase (pclass)"
      ]
    },
    {
      "cell_type": "code",
      "execution_count": null,
      "metadata": {
        "colab": {
          "base_uri": "https://localhost:8080/",
          "height": 143
        },
        "id": "E1jPGImEgPTM",
        "outputId": "b9018ea3-136b-47ef-be4e-6310374cc1c9"
      },
      "outputs": [
        {
          "data": {
            "text/html": [
              "<div>\n",
              "<style scoped>\n",
              "    .dataframe tbody tr th:only-of-type {\n",
              "        vertical-align: middle;\n",
              "    }\n",
              "\n",
              "    .dataframe tbody tr th {\n",
              "        vertical-align: top;\n",
              "    }\n",
              "\n",
              "    .dataframe thead th {\n",
              "        text-align: right;\n",
              "    }\n",
              "</style>\n",
              "<table border=\"1\" class=\"dataframe\">\n",
              "  <thead>\n",
              "    <tr style=\"text-align: right;\">\n",
              "      <th></th>\n",
              "      <th>Pclass</th>\n",
              "      <th>Class</th>\n",
              "      <th>Frec Absoluta</th>\n",
              "      <th>Frec Absoluta Acum</th>\n",
              "      <th>Frec Relativa</th>\n",
              "      <th>Frec Relativa Acum</th>\n",
              "    </tr>\n",
              "  </thead>\n",
              "  <tbody>\n",
              "    <tr>\n",
              "      <th>1</th>\n",
              "      <td>1</td>\n",
              "      <td>1ª Clase</td>\n",
              "      <td>216</td>\n",
              "      <td>216</td>\n",
              "      <td>0.242424</td>\n",
              "      <td>0.242424</td>\n",
              "    </tr>\n",
              "    <tr>\n",
              "      <th>9</th>\n",
              "      <td>2</td>\n",
              "      <td>2ª Clase</td>\n",
              "      <td>184</td>\n",
              "      <td>400</td>\n",
              "      <td>0.206510</td>\n",
              "      <td>0.448934</td>\n",
              "    </tr>\n",
              "    <tr>\n",
              "      <th>0</th>\n",
              "      <td>3</td>\n",
              "      <td>3ª Clase</td>\n",
              "      <td>491</td>\n",
              "      <td>891</td>\n",
              "      <td>0.551066</td>\n",
              "      <td>1.000000</td>\n",
              "    </tr>\n",
              "  </tbody>\n",
              "</table>\n",
              "</div>"
            ],
            "text/plain": [
              "   Pclass     Class  ...  Frec Relativa  Frec Relativa Acum\n",
              "1       1  1ª Clase  ...       0.242424            0.242424\n",
              "9       2  2ª Clase  ...       0.206510            0.448934\n",
              "0       3  3ª Clase  ...       0.551066            1.000000\n",
              "\n",
              "[3 rows x 6 columns]"
            ]
          },
          "execution_count": 22,
          "metadata": {
            "tags": []
          },
          "output_type": "execute_result"
        }
      ],
      "source": [
        "# Copy df con el tipo de clase\n",
        "data_class = df['Pclass'].copy(deep='True')\n",
        "\n",
        "df_class = pd.DataFrame(data_class)\n",
        "\n",
        "# Descriptivo de Pclass\n",
        "conditions = [\n",
        "       (df['Pclass'] == 1 ) ,\n",
        "       (df['Pclass'] == 2 ) ,\n",
        "       (df['Pclass'] == 3 ) ]\n",
        "choices = ['1ª Clase', '2ª Clase', '3ª Clase']\n",
        "df_class['Class'] = np.select(conditions, choices, default='-')\n",
        "\n",
        "\n",
        "# Add Tabla de frecuencias del tipo de clase\n",
        "\n",
        "## Frecuencia Absoluta\n",
        "df_class['Frec Absoluta'] = df_class.groupby('Pclass')['Pclass'].transform('count')\n",
        "df_class = df_class.drop_duplicates()\n",
        "#df_class.sort_values('Pclass', ascending=False)\n",
        "\n",
        "df_class = df_class.sort_values(by ='Pclass' )\n",
        "\n",
        "## Frecuencia Absoluta Acumulada\n",
        "df_class['Frec Absoluta Acum'] = df_class['Frec Absoluta'].cumsum()\n",
        "\n",
        "## Frecuencia Relativa\n",
        "df_class['Frec Relativa'] = df_class['Frec Absoluta'] / df_class['Frec Absoluta'].sum()\n",
        "\n",
        "## Frecuencia Relativa Acumulada\n",
        "df_class['Frec Relativa Acum'] = df_class['Frec Absoluta'].cumsum()/df_class['Frec Absoluta'].sum()\n",
        "\n",
        "\n",
        "# View df\n",
        "df_class"
      ]
    },
    {
      "cell_type": "code",
      "execution_count": null,
      "metadata": {
        "colab": {
          "base_uri": "https://localhost:8080/",
          "height": 34
        },
        "id": "IialrLV6-2-Y",
        "outputId": "1d52f6ab-eb6e-4168-be27-86892e4b57e8"
      },
      "outputs": [
        {
          "data": {
            "image/png": "[encoded data removed]",
            "text/plain": [
              "<Figure size 432x288 with 1 Axes>"
            ]
          },
          "metadata": {
            "needs_background": "light",
            "tags": []
          },
          "output_type": "display_data"
        }
      ],
      "source": [
        "# Gráfico de barras\n",
        "df_class.plot.bar(x='Class', y='Frec Absoluta', rot=30,\n",
        "                  title=\"Frecuencia Absoluta por Clase\")\n",
        "ax.invert_yaxis()\n",
        "plt.show()"
      ]
    },
    {
      "attachments": {},
      "cell_type": "markdown",
      "metadata": {
        "id": "qiKh7CFltDmn"
      },
      "source": [
        "Al tratarse de una variable categórica con pocas variables, también se puede dibujar el gráfico de quesitos."
      ]
    },
    {
      "cell_type": "code",
      "execution_count": null,
      "metadata": {
        "colab": {
          "base_uri": "https://localhost:8080/",
          "height": 17
        },
        "id": "tDQXlV4ABbOS",
        "outputId": "9c145284-f44f-449f-d76a-509a463ece3f"
      },
      "outputs": [
        {
          "data": {
            "text/html": [
              "<html>\n",
              "<head><meta charset=\"utf-8\" /></head>\n",
              "<body>\n",
              "    <div>\n",
              "            <script src=\"https://cdnjs.cloudflare.com/ajax/libs/mathjax/2.7.5/MathJax.js?config=TeX-AMS-MML_SVG\"></script><script type=\"text/javascript\">if (window.MathJax) {MathJax.Hub.Config({SVG: {font: \"STIX-Web\"}});}</script>\n",
              "                <script type=\"text/javascript\">window.PlotlyConfig = {MathJaxConfig: 'local'};</script>\n",
              "        <script src=\"https://cdn.plot.ly/plotly-latest.min.js\"></script>    \n",
              "            <div id=\"b8b26c34-9b6c-4fe8-9db4-e875f837c3c6\" class=\"plotly-graph-div\" style=\"height:525px; width:100%;\"></div>\n",
              "            <script type=\"text/javascript\">\n",
              "                \n",
              "                    window.PLOTLYENV=window.PLOTLYENV || {};\n",
              "                    \n",
              "                if (document.getElementById(\"b8b26c34-9b6c-4fe8-9db4-e875f837c3c6\")) {\n",
              "                    Plotly.newPlot(\n",
              "                        'b8b26c34-9b6c-4fe8-9db4-e875f837c3c6',\n",
              "                        [{\"domain\": {\"x\": [0.0, 1.0], \"y\": [0.0, 1.0]}, \"hoverlabel\": {\"namelength\": 0}, \"hovertemplate\": \"Class=%{label}<br>Frec Absoluta=%{value}\", \"labels\": [\"1\\u00aa Clase\", \"2\\u00aa Clase\", \"3\\u00aa Clase\"], \"legendgroup\": \"\", \"name\": \"\", \"showlegend\": true, \"textinfo\": \"percent+label\", \"textposition\": \"inside\", \"type\": \"pie\", \"values\": [216, 184, 491]}],\n",
              "                        {\"legend\": {\"tracegroupgap\": 0}, \"showlegend\": false, \"template\": {\"data\": {\"bar\": [{\"error_x\": {\"color\": \"#2a3f5f\"}, \"error_y\": {\"color\": \"#2a3f5f\"}, \"marker\": {\"line\": {\"color\": \"#E5ECF6\", \"width\": 0.5}}, \"type\": \"bar\"}], \"barpolar\": [{\"marker\": {\"line\": {\"color\": \"#E5ECF6\", \"width\": 0.5}}, \"type\": \"barpolar\"}], \"carpet\": [{\"aaxis\": {\"endlinecolor\": \"#2a3f5f\", \"gridcolor\": \"white\", \"linecolor\": \"white\", \"minorgridcolor\": \"white\", \"startlinecolor\": \"#2a3f5f\"}, \"baxis\": {\"endlinecolor\": \"#2a3f5f\", \"gridcolor\": \"white\", \"linecolor\": \"white\", \"minorgridcolor\": \"white\", \"startlinecolor\": \"#2a3f5f\"}, \"type\": \"carpet\"}], \"choropleth\": [{\"colorbar\": {\"outlinewidth\": 0, \"ticks\": \"\"}, \"type\": \"choropleth\"}], \"contour\": [{\"colorbar\": {\"outlinewidth\": 0, \"ticks\": \"\"}, \"colorscale\": [[0.0, \"#0d0887\"], [0.1111111111111111, \"#46039f\"], [0.2222222222222222, \"#7201a8\"], [0.3333333333333333, \"#9c179e\"], [0.4444444444444444, \"#bd3786\"], [0.5555555555555556, \"#d8576b\"], [0.6666666666666666, \"#ed7953\"], [0.7777777777777778, \"#fb9f3a\"], [0.8888888888888888, \"#fdca26\"], [1.0, \"#f0f921\"]], \"type\": \"contour\"}], \"contourcarpet\": [{\"colorbar\": {\"outlinewidth\": 0, \"ticks\": \"\"}, \"type\": \"contourcarpet\"}], \"heatmap\": [{\"colorbar\": {\"outlinewidth\": 0, \"ticks\": \"\"}, \"colorscale\": [[0.0, \"#0d0887\"], [0.1111111111111111, \"#46039f\"], [0.2222222222222222, \"#7201a8\"], [0.3333333333333333, \"#9c179e\"], [0.4444444444444444, \"#bd3786\"], [0.5555555555555556, \"#d8576b\"], [0.6666666666666666, \"#ed7953\"], [0.7777777777777778, \"#fb9f3a\"], [0.8888888888888888, \"#fdca26\"], [1.0, \"#f0f921\"]], \"type\": \"heatmap\"}], \"heatmapgl\": [{\"colorbar\": {\"outlinewidth\": 0, \"ticks\": \"\"}, \"colorscale\": [[0.0, \"#0d0887\"], [0.1111111111111111, \"#46039f\"], [0.2222222222222222, \"#7201a8\"], [0.3333333333333333, \"#9c179e\"], [0.4444444444444444, \"#bd3786\"], [0.5555555555555556, \"#d8576b\"], [0.6666666666666666, \"#ed7953\"], [0.7777777777777778, \"#fb9f3a\"], [0.8888888888888888, \"#fdca26\"], [1.0, \"#f0f921\"]], \"type\": \"heatmapgl\"}], \"histogram\": [{\"marker\": {\"colorbar\": {\"outlinewidth\": 0, \"ticks\": \"\"}}, \"type\": \"histogram\"}], \"histogram2d\": [{\"colorbar\": {\"outlinewidth\": 0, \"ticks\": \"\"}, \"colorscale\": [[0.0, \"#0d0887\"], [0.1111111111111111, \"#46039f\"], [0.2222222222222222, \"#7201a8\"], [0.3333333333333333, \"#9c179e\"], [0.4444444444444444, \"#bd3786\"], [0.5555555555555556, \"#d8576b\"], [0.6666666666666666, \"#ed7953\"], [0.7777777777777778, \"#fb9f3a\"], [0.8888888888888888, \"#fdca26\"], [1.0, \"#f0f921\"]], \"type\": \"histogram2d\"}], \"histogram2dcontour\": [{\"colorbar\": {\"outlinewidth\": 0, \"ticks\": \"\"}, \"colorscale\": [[0.0, \"#0d0887\"], [0.1111111111111111, \"#46039f\"], [0.2222222222222222, \"#7201a8\"], [0.3333333333333333, \"#9c179e\"], [0.4444444444444444, \"#bd3786\"], [0.5555555555555556, \"#d8576b\"], [0.6666666666666666, \"#ed7953\"], [0.7777777777777778, \"#fb9f3a\"], [0.8888888888888888, \"#fdca26\"], [1.0, \"#f0f921\"]], \"type\": \"histogram2dcontour\"}], \"mesh3d\": [{\"colorbar\": {\"outlinewidth\": 0, \"ticks\": \"\"}, \"type\": \"mesh3d\"}], \"parcoords\": [{\"line\": {\"colorbar\": {\"outlinewidth\": 0, \"ticks\": \"\"}}, \"type\": \"parcoords\"}], \"pie\": [{\"automargin\": true, \"type\": \"pie\"}], \"scatter\": [{\"marker\": {\"colorbar\": {\"outlinewidth\": 0, \"ticks\": \"\"}}, \"type\": \"scatter\"}], \"scatter3d\": [{\"line\": {\"colorbar\": {\"outlinewidth\": 0, \"ticks\": \"\"}}, \"marker\": {\"colorbar\": {\"outlinewidth\": 0, \"ticks\": \"\"}}, \"type\": \"scatter3d\"}], \"scattercarpet\": [{\"marker\": {\"colorbar\": {\"outlinewidth\": 0, \"ticks\": \"\"}}, \"type\": \"scattercarpet\"}], \"scattergeo\": [{\"marker\": {\"colorbar\": {\"outlinewidth\": 0, \"ticks\": \"\"}}, \"type\": \"scattergeo\"}], \"scattergl\": [{\"marker\": {\"colorbar\": {\"outlinewidth\": 0, \"ticks\": \"\"}}, \"type\": \"scattergl\"}], \"scattermapbox\": [{\"marker\": {\"colorbar\": {\"outlinewidth\": 0, \"ticks\": \"\"}}, \"type\": \"scattermapbox\"}], \"scatterpolar\": [{\"marker\": {\"colorbar\": {\"outlinewidth\": 0, \"ticks\": \"\"}}, \"type\": \"scatterpolar\"}], \"scatterpolargl\": [{\"marker\": {\"colorbar\": {\"outlinewidth\": 0, \"ticks\": \"\"}}, \"type\": \"scatterpolargl\"}], \"scatterternary\": [{\"marker\": {\"colorbar\": {\"outlinewidth\": 0, \"ticks\": \"\"}}, \"type\": \"scatterternary\"}], \"surface\": [{\"colorbar\": {\"outlinewidth\": 0, \"ticks\": \"\"}, \"colorscale\": [[0.0, \"#0d0887\"], [0.1111111111111111, \"#46039f\"], [0.2222222222222222, \"#7201a8\"], [0.3333333333333333, \"#9c179e\"], [0.4444444444444444, \"#bd3786\"], [0.5555555555555556, \"#d8576b\"], [0.6666666666666666, \"#ed7953\"], [0.7777777777777778, \"#fb9f3a\"], [0.8888888888888888, \"#fdca26\"], [1.0, \"#f0f921\"]], \"type\": \"surface\"}], \"table\": [{\"cells\": {\"fill\": {\"color\": \"#EBF0F8\"}, \"line\": {\"color\": \"white\"}}, \"header\": {\"fill\": {\"color\": \"#C8D4E3\"}, \"line\": {\"color\": \"white\"}}, \"type\": \"table\"}]}, \"layout\": {\"annotationdefaults\": {\"arrowcolor\": \"#2a3f5f\", \"arrowhead\": 0, \"arrowwidth\": 1}, \"coloraxis\": {\"colorbar\": {\"outlinewidth\": 0, \"ticks\": \"\"}}, \"colorscale\": {\"diverging\": [[0, \"#8e0152\"], [0.1, \"#c51b7d\"], [0.2, \"#de77ae\"], [0.3, \"#f1b6da\"], [0.4, \"#fde0ef\"], [0.5, \"#f7f7f7\"], [0.6, \"#e6f5d0\"], [0.7, \"#b8e186\"], [0.8, \"#7fbc41\"], [0.9, \"#4d9221\"], [1, \"#276419\"]], \"sequential\": [[0.0, \"#0d0887\"], [0.1111111111111111, \"#46039f\"], [0.2222222222222222, \"#7201a8\"], [0.3333333333333333, \"#9c179e\"], [0.4444444444444444, \"#bd3786\"], [0.5555555555555556, \"#d8576b\"], [0.6666666666666666, \"#ed7953\"], [0.7777777777777778, \"#fb9f3a\"], [0.8888888888888888, \"#fdca26\"], [1.0, \"#f0f921\"]], \"sequentialminus\": [[0.0, \"#0d0887\"], [0.1111111111111111, \"#46039f\"], [0.2222222222222222, \"#7201a8\"], [0.3333333333333333, \"#9c179e\"], [0.4444444444444444, \"#bd3786\"], [0.5555555555555556, \"#d8576b\"], [0.6666666666666666, \"#ed7953\"], [0.7777777777777778, \"#fb9f3a\"], [0.8888888888888888, \"#fdca26\"], [1.0, \"#f0f921\"]]}, \"colorway\": [\"#636efa\", \"#EF553B\", \"#00cc96\", \"#ab63fa\", \"#FFA15A\", \"#19d3f3\", \"#FF6692\", \"#B6E880\", \"#FF97FF\", \"#FECB52\"], \"font\": {\"color\": \"#2a3f5f\"}, \"geo\": {\"bgcolor\": \"white\", \"lakecolor\": \"white\", \"landcolor\": \"#E5ECF6\", \"showlakes\": true, \"showland\": true, \"subunitcolor\": \"white\"}, \"hoverlabel\": {\"align\": \"left\"}, \"hovermode\": \"closest\", \"mapbox\": {\"style\": \"light\"}, \"paper_bgcolor\": \"white\", \"plot_bgcolor\": \"#E5ECF6\", \"polar\": {\"angularaxis\": {\"gridcolor\": \"white\", \"linecolor\": \"white\", \"ticks\": \"\"}, \"bgcolor\": \"#E5ECF6\", \"radialaxis\": {\"gridcolor\": \"white\", \"linecolor\": \"white\", \"ticks\": \"\"}}, \"scene\": {\"xaxis\": {\"backgroundcolor\": \"#E5ECF6\", \"gridcolor\": \"white\", \"gridwidth\": 2, \"linecolor\": \"white\", \"showbackground\": true, \"ticks\": \"\", \"zerolinecolor\": \"white\"}, \"yaxis\": {\"backgroundcolor\": \"#E5ECF6\", \"gridcolor\": \"white\", \"gridwidth\": 2, \"linecolor\": \"white\", \"showbackground\": true, \"ticks\": \"\", \"zerolinecolor\": \"white\"}, \"zaxis\": {\"backgroundcolor\": \"#E5ECF6\", \"gridcolor\": \"white\", \"gridwidth\": 2, \"linecolor\": \"white\", \"showbackground\": true, \"ticks\": \"\", \"zerolinecolor\": \"white\"}}, \"shapedefaults\": {\"line\": {\"color\": \"#2a3f5f\"}}, \"ternary\": {\"aaxis\": {\"gridcolor\": \"white\", \"linecolor\": \"white\", \"ticks\": \"\"}, \"baxis\": {\"gridcolor\": \"white\", \"linecolor\": \"white\", \"ticks\": \"\"}, \"bgcolor\": \"#E5ECF6\", \"caxis\": {\"gridcolor\": \"white\", \"linecolor\": \"white\", \"ticks\": \"\"}}, \"title\": {\"x\": 0.05}, \"xaxis\": {\"automargin\": true, \"gridcolor\": \"white\", \"linecolor\": \"white\", \"ticks\": \"\", \"title\": {\"standoff\": 15}, \"zerolinecolor\": \"white\", \"zerolinewidth\": 2}, \"yaxis\": {\"automargin\": true, \"gridcolor\": \"white\", \"linecolor\": \"white\", \"ticks\": \"\", \"title\": {\"standoff\": 15}, \"zerolinecolor\": \"white\", \"zerolinewidth\": 2}}}, \"title\": {\"text\": \"Distribuci\\u00f3n de las Clases en el Titanic\"}},\n",
              "                        {\"responsive\": true}\n",
              "                    ).then(function(){\n",
              "                            \n",
              "var gd = document.getElementById('b8b26c34-9b6c-4fe8-9db4-e875f837c3c6');\n",
              "var x = new MutationObserver(function (mutations, observer) {{\n",
              "        var display = window.getComputedStyle(gd).display;\n",
              "        if (!display || display === 'none') {{\n",
              "            console.log([gd, 'removed!']);\n",
              "            Plotly.purge(gd);\n",
              "            observer.disconnect();\n",
              "        }}\n",
              "}});\n",
              "\n",
              "// Listen for the removal of the full notebook cells\n",
              "var notebookContainer = gd.closest('#notebook-container');\n",
              "if (notebookContainer) {{\n",
              "    x.observe(notebookContainer, {childList: true});\n",
              "}}\n",
              "\n",
              "// Listen for the clearing of the current output cell\n",
              "var outputEl = gd.closest('.output');\n",
              "if (outputEl) {{\n",
              "    x.observe(outputEl, {childList: true});\n",
              "}}\n",
              "\n",
              "                        })\n",
              "                };\n",
              "                \n",
              "            </script>\n",
              "        </div>\n",
              "</body>\n",
              "</html>"
            ]
          },
          "metadata": {
            "tags": []
          },
          "output_type": "display_data"
        }
      ],
      "source": [
        "import plotly.express as px\n",
        "\n",
        "fig = px.pie(df_class, values='Frec Absoluta', names='Class', title='Distribución de las Clases en el Titanic')\n",
        "fig.update_traces(textposition='inside', textinfo='percent+label')\n",
        "fig.update_layout(showlegend=False)\n",
        "fig.show()"
      ]
    },
    {
      "attachments": {},
      "cell_type": "markdown",
      "metadata": {
        "id": "LGACTbyQ5moR"
      },
      "source": [
        "Análisis de la variable Género (sex)"
      ]
    },
    {
      "cell_type": "code",
      "execution_count": null,
      "metadata": {
        "colab": {
          "base_uri": "https://localhost:8080/",
          "height": 112
        },
        "id": "fSLR-4JhyYGj",
        "outputId": "264b6a72-761f-40bc-8c17-fa2a3f6ef433"
      },
      "outputs": [
        {
          "data": {
            "text/html": [
              "<div>\n",
              "<style scoped>\n",
              "    .dataframe tbody tr th:only-of-type {\n",
              "        vertical-align: middle;\n",
              "    }\n",
              "\n",
              "    .dataframe tbody tr th {\n",
              "        vertical-align: top;\n",
              "    }\n",
              "\n",
              "    .dataframe thead th {\n",
              "        text-align: right;\n",
              "    }\n",
              "</style>\n",
              "<table border=\"1\" class=\"dataframe\">\n",
              "  <thead>\n",
              "    <tr style=\"text-align: right;\">\n",
              "      <th></th>\n",
              "      <th>Sex</th>\n",
              "      <th>Frec Absoluta</th>\n",
              "      <th>Frec Absoluta Acum</th>\n",
              "      <th>Frec Relativa</th>\n",
              "      <th>Frec Relativa Acum</th>\n",
              "    </tr>\n",
              "  </thead>\n",
              "  <tbody>\n",
              "    <tr>\n",
              "      <th>1</th>\n",
              "      <td>female</td>\n",
              "      <td>314</td>\n",
              "      <td>314</td>\n",
              "      <td>0.352413</td>\n",
              "      <td>0.352413</td>\n",
              "    </tr>\n",
              "    <tr>\n",
              "      <th>0</th>\n",
              "      <td>male</td>\n",
              "      <td>577</td>\n",
              "      <td>891</td>\n",
              "      <td>0.647587</td>\n",
              "      <td>1.000000</td>\n",
              "    </tr>\n",
              "  </tbody>\n",
              "</table>\n",
              "</div>"
            ],
            "text/plain": [
              "      Sex  Frec Absoluta  Frec Absoluta Acum  Frec Relativa  Frec Relativa Acum\n",
              "1  female            314                 314       0.352413            0.352413\n",
              "0    male            577                 891       0.647587            1.000000"
            ]
          },
          "execution_count": 25,
          "metadata": {
            "tags": []
          },
          "output_type": "execute_result"
        }
      ],
      "source": [
        "# Copy df con la variable género\n",
        "data_sex = df['Sex'].copy(deep='True')\n",
        "\n",
        "df_sex = pd.DataFrame(data_sex)\n",
        "\n",
        "\n",
        "# Add Tabla de frecuencias del tipo de clase\n",
        "\n",
        "## Frecuencia Absoluta\n",
        "df_sex['Frec Absoluta'] = df_sex.groupby('Sex')['Sex'].transform('count')\n",
        "df_sex = df_sex.drop_duplicates()\n",
        "\n",
        "df_sex = df_sex.sort_values(by ='Sex' )\n",
        "\n",
        "## Frecuencia Absoluta Acumulada\n",
        "df_sex['Frec Absoluta Acum'] = df_sex['Frec Absoluta'].cumsum()\n",
        "\n",
        "## Frecuencia Relativa\n",
        "df_sex['Frec Relativa'] = df_sex['Frec Absoluta'] / df_sex['Frec Absoluta'].sum()\n",
        "\n",
        "## Frecuencia Relativa Acumulada\n",
        "df_sex['Frec Relativa Acum'] = df_sex['Frec Absoluta'].cumsum()/df_sex['Frec Absoluta'].sum()\n",
        "\n",
        "\n",
        "# View df\n",
        "df_sex"
      ]
    },
    {
      "cell_type": "code",
      "execution_count": null,
      "metadata": {
        "colab": {
          "base_uri": "https://localhost:8080/",
          "height": 17
        },
        "id": "p7Ozlk433-7t",
        "outputId": "f90dbc48-855b-44da-be24-7eb7ffba0e96"
      },
      "outputs": [
        {
          "data": {
            "text/html": [
              "<html>\n",
              "<head><meta charset=\"utf-8\" /></head>\n",
              "<body>\n",
              "    <div>\n",
              "            <script src=\"https://cdnjs.cloudflare.com/ajax/libs/mathjax/2.7.5/MathJax.js?config=TeX-AMS-MML_SVG\"></script><script type=\"text/javascript\">if (window.MathJax) {MathJax.Hub.Config({SVG: {font: \"STIX-Web\"}});}</script>\n",
              "                <script type=\"text/javascript\">window.PlotlyConfig = {MathJaxConfig: 'local'};</script>\n",
              "        <script src=\"https://cdn.plot.ly/plotly-latest.min.js\"></script>    \n",
              "            <div id=\"9f0ecc79-5c7e-4c34-a6f6-a9e8d1851436\" class=\"plotly-graph-div\" style=\"height:525px; width:100%;\"></div>\n",
              "            <script type=\"text/javascript\">\n",
              "                \n",
              "                    window.PLOTLYENV=window.PLOTLYENV || {};\n",
              "                    \n",
              "                if (document.getElementById(\"9f0ecc79-5c7e-4c34-a6f6-a9e8d1851436\")) {\n",
              "                    Plotly.newPlot(\n",
              "                        '9f0ecc79-5c7e-4c34-a6f6-a9e8d1851436',\n",
              "                        [{\"domain\": {\"x\": [0.0, 1.0], \"y\": [0.0, 1.0]}, \"hoverlabel\": {\"namelength\": 0}, \"hovertemplate\": \"Sex=%{label}<br>Frec Absoluta=%{value}\", \"labels\": [\"female\", \"male\"], \"legendgroup\": \"\", \"name\": \"\", \"showlegend\": true, \"textinfo\": \"percent+label\", \"textposition\": \"inside\", \"type\": \"pie\", \"values\": [314, 577]}],\n",
              "                        {\"legend\": {\"tracegroupgap\": 0}, \"showlegend\": false, \"template\": {\"data\": {\"bar\": [{\"error_x\": {\"color\": \"#2a3f5f\"}, \"error_y\": {\"color\": \"#2a3f5f\"}, \"marker\": {\"line\": {\"color\": \"#E5ECF6\", \"width\": 0.5}}, \"type\": \"bar\"}], \"barpolar\": [{\"marker\": {\"line\": {\"color\": \"#E5ECF6\", \"width\": 0.5}}, \"type\": \"barpolar\"}], \"carpet\": [{\"aaxis\": {\"endlinecolor\": \"#2a3f5f\", \"gridcolor\": \"white\", \"linecolor\": \"white\", \"minorgridcolor\": \"white\", \"startlinecolor\": \"#2a3f5f\"}, \"baxis\": {\"endlinecolor\": \"#2a3f5f\", \"gridcolor\": \"white\", \"linecolor\": \"white\", \"minorgridcolor\": \"white\", \"startlinecolor\": \"#2a3f5f\"}, \"type\": \"carpet\"}], \"choropleth\": [{\"colorbar\": {\"outlinewidth\": 0, \"ticks\": \"\"}, \"type\": \"choropleth\"}], \"contour\": [{\"colorbar\": {\"outlinewidth\": 0, \"ticks\": \"\"}, \"colorscale\": [[0.0, \"#0d0887\"], [0.1111111111111111, \"#46039f\"], [0.2222222222222222, \"#7201a8\"], [0.3333333333333333, \"#9c179e\"], [0.4444444444444444, \"#bd3786\"], [0.5555555555555556, \"#d8576b\"], [0.6666666666666666, \"#ed7953\"], [0.7777777777777778, \"#fb9f3a\"], [0.8888888888888888, \"#fdca26\"], [1.0, \"#f0f921\"]], \"type\": \"contour\"}], \"contourcarpet\": [{\"colorbar\": {\"outlinewidth\": 0, \"ticks\": \"\"}, \"type\": \"contourcarpet\"}], \"heatmap\": [{\"colorbar\": {\"outlinewidth\": 0, \"ticks\": \"\"}, \"colorscale\": [[0.0, \"#0d0887\"], [0.1111111111111111, \"#46039f\"], [0.2222222222222222, \"#7201a8\"], [0.3333333333333333, \"#9c179e\"], [0.4444444444444444, \"#bd3786\"], [0.5555555555555556, \"#d8576b\"], [0.6666666666666666, \"#ed7953\"], [0.7777777777777778, \"#fb9f3a\"], [0.8888888888888888, \"#fdca26\"], [1.0, \"#f0f921\"]], \"type\": \"heatmap\"}], \"heatmapgl\": [{\"colorbar\": {\"outlinewidth\": 0, \"ticks\": \"\"}, \"colorscale\": [[0.0, \"#0d0887\"], [0.1111111111111111, \"#46039f\"], [0.2222222222222222, \"#7201a8\"], [0.3333333333333333, \"#9c179e\"], [0.4444444444444444, \"#bd3786\"], [0.5555555555555556, \"#d8576b\"], [0.6666666666666666, \"#ed7953\"], [0.7777777777777778, \"#fb9f3a\"], [0.8888888888888888, \"#fdca26\"], [1.0, \"#f0f921\"]], \"type\": \"heatmapgl\"}], \"histogram\": [{\"marker\": {\"colorbar\": {\"outlinewidth\": 0, \"ticks\": \"\"}}, \"type\": \"histogram\"}], \"histogram2d\": [{\"colorbar\": {\"outlinewidth\": 0, \"ticks\": \"\"}, \"colorscale\": [[0.0, \"#0d0887\"], [0.1111111111111111, \"#46039f\"], [0.2222222222222222, \"#7201a8\"], [0.3333333333333333, \"#9c179e\"], [0.4444444444444444, \"#bd3786\"], [0.5555555555555556, \"#d8576b\"], [0.6666666666666666, \"#ed7953\"], [0.7777777777777778, \"#fb9f3a\"], [0.8888888888888888, \"#fdca26\"], [1.0, \"#f0f921\"]], \"type\": \"histogram2d\"}], \"histogram2dcontour\": [{\"colorbar\": {\"outlinewidth\": 0, \"ticks\": \"\"}, \"colorscale\": [[0.0, \"#0d0887\"], [0.1111111111111111, \"#46039f\"], [0.2222222222222222, \"#7201a8\"], [0.3333333333333333, \"#9c179e\"], [0.4444444444444444, \"#bd3786\"], [0.5555555555555556, \"#d8576b\"], [0.6666666666666666, \"#ed7953\"], [0.7777777777777778, \"#fb9f3a\"], [0.8888888888888888, \"#fdca26\"], [1.0, \"#f0f921\"]], \"type\": \"histogram2dcontour\"}], \"mesh3d\": [{\"colorbar\": {\"outlinewidth\": 0, \"ticks\": \"\"}, \"type\": \"mesh3d\"}], \"parcoords\": [{\"line\": {\"colorbar\": {\"outlinewidth\": 0, \"ticks\": \"\"}}, \"type\": \"parcoords\"}], \"pie\": [{\"automargin\": true, \"type\": \"pie\"}], \"scatter\": [{\"marker\": {\"colorbar\": {\"outlinewidth\": 0, \"ticks\": \"\"}}, \"type\": \"scatter\"}], \"scatter3d\": [{\"line\": {\"colorbar\": {\"outlinewidth\": 0, \"ticks\": \"\"}}, \"marker\": {\"colorbar\": {\"outlinewidth\": 0, \"ticks\": \"\"}}, \"type\": \"scatter3d\"}], \"scattercarpet\": [{\"marker\": {\"colorbar\": {\"outlinewidth\": 0, \"ticks\": \"\"}}, \"type\": \"scattercarpet\"}], \"scattergeo\": [{\"marker\": {\"colorbar\": {\"outlinewidth\": 0, \"ticks\": \"\"}}, \"type\": \"scattergeo\"}], \"scattergl\": [{\"marker\": {\"colorbar\": {\"outlinewidth\": 0, \"ticks\": \"\"}}, \"type\": \"scattergl\"}], \"scattermapbox\": [{\"marker\": {\"colorbar\": {\"outlinewidth\": 0, \"ticks\": \"\"}}, \"type\": \"scattermapbox\"}], \"scatterpolar\": [{\"marker\": {\"colorbar\": {\"outlinewidth\": 0, \"ticks\": \"\"}}, \"type\": \"scatterpolar\"}], \"scatterpolargl\": [{\"marker\": {\"colorbar\": {\"outlinewidth\": 0, \"ticks\": \"\"}}, \"type\": \"scatterpolargl\"}], \"scatterternary\": [{\"marker\": {\"colorbar\": {\"outlinewidth\": 0, \"ticks\": \"\"}}, \"type\": \"scatterternary\"}], \"surface\": [{\"colorbar\": {\"outlinewidth\": 0, \"ticks\": \"\"}, \"colorscale\": [[0.0, \"#0d0887\"], [0.1111111111111111, \"#46039f\"], [0.2222222222222222, \"#7201a8\"], [0.3333333333333333, \"#9c179e\"], [0.4444444444444444, \"#bd3786\"], [0.5555555555555556, \"#d8576b\"], [0.6666666666666666, \"#ed7953\"], [0.7777777777777778, \"#fb9f3a\"], [0.8888888888888888, \"#fdca26\"], [1.0, \"#f0f921\"]], \"type\": \"surface\"}], \"table\": [{\"cells\": {\"fill\": {\"color\": \"#EBF0F8\"}, \"line\": {\"color\": \"white\"}}, \"header\": {\"fill\": {\"color\": \"#C8D4E3\"}, \"line\": {\"color\": \"white\"}}, \"type\": \"table\"}]}, \"layout\": {\"annotationdefaults\": {\"arrowcolor\": \"#2a3f5f\", \"arrowhead\": 0, \"arrowwidth\": 1}, \"coloraxis\": {\"colorbar\": {\"outlinewidth\": 0, \"ticks\": \"\"}}, \"colorscale\": {\"diverging\": [[0, \"#8e0152\"], [0.1, \"#c51b7d\"], [0.2, \"#de77ae\"], [0.3, \"#f1b6da\"], [0.4, \"#fde0ef\"], [0.5, \"#f7f7f7\"], [0.6, \"#e6f5d0\"], [0.7, \"#b8e186\"], [0.8, \"#7fbc41\"], [0.9, \"#4d9221\"], [1, \"#276419\"]], \"sequential\": [[0.0, \"#0d0887\"], [0.1111111111111111, \"#46039f\"], [0.2222222222222222, \"#7201a8\"], [0.3333333333333333, \"#9c179e\"], [0.4444444444444444, \"#bd3786\"], [0.5555555555555556, \"#d8576b\"], [0.6666666666666666, \"#ed7953\"], [0.7777777777777778, \"#fb9f3a\"], [0.8888888888888888, \"#fdca26\"], [1.0, \"#f0f921\"]], \"sequentialminus\": [[0.0, \"#0d0887\"], [0.1111111111111111, \"#46039f\"], [0.2222222222222222, \"#7201a8\"], [0.3333333333333333, \"#9c179e\"], [0.4444444444444444, \"#bd3786\"], [0.5555555555555556, \"#d8576b\"], [0.6666666666666666, \"#ed7953\"], [0.7777777777777778, \"#fb9f3a\"], [0.8888888888888888, \"#fdca26\"], [1.0, \"#f0f921\"]]}, \"colorway\": [\"#636efa\", \"#EF553B\", \"#00cc96\", \"#ab63fa\", \"#FFA15A\", \"#19d3f3\", \"#FF6692\", \"#B6E880\", \"#FF97FF\", \"#FECB52\"], \"font\": {\"color\": \"#2a3f5f\"}, \"geo\": {\"bgcolor\": \"white\", \"lakecolor\": \"white\", \"landcolor\": \"#E5ECF6\", \"showlakes\": true, \"showland\": true, \"subunitcolor\": \"white\"}, \"hoverlabel\": {\"align\": \"left\"}, \"hovermode\": \"closest\", \"mapbox\": {\"style\": \"light\"}, \"paper_bgcolor\": \"white\", \"plot_bgcolor\": \"#E5ECF6\", \"polar\": {\"angularaxis\": {\"gridcolor\": \"white\", \"linecolor\": \"white\", \"ticks\": \"\"}, \"bgcolor\": \"#E5ECF6\", \"radialaxis\": {\"gridcolor\": \"white\", \"linecolor\": \"white\", \"ticks\": \"\"}}, \"scene\": {\"xaxis\": {\"backgroundcolor\": \"#E5ECF6\", \"gridcolor\": \"white\", \"gridwidth\": 2, \"linecolor\": \"white\", \"showbackground\": true, \"ticks\": \"\", \"zerolinecolor\": \"white\"}, \"yaxis\": {\"backgroundcolor\": \"#E5ECF6\", \"gridcolor\": \"white\", \"gridwidth\": 2, \"linecolor\": \"white\", \"showbackground\": true, \"ticks\": \"\", \"zerolinecolor\": \"white\"}, \"zaxis\": {\"backgroundcolor\": \"#E5ECF6\", \"gridcolor\": \"white\", \"gridwidth\": 2, \"linecolor\": \"white\", \"showbackground\": true, \"ticks\": \"\", \"zerolinecolor\": \"white\"}}, \"shapedefaults\": {\"line\": {\"color\": \"#2a3f5f\"}}, \"ternary\": {\"aaxis\": {\"gridcolor\": \"white\", \"linecolor\": \"white\", \"ticks\": \"\"}, \"baxis\": {\"gridcolor\": \"white\", \"linecolor\": \"white\", \"ticks\": \"\"}, \"bgcolor\": \"#E5ECF6\", \"caxis\": {\"gridcolor\": \"white\", \"linecolor\": \"white\", \"ticks\": \"\"}}, \"title\": {\"x\": 0.05}, \"xaxis\": {\"automargin\": true, \"gridcolor\": \"white\", \"linecolor\": \"white\", \"ticks\": \"\", \"title\": {\"standoff\": 15}, \"zerolinecolor\": \"white\", \"zerolinewidth\": 2}, \"yaxis\": {\"automargin\": true, \"gridcolor\": \"white\", \"linecolor\": \"white\", \"ticks\": \"\", \"title\": {\"standoff\": 15}, \"zerolinecolor\": \"white\", \"zerolinewidth\": 2}}}, \"title\": {\"text\": \"Distribuci\\u00f3n por G\\u00e9nero\"}},\n",
              "                        {\"responsive\": true}\n",
              "                    ).then(function(){\n",
              "                            \n",
              "var gd = document.getElementById('9f0ecc79-5c7e-4c34-a6f6-a9e8d1851436');\n",
              "var x = new MutationObserver(function (mutations, observer) {{\n",
              "        var display = window.getComputedStyle(gd).display;\n",
              "        if (!display || display === 'none') {{\n",
              "            console.log([gd, 'removed!']);\n",
              "            Plotly.purge(gd);\n",
              "            observer.disconnect();\n",
              "        }}\n",
              "}});\n",
              "\n",
              "// Listen for the removal of the full notebook cells\n",
              "var notebookContainer = gd.closest('#notebook-container');\n",
              "if (notebookContainer) {{\n",
              "    x.observe(notebookContainer, {childList: true});\n",
              "}}\n",
              "\n",
              "// Listen for the clearing of the current output cell\n",
              "var outputEl = gd.closest('.output');\n",
              "if (outputEl) {{\n",
              "    x.observe(outputEl, {childList: true});\n",
              "}}\n",
              "\n",
              "                        })\n",
              "                };\n",
              "                \n",
              "            </script>\n",
              "        </div>\n",
              "</body>\n",
              "</html>"
            ]
          },
          "metadata": {
            "tags": []
          },
          "output_type": "display_data"
        }
      ],
      "source": [
        "import plotly.express as px\n",
        "\n",
        "fig = px.pie(df_sex, values='Frec Absoluta', names='Sex', title='Distribución por Género')\n",
        "fig.update_traces(textposition='inside', textinfo='percent+label')\n",
        "fig.update_layout(showlegend=False)\n",
        "fig.show()"
      ]
    },
    {
      "attachments": {},
      "cell_type": "markdown",
      "metadata": {
        "id": "opGRyxVr580i"
      },
      "source": [
        "Análisis de la variable Edad (age)"
      ]
    },
    {
      "cell_type": "code",
      "execution_count": null,
      "metadata": {
        "colab": {
          "base_uri": "https://localhost:8080/",
          "height": 17
        },
        "id": "ndDqemrB62gd",
        "outputId": "7d60d9e4-b213-4bdf-f4e4-d660bf5b768f"
      },
      "outputs": [
        {
          "data": {
            "text/html": [
              "<div>\n",
              "<style scoped>\n",
              "    .dataframe tbody tr th:only-of-type {\n",
              "        vertical-align: middle;\n",
              "    }\n",
              "\n",
              "    .dataframe tbody tr th {\n",
              "        vertical-align: top;\n",
              "    }\n",
              "\n",
              "    .dataframe thead th {\n",
              "        text-align: right;\n",
              "    }\n",
              "</style>\n",
              "<table border=\"1\" class=\"dataframe\">\n",
              "  <thead>\n",
              "    <tr style=\"text-align: right;\">\n",
              "      <th></th>\n",
              "      <th>Age</th>\n",
              "      <th>Edad</th>\n",
              "    </tr>\n",
              "  </thead>\n",
              "  <tbody>\n",
              "    <tr>\n",
              "      <th>0</th>\n",
              "      <td>22.0</td>\n",
              "      <td>4 Adultos de 19-29</td>\n",
              "    </tr>\n",
              "    <tr>\n",
              "      <th>1</th>\n",
              "      <td>38.0</td>\n",
              "      <td>5 Adultos de 30-49</td>\n",
              "    </tr>\n",
              "    <tr>\n",
              "      <th>2</th>\n",
              "      <td>26.0</td>\n",
              "      <td>4 Adultos de 19-29</td>\n",
              "    </tr>\n",
              "    <tr>\n",
              "      <th>3</th>\n",
              "      <td>35.0</td>\n",
              "      <td>5 Adultos de 30-49</td>\n",
              "    </tr>\n",
              "    <tr>\n",
              "      <th>4</th>\n",
              "      <td>35.0</td>\n",
              "      <td>5 Adultos de 30-49</td>\n",
              "    </tr>\n",
              "    <tr>\n",
              "      <th>...</th>\n",
              "      <td>...</td>\n",
              "      <td>...</td>\n",
              "    </tr>\n",
              "    <tr>\n",
              "      <th>886</th>\n",
              "      <td>27.0</td>\n",
              "      <td>4 Adultos de 19-29</td>\n",
              "    </tr>\n",
              "    <tr>\n",
              "      <th>887</th>\n",
              "      <td>19.0</td>\n",
              "      <td>4 Adultos de 19-29</td>\n",
              "    </tr>\n",
              "    <tr>\n",
              "      <th>888</th>\n",
              "      <td>NaN</td>\n",
              "      <td>n/a</td>\n",
              "    </tr>\n",
              "    <tr>\n",
              "      <th>889</th>\n",
              "      <td>26.0</td>\n",
              "      <td>4 Adultos de 19-29</td>\n",
              "    </tr>\n",
              "    <tr>\n",
              "      <th>890</th>\n",
              "      <td>32.0</td>\n",
              "      <td>5 Adultos de 30-49</td>\n",
              "    </tr>\n",
              "  </tbody>\n",
              "</table>\n",
              "<p>891 rows × 2 columns</p>\n",
              "</div>"
            ],
            "text/plain": [
              "      Age                Edad\n",
              "0    22.0  4 Adultos de 19-29\n",
              "1    38.0  5 Adultos de 30-49\n",
              "2    26.0  4 Adultos de 19-29\n",
              "3    35.0  5 Adultos de 30-49\n",
              "4    35.0  5 Adultos de 30-49\n",
              "..    ...                 ...\n",
              "886  27.0  4 Adultos de 19-29\n",
              "887  19.0  4 Adultos de 19-29\n",
              "888   NaN                 n/a\n",
              "889  26.0  4 Adultos de 19-29\n",
              "890  32.0  5 Adultos de 30-49\n",
              "\n",
              "[891 rows x 2 columns]"
            ]
          },
          "execution_count": 27,
          "metadata": {
            "tags": []
          },
          "output_type": "execute_result"
        }
      ],
      "source": [
        "# Copy deep df con la variable edad (age)\n",
        "data_age = df['Age'].copy(deep='True')\n",
        "\n",
        "df_age = pd.DataFrame(data_age)\n",
        "\n",
        "# Clasificación de la Edad\n",
        "conditions = [\n",
        "       ( (df_age['Age'] >= 0)  & (df_age['Age'] < 5)  ) ,\n",
        "       ( (df_age['Age'] >= 5)  & (df_age['Age'] < 10)  ) ,\n",
        "       ( (df_age['Age'] >= 10) & (df_age['Age'] < 19) ) ,\n",
        "       ( (df_age['Age'] >= 19) & (df_age['Age'] < 30) ) ,\n",
        "       ( (df_age['Age'] >= 30) & (df_age['Age'] < 50) ) ,\n",
        "       ( (df_age['Age'] >= 50) & (df_age['Age'] < 65) ) ,\n",
        "       (df_age['Age'] >= 65 )  ]\n",
        "choices = ['1 Niños de 0-4', '2 Niños de 5-9', '3 Niños de 10-18',\n",
        "           '4 Adultos de 19-29', '5 Adultos de 30-49', '6 Adultos de 50-64', '7 Adultos + 65']\n",
        "df_age['Edad'] = np.select(conditions, choices, default='n/a')\n",
        "\n",
        "\n",
        "# View df\n",
        "df_age"
      ]
    },
    {
      "cell_type": "code",
      "execution_count": null,
      "metadata": {
        "colab": {
          "base_uri": "https://localhost:8080/",
          "height": 17
        },
        "id": "mLTk91EhBCoo",
        "outputId": "589a43db-74e1-4e37-b33d-3feed7e95a4c"
      },
      "outputs": [
        {
          "data": {
            "text/html": [
              "<div>\n",
              "<style scoped>\n",
              "    .dataframe tbody tr th:only-of-type {\n",
              "        vertical-align: middle;\n",
              "    }\n",
              "\n",
              "    .dataframe tbody tr th {\n",
              "        vertical-align: top;\n",
              "    }\n",
              "\n",
              "    .dataframe thead th {\n",
              "        text-align: right;\n",
              "    }\n",
              "</style>\n",
              "<table border=\"1\" class=\"dataframe\">\n",
              "  <thead>\n",
              "    <tr style=\"text-align: right;\">\n",
              "      <th></th>\n",
              "      <th>Edad</th>\n",
              "      <th>Frec Absoluta</th>\n",
              "      <th>Frec Absoluta Acum</th>\n",
              "      <th>Frec Relativa</th>\n",
              "      <th>Frec Relativa Acum</th>\n",
              "    </tr>\n",
              "  </thead>\n",
              "  <tbody>\n",
              "    <tr>\n",
              "      <th>7</th>\n",
              "      <td>1 Niños de 0-4</td>\n",
              "      <td>40</td>\n",
              "      <td>40</td>\n",
              "      <td>0.044893</td>\n",
              "      <td>0.044893</td>\n",
              "    </tr>\n",
              "    <tr>\n",
              "      <th>24</th>\n",
              "      <td>2 Niños de 5-9</td>\n",
              "      <td>22</td>\n",
              "      <td>62</td>\n",
              "      <td>0.024691</td>\n",
              "      <td>0.069585</td>\n",
              "    </tr>\n",
              "    <tr>\n",
              "      <th>9</th>\n",
              "      <td>3 Niños de 10-18</td>\n",
              "      <td>77</td>\n",
              "      <td>139</td>\n",
              "      <td>0.086420</td>\n",
              "      <td>0.156004</td>\n",
              "    </tr>\n",
              "    <tr>\n",
              "      <th>0</th>\n",
              "      <td>4 Adultos de 19-29</td>\n",
              "      <td>245</td>\n",
              "      <td>384</td>\n",
              "      <td>0.274972</td>\n",
              "      <td>0.430976</td>\n",
              "    </tr>\n",
              "    <tr>\n",
              "      <th>1</th>\n",
              "      <td>5 Adultos de 30-49</td>\n",
              "      <td>256</td>\n",
              "      <td>640</td>\n",
              "      <td>0.287318</td>\n",
              "      <td>0.718294</td>\n",
              "    </tr>\n",
              "    <tr>\n",
              "      <th>6</th>\n",
              "      <td>6 Adultos de 50-64</td>\n",
              "      <td>63</td>\n",
              "      <td>703</td>\n",
              "      <td>0.070707</td>\n",
              "      <td>0.789001</td>\n",
              "    </tr>\n",
              "    <tr>\n",
              "      <th>33</th>\n",
              "      <td>7 Adultos + 65</td>\n",
              "      <td>11</td>\n",
              "      <td>714</td>\n",
              "      <td>0.012346</td>\n",
              "      <td>0.801347</td>\n",
              "    </tr>\n",
              "    <tr>\n",
              "      <th>5</th>\n",
              "      <td>n/a</td>\n",
              "      <td>177</td>\n",
              "      <td>891</td>\n",
              "      <td>0.198653</td>\n",
              "      <td>1.000000</td>\n",
              "    </tr>\n",
              "  </tbody>\n",
              "</table>\n",
              "</div>"
            ],
            "text/plain": [
              "                  Edad  Frec Absoluta  ...  Frec Relativa  Frec Relativa Acum\n",
              "7       1 Niños de 0-4             40  ...       0.044893            0.044893\n",
              "24      2 Niños de 5-9             22  ...       0.024691            0.069585\n",
              "9     3 Niños de 10-18             77  ...       0.086420            0.156004\n",
              "0   4 Adultos de 19-29            245  ...       0.274972            0.430976\n",
              "1   5 Adultos de 30-49            256  ...       0.287318            0.718294\n",
              "6   6 Adultos de 50-64             63  ...       0.070707            0.789001\n",
              "33      7 Adultos + 65             11  ...       0.012346            0.801347\n",
              "5                  n/a            177  ...       0.198653            1.000000\n",
              "\n",
              "[8 rows x 5 columns]"
            ]
          },
          "execution_count": 28,
          "metadata": {
            "tags": []
          },
          "output_type": "execute_result"
        }
      ],
      "source": [
        "# Se elimina age para hacer bien la agrupación\n",
        "df_age.drop(['Age'], axis='columns', inplace=True)\n",
        "\n",
        "\n",
        "# Add Tabla de frecuencias del tipo de clase\n",
        "\n",
        "## Frecuencia Absoluta\n",
        "df_age['Frec Absoluta'] = df_age.groupby('Edad')['Edad'].transform('count')\n",
        "df_age = df_age.drop_duplicates()\n",
        "df_age = df_age.sort_values(by ='Edad' )\n",
        "\n",
        "## Frecuencia Absoluta Acumulada\n",
        "df_age['Frec Absoluta Acum'] = df_age['Frec Absoluta'].cumsum()\n",
        "\n",
        "## Frecuencia Relativa\n",
        "df_age['Frec Relativa'] = df_age['Frec Absoluta'] / df_age['Frec Absoluta'].sum()\n",
        "\n",
        "## Frecuencia Relativa Acumulada\n",
        "df_age['Frec Relativa Acum'] = df_age['Frec Absoluta'].cumsum()/df_age['Frec Absoluta'].sum()\n",
        "\n",
        "# View df\n",
        "df_age"
      ]
    },
    {
      "attachments": {},
      "cell_type": "markdown",
      "metadata": {
        "id": "g6n510GSGHoZ"
      },
      "source": [
        "Al agrupar por \"grupos de edad\", creamos 7 categorías, por lo que la variable de tipo \"continua\" que se tenía en origen se ha transformado en variable cualitativa.\n",
        "\n"
      ]
    },
    {
      "cell_type": "code",
      "execution_count": null,
      "metadata": {
        "colab": {
          "base_uri": "https://localhost:8080/",
          "height": 17
        },
        "id": "nCZIEgQSFDTA",
        "outputId": "57181c7d-1bab-447d-e097-49c99083feb7"
      },
      "outputs": [
        {
          "data": {
            "image/png": "[encoded data removed]",
            "text/plain": [
              "<Figure size 1440x576 with 1 Axes>"
            ]
          },
          "metadata": {
            "needs_background": "light",
            "tags": []
          },
          "output_type": "display_data"
        }
      ],
      "source": [
        "# Frecuencia Absoluta\n",
        "df_age.plot.bar(x='Edad', y='Frec Absoluta', title=\"Frecuencia por Edad\",\n",
        "                rot=0, width=0.5, figsize=(20,8)  )\n",
        "plt.show()"
      ]
    },
    {
      "cell_type": "code",
      "execution_count": null,
      "metadata": {
        "colab": {
          "base_uri": "https://localhost:8080/"
        },
        "id": "du82HHoKLg0p",
        "outputId": "3b563bdf-2ac2-4782-fd98-8046b37abb3d"
      },
      "outputs": [
        {
          "data": {
            "image/png": "[encoded data removed]",
            "text/plain": [
              "<Figure size 1440x576 with 1 Axes>"
            ]
          },
          "metadata": {
            "needs_background": "light",
            "tags": []
          },
          "output_type": "display_data"
        }
      ],
      "source": [
        "# Frecuencia Absoluta sin los n/a\n",
        "#  print(df_age[:-1] )\n",
        "\n",
        "df_age[:-1].plot.bar(x='Edad', y='Frec Absoluta', title=\"Frecuencia por Edad\",\n",
        "                rot=0, width=0.5, figsize=(20,8)  )\n",
        "plt.show()"
      ]
    },
    {
      "attachments": {},
      "cell_type": "markdown",
      "metadata": {
        "id": "d12gyirKdynL"
      },
      "source": [
        "## 2.2. Medidas de centralización, dispersión, posición, concentración y forma. Métodos gráficos.\n",
        "\n",
        "**Este apartado consta de cuatro partes importantes**, en cada una de ellas se tratan unas medidas que sirven para determinar una cualidad de una variable estadística.\n",
        "\n",
        "Un **parámetro estadístico** es un número que se obtiene a partir de los datos de una distribución estadística. Los parámetros sirven para sintetizar la información dada por una tabla o una gráfica.\n",
        "\n",
        "Los tipos de parámetros usados son: de centralización, de dispersión, de posición y de forma."
      ]
    },
    {
      "attachments": {},
      "cell_type": "markdown",
      "metadata": {
        "id": "-fO1EQ0OyfJL"
      },
      "source": [
        "### 2.2.1. Medidas de Centralización\n",
        "\n",
        "Las medidas de centralización nos indican en torno a _**qué**_ valor del centro se distribuyen los datos. Las medidas de centralización son:\n",
        "\n",
        "<font color='Blue'><b> Media aritmética </b></font>\n",
        "\n",
        "Es el valor <b><u>promedio</b></u> de la distribución. Es por tanto, el valor medio obtenido al sumar todos los datos y dividir el resultado entre el número total de datos. A la media aritmética se la denomina también _centro de gravedad_ de la distribución. El símbolo para representar la media aritmética en notación griega es  $ \\mu $  aunque muchas veces se opta por la notación simplificada $ \\bar{x} $, entre otras formas de escribirla.\n",
        "\n",
        "**A)** _Cálculo de la media aritmética para **datos sin agrupar**_:\n",
        "\n",
        "Su fórmula es:\n",
        "\n",
        "$$ {\n",
        "   \\bar{x} = \\frac{1}{N} \\sum_{i=1}^{n} x_{i}\n",
        "            = \\frac{ x_{1} +  x_{2} +  x_{3} + \\cdots +  x_{n} }{N}  \n",
        "} $$\n",
        "\n",
        "<br>\n",
        "\n",
        "Los pesos de seis amigos son: 84, 91, 72, 68, 87 y 78 kg. Hallar el peso medio.\n",
        "\n",
        "$$ \\bar{x} = \\frac{1}{N} \\sum_{i=1}^{n} x_{i}\n",
        "           = \\frac{ x_{1} +  x_{2} +  x_{3} + \\cdots +  x_{n} }{N}  \n",
        "           = \\frac{ 84 + 91 + 72 + 68 + 87 + 78 }{6} = 80 Kg\n",
        "$$\n",
        "\n",
        "<br>\n",
        "\n",
        "**B)** _Cálculo de la media aritmética para **datos agrupados**_:\n",
        "\n",
        "Su fórmula es:\n",
        "\n",
        "$$ {\n",
        "   \\bar{x} = \\frac{1}{N} \\sum_{i=1}^{n} x_{i} n_{i}\n",
        "  = \\frac{ x_{1}n_{1}  +  x_{2}n_{2} +  x_{3}n_{3} + \\cdots +  x_{n}n_{n} }{N}  \n",
        "} $$\n",
        "<br>\n",
        "\n",
        "En un test realizado a un grupo de 42 personas, se han obtenido las puntuaciones que muestra la tabla. Calcula la puntuación media.\n",
        "\n",
        "| Intervalo | $$x_{i} $$ | $$n_{i} $$ |$$x_{i} \\cdot n_{i} $$ |\n",
        "|-----------|----|----|---------|\n",
        "| [10, 20)  | 15 | 1  | 15      |\n",
        "| [20, 30)  | 25 | 8  | 200     |\n",
        "| [30,40)   | 35 | 10 | 350     |\n",
        "| [40, 50)  | 45 | 9  | 405     |\n",
        "| [50, 60)  | 55 | 8  | 440     |\n",
        "| [60,70)   | 65 | 4  | 260     |\n",
        "| [70, 80)  | 75 | 2  | 150     |\n",
        "| Σ         |    | 42 | 1820    |\n",
        "\n",
        "\n",
        "$$ \\bar{x} = \\frac{1}{N} \\sum_{i=1}^{n} x_{i}\n",
        "           = \\frac{ x_{1} +  x_{2} +  x_{3} + \\cdots +  x_{n} }{N}  \n",
        "           = \\frac{ 15 \\cdot 1 + 25 \\cdot 8 + 35 \\cdot 10 + 45 \\cdot 9 + 55 \\cdot 8 + 65 \\cdot 4 + 75 \\cdot 2}{42}\n",
        "           = \\frac{ 1820 }{42} = 43.33\n",
        "$$\n",
        "\n",
        "<br>\n",
        "\n",
        "En conclusión, la fórmula varía dependiendo de si se trata de valores para datos sin agrupar (tipo discreto) o para datos agrupados (tipo continuo)."
      ]
    },
    {
      "attachments": {},
      "cell_type": "markdown",
      "metadata": {
        "id": "ZWhMmMEcMK-3"
      },
      "source": [
        "**Propiedades de la media aritmética**\n",
        "<hr>\n",
        "<hr>\n",
        "\n",
        "1.   La suma de las desviaciones de todas las puntuaciones de una distribución respecto a la media es igual a cero, esto es:\n",
        "\n",
        "$$ {\n",
        "\\sum (x_{i} - \\bar{x} ) = 0   }$$\n",
        "\n",
        "2.  La media aritmética de los cuadrados de las desviaciones de los valores de la variable con respecto a un número cualquiera se hace mínima cuando dicho número coincide con la media aritmética. Esto traducido a una expresión matemática es:\n",
        "\n",
        "$$ {   \n",
        "\\sum (x_{i} - \\bar{x} )^2  \\quad \\text{Mínimo}  }$$\n",
        "\n",
        "3.   Si a todos los valores de la variable se les suma un mismo número, la media aritmética queda aumentada en dicho número.\n",
        "\n",
        "4.   Si todos los valores de la variable se multiplican por un mismo número, la media aritmética queda multiplicada por dicho número.\n",
        "\n",
        "\n",
        "<!-- script html for \"Recuerda\" -->\n",
        "<!-- espaciado salto <br> espaciado de linea &nbsp; -->\n",
        "<br>\n",
        "<p> <mark> RECUERDA</mark> </p>\n",
        "<hr>\n",
        "<p>\n",
        "\n",
        "1.  La media se puede hallar **sólo para variables cuantitativas**.\n",
        "\n",
        "2.  La media es **independiente de las amplitudes** de los intervalos.\n",
        "\n",
        "3.  **La media es muy sensible a las puntuaciones extremas.** Si se tiene una distribución con los siguientes pesos: 65 Kg., 69 Kg., 65 Kg., 72 Kg., 66 Kg., 75 Kg., 70 Kg. y 110 Kg. La media es igual a 74 Kg., que es una medida de centralización poco representativa de la distribución.\n",
        "\n",
        "4.  La media **no se puede calcular si hay un intervalo con una amplitud indeterminada.** Es decir, si la marca de clase del último intervalo no está definida o si tiene un valor infinito, en la última clase modal no se puede calcular la media.\n",
        "\n",
        "5.  Existen otras medias estadísticas además de la media aritmética, que es la más conocida. Estás son:\n",
        "  \n",
        "  * Media Armónica.\n",
        "  * Media Geométrica.\n",
        "  * Media Cuadrática.\n",
        "\n",
        "<br>\n",
        "<p> <mark> PARA SABER MÁS</mark> </p>\n",
        "<hr>\n",
        "\n",
        "A continuación, te damos acceso a un documento para profundizar en estas medias estadísticas. El paper explica y desarrolla, de manera increíble, las distintas medias estadísticas. En él encontrarás demostraciones, ejemplos y las aplicaciones que tienen cada una de ellas. Además, contiene la explicación de las relaciones entre ellas.\n",
        "\n",
        "  Uno de los autores, *Venancio Tomeo Perucha* es autor de muchos libros, y es muy recomendable la lectura de cualquiera de sus trabajos.\n",
        "\n",
        "  [*Accede al paper haciendo clic en el siguiente link.*]\n",
        "\n",
        "$\\qquad$ [Las medias estadísticas](https://https://github.com/md-lorente/documentation/blob/master/Las_medias_estadisticas.pdf)"
      ]
    },
    {
      "attachments": {},
      "cell_type": "markdown",
      "metadata": {
        "id": "Kk2XDamORTOE"
      },
      "source": [
        "<font color='Blue'><b> Mediana </b></font>\n",
        "\n",
        "Es el <b><u> valor central</b></u> de la distribución, dicho de otra manera, es aquel que ocupa el lugar de todos los datos cuando éstos están ordenados de menor a mayor. Es, por tanto, el valor de la variable que separa la mitad superior de la distribución de la mitad inferior. Así divide la serie de datos en dos partes iguales.\n",
        "\n",
        "La mediana se puede hallar sólo para variables cuantitativas. La mediana se representa por  ***Me***.\n",
        "\n",
        "**A)** _Cálculo de la mediana para **datos sin agrupar**_.\n",
        "\n",
        "Los pasos a seguir son:\n",
        "\n",
        "1.   Ordenar los datos *de menor a mayor.*\n",
        "2.   Si la serie tiene un *número impar*, de medidas la mediana es la puntuación central de la misma. Si tenemos: 2, 3, 4, 4, ***5***, 5, 5, 6, 6  entonces claramente el valor central es 5, esto es: ***Me = 5***\n",
        "\n",
        "3. Si la serie tiene un *número par* de puntuaciones la mediana es la media entre las dos puntuaciones centrales. Si tenemos: 7, 8, ***9, 10,*** 11, 12 entonces el valor medio entre esos valores es 9.5. Luego ***Me = 9.5***.\n",
        "\n",
        "\n",
        "**B)** _Cálculo de la mediana para **datos agrupados**_\n",
        "\n",
        "La mediana se encuentra en el intervalo donde la frecuencia acumulada llega hasta la mitad de la suma de las frecuencias absolutas. O sea, tenemos que buscar el intervalo en el que se encuentre $N/2$. Cuya fórmula matemática es:\n",
        "\n",
        "$$ {\n",
        "   Me = L_{i-1} +  \\frac{ \\frac{N}{2} - N_{i-1} } {n_{i} } \\cdot a_{i}  \n",
        "} $$\n",
        "\n",
        "  * Donde:\n",
        "\n",
        "    * $ n_{i} $ es la frecuencia absoluta de la clase modal.\n",
        "    * $ N/2 $ es la semisuma de las frecuencias absolutas.\n",
        "    * $ N_{i-1} $ es la frecuencia acumulada anterior a la clase mediana.\n",
        "    * $ a_{i} $ es la amplitud de la clase.\n",
        "    * $ L_{i-1} $ es el límite inferior de la clase donde se encuentra la mediana.\n",
        "\n",
        "\n",
        "Dentro de este apartado, existen **dos opciones** a su vez, que son:\n",
        "\n",
        "*   Los intervalos tienen **la misma amplitud.**\n",
        "*   Los intervalos tienen **distinta amplitud.**\n",
        "\n",
        "<br>\n",
        "\n",
        "_Misma amplitud_\n",
        "\n",
        "Calcula la mediana de una distribución estadística que viene dada por la tabla:\n",
        "\n",
        "| Intervalo | $$n_{i}$$  | $$N_{i}$$  |\n",
        "|-----------|-----|-----|\n",
        "| [60, 63)  | 5   | 5   |\n",
        "| [63, 66)  | 18  | 23  |\n",
        "| [66, 69)  | 42  | 65  |\n",
        "| [69, 72)  | 27  | 92  |\n",
        "| [72, 75)  | 8   | 100 |\n",
        "| Σ         | 100 |     |\n",
        "\n",
        "\n",
        "Primero, observa que los datos del intervalo ya están ordenados de menor a mayor.\n",
        "\n",
        "Después, si consideramos que tenemos 100 datos en total (es decir, $N=100$). La mitad de estos son 50, por tanto, se puede escribir de la forma: $N/2 = 100 / 2 = 50$\n",
        "\n",
        "El siguiente paso sería preguntarse: *¿en qué intervalo está el valor hallado (50)?* La respuesta a esta pregunta el intervalo de la clase modal $[66, 69)$.\n",
        "\n",
        "Por tanto, situándose en dicho intervalo, al intervalo anterior le corresponderá $ N_{i-1} = 23 $ y el límite $ L_{i-1} = 66 $. Siendo el límite superior el $ L_{i+1} = 69 $. Con lo que ya se puede obtener el valor de la amplitud: $ a_{i} = 69-66 = 3 $  \n",
        "\n",
        "En definitiva, con todos los datos obtenidos hasta el momento, se puede aplicar la fórmula vista anteriormente de la mediana:\n",
        "\n",
        "$$ Me = L_{i-1} +  \\frac{ \\frac{N}{2} - N_{i-1} } {n_{i} } \\cdot a_{i}\n",
        "      = 66 +  \\frac{ 50 - 23 } { 42 } \\cdot 3 = 67.93 \\\\\n",
        "$$\n",
        "\n",
        "Así es que, como era de esperar, **el valor central (67.93) pertenece al intervalo central [66,69)**.\n",
        "\n",
        "\n",
        "<br>\n",
        "\n",
        "_Distinta amplitud_\n",
        "\n",
        "Calcula la mediana de una distribución estadística que viene dada por la tabla:\n",
        "\n",
        "|     Intervalo    |     ni    |     Ni    |     ai    |\n",
        "|------------------|-----------|-----------|-----------|\n",
        "|     [0, 20)      |     8     |     8     |     20    |\n",
        "|     [20, 30)     |     9     |     17    |     10    |\n",
        "|     [30, 40)     |     12    |     29    |     10    |\n",
        "|     [40, 45)     |     10    |     39    |     5     |\n",
        "|     [45, 50)     |     9     |     48    |     5     |\n",
        "|     [50, 60)     |     10    |     58    |     10    |\n",
        "|     [60, 80)     |     8     |     66    |     20    |\n",
        "|     [80, 100)    |     4     |     70    |     20    |\n",
        "|     Σ            |     70    |           |           |\n",
        "\n",
        "\n",
        "Observa que los datos del intervalo ya están ordenados de menor a mayor. Al mismo tiempo, puedes apreciar, rápidamente, que tienen distinta amplitud.\n",
        "\n",
        "Al igual que antes, debes calcular el valor central, luego: $N/2 = 70/2 = 35 $\n",
        "\n",
        "Al preguntarte: _¿en qué intervalo está el valor 35?_ Si observas la tabla, verás que el intervalo de la clase modal $[40, 45)$ que contiene el valor _35_ hallado en el paso anterior.\n",
        "\n",
        "Ahora, simplemente queda sustituir todos estos valores en la fórmula de la mediana para obtener el resultado buscado:\n",
        "\n",
        "$$ Me = L_{i-1} +  \\frac{ \\frac{N}{2} - N_{i-1} } {n_{i} } \\cdot a_{i}\n",
        "      = 40 +  \\frac{ 35 -  29} { 10 } \\cdot 5 = 43\\\\\n",
        "$$\n",
        "\n"
      ]
    },
    {
      "attachments": {},
      "cell_type": "markdown",
      "metadata": {
        "id": "oYJS2LZqhJNp"
      },
      "source": [
        "<font color='Blue'><b> Moda </b></font>\n",
        "\n",
        "Es el valor que más se repite en una distribución. La moda es el <b>valor más frecuente</b>, que tiene mayor frecuencia absoluta.\n",
        "\n",
        "Se puede hallar la moda tanto para variables cualitativas como para variables cuantitativas. Se representa por ***Mo***.\n",
        "\n",
        "\n",
        "**A)** _Cálculo de la moda para **datos sin agrupar**_\n",
        "\n",
        "Analicemos los siguientes ejemplos:\n",
        "\n",
        "1.   Halla la moda de la distribución: 2, 3, 3, 4, 4, 4, 5 y 5. $ \\quad \\rightarrow \\quad $\tMo = 4\n",
        "\n",
        "  El valor 4 es el número que más se repite, es decir, es el valor de $x_{i}$ que corresponde con el **máximo valor de $n_{i}$**.\n",
        "  \n",
        "2. Halla la moda de la distribución: 1, 1, 1, 4, 4, 5, 5, 5, 7, 8, 9, 9 y 9.  $ \\quad \\rightarrow \\quad $ Mo = 1, 5, 9\n",
        "\n",
        "  Si en un grupo hay dos o varias puntuaciones con la misma frecuencia y esa frecuencia es la máxima, la distribución es bimodal o multimodal, es decir, **puede tener varias modas.** Esto sucede en este caso, en el que hay tres modas el 1, el 5 y el 9.\n",
        "  \n",
        "\n",
        "3. Halla la moda de la distribución: 2, 2, 3, 3, 6, 6, 9 y 9.\n",
        "\n",
        "  Cuando todas las puntuaciones de un grupo **tienen la misma frecuencia, no hay moda.**\n",
        "\n",
        "  \n",
        "4. Halla la moda de la distribución: 0, 1, 3, 3, 5, 5, 7 y 8.  $ \\quad \\rightarrow \\quad $\t Mo = 4\n",
        "\n",
        "  Si dos puntuaciones adyacentes tienen la frecuencia máxima, **la moda es el promedio de las dos puntuaciones adyacentes.** En este caso, serian el 3 y el 5, que se repiten dos veces cada uno de ellos, donde el valor medio entre ambos es 4.\n",
        "\n",
        "**B)** _Cálculo de la moda para **datos agrupados**_\n",
        "\n",
        "Hay dos maneras de calcularla, la fórmula general y la fórmula aproximada. Veamos las dos:\n",
        "\n",
        "Fórmula General:\n",
        "\n",
        "$$ {\n",
        "   Mo = L_{i-1} +  \\frac{ n_{i} - n_{i-1} } { (n_{i} - n_{i-1}) + (n_{i} - n_{i+1}) } \\cdot a_{i}  \n",
        "} $$\n",
        "\n",
        "Fórmula Aproximada:\n",
        "\n",
        "$$ {\n",
        "   Mo = L_{i-1} +  \\frac{ n_{i+1} } { n_{i-1} + n_{i+1} } \\cdot a_{i}  \n",
        "} $$\n",
        "\n",
        "\n",
        "  * Donde (para ambas fórmulas):\n",
        "\n",
        "    * $ n_{i} $ es la frecuencia absoluta de la clase modal.\n",
        "    * $ n_{i-1} $ es la frecuencia absoluta inmediatamente inferior de la clase modal.\n",
        "    * $ n_{i+1} $ es la frecuencia absoluta inmediatamente posterior de la clase modal.\n",
        "    * $ a_{i} $ es la amplitud de la clase.\n",
        "    * $ L_{i-1} $ es el límite inferior de la clase modal.\n",
        "\n",
        "\n",
        "Dentro de este apartado, existen **dos opciones** a su vez, que son:\n",
        "\n",
        "*   Los intervalos tienen **la misma amplitud.**\n",
        "*   Los intervalos tienen **distinta amplitud.**\n",
        "\n",
        "\n",
        "<br>\n",
        "\n",
        "_Misma amplitud_\n",
        "\n",
        "Calcula la moda de los salarios mensuales de 200 trabajadores de una empresa que se han recogido en la siguiente distribución de frecuencias:\n",
        "\n",
        "\n",
        "| $ C_{i} $ | $$ n_{i} $$  |\n",
        "|---------------|-----|\n",
        "| [75-125)      | 25  |\n",
        "| [125-175)     | 100 |\n",
        "| [175-225)     | 50  |\n",
        "| [225-275)     | 25  |\n",
        "|     Σ         | 200 |\n",
        "\n",
        " Donde: $ C_{i} = [L_{i-1}, L_{i}) $\n",
        "\n",
        "Observa que la amplitud de los intervalos es constante e igual a $ a_{i} = 50 $.\n",
        "\n",
        "La mayor frecuencia absoluta es $ n_{i} = 100 $, por lo que el intervalo modal será: (125, 175].\n",
        "\n",
        "Entonces, el valor de la moda, con la fórmula aproximada, será:  \n",
        "\n",
        "$$ Mo = L_{i-1} +  \\frac{ n_{i+1} } { n_{i-1} + n_{i+1} } \\cdot a_{i}  \n",
        "   = 125 +  \\frac{ 50 } { 25 + 50 } \\cdot 50 = 158.33 \\quad u.m.\n",
        " $$\n",
        "\n",
        "Esto implica que el salario que más se repite en la empresa es de 158.33 unidades monetarias.\n",
        "\n",
        "<br>\n",
        "\n",
        "_Distinta amplitud_\n",
        "\n",
        "Los salarios mensuales de 100 trabajadores de un hotel se reflejan en la siguiente  distribución de frecuencias:\n",
        "\n",
        "| $ C_{i} $ | $$ n_{i} $$  |\n",
        "|-----------|-----|\n",
        "| [75-200)  | 50  |\n",
        "| [200-250) | 40  |\n",
        "| [250-300) | 7   |\n",
        "| [300-400) | 3   |\n",
        "|     Σ     | 100 |\n",
        "\n",
        "Observa que los intervalos no tienen una amplitud constante, por lo que para obtener la moda, debemos calcular la densidad de frecuencias, esto es:\n",
        "\n",
        "$$ {\n",
        "   h_{i} = \\frac { n_{i} } {  a_{i} }\n",
        "} $$\n",
        "\n",
        "Se añade la altura a la tabla de frecuencias:\n",
        "\n",
        "\n",
        "| $ C_{i} $ | $$ n_{i} $$ |  $ h_{i} $  |\n",
        "|:---------:|:--:|:-------------:|\n",
        "|  [75-200) | 50 | 50/125 = 0,40 |\n",
        "| [200-250) | 40 |  40/50 =0,80  |\n",
        "| [250-300) |  7 |  7/50 = 0,14  |\n",
        "| [300-400) |  3 |  3/100 = 0,03 |\n",
        "|   Σ       | 100 |              |\n",
        "\n",
        "La mayor densidad de frecuencias es $ h_{i} = 0.80 $, por lo que el intervalo modal será [200-250) y entonces la moda será:\n",
        "\n",
        "$$ Mo = L_{i-1} +  \\frac{ h_{i+1} } { h_{i-1} + h_{i+1} } \\cdot a_{i}  \n",
        "   = 200 +  \\frac{ 0.14 } { 0.40 + 0.14 } \\cdot 50 = 213 \\quad u.m. \\\\ \\\\\n",
        " $$\n",
        "\n",
        "En el hotel, el salario que más se repite es de 213 unidades monetarias."
      ]
    },
    {
      "attachments": {},
      "cell_type": "markdown",
      "metadata": {
        "id": "u2eiagA2xPec"
      },
      "source": [
        "### 2.2.2. Medidas de Dispersión\n",
        "\n",
        "Las medidas de dispersión nos informan sobre _**cuánto**_ se alejan del centro los valores de la distribución.\n",
        "\n",
        "<br>\n",
        "\n",
        "<font color='Blue'><b> Rango o Recorrido </b></font>\n",
        "\n",
        "Es la diferencia entre el mayor y el menor de los datos de una distribución estadística. Se representa por $R$.\n",
        "\n",
        "Su fórmula es:\n",
        "\n",
        "$$ {\n",
        "   R = X_{max} - X_{min}  \n",
        "  } $$\n",
        "\n",
        "\n",
        "<br>\n",
        "\n",
        "Halla el rango si el peso de 11 alumnos/as es: 74, 67, 72, 41, 60, 66, 44, 75, 42, 79 y 45 (expresando en Kg.).\n",
        "\n",
        "Máximo (Dato mayor) = 79 y Mínimo (dato menor) = 41 $ \\quad \\rightarrow \\quad  Rango = 79 – 41 = 38 $\n",
        "\n",
        "<br>\n",
        "\n",
        "<font color='Blue'><b> Varianza </b></font>\n",
        "\n",
        "Es la media aritmética del cuadrado de las desviaciones respecto a la media de una distribución estadística. La varianza se representa por la notación griega $\\sigma^2$ o se opta por una notación más sencilla como _V_ o _Var_.\n",
        "\n",
        "\n",
        "**A)** _Cálculo de la varianza para **datos sin agrupar**_.\n",
        "\n",
        "Su fórmula tiene varias formas de representarse:\n",
        "\n",
        "$$ {\n",
        "   \\sigma^2 = \\sum_{i=1}^{k} ( x_{i} -\\bar{x} )^2 \\cdot  f_{i}\n",
        "   \\quad \\text{ o bien} \\quad\n",
        "   \\sigma^2 = \\sum_{i=1}^{N} ( x_{i}^2 \\cdot f_{i} ) - \\bar{x}^2\n",
        "   \\quad \\text{ o bien} \\quad\n",
        "   \\sigma^2 = \\sum_{i=1}^{N} \\frac{( x_{i} -\\bar{x} )^2 }{N}\n",
        "} $$\n",
        "\n",
        "\n",
        "Te animamos a leer el siguiente documento donde se explica la equivalencia entre las igualdades de la varianza:\n",
        "\n",
        "[Demostración Equivalencia Igualdades de la Varianza](https://github.com/md-lorente/documentation/blob/master/Demostracion_equivalencia_igualdades_varianza.pdf)\n",
        "\n",
        "<br>\n",
        "\n",
        "Calcula la varianza de la distribución: 9, 3, 8, 8, 9, 8, 9 y 18.\n",
        "\n",
        "Para el cálculo de la varianza necesitas saber previamente el valor de la media aritmética, por tanto:\n",
        "\n",
        "$$ \\bar{x} = \\frac{1}{N} \\sum_{i=1}^{n} x_{i}\n",
        "           = \\frac{ x_{1} +  x_{2} +  x_{3} + \\cdots +  x_{n} }{N}  \n",
        "           = \\frac{ 9 + 3 + 8 + 8 + 9 + 8 + 9 + 18 }{8} = 9\n",
        "$$\n",
        "\n",
        "$$ \\sigma^2 = \\sum_{i=1}^{N} \\frac{( x_{i} -\\bar{x} )^2 }{N}\n",
        "= \\frac{ ( x_{1} -\\bar{x} )^2 + ( x_{2} -\\bar{x} )^2 + \\ldots + ( x_{n} -\\bar{x} )^2}{N}\n",
        "= \\frac{ (9-9)^2 + (3-9)^2 + (8-9)^2 + (8-9)^2 + (9-9)^2 + (8-9)^2 + (9-9)^2  + (18-9)^2 }{8} = 15\n",
        "$$\n",
        "\n",
        "\n",
        "\n",
        "\n",
        "<br>\n",
        "\n",
        "**B)** _Cálculo de la varianza para **datos agrupados**_\n",
        "\n",
        "Tienes varias fórmulas o caminos para hallar el valor.\n",
        "\n",
        "A continuación, mostramos las dos más frecuentes a la hora de conocer el dato específico:\n",
        "\n",
        "$$ {\n",
        "   \\sigma^2 = \\sum_{i=1}^{N} \\frac{ x_{i}^2 \\cdot n_{i} }{N} - \\bar{x}^2\n",
        "   \\quad \\text{ o bien} \\quad\n",
        "   \\sigma^2 = \\sum_{i=1}^{N} \\frac{( x_{i} -\\bar{x} )^2 \\cdot n_{i} }{N}\n",
        "} $$\n",
        "\n",
        "\n",
        "<br>\n",
        "\n",
        "Con los siguientes datos agrupados, calculamos la varianza de la distribución de la tabla que se muestra a continuación:\n",
        "\n",
        "| Intervalo | $$n_{i}$$ |\n",
        "|-----------|----|\n",
        "| [10, 20)  | 1  |\n",
        "| [20, 30)  | 8  |\n",
        "| [30,40)   | 10 |\n",
        "| [40, 50)  | 9  |\n",
        "| [50, 60   | 8  |\n",
        "| [60,70)   | 4  |\n",
        "| [70, 80)  | 2  |\n",
        "\n",
        "Podemos calcular la varianza o bien aplicando la fórmula, o bien con la tabla de frecuencias. En esta ocasión, hallaremos el valor de la segunda manera:\n",
        "\n",
        "| Intervalo | $$x_{i}$$ | $$n_{i}$$  | $$x_{i} \\cdot n_{i}$$  | $$x_{i}^2 \\cdot n_{i}$$|\n",
        "|-----------|----|----|---------|----------|\n",
        "| [10, 20)  | 15 | 1  | 15      | 225      |\n",
        "| [20, 30)  | 25 | 8  | 200     | 5000     |\n",
        "| [30,40)   | 35 | 10 | 350     | 12250    |\n",
        "| [40, 50)  | 45 | 9  | 405     | 18225    |\n",
        "| [50, 60   | 55 | 8  | 440     | 24200    |\n",
        "| [60,70)   | 65 | 4  | 260     | 16900    |\n",
        "| [70, 80)  | 75 | 2  | 150     | 11250    |\n",
        "| Σ         |    | 42 | 1820    | 88050    |\n",
        "\n",
        "Ahora, podemos aplicar la fórmula de manera más simplificada, tal y como mostramos a continuación:\n",
        "\n",
        "$$ \\bar{x} = \\frac{1}{N} \\sum_{i=1}^{n} x_{i} \\cdot n_{i}\n",
        "           = \\frac{\\sum_{i=1}^{n} x_{i} \\cdot n_{i}}{N}\n",
        "           = \\frac{1820}{42} = 43.33\n",
        "$$\n",
        "\n",
        "$$ \\sigma^2 = \\sum_{i=1}^{N} \\frac{( x_{i}^2 \\cdot n_{i} )}{N} - \\bar{x}^2\n",
        "   = \\frac{\\sum_{i=1}^{N} x_{i}^2 \\cdot n_{i}}{N} - \\bar{x}^2\n",
        "   = \\frac{88050}{42} - 43.33^2 = 218.94\n",
        "$$\n",
        "\n",
        "\n"
      ]
    },
    {
      "attachments": {},
      "cell_type": "markdown",
      "metadata": {
        "id": "-MWz5aghPJfD"
      },
      "source": [
        "**Propiedades de la varianza**\n",
        "<hr>\n",
        "<hr>\n",
        "\n",
        "1. En el caso de que las puntuaciones sean iguales, la varianza será siempre un valor positivo o cero.\n",
        "\n",
        "2. Si a todos los valores de la variable se les suma un número, la varianza no varía.\n",
        "\n",
        "3. Si todos los valores de la variable se multiplican por un número, la varianza queda multiplicada por el cuadrado de dicho número.\n",
        "\n",
        "4. Si tenemos varias distribuciones con la misma media y conocemos sus respectivas varianzas, se puede calcular la varianza total.\n",
        "\n",
        "  *   Si todas las muestras tienen el mismo tamaño:\n",
        "\n",
        "  $${\n",
        "  \\sigma^2 = \\frac{\\sigma^2_{1} + \\sigma^2_{2} + \\ldots + \\sigma^2_{n} }{n}  } $$\n",
        "\n",
        "  *   Si todas las muestras tienen distinto tamaño:\n",
        "\n",
        " $$ {\n",
        "   \\sigma^2 = \\frac{k_{1}\\sigma^2_{1} + k_{2}\\sigma^2_{2} + \\ldots + k_{n}\\sigma^2_{n} }{k_{1}+k_{2}+ \\ldots + k_{n}}  } $$\n",
        "\n",
        "\n",
        "\n",
        "<!-- script html for \"Recuerda\" -->\n",
        "<!-- espaciado salto <br> espaciado de linea &nbsp; -->\n",
        "<br>\n",
        "<p> <mark>RECUERDA</mark> </p>\n",
        "<hr>\n",
        "<p>\n",
        "\n",
        "1. La varianza, al igual que la media, es un índice **muy sensible a las puntuaciones extremas.**\n",
        "\n",
        "2. En los casos que **no se pueda hallar la media, tampoco será posible hallar la varianza.**\n",
        "\n",
        "3. **La varianza no viene expresada en las mismas unidades que los datos**, ya que las desviaciones están elevadas al cuadrado.\n"
      ]
    },
    {
      "attachments": {},
      "cell_type": "markdown",
      "metadata": {
        "id": "EAVRdQanR1KY"
      },
      "source": [
        "<font color='Blue'><b> Desviación típica </b></font>\n",
        "\n",
        "También llamada **desviación estándar**, es la raíz cuadrada positiva de la varianza. La desviación típica se representa por $\\sigma$ o bien por su notación más simple _Dt_.\n",
        "\n",
        "Tiene, también, fórmulas para datos sin agrupar y fórmulas para datos agrupados, aunque lo habitual es calcular previamente la varianza y, a partir de esta, hallar la desviación típica.\n",
        "\n",
        "Su forma de cálculo queda muy simplificada:\n",
        "\n",
        "$$ {\n",
        "   \\sigma = \\sqrt {\\sigma^2}\n",
        "} $$\n",
        "\n",
        "Veamos, ahora, los ejemplos vistos antes en la varianza, pero añadiendo el cálculo de la desviación típica.\n",
        "\n",
        "<br>\n",
        "\n",
        "$$\n",
        "\n",
        "En el **primer ejemplo anterior para _datos sin agrupar_** se tenía que la varianza era:\n",
        "\n",
        "$$ \\sigma^2 = \\sum_{i=1}^{N} \\frac{( x_{i} -\\bar{x} )^2 }{N}  = 15\n",
        "\\\\ \\\\ $$\n",
        "\n",
        "Entonces, la desviación típica quedaría de la siguiente forma:\n",
        "\n",
        "$$ \\sigma = \\sqrt {\\sigma^2}  = \\sqrt {15} = 3.87 $$\n",
        "\n",
        "\\\\\n",
        "\n",
        "En el **segundo ejemplo anterior para _datos sin agrupar_** se tenía que la varianza era:\n",
        "\n",
        "$$ \\sigma^2 = \\sum_{i=1}^{N} \\frac{( x_{i}^2 \\cdot n_{i} )}{N} - \\bar{x}^2\n",
        "   = 218.94\n",
        "$$\n",
        "\n",
        "Luego la desviación típica correspondiente será:\n",
        "\n",
        "$$ \\sigma = \\sqrt {\\sigma^2}  = \\sqrt {218.94} = 14.797 $$\n"
      ]
    },
    {
      "attachments": {},
      "cell_type": "markdown",
      "metadata": {
        "id": "dvpqbhi_WrBz"
      },
      "source": [
        "**Propiedades de la desviación típica**\n",
        "<hr>\n",
        "<hr>\n",
        "\n",
        "1.  En el caso de que las puntuaciones sean iguales, la desviación típica será siempre un valor positivo o cero.\n",
        "\n",
        "2.  Si a todos los valores de la variable se les suma un número, la desviación típica no varía.\n",
        "\n",
        "3.  Si todos los valores de la variable se multiplican por un número, la desviación típica queda multiplicada por dicho número.\n",
        "\n",
        "4. Si tenemos varias distribuciones con la misma media y conocemos sus respectivas desviaciones típicas se puede calcular la desviación típica total.\n",
        "\n",
        "  *   Si todas las muestras tienen el mismo tamaño:\n",
        "\n",
        "  $$ {\n",
        "    \\sigma = \\frac{\\sigma_{1} + \\sigma_{2} + \\ldots + \\sigma_{n} }{n}  } $$\n",
        "\n",
        "  *   Si todas las muestras tienen distinto tamaño:\n",
        "\n",
        " $$  {\n",
        "   \\sigma = \\frac{k_{1}\\sigma_{1} + k_{2}\\sigma_{2} + \\ldots + k_{n}\\sigma_{n} }{k_{1}+k_{2}+ \\ldots + k_{n}}  } $$\n",
        "\n",
        "\n",
        "\n",
        "<!-- script html for \"Recuerda\" -->\n",
        "<!-- espaciado salto <br> espaciado de linea &nbsp; -->\n",
        "<br>\n",
        "<p> <mark>RECUERDA</mark> </p>\n",
        "<hr>\n",
        "<p>\n",
        "\n",
        "1. La desviación típica, al igual que la media y la varianza, es un índice **muy sensible a las puntuaciones extremas.**\n",
        "\n",
        "2. En los casos que **no se pueda hallar la media, tampoco será posible hallar la desviación típica.**\n",
        "\n",
        "3. **La desviación típica es la raíz cuadrada de la varianza.**\n",
        "\n",
        "4. Cuanta **más pequeña sea la desviación típica, mayor será la concentración** de datos alrededor de la media.\n",
        "\n",
        "5. Se llama **tipificación** de una variable al proceso de restar la media y dividir por su desviación típica. De esta manera, las observaciones tienen media igual a cero y la desviación típica igual a uno. Se representa por $z_{i}$. Cuya fórmula es:\n",
        "\n",
        "$$ {\n",
        "   z_{i} = \\frac{x_{i} - \\bar{x}} { \\sigma }\n",
        "} $$\n",
        "\n"
      ]
    },
    {
      "attachments": {},
      "cell_type": "markdown",
      "metadata": {
        "id": "7n39gZiUYZiQ"
      },
      "source": [
        "<font color='Blue'><b> Cuasivarianza </b></font>\n",
        "\n",
        "La cuasivarianza de una población o muestra se obtiene al multiplicar la varianza por $N/(N-1)$. La **cuasivarianza muestral** es un estimador centrado (no sesgado) de la varianza poblacional. Se suele representar por $\\sigma^2_{N-1}$  o bien $ S^2_{N-1}$.\n",
        "\n",
        "Su fórmula general se puede simplificar, por tanto se puede hallar de las siguientes dos formas:\n",
        "\n",
        "$$ {\n",
        "\\sigma^2_{N-1} = \\sum_{i=1}^{N} \\frac{( x_{i} -\\bar{x} )^2 \\cdot n_{i} }{N-1}\n",
        " \\quad \\text{ o bien} \\quad  \n",
        "\\sigma^2_{N-1} = \\frac{N}{N-1} \\cdot \\sigma^2\n",
        "} $$\n",
        "\n",
        "Es semejante a la Varianza, excepto que la división es por _**N-1**_ (tamaño de la muestra) y no por _**N**_ (tamaño del grupo de datos). Este estadístico es **apropiado para obtener estimaciones de la varianza** de la población en el análisis inferencial de datos.\n",
        "\n",
        "<br>\n",
        "<p> <mark>PARA SABER MÁS</mark> </p>\n",
        "<hr>\n",
        "\n",
        "Te recomendamos la lectura de este paper para profundizar en el conocimiento de **su utilidad**:\n",
        "\n",
        "[El porqué de la cuasivarianza](https://github.com/md-lorente/documentation/blob/master/El%20porqu%C3%A9%20de%20la%20cuasivarianza.pdf)\n",
        "\n",
        "También, recomendamos la lectura de este otro paper para entender el **desarrollo matemático** de la simplificación de la fórmula:\n",
        "\n",
        "[Desarrollo fórmula simplificada](https://github.com/md-lorente/documentation/blob/master/Demostracion_equivalencia_igualdades_varianza.pdf)\n"
      ]
    },
    {
      "attachments": {},
      "cell_type": "markdown",
      "metadata": {
        "id": "QWoKUbdAi3rk"
      },
      "source": [
        "<font color='Blue'><b> Cuasidesviación típica </b></font>\n",
        "\n",
        "Se trata de un estimador centrado (no sesgado) de la varianza poblacional. Se calcula como la raíz cuadrada de la cuasivarianza, y se denotará por $\\sigma_{N-1}$  o bien $ S_{N-1}$.\n",
        "\n",
        "Tiene una fórmula general y otra fórmula simplificada, por tanto, la podemos hallar de ambas formas, esto es:\n",
        "\n",
        "$$ {\n",
        "\\sigma_{N-1} = \\sqrt{ \\sum_{i=1}^{N} \\frac{( x_{i} -\\bar{x} )^2 \\cdot n_{i} }{N-1} }\n",
        " \\quad \\text{ o bien} \\quad  \n",
        "\\sigma_{N-1} = \\sqrt{ \\frac{N}{N-1} \\cdot \\sigma^2 }\n",
        "} $$\n",
        "\n",
        "\\\\\n",
        "\n",
        "Al igual que antes, normalmente, la hallaremos de la manera más simple, es decir, como la raíz cuadrada de la cuasivarianza, que expresado matemáticamente es de la forma siguiente:\n",
        "\n",
        "$$ {\n",
        "\\sigma_{N-1} = \\sqrt{ \\sigma^2_{N-1} }\n",
        "} $$\n"
      ]
    },
    {
      "attachments": {},
      "cell_type": "markdown",
      "metadata": {
        "id": "_0r_lf3EloPA"
      },
      "source": [
        "<font color='Blue'><b> Desviación absoluta con respecto a la mediana </b></font>\n",
        "\n",
        "Es la suma de los valores absolutos de las diferencias de los valores de la variable a la mediana. Se denotará por $D_{Me}$.\n",
        "\n",
        "Las fórmulas equivalentes para poder hallarla son:\n",
        "\n",
        "$$ {\n",
        "D_{Me} = \\sum_{i=1}^{N} | x_{i} - Me | \\cdot f_{i}\n",
        " \\quad \\text{ o bien} \\quad  \n",
        "D_{Me} = \\sum_{i=1}^{N} \\frac{| x_{i} - Me | \\cdot n_{i} }{N}\n",
        "} $$\n",
        "\n",
        "\\\\\n",
        "\n",
        "<br>\n",
        "<p> <mark>RECUERDA</mark> </p>\n",
        "<hr>\n",
        "\n",
        "\n",
        "La desviación absoluta con respecto a la mediana se usa en lugar de la desviación estándar **cuando es necesario que los valores extremos afecten menos** al valor de la desviación. Esto se debe al hecho de que los valores extremos afectan menos a la mediana que a la media.\n",
        "\n",
        "También hay una **desviación absoluta con respecto a la media**, en el que se sustituye la mediana por la media y se representa por $D_{\\bar{x}}$. En este aspecto no vamos a profundizar aunque dejamos el siguiente enlace ya que leyéndolo podrás ahondar en un mayor conocimiento:\n",
        "\n",
        "[Desviación media](https://matemovil.com/desviacion-media-ejemplos-y-ejercicios/)\n",
        "\n",
        "\n",
        "La desviación absoluta con respecto a la mediana, siempre cumple la siguiente propiedad:\n",
        "\n",
        "$$ {\n",
        " D_{Me} < D_{\\bar{x}} < \\sigma\n",
        "} \\\\ $$\n",
        "\n",
        "<br>\n",
        "<p> <mark>PARA SABER MÁS</mark> </p>\n",
        "<hr>\n",
        "\n",
        "Para ampliar información sobre la desviación media, puedes leer:\n",
        "\n",
        "[Desviación respecto a la media y desviación media](https://www.sangakoo.com/es/temas/desviacion-respecto-a-la-media-y-desviacion-media)\n",
        "\n",
        "<br>\n",
        "\n",
        "Calcula la desviación media de la siguiente distribución de frecuencias:\n",
        "\n",
        "| $$x_{i}$$ | $$n_{i}$$ |\n",
        "|----|----|\n",
        "| 0  | 2  |\n",
        "| 3  | 4  |\n",
        "| 5  | 6  |\n",
        "| 7  | 5  |\n",
        "| 9  | 3  |\n",
        "| Σ  | 20 |\n",
        "\n",
        "El primer cálculo consiste en hallar la mediana, como ya está ordenado en la tabla y es un valor impar, entonces puedes apreciar que: $ Me = 5$.\n",
        "\n",
        "Ahora ya puedes hallar la desviación media:\n",
        "\n",
        "$$ Dm = \\sum_{i=1}^{N} \\frac{| x_{i} - Me | \\cdot n_{i} }{N}\n",
        "= | 0 -5 | \\frac{2}{20} + | 3 -5 | \\frac{4}{20} + | 5 -5 | \\frac{6}{20} + | 7 -5 | \\frac{5}{20}  + | 9 -5 | \\frac{3}{20} = 2\n",
        "$$\n"
      ]
    },
    {
      "attachments": {},
      "cell_type": "markdown",
      "metadata": {
        "id": "11I5Ozy53oz3"
      },
      "source": [
        "<font color='Blue'><b> Coeficiente de Variación de Spearman </b></font>\n",
        "\n",
        "También llamado ***Coeficiente de Variación o $CV$***: es la relación entre la desviación típica y su media. Esto es, es una medida estadística que **ofrece información respecto de la dispersión** relativa a un conjunto de datos.\n",
        "\n",
        "Su fórmula es:\n",
        "\n",
        "$$ {\n",
        "CV = \\frac{ \\sigma }{ \\bar{x} } \\quad \\text{suponiendo que} \\quad  \\bar{x} \\neq 0\n",
        "} $$\n",
        "\n",
        "<br>\n",
        "\n",
        "**Su interpretación** es relativa al **grado de variabilidad, independiente de la escala de la variable**, a diferencia de la desviación típica o estándar. Se puede interpretar el $CV$ de la siguiente manera:\n",
        "\n",
        "* A mayor valor del $CV$, mayor heterogeneidad de los valores de la variable.\n",
        "\n",
        "* A menor valor del $CV$, mayor homogeneidad en los valores de la variable.\n",
        "\n",
        "\n",
        "Por ejemplo, si el C.V es menor o igual al 80%, significa que la media aritmética es representativa del conjunto de datos y, por tanto, el conjunto de datos es [homogéneo](https://dle.rae.es/homog%C3%A9neo). Por el contrario, si el C.V supera al 80%, el promedio no será representativo del conjunto de datos y será [heterogéneo](https://dle.rae.es/heterog%C3%A9neo).\n",
        "\n",
        "\n",
        "Una de las utilidades del coeficiente de variación es que sirve como un indicador que **permite establecer comparaciones entre distintos casos o poblaciones**, además de poder establecer una relación entre el tamaño de la media aritmética y la variabilidad de la variable, pero ¡ojo! hay que tener cuidado a la hora de hacer comparativas.\n",
        "\n",
        "Veamos el siguiente ejemplo para comprenderlo mejor.\n",
        "\n",
        "<br>\n",
        "\n",
        "Se han recogido el número de clientes que han recibido dos sucursales de un mismo banco. La sucursal situada en Madrid tiene una media de 140 visitantes y una desviación típica de 28.28. En cambio la sucursal situada en Barcelona tiene una media de 150 visitas y una desviación típica de 25. ¿Cuál de las dos presenta menor dispersión?\n",
        "\n",
        "\n",
        "$$ CV_{Madrid} = \\frac{ \\sigma }{ \\bar{x} } = \\frac{ 28.28 }{ 140 } = 0.2020  \\quad \\rightarrow \\quad  CV_{Madrid} = 20.2 \\%\n",
        "\\\\\n",
        " CV_{Barcelona} = \\frac{ \\sigma }{ \\bar{x} } = \\frac{ 25 }{ 150 } = 0.1667 \\quad \\rightarrow \\quad  CV_{Barcelona} = 16.67 \\%\n",
        "\\\\\n",
        "$$\n",
        "\n",
        "Así, en la población de Barcelona el coeficiente de variación es de un 16%, mientras que en la población de Madrid el $CV$ es de un 20%. De acuerdo con estos datos, la población con mayor dispersión es la de Madrid.\n",
        "\n",
        "En general, a igualdad de medias, la homogeneidad o heterogeneidad dependerá de la desviación típica. Como en este caso, ambas ciudades presentan una media similar y es la desviación típica la que afecta al coeficiente de variación."
      ]
    },
    {
      "attachments": {},
      "cell_type": "markdown",
      "metadata": {
        "id": "2IpDmtAcUfue"
      },
      "source": [
        "**Propiedades del coeficiente de correlación lineal de Pearson**\n",
        "<hr>\n",
        "<hr>\n",
        "<br>\n",
        "\n",
        "1. El coeficiente de variación no tiene unidades. El $CV$ es **invariante frente a cambios de escala**.\n",
        "\n",
        "2. El coeficiente de variación se expresa en porcentaje, pues es como mejor se expresa. Aunque también podemos encontrarlo en cifras de 0 a 1, si bien es cierto que, en ciertas distribuciones de probabilidad, este coeficiente puede ser 1 o incluso mayor que 1. En general, el $CV$ se suele **expresar en porcentajes**.\n",
        "\n",
        "3. El coeficiente de variación **depende de la desviación típica y de la media aritmética.**\n",
        "\n",
        "4.  Permite **comparar las dispersiones de dos distribuciones distintas** (variables que aparecen en unidades distintas o que toman magnitudes muy diferentes o para comparar las variabilidades de varios conjuntos de datos, muestras o poblaciones), siempre que sus medias sean positivas y distintas de 0.\n",
        "\n",
        "5. Se calcula para cada una de las distribuciones, y los valores que se obtienen se comparan entre sí. **La mayor dispersión corresponderá al valor del coeficiente de variación mayor.**\n",
        "\n",
        "\n",
        "\n",
        "<!-- script html for \"Recuerda\" -->\n",
        "<!-- espaciado salto <br> espaciado de linea &nbsp; -->\n",
        "<br>\n",
        "<p> <mark>RECUERDA</mark> </p>\n",
        "<hr>\n",
        "<p>\n",
        "\n",
        "*   Para su interpretación se puede expresar como porcentaje, teniendo en cuenta que **puede superar el valor 100%**.\n",
        "\n",
        "*   Depende de la desviación típica y, en mayor medida, de **la media aritmética**, dado que cuando **esta es 0 o muy próxima a este valor, el C.V. pierde significado**, ya que puede dar valores muy grandes que no necesariamente implican una gran dispersión de datos.\n",
        "\n",
        "*   Permite establecer la relación entre el tamaño de la media y la variabilidad de la variable.\n",
        "\n",
        "*   Permite establecer comparaciones entre distintas muestras que estén midiendo lo mismo."
      ]
    },
    {
      "attachments": {},
      "cell_type": "markdown",
      "metadata": {
        "id": "wDpjV6eIaVkT"
      },
      "source": [
        "### 2.2.3. Medidas de Posición\n",
        "\n",
        "Las medidas de posición nos informan de _**dónde**_ se alejan del centro los valores de la distribución. Para hacerlo, dividen un conjunto de datos en grupos con el mismo número de individuos. Para calcular las medidas de posición es necesario que los datos estén ordenados de menor a mayor. Las medidas de posición son:\n",
        "\n",
        "<br>\n",
        "\n",
        "<font color='Blue'><b> Cuartiles </b></font>\n",
        "\n",
        "Son los que **dividen la serie de datos en cuatro partes iguales**. Es decir, son los tres valores de la variable que dividen un conjunto de datos ordenados en cuatro partes iguales. Determinan los valores correspondientes al 25%, al 50% y al 75% de los datos. Hay que fijarse en que **el cuartil segundo coincide con la mediana.**\n",
        "\n",
        "Se representan por:\n",
        "\n",
        "$$ {\n",
        "  Q_{k} \\; \\; con \\; \\; k = 1,\\; 2 \\; ó \\; 3 } $$\n",
        "\n",
        "<br>\n",
        "\n",
        "**A)** _Cálculo de los cuartiles para **datos sin agrupar**_.\n",
        "\n",
        "En este caso no es necesario aplicar ninguna fórmula, basta con seguir una serie de pasos:\n",
        "\n",
        "1.   Primero ordenamos los datos de menor a mayor.\n",
        "2.   Después, buscamos el lugar que ocupa cada cuartil mediante la siguiente expresión:\n",
        "\n",
        "$$ {\n",
        "CV = \\frac{ kN }{ 4 } \\quad \\text{siendo} \\quad  k = 1,2,3\n",
        "} $$\n",
        "\n",
        "<br>\n",
        "\n",
        "Para los cálculos, hay que tener en cuenta si la **distribución es par o impar**:\n",
        "\n",
        "*   Número impar de datos: 2, 5, 3, 6, 7, 4 y 9 $ \\quad \\rightarrow \\quad $ La distribución ordenada es: 2, <font color='darkred'><b> 3 </b></font>, 4, <font color='green'><b> 5 </b></font>, 6, <font color='darkblue'><b> 7 </b></font>, 9\n",
        "\n",
        " Luego los cuartiles son: $ \\quad  Q_{1} = 3 \\quad  Q_{2} = 5 \\quad  Q_{3} = 7$    \n",
        "\n",
        "*   Número par de datos: 2, 5, 3, 4, 6, 7, 1 y 9 $ \\quad \\rightarrow \\quad $ La distribución ordenada es: 1, <font color='darkred'><b> 2, 3 </b></font>,  <font color='green'><b> 4, 5 </b></font>,  <font color='darkblue'><b> 6, 7 </b></font>, 9\n",
        "\n",
        " Luego los cuartiles son: $ \\quad Q_{1} = \\frac{2+3}{2}= 2.5 \\quad  Q_{2} = \\frac{4+5}{2}= 4.5 \\quad  Q_{3} = \\frac{6+7}{2}= 6.5 $    \n",
        "\n",
        "\n",
        "<br>\n",
        "\n",
        "**B)** _Cálculo de la media aritmética para **datos agrupados**_.\n",
        "\n",
        "En este caso, se cuenta con una fórmula para poder hallarlos, que es:\n",
        "\n",
        "$$ {\n",
        "   Q_{k} = L_{i-1} + \\frac{ \\frac{k \\cdot N}{4} - N_{i-1} }{n_{i}} \\cdot a_{i}\n",
        "   \\quad \\text{donde} \\quad  k = 1, 2, 3       \n",
        "} $$\n",
        "\n",
        "\n",
        "<br>\n",
        "\n",
        "Calcula los cuartiles de la distribución de la tabla siguiente:\n",
        "\n",
        "| Intervalo  | $$n_{i}$$ | $$N_{i}$$  |\n",
        "|------------|----|-----|\n",
        "| [50, 60)   | 8  | 8   |\n",
        "| [60, 70)   | 10 | 18  |\n",
        "| [70, 80)   | 16 | 34  |\n",
        "| [80, 90)   | 14 | 48  |\n",
        "| [90, 100)  | 10 | 58  |\n",
        "| [100, 110) | 5  | 63  |\n",
        "| [110, 120) | 2  | 65  |\n",
        "| Σ          | 65 |     |\n",
        "\n",
        "En general los intervalos suelen estar ordenados, se divide la recta en 4 partes iguales para, posteriormente, analizar los resultados para ver en qué parte de la recta está la frecuencia absoluta.\n",
        "\n",
        "Una vez elegido el intervalo se podrá aplicar la fórmula general, tal y como se muestra a continuación:\n",
        "\n",
        "$$ Q_{1} = \\frac{k \\cdot N}{4} = \\frac{1 \\cdot 65}{4} = 16.25  \n",
        "   \\quad \\rightarrow \\quad\n",
        "   Q_{1} = L_{i-1} + \\frac{ \\frac{k \\cdot N}{4} - N_{i-1} }{n_{i}} \\cdot a_{i}     =  60 + \\frac{16.25 - 8}{10} \\cdot 10= 68.25\n",
        "$$\n",
        "\n",
        "$$ Q_{2} = \\frac{k \\cdot N}{4} = \\frac{2 \\cdot 65}{4} = 32.5  \n",
        "   \\quad \\rightarrow \\quad\n",
        "   Q_{2} = L_{i-1} + \\frac{ \\frac{k \\cdot N}{4} - N_{i-1} }{n_{i}} \\cdot a_{i}     =  70 + \\frac{32.5 - 18}{16} \\cdot 10 = 79.0625\n",
        "$$\n",
        "\n",
        "$$ Q_{3} = \\frac{k \\cdot N}{4} = \\frac{3 \\cdot 65}{4} = 48.75  \n",
        "   \\quad \\rightarrow \\quad\n",
        "   Q_{3} = L_{i-1} + \\frac{ \\frac{k \\cdot N}{4} - N_{i-1} }{n_{i}} \\cdot a_{i}  =  90 + \\frac{48.75 - 48}{10} \\cdot 10 = 90.75\n",
        "$$"
      ]
    },
    {
      "attachments": {},
      "cell_type": "markdown",
      "metadata": {
        "id": "roAqmV8zn7He"
      },
      "source": [
        "<font color='Blue'><b> Rango intercuartílico </b></font>\n",
        "\n",
        "Es la diferencia entre el tercer y el primer cuartil. Matemáticamente se representa por: $R_{Q}$. En ocasiones se denota por su notación inglesa (_IQR_).\n",
        "\n",
        "Su fórmula es:\n",
        "\n",
        "$$ {\n",
        "R_{Q} = Q_{3} - Q_{1}\n",
        "} $$\n",
        "\n",
        "\n",
        "<br>\n",
        "\n",
        "$$\n",
        "\n",
        "Continuando con el ejemplo anterior, el rango intercuartílico se hallaría de la siguiente forma:\n",
        "\n",
        "$$ R_{Q} = Q_{3} - Q_{1} = 90.75 - 68.25 = 22.5 $$"
      ]
    },
    {
      "attachments": {},
      "cell_type": "markdown",
      "metadata": {
        "id": "VXHATioHpS-j"
      },
      "source": [
        "<font color='Blue'><b> Deciles </b></font>\n",
        "\n",
        "Son los que **dividen la serie de datos en diez partes iguales**. Es decir, son los nueve valores que dividen la serie de datos en diez partes iguales. Los deciles dan los valores correspondientes al 10%, al 20%... y al 90% de los datos. **El decil quinto coincide con la mediana.** Se representan por $D_{k}$.\n",
        "\n",
        "Al igual que antes, primero buscamos la clase modal donde se encuentra $ (kN) /10 $ en la tabla de las frecuencias acumuladas para, inmediatamente después, aplicar la siguiente fórmula:\n",
        "\n",
        "$$ {\n",
        "D_{k} = L_{i-1} + \\frac{ \\frac{k \\cdot N}{10} - N_{i-1} }{n_{i}} \\cdot a_{i}\n",
        "   \\quad \\text{donde} \\quad  k = 1, 2, 3, \\ldots 9  \n",
        "} $$\n",
        "\n",
        "<br>\n",
        "\n",
        "$$\n",
        "\n",
        "Calcula los deciles de la distribución de la tabla vista anteriormente:\n",
        "\n",
        "| Intervalo  | $$n_{i}$$ | $$N_{i}$$  |\n",
        "|------------|----|-----|\n",
        "| [50, 60)   | 8  | 8   |\n",
        "| [60, 70)   | 10 | 18  |\n",
        "| [70, 80)   | 16 | 34  |\n",
        "| [80, 90)   | 14 | 48  |\n",
        "| [90, 100)  | 10 | 58  |\n",
        "| [100, 110) | 5  | 63  |\n",
        "| [110, 120) | 2  | 65  |\n",
        "| Σ          | 65 |     |\n",
        "\n",
        "Primero, analizaremos dónde está la clase modal para cada corte y, luego, aplicaremos la fórmula vista.\n",
        "\n",
        "Por tanto, los deciles son:\n",
        "\n",
        "$$ D_{1} = \\frac{k \\cdot N}{10} = \\frac{1 \\cdot 65}{10} = 6.5  \n",
        "   \\quad \\rightarrow \\quad\n",
        "   D_{1} = L_{i-1} + \\frac{ \\frac{k \\cdot N}{10} - N_{i-1} }{n_{i}} \\cdot a_{i}     =  50 + \\frac{6.5 - 0}{8} \\cdot 10= 58.12\n",
        "$$\n",
        "\n",
        "$$ D_{2} = \\frac{k \\cdot N}{10} = \\frac{2 \\cdot 65}{10} = 13  \n",
        "   \\quad \\rightarrow \\quad\n",
        "   Q_{2} = L_{i-1} + \\frac{ \\frac{k \\cdot N}{10} - N_{i-1} }{n_{i}} \\cdot a_{i} =  60 + \\frac{13 - 8}{10} \\cdot 10 = 65\n",
        "$$\n",
        "\n",
        "$$ D_{3} = \\frac{k \\cdot N}{10} = \\frac{3 \\cdot 65}{10} = 19.5\n",
        "   \\quad \\rightarrow \\quad\n",
        "   D_{3} = L_{i-1} + \\frac{ \\frac{k \\cdot N}{10} - N_{i-1} }{n_{i}} \\cdot a_{i} =  70 + \\frac{19.5 - 18}{16} \\cdot 10 = 70.94\n",
        "$$\n",
        "\n",
        "$$ D_{4} = \\frac{k \\cdot N}{10} = \\frac{4 \\cdot 65}{10} = 26\n",
        "   \\quad \\rightarrow \\quad\n",
        "   D_{4} = L_{i-1} + \\frac{ \\frac{k \\cdot N}{10} - N_{i-1} }{n_{i}} \\cdot a_{i} =  70 + \\frac{26 - 18}{16} \\cdot 10 = 75\n",
        "$$\n",
        "\n",
        "$$ D_{5} = \\frac{k \\cdot N}{10} = \\frac{5 \\cdot 65}{10} = 32.5\n",
        "   \\quad \\rightarrow \\quad\n",
        "   D_{5} = L_{i-1} + \\frac{ \\frac{k \\cdot N}{10} - N_{i-1} }{n_{i}} \\cdot a_{i} =  70 + \\frac{32.5 - 18}{16} \\cdot 10 = 79.06\n",
        "$$\n",
        "\n",
        "$$ D_{6} = \\frac{k \\cdot N}{10} = \\frac{6 \\cdot 65}{10} = 39\n",
        "   \\quad \\rightarrow \\quad\n",
        "   D_{6} = L_{i-1} + \\frac{ \\frac{k \\cdot N}{10} - N_{i-1} }{n_{i}} \\cdot a_{i} =  80 + \\frac{39 - 34}{14} \\cdot 10 = 83.57\n",
        "$$\n",
        "\n",
        "$$ D_{7} = \\frac{k \\cdot N}{10} = \\frac{7 \\cdot 65}{10} = 45.5\n",
        "   \\quad \\rightarrow \\quad\n",
        "   D_{7} = L_{i-1} + \\frac{ \\frac{k \\cdot N}{10} - N_{i-1} }{n_{i}} \\cdot a_{i} =  80 + \\frac{45.5 - 34}{14} \\cdot 10 = 88.21\n",
        "$$\n",
        "\n",
        "$$ D_{8} = \\frac{k \\cdot N}{10} = \\frac{8 \\cdot 65}{10} = 52\n",
        "   \\quad \\rightarrow \\quad\n",
        "   D_{8} = L_{i-1} + \\frac{ \\frac{k \\cdot N}{10} - N_{i-1} }{n_{i}} \\cdot a_{i} =  90 + \\frac{52 - 48}{10} \\cdot 10 = 94\n",
        "$$\n",
        "\n",
        "$$ D_{9} = \\frac{k \\cdot N}{10} = \\frac{9 \\cdot 65}{10} = 58.5\n",
        "   \\quad \\rightarrow \\quad\n",
        "   D_{9} = L_{i-1} + \\frac{ \\frac{k \\cdot N}{10} - N_{i-1} }{n_{i}} \\cdot a_{i} = 100 + \\frac{58.5 - 58}{5} \\cdot 10 = 101\n",
        "$$"
      ]
    },
    {
      "attachments": {},
      "cell_type": "markdown",
      "metadata": {
        "id": "5ROvkL8-v9N-"
      },
      "source": [
        "<font color='Blue'><b> Percentiles </b></font>\n",
        "\n",
        "Son los que **dividen la serie de datos en cien partes iguales**. Es decir, son los 99 valores que dividen la serie de datos en 100 partes iguales. Los percentiles dan los valores correspondientes al 1%, al 2%... y al 99% de los datos. Vemos que, con esta definición, el **percentil 50 coincide con la mediana.** Se representan por $P_{k}$.\n",
        "\n",
        "Al igual que antes, primero se busca la clase modal donde se encuentra $ (kN) / 10 $ en la tabla de las frecuencias acumuladas. Posteriormente, aplicaremos la expresión matemática formulada a continuación:\n",
        "\n",
        "$$ {\n",
        "P_{k} = L_{i-1} + \\frac{ \\frac{k \\cdot N}{100} - N_{i-1} }{n_{i}} \\cdot a_{i}\n",
        "   \\quad \\text{donde} \\quad  k = 1, 2, 3, \\ldots 99  \n",
        "} $$\n",
        "\n",
        "<br>\n",
        "\n",
        "En el siguiente gráfico, que analiza la altura, observa cómo la *mediana* dibujada con la línea verde coincide con el *percentil 50*. Además, el $Q_{1}$ coincide con el $P_{25}$ y  $Q_{3}$ coincide con $P_{75}$.\n",
        "\n",
        "<!-- script html for image -->\n",
        "<figure>\n",
        "<center>\n",
        "<img src='https://curiosoando.com/wp-content/uploads/2013/09/ejemplo_gr%C3%A1fico_percentil.png' width=\"500\" height=\"400\" />\n",
        "<figcaption>Imagen5. Percentiles</figcaption></center>\n",
        "</figure>\n",
        "\n",
        "Fuente de la imagen: [www.curiosoando.com](https://curiosoando.com/wp-content/uploads/2013/09/ejemplo_gr%C3%A1fico_percentil.png)\n",
        "\n",
        "\n",
        "<br>\n",
        "\n",
        "$$\n",
        "\n",
        "Calcula el percentil 35 y 60 de la distribución de la misma tabla:\n",
        "\n",
        "| Intervalo  | $$n_{i}$$ | $$N_{i}$$  |\n",
        "|------------|----|-----|\n",
        "| [50, 60)   | 8  | 8   |\n",
        "| [60, 70)   | 10 | 18  |\n",
        "| [70, 80)   | 16 | 34  |\n",
        "| [80, 90)   | 14 | 48  |\n",
        "| [90, 100)  | 10 | 58  |\n",
        "| [100, 110) | 5  | 63  |\n",
        "| [110, 120) | 2  | 65  |\n",
        "| Σ          | 65 |     |\n",
        "\n",
        "Primero, analizaremos dónde está la clase modal para cada corte y, luego, aplicaremos la fórmula vista.\n",
        "\n",
        "Por tanto, los percentiles serán:\n",
        "\n",
        "$$ P_{35} = \\frac{k \\cdot N}{100} = \\frac{35 \\cdot 65}{100} = 22.75  \n",
        "   \\quad \\rightarrow \\quad\n",
        "   P_{35} = L_{i-1} + \\frac{ \\frac{k \\cdot N}{100} - N_{i-1} }{n_{i}} \\cdot a_{i} = 70 + \\frac{22.75 - 18}{16} \\cdot 10= 72.97\n",
        "$$\n",
        "\n",
        "$$ P_{60} = \\frac{k \\cdot N}{100} = \\frac{60 \\cdot 65}{100} = 39  \n",
        "   \\quad \\rightarrow \\quad\n",
        "   P_{60} = L_{i-1} + \\frac{ \\frac{k \\cdot N}{100} - N_{i-1} }{n_{i}} \\cdot a_{i} = 80 + \\frac{39 - 34}{14} \\cdot 10= 83.57\n",
        "$$\n"
      ]
    },
    {
      "attachments": {},
      "cell_type": "markdown",
      "metadata": {
        "id": "GOUVOJm3z_TR"
      },
      "source": [
        "<!-- script html for \"Recuerda\" -->\n",
        "<!-- espaciado salto <br> espaciado de linea &nbsp; -->\n",
        "<br>\n",
        "<p> <mark>RECUERDA</mark> </p>\n",
        "<hr>\n",
        "<p>\n",
        "\n",
        "*   La mediana es igual a $Q_{2}$, $D_{5}$ y $P_{50}$. Se cumple siempre la igualdad $Me = Q_{2} = D_{5} = P_{50}$.\n",
        "\n",
        "*   De las medidas de posición, probablemente los percentiles son los estadísticos más usados ya que permiten tener una idea más pormenorizada de dónde están distribuidos los datos al dividirse más. Muy útiles y usados en medicina (en especial en pediatría para analizar el desarrollo de bebes y niñ@s). Por tanto, si tenemos que comunicarnos con un _público no experto_ recomendamos el uso de percentiles en lugar de deciles o cuartiles.\n"
      ]
    },
    {
      "attachments": {},
      "cell_type": "markdown",
      "metadata": {
        "id": "Q7wux1IYybrb"
      },
      "source": [
        "### 2.2.4. Medidas de Concentración y forma\n",
        "\n",
        "También llamadas medidas de distribución. Estas medidas nos informan sobre _**cómo**_ se alejan del centro los valores de la distribución. Cada medida de concentración genera una \"forma\" característica de la distribución.\n",
        "\n",
        "<br>\n",
        "\n",
        "<font color='Blue'><b> Asimetría o Sesgo </b></font>\n",
        "\n",
        "Este estadístico indica **cómo de simétrica es la gráfica**. Se halla a través del Coeficiente de Asimetría de Fisher (**CAF**) también se puede **ver la forma que tiene la distribución gráficamente,** observando el comportamiento que tiene el eje de la distribución con respecto a la media aritmética. Esto es, evaluando la proximidad o lejanía de los datos con respecto a la media.\n",
        "\n",
        "Su fórmula es:\n",
        "\n",
        "$$ {\n",
        "CA_{F}=  \\frac{\\sum_{i=1}^{N} ( x_{i} -\\bar{x} )^3  }{N \\cdot \\sigma^3}\n",
        "} $$\n",
        "\n",
        "<br>\n",
        "\n",
        "Cuando los datos están agrupados, hay que añadir $n_{i}$ a la fórmula, quedando de la siguiente manera:\n",
        "\n",
        "$$ {\n",
        "CA_{F}=  \\frac{\\sum_{i=1}^{N} ( x_{i} -\\bar{x} )^3 \\cdot n_{i} }{N \\cdot \\sigma^3}\n",
        "} $$\n",
        "\n",
        "La distribución puede ser:\n",
        "\n",
        "*   **Asimétrica negativa** o a la izqda. (coeficiente negativo o $CA_{F} < 0$).\n",
        "*   **Simétrica** (coeficiente de Fisher igual a cero o $CA_{F} = 0$).\n",
        "*   **Asimétrica positiva** o a la dcha. (coeficiente positivo o $CA_{F} > 0$).\n",
        "\n",
        "\n",
        "Gráficamente la distribución presenta las siguientes formas:\n",
        "\n",
        "<!-- script html for image -->\n",
        "<figure>\n",
        "<center>\n",
        "<img src='https://lh5.googleusercontent.com/proxy/RroDolDdnatrLed-uTmfM8QemmlS69McVYUDmigxyleOKjGmUHf4fVR2fU1aIHdYySNV5E6CuCdxVK2iF06Wdfna3zGQIXQ' width=\"500\" height=\"200\" />\n",
        "<figcaption>Imagen6. Asimetría o Sesgo</figcaption></center>\n",
        "</figure>\n",
        "\n",
        "Fuente de la imagen: [www.spssfree.com](http://www.spssfree.com/curso-de-spss/analisis-descriptivo/medidas-de-distribucion-curtosis-asimetria.html)\n",
        "\n",
        "\n",
        "\n",
        "Además del ***CAF***, que es el estimador común para el cálculo de la concentración y forma de la distribución, existen otros coeficientes que son:\n",
        "\n",
        "* El _Coeficiente de asimetría de Bowley_.\n",
        "* El _Coeficiente de asimetría de Pearson_.\n",
        "\n",
        "<br>\n",
        "<p> <mark>PARA SABER MÁS</mark> </p>\n",
        "<hr>\n",
        "\n",
        "\n",
        "Para ahondar en estos dos últimos coeficientes, además de poder compararlo con el de ***Fisher*** os proporcionamos el siguiente enlace:\n",
        "\n",
        "[Coeficiente de asimetría de Pearson y Bowley](https://www.universoformulas.com/estadistica/descriptiva/asimetria-curtosis/)\n",
        "\n"
      ]
    },
    {
      "attachments": {},
      "cell_type": "markdown",
      "metadata": {
        "id": "l3CQ46Ad_xfY"
      },
      "source": [
        "<font color='Blue'><b> Curtosis o Apuntamiento </b></font>\n",
        "\n",
        "Este estadístico indica **cómo están de concentrados los valores en la gráfica**. En él se estudia la distribución de frecuencias en la zona central. El apuntamiento se mide respecto de la [campana de Gauss](https://definicion.de/campana-de-gauss/), que es unimodal y simétrica. Dicho de otra manera, **el apuntamiento se compara con la campana de Gauss**, por tanto se compara con una distribución que cumple la propiedad: $Media = Mediana = Moda$.\n",
        "\n",
        "La curtosis se puede hallar a través de la siguiente expresión:\n",
        "\n",
        "$$ {\n",
        "Curtosis =  \\frac{\\sum_{i=1}^{N} ( x_{i} -\\bar{x} )^4  }{N \\cdot \\sigma^4 } - 3\n",
        "} $$\n",
        "\n",
        "<br>\n",
        "\n",
        "Al igual que antes, cuando los datos están agrupados, hay que añadir $n_{i}$ a la fórmula, quedando como mostramos a continuación:\n",
        "\n",
        "$$ {\n",
        "Curtosis =  \\frac{\\sum_{i=1}^{N} ( x_{i} -\\bar{x} )^4 \\cdot n_{i} }{N \\cdot \\sigma^4 } - 3\n",
        "} $$\n",
        "<br>\n",
        "\n",
        "La distribución puede ser de 3 tipos:\n",
        "*   **Platicúrtica** (menos concentración en los valores centrales de la variable o  $ Curtosis < 0 $.\n",
        "*   **Mesocúrtica** (igual concentración o $ Curtosis = 0 $.\n",
        "*   **Leptocúrtica** (más concentración en los valores centrales o $ Curtosis > 0 $.\n",
        "\n",
        "Gráficamente sería:\n",
        "\n",
        "<center>\n",
        "<img src='https://lh3.googleusercontent.com/proxy/wnCWqAvF88MVnGCrbfMXQQthUftX6qzuI-PuQhFR263T3B2nKM02XNthCNAZ-vMFxl9uFzrFo_CbkVzByxgrWxhftn1tWyM' width=\"500\" height=\"200\" />\n",
        "<figcaption>Imagen7. Curtosis o Apuntamiento</figcaption></center>\n",
        "</figure>\n",
        "\n",
        "Fuente de la imagen: [www.spssfree.com](http://www.spssfree.com/curso-de-spss/analisis-descriptivo/medidas-de-distribucion-curtosis-asimetria.html)\n",
        "\n",
        "<br>\n",
        "<p> <mark> PARA SABER MÁS</mark> </p>\n",
        "<hr>\n",
        "\n",
        "Para complementar y profundizar en las medidas de distribución puedes acceder al siguiente paper:\n",
        "\n",
        "[Medidas de asimetría y curtosis](https://github.com/md-lorente/documentation/blob/master/Medidas%20de%20asimetr%C3%ADa%20y%20curtosis.pdf)\n"
      ]
    },
    {
      "attachments": {},
      "cell_type": "markdown",
      "metadata": {
        "id": "dYyJv2cIHLpL"
      },
      "source": [
        "### 2.2.5. Métodos gráficos\n",
        "\n",
        "Para analizar las medidas de centralización, dispersión y posición hay un gráfico con el que se recogen casi todas las medidas vistas y ofrece una visión muy completa de un análisis estadístico unidimensional.\n",
        "\n",
        "<br>\n",
        "\n",
        "<font color='Blue'><b> Box-Plot </b></font>\n",
        "\n",
        "El Box-plot o *Diagrama de Cajas y Bigotes* o simplemente *Diagrama de Caja* es un gráfico en el cual se recogen las medidas de dispersión y de centralización.\n",
        "\n",
        "El *diagrama de cajas* es un gráfico basado en los cuartiles, contiene información sobre la simetría de la distribución y permite definir la idea de un dato atípico.\n",
        "\n",
        "Se representan en él y por este orden:\n",
        "\n",
        " $X_{Mín}$, el $Q_{1}$, $Q_{2}$, $Q_{3}$ y el $X_{Max}$.\n",
        "\n",
        "Esto es:\n",
        "\n",
        "<!-- script html for image -->\n",
        "<figure>\n",
        "<center>\n",
        "<img src='https://i.pinimg.com/originals/78/b1/44/78b14472c4fabf72df1db43f901778be.jpg' width=\"600\" height=\"400\" />\n",
        "<figcaption>Imagen8. Box-plot</figcaption></center>\n",
        "</figure>\n",
        "\n",
        "Fuente de la imagen: [www.elsevier.es](https://www.elsevier.es/es-revista-educacion-quimica-78-articulo-graphical-representation-chemical-periodicity-main-S0187893X16300106)\n",
        "\n",
        "<br>\n",
        "<p> <mark>SABÍAS QUE...</mark> </p>\n",
        "<hr>\n",
        "\n",
        "El concepto de outlier o [valor atípico](https://es.wikipedia.org/wiki/Valor_at%C3%ADpico) que aparece en el gráfico es importante. Es un valor que no representa a la \"mayoría de la distribución\" y presenta una gran dispersión.\n",
        "\n",
        "Como ofrece mucha información, en ocasiones, se simplifica el gráfico. Otra forma de verlo habitualmente es de la siguiente forma:\n",
        "\n",
        "<br>\n",
        "\n",
        "<!-- script html for image -->\n",
        "<figure>\n",
        "<center>\n",
        "<img src='https://2.bp.blogspot.com/-wVfcL_Gw3EE/VXC_T9iHL5I/AAAAAAAAAAc/_PscBwZm0ZQ/s400/Sin%2Bt%25C3%25ADtulo.png' width=\"350\" height=\"300\" />\n",
        "<figcaption>Imagen9. Box-plot (simplificado)</figcaption></center>\n",
        "</figure>\n",
        "\n",
        "Fuente de la imagen: [www.cajaybigotes.blogspot.com](http://cajaybigotes.blogspot.com/2015/06/diagrama-de-caja-y-bigote.html)\n",
        "\n",
        "<br>\n",
        "\n",
        "Los diagramas de cajas y bigotes no solamente son usados para analizar una distribución aislada, también se usan para realizar **análisis comparativos** como mostramos en el siguiente gráfico:\n",
        "\n",
        "<br>\n",
        "\n",
        "<!-- script html for image -->\n",
        "<figure>\n",
        "<center>\n",
        "<img src='https://static.wixstatic.com/media/238f3c_2027381517964f998d1271f5c154b017~mv2.png/v1/fill/w_659,h_527,al_c,lg_1,q_85/238f3c_2027381517964f998d1271f5c154b017~mv2.webp' width=\"350\" height=\"300\" />\n",
        "<figcaption>Imagen10. Box-plot (comparativa)</figcaption></center>\n",
        "</figure>\n",
        "\n",
        "Fuente de la imagen: [www.analisisdedatos.org](https://www.analisisdedatos.org/single-post/2019/04/05/C%C3%B3mo-se-interpreta-un-Diagrama-de-Cajas-y-Bigotes)\n",
        "\n",
        "La otra información que podemos extraer de un *box-plot* es sobre la dispersión de las observaciones de una distribución. Por ejemplo, en la imagen observamos la diferencia entre una variable con una gran dispersión de puntuaciones (A) y una variable con una dispersión de puntuaciones muy pequeña (B)."
      ]
    },
    {
      "attachments": {},
      "cell_type": "markdown",
      "metadata": {
        "id": "SL10KUoPOLTU"
      },
      "source": [
        "<font color='Blue'><b> Observaciones de todos los gráficos </b></font>\n",
        "\n",
        "<hr>\n",
        "\n",
        "\\\\\n",
        "\n",
        "Hay más gráficos que aquí no aparecen, ya que sólo hemos explicado **los gráficos** más comunes. Pero todos ellos deber seguir una \"misma estructura\" o lógica, que es la siguiente:\n",
        "\n",
        "1.\tPueden tener o no títulos, pero si se ponen han de ser claros, no muy largos y concisos.\n",
        "\n",
        "2.\tSe pueden representar en **horizontal o en vertical** (barras, box-plot, etc.).\n",
        "\n",
        "3.\tSe puede dibujar en **dos o tres dimensiones**.\n",
        "\n",
        "4.\tSe pueden sustituir por dibujos y, entonces, se llaman ***pictogramas*** (si son mapas ***cartogramas***).\n",
        "\n",
        "5.\tPueden ser “mixtos”, es decir, se representa en un mismo gráfico **dos o más series de datos** (cada serie se representa con un color diferente, para identificarlo más fácilmente).\n",
        "\n",
        "6.\tPueden llamarse de otra manera. Para identificar si se trata de un gráfico visto aquí, debemos fijarnos en qué valores aparecen y cómo se están representado.\n"
      ]
    },
    {
      "attachments": {},
      "cell_type": "markdown",
      "metadata": {
        "id": "IpHk48ZJJWxL"
      },
      "source": [
        "### Actividad: Titanic\n",
        "\n",
        "El **objetivo** de esta actividad es identificar y analizar el total pagado de un dataset de facturas que tiene una compañía.\n",
        "\n",
        "Se pide:\n",
        "\n",
        " 1. Hallar la media, la desviación típica, los 3 cuartiles, el mínimo y el máximo.\n",
        "\n",
        " 2. ¿Cuál es el billete que tiene como mínimo el 5% del importe pagado del total de todos viajeros?\n",
        "\n",
        " 3. Realiza un análisis de la distribución y añade un box-plot para una mejor evaluación."
      ]
    },
    {
      "attachments": {},
      "cell_type": "markdown",
      "metadata": {
        "id": "MhecfIWoNNIH"
      },
      "source": [
        "#### Solución\n",
        "\n",
        "[*A continuación, haz clic para conocer la solución.*]"
      ]
    },
    {
      "cell_type": "code",
      "execution_count": null,
      "metadata": {
        "colab": {
          "base_uri": "https://localhost:8080/"
        },
        "id": "o7kJE7-PKbgQ",
        "outputId": "169b3ae1-e986-40b9-c8ba-4368fa8175e0"
      },
      "outputs": [
        {
          "data": {
            "text/html": [
              "<div>\n",
              "<style scoped>\n",
              "    .dataframe tbody tr th:only-of-type {\n",
              "        vertical-align: middle;\n",
              "    }\n",
              "\n",
              "    .dataframe tbody tr th {\n",
              "        vertical-align: top;\n",
              "    }\n",
              "\n",
              "    .dataframe thead th {\n",
              "        text-align: right;\n",
              "    }\n",
              "</style>\n",
              "<table border=\"1\" class=\"dataframe\">\n",
              "  <thead>\n",
              "    <tr style=\"text-align: right;\">\n",
              "      <th></th>\n",
              "      <th>PassengerId</th>\n",
              "      <th>Survived</th>\n",
              "      <th>Pclass</th>\n",
              "      <th>Name</th>\n",
              "      <th>Sex</th>\n",
              "      <th>Age</th>\n",
              "      <th>SibSp</th>\n",
              "      <th>Parch</th>\n",
              "      <th>Ticket</th>\n",
              "      <th>Fare</th>\n",
              "      <th>Cabin</th>\n",
              "      <th>Embarked</th>\n",
              "    </tr>\n",
              "  </thead>\n",
              "  <tbody>\n",
              "    <tr>\n",
              "      <th>0</th>\n",
              "      <td>1</td>\n",
              "      <td>0</td>\n",
              "      <td>3</td>\n",
              "      <td>Braund, Mr. Owen Harris</td>\n",
              "      <td>male</td>\n",
              "      <td>22.0</td>\n",
              "      <td>1</td>\n",
              "      <td>0</td>\n",
              "      <td>A/5 21171</td>\n",
              "      <td>7.2500</td>\n",
              "      <td>NaN</td>\n",
              "      <td>S</td>\n",
              "    </tr>\n",
              "    <tr>\n",
              "      <th>1</th>\n",
              "      <td>2</td>\n",
              "      <td>1</td>\n",
              "      <td>1</td>\n",
              "      <td>Cumings, Mrs. John Bradley (Florence Briggs Th...</td>\n",
              "      <td>female</td>\n",
              "      <td>38.0</td>\n",
              "      <td>1</td>\n",
              "      <td>0</td>\n",
              "      <td>PC 17599</td>\n",
              "      <td>71.2833</td>\n",
              "      <td>C85</td>\n",
              "      <td>C</td>\n",
              "    </tr>\n",
              "    <tr>\n",
              "      <th>2</th>\n",
              "      <td>3</td>\n",
              "      <td>1</td>\n",
              "      <td>3</td>\n",
              "      <td>Heikkinen, Miss. Laina</td>\n",
              "      <td>female</td>\n",
              "      <td>26.0</td>\n",
              "      <td>0</td>\n",
              "      <td>0</td>\n",
              "      <td>STON/O2. 3101282</td>\n",
              "      <td>7.9250</td>\n",
              "      <td>NaN</td>\n",
              "      <td>S</td>\n",
              "    </tr>\n",
              "    <tr>\n",
              "      <th>3</th>\n",
              "      <td>4</td>\n",
              "      <td>1</td>\n",
              "      <td>1</td>\n",
              "      <td>Futrelle, Mrs. Jacques Heath (Lily May Peel)</td>\n",
              "      <td>female</td>\n",
              "      <td>35.0</td>\n",
              "      <td>1</td>\n",
              "      <td>0</td>\n",
              "      <td>113803</td>\n",
              "      <td>53.1000</td>\n",
              "      <td>C123</td>\n",
              "      <td>S</td>\n",
              "    </tr>\n",
              "    <tr>\n",
              "      <th>4</th>\n",
              "      <td>5</td>\n",
              "      <td>0</td>\n",
              "      <td>3</td>\n",
              "      <td>Allen, Mr. William Henry</td>\n",
              "      <td>male</td>\n",
              "      <td>35.0</td>\n",
              "      <td>0</td>\n",
              "      <td>0</td>\n",
              "      <td>373450</td>\n",
              "      <td>8.0500</td>\n",
              "      <td>NaN</td>\n",
              "      <td>S</td>\n",
              "    </tr>\n",
              "  </tbody>\n",
              "</table>\n",
              "</div>"
            ],
            "text/plain": [
              "   PassengerId  Survived  Pclass  ...     Fare Cabin  Embarked\n",
              "0            1         0       3  ...   7.2500   NaN         S\n",
              "1            2         1       1  ...  71.2833   C85         C\n",
              "2            3         1       3  ...   7.9250   NaN         S\n",
              "3            4         1       1  ...  53.1000  C123         S\n",
              "4            5         0       3  ...   8.0500   NaN         S\n",
              "\n",
              "[5 rows x 12 columns]"
            ]
          },
          "execution_count": 31,
          "metadata": {
            "tags": []
          },
          "output_type": "execute_result"
        }
      ],
      "source": [
        "#Import libraries\n",
        "import pandas as pd\n",
        "import numpy as np\n",
        "import matplotlib.pyplot as plt\n",
        "\n",
        "# Carga del fichero desde el enlace web y creación del dataframe\n",
        "url_data = 'https://raw.githubusercontent.com/md-lorente/data/master/titanic.csv'\n",
        "\n",
        "# Creación Dataframe\n",
        "df = pd.read_csv(url_data, sep=',')\n",
        "\n",
        "# Visualización del dataframe (la cabecera)\n",
        "df.head()"
      ]
    },
    {
      "attachments": {},
      "cell_type": "markdown",
      "metadata": {
        "id": "fZZwtyodKk6C"
      },
      "source": [
        "Recordemos que se trata de una variable cuantitativa de tipo continuo. Para el primer apartado basta con usar \"describe\" de *python* que tiene los principales estadísticos para \"ubicar\" la variable en la distribución."
      ]
    },
    {
      "cell_type": "code",
      "execution_count": null,
      "metadata": {
        "colab": {
          "base_uri": "https://localhost:8080/"
        },
        "id": "OOJE4HifKgIU",
        "outputId": "80f2851c-0cc5-45a1-9467-9cd80bb7679e"
      },
      "outputs": [
        {
          "data": {
            "text/plain": [
              "count    891.000000\n",
              "mean      32.204208\n",
              "std       49.693429\n",
              "min        0.000000\n",
              "25%        7.910400\n",
              "50%       14.454200\n",
              "75%       31.000000\n",
              "max      512.329200\n",
              "Name: Fare, dtype: float64"
            ]
          },
          "execution_count": 32,
          "metadata": {
            "tags": []
          },
          "output_type": "execute_result"
        }
      ],
      "source": [
        "# Análisis rápido: resumen de estadística descriptiva\n",
        "df[\"Fare\"].describe()"
      ]
    },
    {
      "attachments": {},
      "cell_type": "markdown",
      "metadata": {
        "id": "ykF6l3W3La9L"
      },
      "source": [
        "¿Cuál es el billete que tiene como mínimo el 5% del importe pagado del total de todos viajeros?\n",
        "\n",
        "En esta pregunta, nos están realmente preguntando por el percentil 95, por tanto:"
      ]
    },
    {
      "cell_type": "code",
      "execution_count": null,
      "metadata": {
        "colab": {
          "base_uri": "https://localhost:8080/"
        },
        "id": "OKAvPCnYLHKd",
        "outputId": "52adae5f-d028-4f4a-fb06-33a66aac78bb"
      },
      "outputs": [
        {
          "name": "stdout",
          "output_type": "stream",
          "text": [
            "p95: 112.08\n"
          ]
        }
      ],
      "source": [
        "# Percentil 95\n",
        "p95 = df[\"Fare\"].quantile(0.95)\n",
        "\n",
        "print('p95:', round(p95, 2))"
      ]
    },
    {
      "attachments": {},
      "cell_type": "markdown",
      "metadata": {
        "id": "htDvupjhLIAT"
      },
      "source": [
        "El resultado es que el 5% con el importe más elevado de los billetes fue de 112,08 unidades monetarias de todos los billetes pagados a bordo del Titanic.\n"
      ]
    },
    {
      "cell_type": "code",
      "execution_count": null,
      "metadata": {
        "colab": {
          "base_uri": "https://localhost:8080/"
        },
        "id": "FUz4FuCkL4aB",
        "outputId": "dba0412a-0e0f-489f-ff53-9b514dbc3411"
      },
      "outputs": [
        {
          "name": "stdout",
          "output_type": "stream",
          "text": [
            "Asimetría: 4.787317\n",
            "Curtosis:  33.398141\n"
          ]
        },
        {
          "name": "stderr",
          "output_type": "stream",
          "text": [
            "/usr/local/lib/python3.6/dist-packages/seaborn/distributions.py:2551: FutureWarning:\n",
            "\n",
            "`distplot` is a deprecated function and will be removed in a future version. Please adapt your code to use either `displot` (a figure-level function with similar flexibility) or `histplot` (an axes-level function for histograms).\n",
            "\n"
          ]
        },
        {
          "data": {
            "image/png": "[encoded data removed]",
            "text/plain": [
              "<Figure size 432x288 with 1 Axes>"
            ]
          },
          "metadata": {
            "needs_background": "light",
            "tags": []
          },
          "output_type": "display_data"
        },
        {
          "name": "stderr",
          "output_type": "stream",
          "text": [
            "/usr/local/lib/python3.6/dist-packages/seaborn/_decorators.py:43: FutureWarning:\n",
            "\n",
            "Pass the following variable as a keyword arg: x. From version 0.12, the only valid positional argument will be `data`, and passing other arguments without an explicit keyword will result in an error or misinterpretation.\n",
            "\n"
          ]
        },
        {
          "data": {
            "image/png": "[encoded data removed]",
            "text/plain": [
              "<Figure size 432x288 with 1 Axes>"
            ]
          },
          "metadata": {
            "needs_background": "light",
            "tags": []
          },
          "output_type": "display_data"
        }
      ],
      "source": [
        "# Análisis de la distribución\n",
        "import scipy.stats as ss\n",
        "\n",
        "print(\"Asimetría: %f\" % df[\"Fare\"].skew())\n",
        "print(\"Curtosis:  %f\" % df[\"Fare\"].kurt())\n",
        "\n",
        "\n",
        "# Gráfico de la distribución\n",
        "sns.distplot(df[\"Fare\"])\n",
        "plt.show()\n",
        "\n",
        "# Box-plot\n",
        "sns.boxplot(df[\"Fare\"])\n",
        "plt.show()"
      ]
    },
    {
      "attachments": {},
      "cell_type": "markdown",
      "metadata": {
        "id": "9-sB_wYLkGD7"
      },
      "source": [
        "El resultado obtenido es una gráfica en la que se observa una curva de asimetría positiva y leptocúrtica.\n",
        "\n",
        "Además en el gráfico de box-plot se observa que hay no hay mucha dispersión. Es especialmente carecterístico dentro de los outliers hay uno que es muy extremo."
      ]
    },
    {
      "attachments": {},
      "cell_type": "markdown",
      "metadata": {
        "id": "pDOYCNKbDNUI"
      },
      "source": [
        "# **IDEAS CLAVE**\n",
        "<br>\n",
        "<hr>\n",
        "<p> <h1> <center> <strong> Estadística Descriptiva Unidimensional </center> </strong> </h1> </p>\n",
        "<hr>\n",
        "<br>\n",
        "\n",
        "\n",
        "*   Implica una recopilación de datos **teniendo como objetivo la inferencia o predicciones.**\n",
        "\n",
        "*   **La idea de resumir en unos pocos datos la información del comportamiento global del fenómeno** con las tablas estadísticas se recogen los estadísticos básicos de frecuencia absoluta, relativa y acumulada de ambas.\n",
        "\n",
        "*   Requiere una selección de un subconjunto de **una gran colección de datos,** con el propósito de hacer inferencias con respecto a las características del conjunto completo (*población*).\n",
        "\n",
        "*  Con las **medidas de centralización, dispersión, posición, concentración y forma se puede analizar cómo se comporta una observación en concreto y también cómo es la distribución de los datos**. Además se pueden detectar valores atípicos.\n"
      ]
    }
  ],
  "metadata": {
    "colab": {
      "collapsed_sections": [
        "nSVq03VwEUdA"
      ],
      "provenance": [],
      "toc_visible": true
    },
    "kernelspec": {
      "display_name": "Kernel 1",
      "language": "python",
      "name": "kernel-1"
    },
    "language_info": {
      "codemirror_mode": {
        "name": "ipython",
        "version": 3
      },
      "file_extension": ".py",
      "mimetype": "text/x-python",
      "name": "python",
      "nbconvert_exporter": "python",
      "pygments_lexer": "ipython3",
      "version": "3.12.1"
    }
  },
  "nbformat": 4,
  "nbformat_minor": 0
}
