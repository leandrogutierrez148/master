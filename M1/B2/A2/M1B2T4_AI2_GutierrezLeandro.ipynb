{
  "cells": [
    {
      "attachments": {},
      "cell_type": "markdown",
      "metadata": {
        "id": "tW3jK_BDgjno"
      },
      "source": [
        "# **Herramientas de Análisis**\n",
        "\n",
        "---\n",
        "---\n",
        "\n",
        "<!-- script html for image -->\n",
        "\n",
        "<center>\n",
        "\n",
        "\n",
        "<img src='https://upload.wikimedia.org/wikipedia/commons/thumb/a/ac/Sw-ep1-logo.svg/1280px-Sw-ep1-logo.svg.png'  width='500' height='150'/>\n",
        "\n",
        "\n",
        "<br>\n",
        "\n",
        "Fuente de la imagen: [https://es.wikipedia.org](https://es.wikipedia.org/wiki/Star_Wars:_Episodio_I_-_La_amenaza_fantasma)\n",
        "\n",
        "</center>\n",
        "\n",
        "<br>"
      ]
    },
    {
      "attachments": {},
      "cell_type": "markdown",
      "metadata": {
        "id": "CLuiMPEMSvF6"
      },
      "source": [
        "# **Índice**\n",
        "\n",
        "---\n",
        "---\n",
        "\n",
        "> [Herramientas de Análisis](#scrollTo=tW3jK_BDgjno&line=20&uniqifier=1)\n",
        "<br>\n",
        ">>\n",
        ">> [Preparación del Entorno](#scrollTo=5zZfGqOugjnr&line=3&uniqifier=1) \\\\\n",
        ">>   \\\\\n",
        ">> [Ejercicio 1](#scrollTo=1J4h6kTngjn5&line=1&uniqifier=1) \\\\\n",
        ">>"
      ]
    },
    {
      "attachments": {},
      "cell_type": "markdown",
      "metadata": {
        "id": "5zZfGqOugjnr"
      },
      "source": [
        "# Preparación del entorno\n",
        "\n",
        "Padawan! Cuando inicies sesión en Colab, prepara el entorno ejecutando el siguiente código."
      ]
    },
    {
      "cell_type": "code",
      "execution_count": 154,
      "metadata": {
        "id": "JiKiPQdQgjnu"
      },
      "outputs": [],
      "source": [
        "if 'google.colab' in str(get_ipython()):\n",
        "    !git clone https://github.com/griu/mbdds_fc20.git /content/mbdds_fc20\n",
        "    !git -C /content/mbdds_fc20 pull\n",
        "    %cd /content/mbdds_fc20/Python\n",
        "    !python -m pip install -r requirementsColab.txt"
      ]
    },
    {
      "attachments": {},
      "cell_type": "markdown",
      "metadata": {
        "id": "1J4h6kTngjn5"
      },
      "source": [
        "# Ejercicio 1\n",
        "\n",
        "Para realizar el ejercicio cargamos los datos de *Especies* en STARWARS SWAPI y las librerías principales."
      ]
    },
    {
      "cell_type": "code",
      "execution_count": 1,
      "metadata": {
        "id": "2V3mrVHSgjn7"
      },
      "outputs": [
        {
          "data": {
            "text/html": [
              "<div>\n",
              "<style scoped>\n",
              "    .dataframe tbody tr th:only-of-type {\n",
              "        vertical-align: middle;\n",
              "    }\n",
              "\n",
              "    .dataframe tbody tr th {\n",
              "        vertical-align: top;\n",
              "    }\n",
              "\n",
              "    .dataframe thead th {\n",
              "        text-align: right;\n",
              "    }\n",
              "</style>\n",
              "<table border=\"1\" class=\"dataframe\">\n",
              "  <thead>\n",
              "    <tr style=\"text-align: right;\">\n",
              "      <th></th>\n",
              "      <th>height</th>\n",
              "      <th>mass</th>\n",
              "      <th>birth_year</th>\n",
              "      <th>gender</th>\n",
              "      <th>homeworld</th>\n",
              "    </tr>\n",
              "    <tr>\n",
              "      <th>name</th>\n",
              "      <th></th>\n",
              "      <th></th>\n",
              "      <th></th>\n",
              "      <th></th>\n",
              "      <th></th>\n",
              "    </tr>\n",
              "  </thead>\n",
              "  <tbody>\n",
              "    <tr>\n",
              "      <th>Luke Skywalker</th>\n",
              "      <td>172.0</td>\n",
              "      <td>77.0</td>\n",
              "      <td>19.0</td>\n",
              "      <td>male</td>\n",
              "      <td>https://swapi.dev/api/planets/1/</td>\n",
              "    </tr>\n",
              "    <tr>\n",
              "      <th>C-3PO</th>\n",
              "      <td>167.0</td>\n",
              "      <td>75.0</td>\n",
              "      <td>112.0</td>\n",
              "      <td>none</td>\n",
              "      <td>https://swapi.dev/api/planets/1/</td>\n",
              "    </tr>\n",
              "    <tr>\n",
              "      <th>R2-D2</th>\n",
              "      <td>96.0</td>\n",
              "      <td>32.0</td>\n",
              "      <td>33.0</td>\n",
              "      <td>none</td>\n",
              "      <td>https://swapi.dev/api/planets/8/</td>\n",
              "    </tr>\n",
              "    <tr>\n",
              "      <th>Darth Vader</th>\n",
              "      <td>202.0</td>\n",
              "      <td>136.0</td>\n",
              "      <td>41.9</td>\n",
              "      <td>male</td>\n",
              "      <td>https://swapi.dev/api/planets/1/</td>\n",
              "    </tr>\n",
              "    <tr>\n",
              "      <th>Leia Organa</th>\n",
              "      <td>150.0</td>\n",
              "      <td>49.0</td>\n",
              "      <td>19.0</td>\n",
              "      <td>female</td>\n",
              "      <td>https://swapi.dev/api/planets/2/</td>\n",
              "    </tr>\n",
              "    <tr>\n",
              "      <th>Owen Lars</th>\n",
              "      <td>178.0</td>\n",
              "      <td>120.0</td>\n",
              "      <td>52.0</td>\n",
              "      <td>male</td>\n",
              "      <td>https://swapi.dev/api/planets/1/</td>\n",
              "    </tr>\n",
              "    <tr>\n",
              "      <th>Beru Whitesun lars</th>\n",
              "      <td>165.0</td>\n",
              "      <td>75.0</td>\n",
              "      <td>47.0</td>\n",
              "      <td>female</td>\n",
              "      <td>https://swapi.dev/api/planets/1/</td>\n",
              "    </tr>\n",
              "    <tr>\n",
              "      <th>Biggs Darklighter</th>\n",
              "      <td>183.0</td>\n",
              "      <td>84.0</td>\n",
              "      <td>24.0</td>\n",
              "      <td>male</td>\n",
              "      <td>https://swapi.dev/api/planets/1/</td>\n",
              "    </tr>\n",
              "    <tr>\n",
              "      <th>Obi-Wan Kenobi</th>\n",
              "      <td>182.0</td>\n",
              "      <td>77.0</td>\n",
              "      <td>57.0</td>\n",
              "      <td>male</td>\n",
              "      <td>https://swapi.dev/api/planets/20/</td>\n",
              "    </tr>\n",
              "    <tr>\n",
              "      <th>Anakin Skywalker</th>\n",
              "      <td>188.0</td>\n",
              "      <td>84.0</td>\n",
              "      <td>41.9</td>\n",
              "      <td>male</td>\n",
              "      <td>https://swapi.dev/api/planets/1/</td>\n",
              "    </tr>\n",
              "    <tr>\n",
              "      <th>Chewbacca</th>\n",
              "      <td>228.0</td>\n",
              "      <td>112.0</td>\n",
              "      <td>200.0</td>\n",
              "      <td>male</td>\n",
              "      <td>https://swapi.dev/api/planets/14/</td>\n",
              "    </tr>\n",
              "    <tr>\n",
              "      <th>Han Solo</th>\n",
              "      <td>180.0</td>\n",
              "      <td>80.0</td>\n",
              "      <td>29.0</td>\n",
              "      <td>male</td>\n",
              "      <td>https://swapi.dev/api/planets/22/</td>\n",
              "    </tr>\n",
              "    <tr>\n",
              "      <th>Greedo</th>\n",
              "      <td>173.0</td>\n",
              "      <td>74.0</td>\n",
              "      <td>44.0</td>\n",
              "      <td>male</td>\n",
              "      <td>https://swapi.dev/api/planets/23/</td>\n",
              "    </tr>\n",
              "    <tr>\n",
              "      <th>Jabba Desilijic Tiure</th>\n",
              "      <td>175.0</td>\n",
              "      <td>1358.0</td>\n",
              "      <td>600.0</td>\n",
              "      <td>hermaphrodite</td>\n",
              "      <td>https://swapi.dev/api/planets/24/</td>\n",
              "    </tr>\n",
              "    <tr>\n",
              "      <th>Wedge Antilles</th>\n",
              "      <td>170.0</td>\n",
              "      <td>77.0</td>\n",
              "      <td>21.0</td>\n",
              "      <td>male</td>\n",
              "      <td>https://swapi.dev/api/planets/22/</td>\n",
              "    </tr>\n",
              "    <tr>\n",
              "      <th>Yoda</th>\n",
              "      <td>66.0</td>\n",
              "      <td>17.0</td>\n",
              "      <td>896.0</td>\n",
              "      <td>male</td>\n",
              "      <td>https://swapi.dev/api/planets/28/</td>\n",
              "    </tr>\n",
              "    <tr>\n",
              "      <th>Palpatine</th>\n",
              "      <td>170.0</td>\n",
              "      <td>75.0</td>\n",
              "      <td>82.0</td>\n",
              "      <td>male</td>\n",
              "      <td>https://swapi.dev/api/planets/8/</td>\n",
              "    </tr>\n",
              "    <tr>\n",
              "      <th>Boba Fett</th>\n",
              "      <td>183.0</td>\n",
              "      <td>78.2</td>\n",
              "      <td>31.5</td>\n",
              "      <td>male</td>\n",
              "      <td>https://swapi.dev/api/planets/10/</td>\n",
              "    </tr>\n",
              "    <tr>\n",
              "      <th>IG-88</th>\n",
              "      <td>200.0</td>\n",
              "      <td>140.0</td>\n",
              "      <td>15.0</td>\n",
              "      <td>none</td>\n",
              "      <td>https://swapi.dev/api/planets/28/</td>\n",
              "    </tr>\n",
              "    <tr>\n",
              "      <th>Bossk</th>\n",
              "      <td>190.0</td>\n",
              "      <td>113.0</td>\n",
              "      <td>53.0</td>\n",
              "      <td>male</td>\n",
              "      <td>https://swapi.dev/api/planets/29/</td>\n",
              "    </tr>\n",
              "    <tr>\n",
              "      <th>Lando Calrissian</th>\n",
              "      <td>177.0</td>\n",
              "      <td>79.0</td>\n",
              "      <td>31.0</td>\n",
              "      <td>male</td>\n",
              "      <td>https://swapi.dev/api/planets/30/</td>\n",
              "    </tr>\n",
              "    <tr>\n",
              "      <th>Lobot</th>\n",
              "      <td>175.0</td>\n",
              "      <td>79.0</td>\n",
              "      <td>37.0</td>\n",
              "      <td>male</td>\n",
              "      <td>https://swapi.dev/api/planets/6/</td>\n",
              "    </tr>\n",
              "    <tr>\n",
              "      <th>Ackbar</th>\n",
              "      <td>180.0</td>\n",
              "      <td>83.0</td>\n",
              "      <td>41.0</td>\n",
              "      <td>male</td>\n",
              "      <td>https://swapi.dev/api/planets/31/</td>\n",
              "    </tr>\n",
              "    <tr>\n",
              "      <th>Wicket Systri Warrick</th>\n",
              "      <td>88.0</td>\n",
              "      <td>20.0</td>\n",
              "      <td>8.0</td>\n",
              "      <td>male</td>\n",
              "      <td>https://swapi.dev/api/planets/7/</td>\n",
              "    </tr>\n",
              "    <tr>\n",
              "      <th>Qui-Gon Jinn</th>\n",
              "      <td>193.0</td>\n",
              "      <td>89.0</td>\n",
              "      <td>92.0</td>\n",
              "      <td>male</td>\n",
              "      <td>https://swapi.dev/api/planets/28/</td>\n",
              "    </tr>\n",
              "    <tr>\n",
              "      <th>Padmé Amidala</th>\n",
              "      <td>185.0</td>\n",
              "      <td>45.0</td>\n",
              "      <td>46.0</td>\n",
              "      <td>female</td>\n",
              "      <td>https://swapi.dev/api/planets/8/</td>\n",
              "    </tr>\n",
              "    <tr>\n",
              "      <th>Jar Jar Binks</th>\n",
              "      <td>196.0</td>\n",
              "      <td>66.0</td>\n",
              "      <td>52.0</td>\n",
              "      <td>male</td>\n",
              "      <td>https://swapi.dev/api/planets/8/</td>\n",
              "    </tr>\n",
              "    <tr>\n",
              "      <th>Darth Maul</th>\n",
              "      <td>175.0</td>\n",
              "      <td>80.0</td>\n",
              "      <td>54.0</td>\n",
              "      <td>male</td>\n",
              "      <td>https://swapi.dev/api/planets/36/</td>\n",
              "    </tr>\n",
              "    <tr>\n",
              "      <th>Ayla Secura</th>\n",
              "      <td>178.0</td>\n",
              "      <td>55.0</td>\n",
              "      <td>48.0</td>\n",
              "      <td>female</td>\n",
              "      <td>https://swapi.dev/api/planets/37/</td>\n",
              "    </tr>\n",
              "    <tr>\n",
              "      <th>Mace Windu</th>\n",
              "      <td>188.0</td>\n",
              "      <td>84.0</td>\n",
              "      <td>72.0</td>\n",
              "      <td>male</td>\n",
              "      <td>https://swapi.dev/api/planets/42/</td>\n",
              "    </tr>\n",
              "    <tr>\n",
              "      <th>Ki-Adi-Mundi</th>\n",
              "      <td>198.0</td>\n",
              "      <td>82.0</td>\n",
              "      <td>92.0</td>\n",
              "      <td>male</td>\n",
              "      <td>https://swapi.dev/api/planets/43/</td>\n",
              "    </tr>\n",
              "    <tr>\n",
              "      <th>Plo Koon</th>\n",
              "      <td>188.0</td>\n",
              "      <td>80.0</td>\n",
              "      <td>22.0</td>\n",
              "      <td>male</td>\n",
              "      <td>https://swapi.dev/api/planets/49/</td>\n",
              "    </tr>\n",
              "    <tr>\n",
              "      <th>Luminara Unduli</th>\n",
              "      <td>170.0</td>\n",
              "      <td>56.2</td>\n",
              "      <td>58.0</td>\n",
              "      <td>female</td>\n",
              "      <td>https://swapi.dev/api/planets/51/</td>\n",
              "    </tr>\n",
              "    <tr>\n",
              "      <th>Barriss Offee</th>\n",
              "      <td>166.0</td>\n",
              "      <td>50.0</td>\n",
              "      <td>40.0</td>\n",
              "      <td>female</td>\n",
              "      <td>https://swapi.dev/api/planets/51/</td>\n",
              "    </tr>\n",
              "    <tr>\n",
              "      <th>Dooku</th>\n",
              "      <td>193.0</td>\n",
              "      <td>80.0</td>\n",
              "      <td>102.0</td>\n",
              "      <td>male</td>\n",
              "      <td>https://swapi.dev/api/planets/52/</td>\n",
              "    </tr>\n",
              "    <tr>\n",
              "      <th>Jango Fett</th>\n",
              "      <td>183.0</td>\n",
              "      <td>79.0</td>\n",
              "      <td>66.0</td>\n",
              "      <td>male</td>\n",
              "      <td>https://swapi.dev/api/planets/53/</td>\n",
              "    </tr>\n",
              "  </tbody>\n",
              "</table>\n",
              "</div>"
            ],
            "text/plain": [
              "                       height    mass  birth_year         gender  \\\n",
              "name                                                               \n",
              "Luke Skywalker          172.0    77.0        19.0           male   \n",
              "C-3PO                   167.0    75.0       112.0           none   \n",
              "R2-D2                    96.0    32.0        33.0           none   \n",
              "Darth Vader             202.0   136.0        41.9           male   \n",
              "Leia Organa             150.0    49.0        19.0         female   \n",
              "Owen Lars               178.0   120.0        52.0           male   \n",
              "Beru Whitesun lars      165.0    75.0        47.0         female   \n",
              "Biggs Darklighter       183.0    84.0        24.0           male   \n",
              "Obi-Wan Kenobi          182.0    77.0        57.0           male   \n",
              "Anakin Skywalker        188.0    84.0        41.9           male   \n",
              "Chewbacca               228.0   112.0       200.0           male   \n",
              "Han Solo                180.0    80.0        29.0           male   \n",
              "Greedo                  173.0    74.0        44.0           male   \n",
              "Jabba Desilijic Tiure   175.0  1358.0       600.0  hermaphrodite   \n",
              "Wedge Antilles          170.0    77.0        21.0           male   \n",
              "Yoda                     66.0    17.0       896.0           male   \n",
              "Palpatine               170.0    75.0        82.0           male   \n",
              "Boba Fett               183.0    78.2        31.5           male   \n",
              "IG-88                   200.0   140.0        15.0           none   \n",
              "Bossk                   190.0   113.0        53.0           male   \n",
              "Lando Calrissian        177.0    79.0        31.0           male   \n",
              "Lobot                   175.0    79.0        37.0           male   \n",
              "Ackbar                  180.0    83.0        41.0           male   \n",
              "Wicket Systri Warrick    88.0    20.0         8.0           male   \n",
              "Qui-Gon Jinn            193.0    89.0        92.0           male   \n",
              "Padmé Amidala           185.0    45.0        46.0         female   \n",
              "Jar Jar Binks           196.0    66.0        52.0           male   \n",
              "Darth Maul              175.0    80.0        54.0           male   \n",
              "Ayla Secura             178.0    55.0        48.0         female   \n",
              "Mace Windu              188.0    84.0        72.0           male   \n",
              "Ki-Adi-Mundi            198.0    82.0        92.0           male   \n",
              "Plo Koon                188.0    80.0        22.0           male   \n",
              "Luminara Unduli         170.0    56.2        58.0         female   \n",
              "Barriss Offee           166.0    50.0        40.0         female   \n",
              "Dooku                   193.0    80.0       102.0           male   \n",
              "Jango Fett              183.0    79.0        66.0           male   \n",
              "\n",
              "                                               homeworld  \n",
              "name                                                      \n",
              "Luke Skywalker          https://swapi.dev/api/planets/1/  \n",
              "C-3PO                   https://swapi.dev/api/planets/1/  \n",
              "R2-D2                   https://swapi.dev/api/planets/8/  \n",
              "Darth Vader             https://swapi.dev/api/planets/1/  \n",
              "Leia Organa             https://swapi.dev/api/planets/2/  \n",
              "Owen Lars               https://swapi.dev/api/planets/1/  \n",
              "Beru Whitesun lars      https://swapi.dev/api/planets/1/  \n",
              "Biggs Darklighter       https://swapi.dev/api/planets/1/  \n",
              "Obi-Wan Kenobi         https://swapi.dev/api/planets/20/  \n",
              "Anakin Skywalker        https://swapi.dev/api/planets/1/  \n",
              "Chewbacca              https://swapi.dev/api/planets/14/  \n",
              "Han Solo               https://swapi.dev/api/planets/22/  \n",
              "Greedo                 https://swapi.dev/api/planets/23/  \n",
              "Jabba Desilijic Tiure  https://swapi.dev/api/planets/24/  \n",
              "Wedge Antilles         https://swapi.dev/api/planets/22/  \n",
              "Yoda                   https://swapi.dev/api/planets/28/  \n",
              "Palpatine               https://swapi.dev/api/planets/8/  \n",
              "Boba Fett              https://swapi.dev/api/planets/10/  \n",
              "IG-88                  https://swapi.dev/api/planets/28/  \n",
              "Bossk                  https://swapi.dev/api/planets/29/  \n",
              "Lando Calrissian       https://swapi.dev/api/planets/30/  \n",
              "Lobot                   https://swapi.dev/api/planets/6/  \n",
              "Ackbar                 https://swapi.dev/api/planets/31/  \n",
              "Wicket Systri Warrick   https://swapi.dev/api/planets/7/  \n",
              "Qui-Gon Jinn           https://swapi.dev/api/planets/28/  \n",
              "Padmé Amidala           https://swapi.dev/api/planets/8/  \n",
              "Jar Jar Binks           https://swapi.dev/api/planets/8/  \n",
              "Darth Maul             https://swapi.dev/api/planets/36/  \n",
              "Ayla Secura            https://swapi.dev/api/planets/37/  \n",
              "Mace Windu             https://swapi.dev/api/planets/42/  \n",
              "Ki-Adi-Mundi           https://swapi.dev/api/planets/43/  \n",
              "Plo Koon               https://swapi.dev/api/planets/49/  \n",
              "Luminara Unduli        https://swapi.dev/api/planets/51/  \n",
              "Barriss Offee          https://swapi.dev/api/planets/51/  \n",
              "Dooku                  https://swapi.dev/api/planets/52/  \n",
              "Jango Fett             https://swapi.dev/api/planets/53/  "
            ]
          },
          "execution_count": 1,
          "metadata": {},
          "output_type": "execute_result"
        }
      ],
      "source": [
        "import numpy as np\n",
        "import pandas as pd\n",
        "import matplotlib.pyplot as plt\n",
        "import seaborn as sns; sns.set()  # para el estilo de graficos\n",
        "\n",
        "entidades = ['planets','starships','vehicles','people','species']\n",
        "entidades_df = {x: pd.read_pickle('www/' + x + '_df.pkl') for x in entidades}\n",
        "\n",
        "# Datos principales\n",
        "people_df = entidades_df['people'][['height','mass','birth_year','gender','homeworld']].dropna()\n",
        "\n",
        "people_df"
      ]
    },
    {
      "attachments": {},
      "cell_type": "markdown",
      "metadata": {
        "id": "8y6PLIR-gjoF"
      },
      "source": [
        "## Ejercicio 1.1. \n",
        "\n",
        "Construye un gráfico de dispersión de los personajes donde se visualice: la altura (height), el peso (mass), la edad en años BBY (birth_year) y el género (gender). Para ello utiliza la función `sns.scatterplot()` de la librería seaborn. Aprovecha todos los parámetros: `x`, `y`, `size`, `hue` y `style` (consulta la ayuda de la función [.scatterplot()](https://seaborn.pydata.org/generated/seaborn.scatterplot.html)."
      ]
    },
    {
      "cell_type": "code",
      "execution_count": 2,
      "metadata": {
        "id": "fURT1ovigjoH"
      },
      "outputs": [
        {
          "data": {
            "text/plain": [
              "Text(0.5, 1.0, 'Personajes de Star Wars')"
            ]
          },
          "execution_count": 2,
          "metadata": {},
          "output_type": "execute_result"
        },
        {
          "data": {
            "image/png": "[encoded data removed]",
            "text/plain": [
              "<Figure size 640x480 with 1 Axes>"
            ]
          },
          "metadata": {},
          "output_type": "display_data"
        }
      ],
      "source": [
        "ax = sns.scatterplot(x='height', y='mass'\n",
        "            , hue='gender', size='birth_year' \n",
        "            , style='gender', palette='Set2'\n",
        "            , sizes=(20, 200)\n",
        "            , data=people_df)\n",
        "\n",
        "ax.set_yscale('log')\n",
        "\n",
        "plt.title('Personajes de Star Wars')\n"
      ]
    },
    {
      "attachments": {},
      "cell_type": "markdown",
      "metadata": {
        "id": "1MofC8dugjoQ"
      },
      "source": [
        "## Ejercicio 1.2.\n",
        "\n",
        "Sobre el gráfico del ejercicio 1.1:\n",
        "\n",
        "- Pon título al gráfico y a los ejes x e y. \n",
        "- Modifica los límites del eje y para que aparezcan sólo personajes de menos de 150 Kg de peso.\n",
        "- Sitúa en el gráfico los nombres de 'Darth Vader' y 'Anakin Skywalker'. ¿Cómo es posible tengan un peso y altura tan distintos si eran la misma persona?"
      ]
    },
    {
      "cell_type": "code",
      "execution_count": 3,
      "metadata": {
        "id": "iHmGn9OrgjoS"
      },
      "outputs": [
        {
          "data": {
            "text/plain": [
              "Text(0, 15, 'Anakin Skywalker')"
            ]
          },
          "execution_count": 3,
          "metadata": {},
          "output_type": "execute_result"
        },
        {
          "data": {
            "image/png": "[encoded data removed]",
            "text/plain": [
              "<Figure size 640x480 with 1 Axes>"
            ]
          },
          "metadata": {},
          "output_type": "display_data"
        }
      ],
      "source": [
        "ax = sns.scatterplot(x='height', y='mass'\n",
        "            , hue='gender', size='birth_year' \n",
        "            , style='gender', palette='Set2'\n",
        "            , sizes=(20, 200)\n",
        "            , data=people_df[people_df[\"mass\"] < 150])\n",
        "\n",
        "plt.title('Personajes de Star Wars')\n",
        "plt.xlabel('Altura [cm]')\n",
        "plt.ylabel('Peso [kg]')\n",
        "\n",
        "\n",
        "plt.annotate('Darth Vader',(people_df.loc[people_df.index == 'Darth Vader', 'height'], people_df.loc[people_df.index == 'Darth Vader', 'mass'])\n",
        "            , textcoords='offset points' # desplaza el punto\n",
        "            , xytext=(-10,10)  # distancia desplazamiento\n",
        "            , arrowprops=dict(arrowstyle='->', color='black')\n",
        "            , ha='right')   # centrado\n",
        "            \n",
        "plt.annotate('Anakin Skywalker',(people_df.loc[people_df.index == 'Anakin Skywalker', 'height'], people_df.loc[people_df.index == 'Anakin Skywalker', 'mass'])\n",
        "            , textcoords='offset points' # desplaza el punto\n",
        "            , xytext=(0,15)  # distancia desplazamiento\n",
        "            , arrowprops=dict(arrowstyle='->', color='black')\n",
        "            , ha='right')   # centrado\n",
        "\n"
      ]
    },
    {
      "attachments": {},
      "cell_type": "markdown",
      "metadata": {},
      "source": [
        "### Respuesta\n",
        "Posiblemente se deba al hecho de que, hacia el final del Episodio III, Anakin en su pelea con Obi-Wan cae en un rio de lava quedando su cuerpo parcialmente destruido. Luego, más adelante en la historia, se muestra el 'nacimiento' de Darth Vader, en el cual se utilizan protesis metálicas tanto en sus piernas como brazos. Pudiendo ser esta la causa principal de su aumento de masa y altura."
      ]
    },
    {
      "attachments": {},
      "cell_type": "markdown",
      "metadata": {
        "id": "D2pjJXbcgjoa"
      },
      "source": [
        "## Ejercicio 1.3.\n",
        "\n",
        "Utiliza las *list comprehension* para calcular el cuadrado de los valores positivos de la siguiente lista:\n",
        "\n",
        "Muestra el resultado por pantalla."
      ]
    },
    {
      "cell_type": "code",
      "execution_count": 4,
      "metadata": {
        "id": "WJjNiT3Qgjoc"
      },
      "outputs": [],
      "source": [
        "val = [5, 6, -1, 2, -3, -7, 9, 1]"
      ]
    },
    {
      "cell_type": "code",
      "execution_count": 159,
      "metadata": {
        "id": "9Hf_uH8ugjol"
      },
      "outputs": [
        {
          "data": {
            "text/plain": [
              "[25, 36, 4, 81, 1]"
            ]
          },
          "execution_count": 159,
          "metadata": {},
          "output_type": "execute_result"
        }
      ],
      "source": [
        "res = [x*x for x in val if x > 0]\n",
        "\n",
        "res"
      ]
    },
    {
      "attachments": {},
      "cell_type": "markdown",
      "metadata": {
        "id": "AE6CcvVggjou"
      },
      "source": [
        "## Ejercicio 1.4.\n",
        "\n",
        "Construye un diccionario donde se identifique, mediante claves y valores, las siguientes características del personaje Yoda: 'nombre', 'altura', 'peso', 'edad' y 'genero'. Utiliza los datos de people_df.\n",
        "\n",
        "Muestra el diccionario por pantalla."
      ]
    },
    {
      "cell_type": "code",
      "execution_count": 160,
      "metadata": {
        "id": "eaq6M61-gjo4"
      },
      "outputs": [
        {
          "data": {
            "text/plain": [
              "{'nombre': 'Yoda', 'altura': 66.0, 'peso': 17.0, 'genero': 'male'}"
            ]
          },
          "execution_count": 160,
          "metadata": {},
          "output_type": "execute_result"
        }
      ],
      "source": [
        "# print(people_df[people_df.index == 'Yoda'].to_dict(orient='index'))\n",
        "\n",
        "nombre = people_df.index[people_df.index == 'Yoda'].values[0]\n",
        "altura = people_df.loc[people_df.index == 'Yoda', 'height'].values[0]\n",
        "peso = people_df.loc[people_df.index == 'Yoda', 'mass'].values[0]\n",
        "genero = people_df.loc[people_df.index == 'Yoda', 'gender'].values[0]\n",
        "\n",
        "res = {'nombre': nombre, 'altura': altura, 'peso': peso, 'genero': genero}\n",
        "res"
      ]
    },
    {
      "attachments": {},
      "cell_type": "markdown",
      "metadata": {
        "id": "Z2bkPuuEgjpA"
      },
      "source": [
        "## Ejercicio 1.5.\n",
        "\n",
        "Calcula, a partir de los vectores numpy de altura y peso, vectores numpy que debe definir, el [índice de masa corporal (IMC)](https://es.wikipedia.org/wiki/%C3%8Dndice_de_masa_corporal) de los personajes de star wars contenidos en people_df: \n",
        "\n",
        "$IMC = \\frac{peso}{altura^{2}}$ donde altura está en metros y el peso en kg.\n",
        "\n",
        "Muestra los datos por pantalla."
      ]
    },
    {
      "cell_type": "code",
      "execution_count": 161,
      "metadata": {},
      "outputs": [
        {
          "data": {
            "text/html": [
              "<div>\n",
              "<style scoped>\n",
              "    .dataframe tbody tr th:only-of-type {\n",
              "        vertical-align: middle;\n",
              "    }\n",
              "\n",
              "    .dataframe tbody tr th {\n",
              "        vertical-align: top;\n",
              "    }\n",
              "\n",
              "    .dataframe thead th {\n",
              "        text-align: right;\n",
              "    }\n",
              "</style>\n",
              "<table border=\"1\" class=\"dataframe\">\n",
              "  <thead>\n",
              "    <tr style=\"text-align: right;\">\n",
              "      <th></th>\n",
              "      <th>imc</th>\n",
              "    </tr>\n",
              "    <tr>\n",
              "      <th>name</th>\n",
              "      <th></th>\n",
              "    </tr>\n",
              "  </thead>\n",
              "  <tbody>\n",
              "    <tr>\n",
              "      <th>Luke Skywalker</th>\n",
              "      <td>26.027582</td>\n",
              "    </tr>\n",
              "    <tr>\n",
              "      <th>C-3PO</th>\n",
              "      <td>26.892323</td>\n",
              "    </tr>\n",
              "    <tr>\n",
              "      <th>R2-D2</th>\n",
              "      <td>34.722222</td>\n",
              "    </tr>\n",
              "    <tr>\n",
              "      <th>Darth Vader</th>\n",
              "      <td>33.330066</td>\n",
              "    </tr>\n",
              "    <tr>\n",
              "      <th>Leia Organa</th>\n",
              "      <td>21.777778</td>\n",
              "    </tr>\n",
              "    <tr>\n",
              "      <th>Owen Lars</th>\n",
              "      <td>37.874006</td>\n",
              "    </tr>\n",
              "    <tr>\n",
              "      <th>Beru Whitesun lars</th>\n",
              "      <td>27.548209</td>\n",
              "    </tr>\n",
              "    <tr>\n",
              "      <th>Biggs Darklighter</th>\n",
              "      <td>25.082863</td>\n",
              "    </tr>\n",
              "    <tr>\n",
              "      <th>Obi-Wan Kenobi</th>\n",
              "      <td>23.245985</td>\n",
              "    </tr>\n",
              "    <tr>\n",
              "      <th>Anakin Skywalker</th>\n",
              "      <td>23.766410</td>\n",
              "    </tr>\n",
              "    <tr>\n",
              "      <th>Chewbacca</th>\n",
              "      <td>21.545091</td>\n",
              "    </tr>\n",
              "    <tr>\n",
              "      <th>Han Solo</th>\n",
              "      <td>24.691358</td>\n",
              "    </tr>\n",
              "    <tr>\n",
              "      <th>Greedo</th>\n",
              "      <td>24.725183</td>\n",
              "    </tr>\n",
              "    <tr>\n",
              "      <th>Jabba Desilijic Tiure</th>\n",
              "      <td>443.428571</td>\n",
              "    </tr>\n",
              "    <tr>\n",
              "      <th>Wedge Antilles</th>\n",
              "      <td>26.643599</td>\n",
              "    </tr>\n",
              "    <tr>\n",
              "      <th>Yoda</th>\n",
              "      <td>39.026630</td>\n",
              "    </tr>\n",
              "    <tr>\n",
              "      <th>Palpatine</th>\n",
              "      <td>25.951557</td>\n",
              "    </tr>\n",
              "    <tr>\n",
              "      <th>Boba Fett</th>\n",
              "      <td>23.350951</td>\n",
              "    </tr>\n",
              "    <tr>\n",
              "      <th>IG-88</th>\n",
              "      <td>35.000000</td>\n",
              "    </tr>\n",
              "    <tr>\n",
              "      <th>Bossk</th>\n",
              "      <td>31.301939</td>\n",
              "    </tr>\n",
              "    <tr>\n",
              "      <th>Lando Calrissian</th>\n",
              "      <td>25.216253</td>\n",
              "    </tr>\n",
              "    <tr>\n",
              "      <th>Lobot</th>\n",
              "      <td>25.795918</td>\n",
              "    </tr>\n",
              "    <tr>\n",
              "      <th>Ackbar</th>\n",
              "      <td>25.617284</td>\n",
              "    </tr>\n",
              "    <tr>\n",
              "      <th>Wicket Systri Warrick</th>\n",
              "      <td>25.826446</td>\n",
              "    </tr>\n",
              "    <tr>\n",
              "      <th>Qui-Gon Jinn</th>\n",
              "      <td>23.893259</td>\n",
              "    </tr>\n",
              "    <tr>\n",
              "      <th>Padmé Amidala</th>\n",
              "      <td>13.148283</td>\n",
              "    </tr>\n",
              "    <tr>\n",
              "      <th>Jar Jar Binks</th>\n",
              "      <td>17.180342</td>\n",
              "    </tr>\n",
              "    <tr>\n",
              "      <th>Darth Maul</th>\n",
              "      <td>26.122449</td>\n",
              "    </tr>\n",
              "    <tr>\n",
              "      <th>Ayla Secura</th>\n",
              "      <td>17.358919</td>\n",
              "    </tr>\n",
              "    <tr>\n",
              "      <th>Mace Windu</th>\n",
              "      <td>23.766410</td>\n",
              "    </tr>\n",
              "    <tr>\n",
              "      <th>Ki-Adi-Mundi</th>\n",
              "      <td>20.916233</td>\n",
              "    </tr>\n",
              "    <tr>\n",
              "      <th>Plo Koon</th>\n",
              "      <td>22.634676</td>\n",
              "    </tr>\n",
              "    <tr>\n",
              "      <th>Luminara Unduli</th>\n",
              "      <td>19.446367</td>\n",
              "    </tr>\n",
              "    <tr>\n",
              "      <th>Barriss Offee</th>\n",
              "      <td>18.144869</td>\n",
              "    </tr>\n",
              "    <tr>\n",
              "      <th>Dooku</th>\n",
              "      <td>21.477087</td>\n",
              "    </tr>\n",
              "    <tr>\n",
              "      <th>Jango Fett</th>\n",
              "      <td>23.589835</td>\n",
              "    </tr>\n",
              "  </tbody>\n",
              "</table>\n",
              "</div>"
            ],
            "text/plain": [
              "                              imc\n",
              "name                             \n",
              "Luke Skywalker          26.027582\n",
              "C-3PO                   26.892323\n",
              "R2-D2                   34.722222\n",
              "Darth Vader             33.330066\n",
              "Leia Organa             21.777778\n",
              "Owen Lars               37.874006\n",
              "Beru Whitesun lars      27.548209\n",
              "Biggs Darklighter       25.082863\n",
              "Obi-Wan Kenobi          23.245985\n",
              "Anakin Skywalker        23.766410\n",
              "Chewbacca               21.545091\n",
              "Han Solo                24.691358\n",
              "Greedo                  24.725183\n",
              "Jabba Desilijic Tiure  443.428571\n",
              "Wedge Antilles          26.643599\n",
              "Yoda                    39.026630\n",
              "Palpatine               25.951557\n",
              "Boba Fett               23.350951\n",
              "IG-88                   35.000000\n",
              "Bossk                   31.301939\n",
              "Lando Calrissian        25.216253\n",
              "Lobot                   25.795918\n",
              "Ackbar                  25.617284\n",
              "Wicket Systri Warrick   25.826446\n",
              "Qui-Gon Jinn            23.893259\n",
              "Padmé Amidala           13.148283\n",
              "Jar Jar Binks           17.180342\n",
              "Darth Maul              26.122449\n",
              "Ayla Secura             17.358919\n",
              "Mace Windu              23.766410\n",
              "Ki-Adi-Mundi            20.916233\n",
              "Plo Koon                22.634676\n",
              "Luminara Unduli         19.446367\n",
              "Barriss Offee           18.144869\n",
              "Dooku                   21.477087\n",
              "Jango Fett              23.589835"
            ]
          },
          "execution_count": 161,
          "metadata": {},
          "output_type": "execute_result"
        }
      ],
      "source": [
        "people_height = people_df['height']/100\n",
        "people_mass = people_df['mass']\n",
        "\n",
        "people_imc = people_mass/(people_height**2)\n",
        "\n",
        "people_imc_df = pd.DataFrame({'imc': people_imc})\n",
        "people_imc_df"
      ]
    },
    {
      "attachments": {},
      "cell_type": "markdown",
      "metadata": {
        "id": "165OA48hgjpR"
      },
      "source": [
        "## Ejercicio 1.6.\n",
        "\n",
        "A partir del IMC que has calculado en el ejercicio 1.5. Construye un panel con dos histogramas:\n",
        "\n",
        "- Un histograma con toda la muestra\n",
        "- Un histograma seleccionando los valores con un IMC inferior a 100."
      ]
    },
    {
      "cell_type": "code",
      "execution_count": 162,
      "metadata": {
        "id": "tRACj-JDgjpT"
      },
      "outputs": [
        {
          "data": {
            "text/plain": [
              "Text(0.5, 1.0, 'Frecuencia IMC < 100')"
            ]
          },
          "execution_count": 162,
          "metadata": {},
          "output_type": "execute_result"
        },
        {
          "data": {
            "image/png": "[encoded data removed]",
            "text/plain": [
              "<Figure size 1400x400 with 2 Axes>"
            ]
          },
          "metadata": {},
          "output_type": "display_data"
        }
      ],
      "source": [
        "sns.set(rc={'figure.figsize':(14,4)})\n",
        "fig, axs = plt.subplots(ncols=2)\n",
        "\n",
        "sns.histplot(data=people_imc_df, x='imc', ax=axs[0]).set_title('Frecuencia IMC')\n",
        "sns.histplot(data=people_imc_df[people_imc_df[\"imc\"] < 100], x='imc', ax=axs[1]).set_title('Frecuencia IMC < 100')"
      ]
    },
    {
      "attachments": {},
      "cell_type": "markdown",
      "metadata": {
        "id": "zsqrzaingjpb"
      },
      "source": [
        "## Ejercicio 1.7.\n",
        "\n",
        "A partir del vector 1 y 2 que se definen a continuación contesta las siguientes preguntas:\n",
        "\n",
        "- Calcula el shape, ndim, size del vector1 y vector2\n",
        "- Explica cual es la diferencia entre vector1 y vector2 a partir de los que hayas observado"
      ]
    },
    {
      "cell_type": "code",
      "execution_count": 163,
      "metadata": {
        "id": "DYLofIqugjpc"
      },
      "outputs": [],
      "source": [
        "# Aquí se presenta una situación particular: las variables 'altura' y 'peso' son seteados por mí en un ejercicio previo. \n",
        "# No habiendo sido instanciadas antes en la notebook propuesta.\n",
        "# Entiendo que lo que el ejercicio intenta mostrar es el uso de las funciones 'hstack' y 'vstack' indistintamente de los array utilizados. \n",
        "# Voy a asumir que hacen referencia a los array numpy nombrados en el ejercicio 1.5\n",
        "\n",
        "# vector1 = np.hstack([altura,peso])\n",
        "# vector2 = np.vstack([altura,peso])\n",
        "\n",
        "vector1 = np.hstack([people_height,people_mass])\n",
        "vector2 = np.vstack([people_height,people_mass])"
      ]
    },
    {
      "cell_type": "code",
      "execution_count": 164,
      "metadata": {
        "id": "1WBV3vUxgjpm"
      },
      "outputs": [
        {
          "name": "stdout",
          "output_type": "stream",
          "text": [
            "(72,)\n",
            "(2, 36)\n",
            "72\n",
            "72\n"
          ]
        }
      ],
      "source": [
        "# Solución:\n",
        "print(vector1.shape)\n",
        "print(vector2.shape)\n",
        "\n",
        "print(vector1.size)\n",
        "print(vector2.size)"
      ]
    },
    {
      "attachments": {},
      "cell_type": "markdown",
      "metadata": {},
      "source": [
        "### Respuesta\n",
        "La función `hstack` concatena los numpy arrays **horizontalmente**. Si lo pensamos como una tabla podemos decir que estamos agregando colunas a nuestro dataset. Mientras que la funcion `vstack` apila nuestros arrays n-dimensionales de manera **vertical**. De nuevo nuestra analogía con una tabla, estaríamos agregando filas a nuestro dataset. Este análisis intenta explicar las diferencias en el `shape` de cada vector.\n",
        "\n",
        "Además podemos notar que `size`, el cual indica la cantidad total de elementos en el array, es idéntico para ambos vectores resultado."
      ]
    },
    {
      "attachments": {},
      "cell_type": "markdown",
      "metadata": {
        "id": "PnkDGSu0gjpw"
      },
      "source": [
        "## Ejercicio 1.8.\n",
        "\n",
        "Crea una copia de people_df llamada personajes_df y renombra las columnas con su traducción al castellano. \n",
        "\n",
        "Muestra los 5 primeros registros del nuevo data frame con `.head()`."
      ]
    },
    {
      "cell_type": "code",
      "execution_count": 165,
      "metadata": {
        "id": "7jK-a6Engjpx"
      },
      "outputs": [
        {
          "data": {
            "text/html": [
              "<div>\n",
              "<style scoped>\n",
              "    .dataframe tbody tr th:only-of-type {\n",
              "        vertical-align: middle;\n",
              "    }\n",
              "\n",
              "    .dataframe tbody tr th {\n",
              "        vertical-align: top;\n",
              "    }\n",
              "\n",
              "    .dataframe thead th {\n",
              "        text-align: right;\n",
              "    }\n",
              "</style>\n",
              "<table border=\"1\" class=\"dataframe\">\n",
              "  <thead>\n",
              "    <tr style=\"text-align: right;\">\n",
              "      <th></th>\n",
              "      <th>altura</th>\n",
              "      <th>peso</th>\n",
              "      <th>edad</th>\n",
              "      <th>genero</th>\n",
              "      <th>planeta</th>\n",
              "    </tr>\n",
              "    <tr>\n",
              "      <th>name</th>\n",
              "      <th></th>\n",
              "      <th></th>\n",
              "      <th></th>\n",
              "      <th></th>\n",
              "      <th></th>\n",
              "    </tr>\n",
              "  </thead>\n",
              "  <tbody>\n",
              "    <tr>\n",
              "      <th>Luke Skywalker</th>\n",
              "      <td>172.0</td>\n",
              "      <td>77.0</td>\n",
              "      <td>19.0</td>\n",
              "      <td>male</td>\n",
              "      <td>https://swapi.dev/api/planets/1/</td>\n",
              "    </tr>\n",
              "    <tr>\n",
              "      <th>C-3PO</th>\n",
              "      <td>167.0</td>\n",
              "      <td>75.0</td>\n",
              "      <td>112.0</td>\n",
              "      <td>none</td>\n",
              "      <td>https://swapi.dev/api/planets/1/</td>\n",
              "    </tr>\n",
              "    <tr>\n",
              "      <th>R2-D2</th>\n",
              "      <td>96.0</td>\n",
              "      <td>32.0</td>\n",
              "      <td>33.0</td>\n",
              "      <td>none</td>\n",
              "      <td>https://swapi.dev/api/planets/8/</td>\n",
              "    </tr>\n",
              "    <tr>\n",
              "      <th>Darth Vader</th>\n",
              "      <td>202.0</td>\n",
              "      <td>136.0</td>\n",
              "      <td>41.9</td>\n",
              "      <td>male</td>\n",
              "      <td>https://swapi.dev/api/planets/1/</td>\n",
              "    </tr>\n",
              "    <tr>\n",
              "      <th>Leia Organa</th>\n",
              "      <td>150.0</td>\n",
              "      <td>49.0</td>\n",
              "      <td>19.0</td>\n",
              "      <td>female</td>\n",
              "      <td>https://swapi.dev/api/planets/2/</td>\n",
              "    </tr>\n",
              "  </tbody>\n",
              "</table>\n",
              "</div>"
            ],
            "text/plain": [
              "                altura   peso   edad  genero                           planeta\n",
              "name                                                                          \n",
              "Luke Skywalker   172.0   77.0   19.0    male  https://swapi.dev/api/planets/1/\n",
              "C-3PO            167.0   75.0  112.0    none  https://swapi.dev/api/planets/1/\n",
              "R2-D2             96.0   32.0   33.0    none  https://swapi.dev/api/planets/8/\n",
              "Darth Vader      202.0  136.0   41.9    male  https://swapi.dev/api/planets/1/\n",
              "Leia Organa      150.0   49.0   19.0  female  https://swapi.dev/api/planets/2/"
            ]
          },
          "execution_count": 165,
          "metadata": {},
          "output_type": "execute_result"
        }
      ],
      "source": [
        "personajes_df = people_df.copy()\n",
        "personajes_df.rename(columns={'height': 'altura', 'mass': 'peso', 'birth_year': 'edad', 'gender': 'genero', 'homeworld': 'planeta'}, inplace = True)\n",
        "personajes_df.head()"
      ]
    },
    {
      "attachments": {},
      "cell_type": "markdown",
      "metadata": {
        "id": "blkoKgizgjp5"
      },
      "source": [
        "## Ejercicio 1.9.\n",
        "\n",
        "Haz el mismo cálculo de IMC que has hecho en 1.5. pero directamente sobre el objeto personajes_df.\n",
        "\n",
        "Ordena el data frame de mayor a menor IMC y muestra el nombre e IMC de los personajes con IMC por encima de 30.\n",
        "\n",
        "> ¿Sabias que IMC por encima de 30 se considera obeso?\n"
      ]
    },
    {
      "cell_type": "code",
      "execution_count": 166,
      "metadata": {
        "id": "CHIIcuANgjp6"
      },
      "outputs": [
        {
          "data": {
            "text/plain": [
              "name\n",
              "Jabba Desilijic Tiure    443.428571\n",
              "Yoda                      39.026630\n",
              "Owen Lars                 37.874006\n",
              "IG-88                     35.000000\n",
              "R2-D2                     34.722222\n",
              "Darth Vader               33.330066\n",
              "Bossk                     31.301939\n",
              "Name: imc, dtype: float64"
            ]
          },
          "execution_count": 166,
          "metadata": {},
          "output_type": "execute_result"
        }
      ],
      "source": [
        "personajes_df['imc'] = personajes_df['peso']/((personajes_df['altura']/100)**2)\n",
        "\n",
        "personajes_imc30_df = personajes_df[personajes_df['imc'] > 30].sort_values(by='imc', ascending=False)\n",
        "personajes_imc30_df['imc']"
      ]
    },
    {
      "attachments": {},
      "cell_type": "markdown",
      "metadata": {
        "id": "E-goVaMEgjqB"
      },
      "source": [
        "## Ejercicio 1.10.\n",
        "\n",
        "Inserta un valor faltante en los valores de IMC que sean superiores a 100 y dibuja el histograma del IMC transformado con `.plot.hist()`."
      ]
    },
    {
      "cell_type": "code",
      "execution_count": 167,
      "metadata": {
        "id": "oWQQoDs_gjqD"
      },
      "outputs": [
        {
          "data": {
            "text/plain": [
              "<Axes: ylabel='Frequency'>"
            ]
          },
          "execution_count": 167,
          "metadata": {},
          "output_type": "execute_result"
        },
        {
          "data": {
            "image/png": "[encoded data removed]",
            "text/plain": [
              "<Figure size 1400x400 with 1 Axes>"
            ]
          },
          "metadata": {},
          "output_type": "display_data"
        }
      ],
      "source": [
        "personajes_df.loc[personajes_df['imc'] > 100, 'imc'] = np.nan\n",
        "\n",
        "personajes_df.plot.hist(column='imc', range=(0, 50)) # no existen valores en el intervalo [50,100], recorto eje de abcisas para mejor visualización\n"
      ]
    }
  ],
  "metadata": {
    "colab": {
      "provenance": []
    },
    "kernelspec": {
      "display_name": "jupyter_kernel",
      "language": "python",
      "name": "jupyter_kernel"
    },
    "language_info": {
      "codemirror_mode": {
        "name": "ipython",
        "version": 3
      },
      "file_extension": ".py",
      "mimetype": "text/x-python",
      "name": "python",
      "nbconvert_exporter": "python",
      "pygments_lexer": "ipython3",
      "version": "3.12.1"
    }
  },
  "nbformat": 4,
  "nbformat_minor": 0
}
