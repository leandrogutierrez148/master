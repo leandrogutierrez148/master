{
 "cells": [
  {
   "attachments": {},
   "cell_type": "markdown",
   "metadata": {
    "id": "H3q2tl_4A_xR"
   },
   "source": [
    "# **Herramientas de Análisis**\n",
    "\n",
    "---\n",
    "---\n",
    "\n",
    "<!-- script html for image -->\n",
    "\n",
    "<center>\n",
    "\n",
    "\n",
    "<img src=\"https://upload.wikimedia.org/wikipedia/commons/thumb/a/ac/Sw-ep1-logo.svg/1280px-Sw-ep1-logo.svg.png\"  width=\"500\" height=\"150\"/>\n",
    "\n",
    "\n",
    "<br>\n",
    "\n",
    "Fuente de la imagen: [https://es.wikipedia.org](https://es.wikipedia.org/wiki/Star_Wars:_Episodio_I_-_La_amenaza_fantasma)\n",
    "\n",
    "</center>\n",
    "\n",
    "<br>"
   ]
  },
  {
   "attachments": {},
   "cell_type": "markdown",
   "metadata": {
    "id": "SxpyCh-fA_xp"
   },
   "source": [
    "# 9 - Anexo: Readme de Python"
   ]
  },
  {
   "attachments": {},
   "cell_type": "markdown",
   "metadata": {
    "id": "kMOaZpYFA_xr"
   },
   "source": [
    "## 9.1. Preparación del entorno Colab\n",
    "\n",
    "Desde [Colab](http://colab.research.google.com), hay que clonar el repositorio cada vez que inicias un nuevo libro. En los libros se incluye el código necesario para ello."
   ]
  },
  {
   "attachments": {},
   "cell_type": "markdown",
   "metadata": {
    "id": "uxRcax3IA_xv"
   },
   "source": [
    "## 9.2. Preparación Entorno Local-Jupyter (opcional)\n",
    "\n",
    "#### CLONAR REPOSITORIO\n",
    "\n",
    "En local, puedes utilizar el mismo proyecto que has clonado en el [README DE R](../R/README.md).\n",
    "\n",
    "Para actualizarlo de nuevo, desde consola:\n",
    "\n",
    "```\n",
    "cd mbdds_fc20\n",
    "git pull\n",
    "cd Python\n",
    "```\n",
    "\n",
    "#### CREAR EN LOCAL UN NUEVO ENVIRONMENT DE ANACONDA\n",
    "\n",
    "Abrimos una línea de comandos (con *Anaconda 3.0* ya disponible).\n",
    "\n",
    "- **Windows**: escribimos `Anaconda` en el menú \"Inicio\" y aparecerá la consola MS-DOS de Anaconda.\n",
    "- **Linux**: Abrimos Terminal.\n",
    "\n",
    "```\n",
    "conda deactivate\n",
    "conda create -n mbdds_rpy20 python=3.6.9\n",
    "conda activate mbdds_rpy20\n",
    "```\n",
    "\n",
    "Verifica que se ha creado y está activo:\n",
    "\n",
    "```\n",
    "conda info --envs\n",
    "```\n",
    "\n",
    "#### INSTALA LAS LIBRERIAS DE PYTHON\n",
    "\n",
    "```\n",
    "cd mbdds_fc20/Python\n",
    "conda activate mbdds_rpy20\n",
    "python -m pip install -r requirementsColab.txt\n",
    "```\n",
    "\n",
    "#### PUBLICAR EL KERNEL\n",
    "\n",
    "Para acceder al nuevo environment desde Jupyter necesitas publicar el kernel:\n",
    "\n",
    "```\n",
    "python -m ipykernel install --user --name mbdds_rpy20 --display-name \"mbdds_rpy20\"\n",
    "```\n",
    "\n",
    "Puede tardar unos minutos en publicarse.\n",
    "\n",
    "#### LANZAR ENTORNO JUPYTER NOTEBOOK\n",
    "\n",
    "Para acceder al servidor Jupyter:\n",
    "\n",
    "```\n",
    "conda activate mbdds_rpy20\n",
    "jupyter notebook\n",
    "```\n",
    "\n",
    "Debería abrirse un navegador con acceso a Jupyter desde donde podrás acceder a los notebooks. Habitualmente el servidor Jupyter se abre en http://localhost:8888/."
   ]
  },
  {
   "attachments": {},
   "cell_type": "markdown",
   "metadata": {
    "id": "6if00wL-A_xx"
   },
   "source": [
    "## 9.3. Importar datos de Star Wars SWAPI"
   ]
  },
  {
   "attachments": {},
   "cell_type": "markdown",
   "metadata": {
    "id": "3EMpI4GqA_x0"
   },
   "source": [
    "Datos procesados a partir de https://swapi.dev/documentation#root:"
   ]
  },
  {
   "cell_type": "code",
   "execution_count": 1,
   "metadata": {
    "id": "qN9pDwKgA_x2"
   },
   "outputs": [],
   "source": [
    "import requests\n",
    "import pandas as pd\n",
    "import numpy as np\n"
   ]
  },
  {
   "cell_type": "code",
   "execution_count": 2,
   "metadata": {
    "id": "Y4Mr3V_ZA_yC"
   },
   "outputs": [],
   "source": [
    "# exec(open('get_entity.py').read())\n",
    "def get_entity(entity = None, url_base = 'http://swapi.dev/api/'):\n",
    "# https://swapi.dev/documentation#root\n",
    "\n",
    "    page_num = 1\n",
    "    results_acum = []\n",
    "    entity_list = [\"films\",\"people\",\"planets\",\"species\",\"starships\",\"vehicles\"]\n",
    "\n",
    "    if(entity not in entity_list):\n",
    "        page_num = None\n",
    "        print('Call a valid entity: ' + ','.join(entity_list))\n",
    "\n",
    "    while(page_num is not None):\n",
    "        url = \"\".join([url_base, entity, '/?page=', str(page_num)])\n",
    "        rjson = requests.get(url).json()\n",
    "        results_acum = results_acum + rjson['results']\n",
    "        if(rjson['next'] is not None):\n",
    "            page_num = page_num + 1\n",
    "        else:\n",
    "            page_num = None\n",
    "\n",
    "    if (len(results_acum) > 0):\n",
    "        results_df = pd.DataFrame(results_acum)\n",
    "    else:\n",
    "        results_df = entity_list\n",
    "\n",
    "    return(results_df)\n",
    "\n",
    "def str2num(df,num_list):\n",
    "    num_list = [lab for lab in num_list if lab in df.columns]\n",
    "    num_list = [lab for lab in num_list if  df[lab].dtype==object]\n",
    "    for x in num_list:\n",
    "        if (x==\"crew\"):\n",
    "            df.loc[df[x] == \"30-165\",x] = \"165\"\n",
    "        df[x] = pd.to_numeric(df[x].replace('[^0-9\\\\.-]', '', regex=True), errors='coerce')\n",
    "    return(df)"
   ]
  },
  {
   "cell_type": "code",
   "execution_count": 4,
   "metadata": {
    "id": "ctbKfCXUA_yO",
    "outputId": "6654731b-4a60-4d87-ca73-ee2016fb0894"
   },
   "outputs": [
    {
     "name": "stdout",
     "output_type": "stream",
     "text": [
      "Call a valid entity: films,people,planets,species,starships,vehicles\n"
     ]
    }
   ],
   "source": [
    "res = get_entity()"
   ]
  },
  {
   "cell_type": "code",
   "execution_count": 5,
   "metadata": {
    "id": "rasZ3h1vA_yf",
    "outputId": "0fc15037-a16e-4105-ee40-a89d0418da0c"
   },
   "outputs": [
    {
     "data": {
      "text/plain": [
       "['films', 'people', 'planets', 'species', 'starships', 'vehicles']"
      ]
     },
     "execution_count": 5,
     "metadata": {},
     "output_type": "execute_result"
    }
   ],
   "source": [
    "res"
   ]
  },
  {
   "cell_type": "code",
   "execution_count": 8,
   "metadata": {
    "id": "8IyY1wTAA_yt"
   },
   "outputs": [],
   "source": [
    "films_df = get_entity(\"films\")\n",
    "people_df = get_entity(\"people\")\n",
    "planets_df = get_entity(\"planets\")\n",
    "species_df = get_entity(\"species\")\n",
    "starships_df = get_entity(\"starships\")\n",
    "vehicles_df = get_entity(\"vehicles\")\n",
    "\n",
    "people_df.index = people_df.name\n",
    "planets_df.index = planets_df.name\n",
    "species_df.index = species_df.name\n",
    "starships_df.index = starships_df.name\n",
    "vehicles_df.index = vehicles_df.name\n",
    "\n",
    "people_df.drop(\"name\",inplace=True, axis=1)\n",
    "planets_df.drop(\"name\",inplace=True, axis=1)\n",
    "species_df.drop(\"name\",inplace=True, axis=1)\n",
    "starships_df.drop(\"name\",inplace=True, axis=1)\n",
    "vehicles_df.drop(\"name\",inplace=True, axis=1)"
   ]
  },
  {
   "cell_type": "code",
   "execution_count": 9,
   "metadata": {
    "id": "q3QnczKdA_y7"
   },
   "outputs": [],
   "source": [
    "people_num = [\"height\",\"mass\",\"birth_year\"]\n",
    "planets_num = [\"diameter\",\"rotation_period\",\"orbital_period\",\"population\",\"surface_water\", \"gravity\"]\n",
    "species_num = [\"average_height\",\"average_lifespan\"]\n",
    "starships_num = [\"passengers\",\"length\",\"crew\",\"cost_in_credits\",\"cargo_capacity\"\n",
    "                 ,\"hyperdrive_rating\",\"MGLT\",\"max_atmosphering_speed\"]\n",
    "vehicles_num = [\"cargo_capacity\",\"cost_in_credits\",\"crew\",\"length\",\"max_atmosphering_speed\",\"passengers\"]\n"
   ]
  },
  {
   "cell_type": "code",
   "execution_count": 10,
   "metadata": {
    "id": "wvlhAO4HA_zK"
   },
   "outputs": [],
   "source": [
    "people_df.loc[(people_df[\"gender\"].isin(['n/a', 'none'])) | people_df[\"gender\"].isna(),\"gender\"] = 'none'\n",
    "planets_df[\"temperate_tropical\"] = planets_df.climate.apply(lambda x: (\"temperate\" in x) or (\"tropical\" in x)).astype(int)\n"
   ]
  },
  {
   "cell_type": "code",
   "execution_count": 11,
   "metadata": {
    "id": "pkazfuEHA_zV"
   },
   "outputs": [],
   "source": [
    "people_df2 = str2num(people_df,people_num)\n",
    "planets_df2 = str2num(planets_df,planets_num)\n",
    "species_df2 = str2num(species_df,species_num)\n",
    "starships_df2 = str2num(starships_df,starships_num)\n",
    "vehicles_df2 = str2num(vehicles_df,vehicles_num)\n"
   ]
  },
  {
   "cell_type": "code",
   "execution_count": 12,
   "metadata": {
    "id": "NftFdWocA_zh"
   },
   "outputs": [],
   "source": [
    "planets_df2.loc[\"Bespin\",\"gravity\"] = 1.5"
   ]
  },
  {
   "cell_type": "code",
   "execution_count": 15,
   "metadata": {
    "id": "VjuRXAx2A_zs"
   },
   "outputs": [],
   "source": [
    "people_df2.to_pickle(\"www/people_df.pkl\")\n",
    "planets_df2.to_pickle(\"www/planets_df.pkl\")\n",
    "species_df2.to_pickle(\"www/species_df.pkl\")\n",
    "starships_df2.to_pickle(\"www/starships_df.pkl\")\n",
    "vehicles_df2.to_pickle(\"www/vehicles_df.pkl\")"
   ]
  },
  {
   "cell_type": "code",
   "execution_count": 16,
   "metadata": {
    "id": "qLwmv07bA_z4",
    "outputId": "f1ea8325-800c-4344-d303-b30d04c9c29c",
    "scrolled": true
   },
   "outputs": [
    {
     "data": {
      "text/html": [
       "<div>\n",
       "<style scoped>\n",
       "    .dataframe tbody tr th:only-of-type {\n",
       "        vertical-align: middle;\n",
       "    }\n",
       "\n",
       "    .dataframe tbody tr th {\n",
       "        vertical-align: top;\n",
       "    }\n",
       "\n",
       "    .dataframe thead th {\n",
       "        text-align: right;\n",
       "    }\n",
       "</style>\n",
       "<table border=\"1\" class=\"dataframe\">\n",
       "  <thead>\n",
       "    <tr style=\"text-align: right;\">\n",
       "      <th></th>\n",
       "      <th>cost_in_credits</th>\n",
       "      <th>length</th>\n",
       "      <th>max_atmosphering_speed</th>\n",
       "      <th>crew</th>\n",
       "      <th>passengers</th>\n",
       "      <th>cargo_capacity</th>\n",
       "    </tr>\n",
       "  </thead>\n",
       "  <tbody>\n",
       "    <tr>\n",
       "      <th>count</th>\n",
       "      <td>21.000000</td>\n",
       "      <td>38.000000</td>\n",
       "      <td>38.000000</td>\n",
       "      <td>39.000000</td>\n",
       "      <td>38.000000</td>\n",
       "      <td>3.100000e+01</td>\n",
       "    </tr>\n",
       "    <tr>\n",
       "      <th>mean</th>\n",
       "      <td>70008.333333</td>\n",
       "      <td>20.466842</td>\n",
       "      <td>1012.131579</td>\n",
       "      <td>8.179487</td>\n",
       "      <td>36.973684</td>\n",
       "      <td>1.316797e+05</td>\n",
       "    </tr>\n",
       "    <tr>\n",
       "      <th>std</th>\n",
       "      <td>99279.640830</td>\n",
       "      <td>39.306859</td>\n",
       "      <td>3191.612032</td>\n",
       "      <td>23.512451</td>\n",
       "      <td>102.298843</td>\n",
       "      <td>4.734958e+05</td>\n",
       "    </tr>\n",
       "    <tr>\n",
       "      <th>min</th>\n",
       "      <td>2500.000000</td>\n",
       "      <td>1.500000</td>\n",
       "      <td>30.000000</td>\n",
       "      <td>0.000000</td>\n",
       "      <td>0.000000</td>\n",
       "      <td>0.000000e+00</td>\n",
       "    </tr>\n",
       "    <tr>\n",
       "      <th>25%</th>\n",
       "      <td>8000.000000</td>\n",
       "      <td>3.885000</td>\n",
       "      <td>100.000000</td>\n",
       "      <td>1.000000</td>\n",
       "      <td>0.000000</td>\n",
       "      <td>1.000000e+01</td>\n",
       "    </tr>\n",
       "    <tr>\n",
       "      <th>50%</th>\n",
       "      <td>15000.000000</td>\n",
       "      <td>9.550000</td>\n",
       "      <td>380.000000</td>\n",
       "      <td>1.000000</td>\n",
       "      <td>1.000000</td>\n",
       "      <td>8.000000e+01</td>\n",
       "    </tr>\n",
       "    <tr>\n",
       "      <th>75%</th>\n",
       "      <td>75000.000000</td>\n",
       "      <td>16.825000</td>\n",
       "      <td>815.000000</td>\n",
       "      <td>4.000000</td>\n",
       "      <td>13.500000</td>\n",
       "      <td>5.800000e+03</td>\n",
       "    </tr>\n",
       "    <tr>\n",
       "      <th>max</th>\n",
       "      <td>350000.000000</td>\n",
       "      <td>210.000000</td>\n",
       "      <td>20000.000000</td>\n",
       "      <td>140.000000</td>\n",
       "      <td>500.000000</td>\n",
       "      <td>2.000000e+06</td>\n",
       "    </tr>\n",
       "  </tbody>\n",
       "</table>\n",
       "</div>"
      ],
      "text/plain": [
       "       cost_in_credits      length  max_atmosphering_speed        crew  \\\n",
       "count        21.000000   38.000000               38.000000   39.000000   \n",
       "mean      70008.333333   20.466842             1012.131579    8.179487   \n",
       "std       99279.640830   39.306859             3191.612032   23.512451   \n",
       "min        2500.000000    1.500000               30.000000    0.000000   \n",
       "25%        8000.000000    3.885000              100.000000    1.000000   \n",
       "50%       15000.000000    9.550000              380.000000    1.000000   \n",
       "75%       75000.000000   16.825000              815.000000    4.000000   \n",
       "max      350000.000000  210.000000            20000.000000  140.000000   \n",
       "\n",
       "       passengers  cargo_capacity  \n",
       "count   38.000000    3.100000e+01  \n",
       "mean    36.973684    1.316797e+05  \n",
       "std    102.298843    4.734958e+05  \n",
       "min      0.000000    0.000000e+00  \n",
       "25%      0.000000    1.000000e+01  \n",
       "50%      1.000000    8.000000e+01  \n",
       "75%     13.500000    5.800000e+03  \n",
       "max    500.000000    2.000000e+06  "
      ]
     },
     "execution_count": 16,
     "metadata": {},
     "output_type": "execute_result"
    }
   ],
   "source": [
    "vehicles_df2.describe()"
   ]
  },
  {
   "cell_type": "code",
   "execution_count": null,
   "metadata": {},
   "outputs": [],
   "source": []
  }
 ],
 "metadata": {
  "colab": {
   "name": "M1_BloqueII_Python_9_Anexo.ipynb",
   "provenance": []
  },
  "kernelspec": {
   "display_name": "Kernel 2",
   "language": "python",
   "name": "kernel_2"
  },
  "language_info": {
   "codemirror_mode": {
    "name": "ipython",
    "version": 3
   },
   "file_extension": ".py",
   "mimetype": "text/x-python",
   "name": "python",
   "nbconvert_exporter": "python",
   "pygments_lexer": "ipython3",
   "version": "3.12.1"
  }
 },
 "nbformat": 4,
 "nbformat_minor": 4
}
