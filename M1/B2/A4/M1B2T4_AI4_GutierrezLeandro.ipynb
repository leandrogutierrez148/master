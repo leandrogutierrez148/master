{
  "cells": [
    {
      "attachments": {},
      "cell_type": "markdown",
      "metadata": {
        "id": "tW3jK_BDgjno"
      },
      "source": [
        "# **Herramientas de Análisis**\n",
        "\n",
        "---\n",
        "---\n",
        "\n",
        "<!-- script html for image -->\n",
        "\n",
        "<center>\n",
        "\n",
        "\n",
        "<img src=\"https://upload.wikimedia.org/wikipedia/commons/thumb/a/ac/Sw-ep1-logo.svg/1280px-Sw-ep1-logo.svg.png\"  width=\"500\" height=\"150\"/>\n",
        "\n",
        "\n",
        "<br>\n",
        "\n",
        "Fuente de la imagen: [https://es.wikipedia.org](https://es.wikipedia.org/wiki/Star_Wars:_Episodio_I_-_La_amenaza_fantasma)\n",
        "\n",
        "</center>\n",
        "\n",
        "<br>"
      ]
    },
    {
      "attachments": {},
      "cell_type": "markdown",
      "metadata": {
        "id": "CLuiMPEMSvF6"
      },
      "source": [
        "# **Índice**\n",
        "\n",
        "---\n",
        "---\n",
        "\n",
        "> [Herramientas de Análisis](#scrollTo=tW3jK_BDgjno&line=20&uniqifier=1)\n",
        "<br>\n",
        ">>\n",
        ">> [Preparación del Entorno](#scrollTo=5zZfGqOugjnr&line=3&uniqifier=1) \\\\\n",
        ">>   \\\\\n",
        ">> [Ejercicio 2](#scrollTo=EljLebnxgjqM) \\\\"
      ]
    },
    {
      "attachments": {},
      "cell_type": "markdown",
      "metadata": {
        "id": "5zZfGqOugjnr"
      },
      "source": [
        "# Preparación del entorno\n",
        "\n",
        "Padawan! Cuando inicies sesión en Colab, prepara el entorno ejecutando el siguiente código."
      ]
    },
    {
      "cell_type": "code",
      "execution_count": 308,
      "metadata": {
        "id": "JiKiPQdQgjnu"
      },
      "outputs": [],
      "source": [
        "if \"google.colab\" in str(get_ipython()):\n",
        "    !git clone https://github.com/griu/mbdds_fc20.git /content/mbdds_fc20\n",
        "    !git -C /content/mbdds_fc20 pull\n",
        "    %cd /content/mbdds_fc20/Python\n",
        "    !python -m pip install -r requirementsColab.txt"
      ]
    },
    {
      "attachments": {},
      "cell_type": "markdown",
      "metadata": {
        "id": "EljLebnxgjqM"
      },
      "source": [
        "# Ejercicio 2\n",
        "\n",
        "Para el ejercicio 2, añadimos los datos del ejercicio 1 los datos de planetas."
      ]
    },
    {
      "cell_type": "code",
      "execution_count": 11,
      "metadata": {
        "id": "2V3mrVHSgjn7"
      },
      "outputs": [
        {
          "data": {
            "text/html": [
              "<div>\n",
              "<style scoped>\n",
              "    .dataframe tbody tr th:only-of-type {\n",
              "        vertical-align: middle;\n",
              "    }\n",
              "\n",
              "    .dataframe tbody tr th {\n",
              "        vertical-align: top;\n",
              "    }\n",
              "\n",
              "    .dataframe thead th {\n",
              "        text-align: right;\n",
              "    }\n",
              "</style>\n",
              "<table border=\"1\" class=\"dataframe\">\n",
              "  <thead>\n",
              "    <tr style=\"text-align: right;\">\n",
              "      <th></th>\n",
              "      <th>orbital_period</th>\n",
              "      <th>url</th>\n",
              "    </tr>\n",
              "    <tr>\n",
              "      <th>name</th>\n",
              "      <th></th>\n",
              "      <th></th>\n",
              "    </tr>\n",
              "  </thead>\n",
              "  <tbody>\n",
              "    <tr>\n",
              "      <th>Tatooine</th>\n",
              "      <td>304.0</td>\n",
              "      <td>https://swapi.dev/api/planets/1/</td>\n",
              "    </tr>\n",
              "    <tr>\n",
              "      <th>Alderaan</th>\n",
              "      <td>364.0</td>\n",
              "      <td>https://swapi.dev/api/planets/2/</td>\n",
              "    </tr>\n",
              "    <tr>\n",
              "      <th>Yavin IV</th>\n",
              "      <td>4818.0</td>\n",
              "      <td>https://swapi.dev/api/planets/3/</td>\n",
              "    </tr>\n",
              "    <tr>\n",
              "      <th>Hoth</th>\n",
              "      <td>549.0</td>\n",
              "      <td>https://swapi.dev/api/planets/4/</td>\n",
              "    </tr>\n",
              "    <tr>\n",
              "      <th>Dagobah</th>\n",
              "      <td>341.0</td>\n",
              "      <td>https://swapi.dev/api/planets/5/</td>\n",
              "    </tr>\n",
              "  </tbody>\n",
              "</table>\n",
              "</div>"
            ],
            "text/plain": [
              "          orbital_period                               url\n",
              "name                                                      \n",
              "Tatooine           304.0  https://swapi.dev/api/planets/1/\n",
              "Alderaan           364.0  https://swapi.dev/api/planets/2/\n",
              "Yavin IV          4818.0  https://swapi.dev/api/planets/3/\n",
              "Hoth               549.0  https://swapi.dev/api/planets/4/\n",
              "Dagobah            341.0  https://swapi.dev/api/planets/5/"
            ]
          },
          "execution_count": 11,
          "metadata": {},
          "output_type": "execute_result"
        }
      ],
      "source": [
        "import numpy as np\n",
        "import pandas as pd\n",
        "import matplotlib.pyplot as plt\n",
        "import seaborn as sns; sns.set()  # para el estilo de graficos\n",
        "\n",
        "entidades = [\"planets\",\"starships\",\"vehicles\",\"people\",\"species\"]\n",
        "entidades_df = {x: pd.read_pickle(\"www/\" + x + \"_df.pkl\") for x in entidades}\n",
        "\n",
        "# Datos people\n",
        "people_df = entidades_df[\"people\"][[\"height\",\"mass\",\"birth_year\",\"gender\",\"homeworld\"]].dropna()\n",
        "\n",
        "# planetas\n",
        "planets_df = entidades_df[\"planets\"][[\"orbital_period\",\"url\"]].dropna()\n",
        "planets_df.head()"
      ]
    },
    {
      "attachments": {},
      "cell_type": "markdown",
      "metadata": {
        "id": "XfAwzyybgjqV"
      },
      "source": [
        "## Ejercicio 2.1.\n",
        "\n",
        "Construye una función que diga \"buenos días\", \"buenas tardes\" o \"buenas noches\" en función de la hora del día.\n",
        "\n",
        "> Truco 1: Para testear la función haz que tenga un parametro de entrada que tenga como valor por defecto: `datetime.now()` (primero carga `from datetime import datetime`).\n",
        "\n",
        "> Truco 2: Puedes extraer la hora de un datetime con `.hour`."
      ]
    },
    {
      "cell_type": "code",
      "execution_count": 12,
      "metadata": {
        "id": "ztjRWz0kgjqW"
      },
      "outputs": [
        {
          "name": "stdout",
          "output_type": "stream",
          "text": [
            "buenas tardes\n"
          ]
        }
      ],
      "source": [
        "from datetime import datetime\n",
        "\n",
        "def saludar(fecha = datetime.now()):\n",
        "    \"\"\"devuelve etapa del dia según la hora\"\"\"\n",
        "\n",
        "    hora = fecha.hour\n",
        "\n",
        "    if hora >= 6 and hora < 12:\n",
        "        print(\"buenos días\")\n",
        "    elif hora >= 12 and hora < 18:\n",
        "        print(\"buenas tardes\")\n",
        "    else:\n",
        "        print(\"buenas noches\")\n",
        "\n",
        "saludar()"
      ]
    },
    {
      "attachments": {},
      "cell_type": "markdown",
      "metadata": {
        "id": "N4CDynU2gjqe"
      },
      "source": [
        "## Ejercicio 2.2.\n",
        "\n",
        "En el data frame personajes_df, calcula de nuevo el IMC y crea una nueva variable con el trameado de la variable IMC definido en la siguiente tabla:\n",
        "\n",
        " | Categoría de nivel de peso | Intervalo del percentil |\n",
        " | -------------------------- | ----------------------- | \n",
        " | Bajo peso | < 18.5 |\n",
        " | Normal | >= 18.5 y < 25 |\n",
        " | Sobrepeso | >= 25 y <30 |\n",
        " | Obeso | >= 30 |\n",
        "\n",
        "> Truco: utiliza `pd.cut(..., right=False)` y modifica las etiquetas con `.cat.rename_categories`.  "
      ]
    },
    {
      "cell_type": "code",
      "execution_count": 16,
      "metadata": {
        "id": "1DPbZLk4gjqf"
      },
      "outputs": [
        {
          "data": {
            "text/html": [
              "<div>\n",
              "<style scoped>\n",
              "    .dataframe tbody tr th:only-of-type {\n",
              "        vertical-align: middle;\n",
              "    }\n",
              "\n",
              "    .dataframe tbody tr th {\n",
              "        vertical-align: top;\n",
              "    }\n",
              "\n",
              "    .dataframe thead th {\n",
              "        text-align: right;\n",
              "    }\n",
              "</style>\n",
              "<table border=\"1\" class=\"dataframe\">\n",
              "  <thead>\n",
              "    <tr style=\"text-align: right;\">\n",
              "      <th></th>\n",
              "      <th>imc</th>\n",
              "      <th>imc_disc</th>\n",
              "    </tr>\n",
              "    <tr>\n",
              "      <th>name</th>\n",
              "      <th></th>\n",
              "      <th></th>\n",
              "    </tr>\n",
              "  </thead>\n",
              "  <tbody>\n",
              "    <tr>\n",
              "      <th>Luke Skywalker</th>\n",
              "      <td>26.027582</td>\n",
              "      <td>Sobrepeso</td>\n",
              "    </tr>\n",
              "    <tr>\n",
              "      <th>C-3PO</th>\n",
              "      <td>26.892323</td>\n",
              "      <td>Sobrepeso</td>\n",
              "    </tr>\n",
              "    <tr>\n",
              "      <th>R2-D2</th>\n",
              "      <td>34.722222</td>\n",
              "      <td>Obeso</td>\n",
              "    </tr>\n",
              "    <tr>\n",
              "      <th>Darth Vader</th>\n",
              "      <td>33.330066</td>\n",
              "      <td>Obeso</td>\n",
              "    </tr>\n",
              "    <tr>\n",
              "      <th>Leia Organa</th>\n",
              "      <td>21.777778</td>\n",
              "      <td>Normal</td>\n",
              "    </tr>\n",
              "    <tr>\n",
              "      <th>Owen Lars</th>\n",
              "      <td>37.874006</td>\n",
              "      <td>Obeso</td>\n",
              "    </tr>\n",
              "    <tr>\n",
              "      <th>Beru Whitesun lars</th>\n",
              "      <td>27.548209</td>\n",
              "      <td>Sobrepeso</td>\n",
              "    </tr>\n",
              "    <tr>\n",
              "      <th>Biggs Darklighter</th>\n",
              "      <td>25.082863</td>\n",
              "      <td>Sobrepeso</td>\n",
              "    </tr>\n",
              "    <tr>\n",
              "      <th>Obi-Wan Kenobi</th>\n",
              "      <td>23.245985</td>\n",
              "      <td>Normal</td>\n",
              "    </tr>\n",
              "    <tr>\n",
              "      <th>Anakin Skywalker</th>\n",
              "      <td>23.766410</td>\n",
              "      <td>Normal</td>\n",
              "    </tr>\n",
              "  </tbody>\n",
              "</table>\n",
              "</div>"
            ],
            "text/plain": [
              "                          imc   imc_disc\n",
              "name                                    \n",
              "Luke Skywalker      26.027582  Sobrepeso\n",
              "C-3PO               26.892323  Sobrepeso\n",
              "R2-D2               34.722222      Obeso\n",
              "Darth Vader         33.330066      Obeso\n",
              "Leia Organa         21.777778     Normal\n",
              "Owen Lars           37.874006      Obeso\n",
              "Beru Whitesun lars  27.548209  Sobrepeso\n",
              "Biggs Darklighter   25.082863  Sobrepeso\n",
              "Obi-Wan Kenobi      23.245985     Normal\n",
              "Anakin Skywalker    23.766410     Normal"
            ]
          },
          "execution_count": 16,
          "metadata": {},
          "output_type": "execute_result"
        }
      ],
      "source": [
        "\n",
        "personajes_df = people_df.copy()\n",
        "personajes_df.rename(columns={\"height\": \"altura\", \"mass\": \"peso\", \"birth_year\": \"edad\", \"gender\": \"genero\", \"homeworld\": \"planeta\"}, inplace = True)\n",
        "personajes_df[\"imc\"] = personajes_df[\"peso\"]/((personajes_df[\"altura\"]/100)**2)\n",
        "\n",
        "personajes_df.head(10)\n",
        "\n",
        "bins = pd.IntervalIndex.from_tuples([(-np.inf, 18.5), (18.5, 25), (25, 30), (30, np.inf)])\n",
        "lbls = [\"Bajo peso\", \"Normal\", \"Sobrepeso\", \"Obeso\"]\n",
        "\n",
        "personajes_df[\"imc_disc\"] = pd.cut(personajes_df[\"imc\"], bins, right=False).cat.rename_categories(lbls)\n",
        "\n",
        "personajes_df[[\"imc\",\"imc_disc\"]].head(10)"
      ]
    },
    {
      "attachments": {},
      "cell_type": "markdown",
      "metadata": {
        "id": "edo1k7Y-gjqn"
      },
      "source": [
        "## Ejercicio 2.3.\n",
        "\n",
        "Muestra las frecuencias de la nueva variable definida en 2.2."
      ]
    },
    {
      "cell_type": "code",
      "execution_count": 312,
      "metadata": {
        "id": "6OxcRrVpgjqo"
      },
      "outputs": [
        {
          "data": {
            "text/plain": [
              "Bajo peso     4\n",
              "Normal       14\n",
              "Sobrepeso    11\n",
              "Obeso         7\n",
              "Name: imc_disc, dtype: int64"
            ]
          },
          "execution_count": 312,
          "metadata": {},
          "output_type": "execute_result"
        }
      ],
      "source": [
        "personajes_df[\"imc_disc\"].value_counts().sort_index()"
      ]
    },
    {
      "attachments": {},
      "cell_type": "markdown",
      "metadata": {
        "id": "1CKTldfbgjqv"
      },
      "source": [
        "## Ejercicio 2.4.\n",
        "\n",
        "Calcula ahora un trameado de la edad en 5 grupos equiprobables.\n",
        "\n",
        "Muestra los recuentos (frecuencias) de la nueva obtenida por pantalla.\n",
        "\n",
        "> Truco: Busca ayuda de la función [pd.qcut()](https://pandas.pydata.org/pandas-docs/stable/reference/api/pandas.qcut.html)"
      ]
    },
    {
      "cell_type": "code",
      "execution_count": 313,
      "metadata": {
        "id": "O_WpukQVgjqx"
      },
      "outputs": [
        {
          "data": {
            "text/plain": [
              "(7.999, 29.0]    8\n",
              "(29.0, 41.9]     8\n",
              "(41.9, 52.0]     6\n",
              "(52.0, 82.0]     7\n",
              "(82.0, 896.0]    7\n",
              "Name: edad_disc, dtype: int64"
            ]
          },
          "execution_count": 313,
          "metadata": {},
          "output_type": "execute_result"
        }
      ],
      "source": [
        "personajes_df[\"edad_disc\"] = pd.qcut(personajes_df[\"edad\"], 5)\n",
        "personajes_df[\"edad_disc\"].value_counts().sort_index()"
      ]
    },
    {
      "attachments": {},
      "cell_type": "markdown",
      "metadata": {
        "id": "ounCvVAGgjq6"
      },
      "source": [
        "## Ejercicio 2.5.\n",
        "\n",
        "Presenta la tabla cruzada de tramos de edad (ej. 2.4) por tramos de IMC (ej. 2.2). \n",
        "\n",
        "¿Qué tramo de edad tiene un mayor número de personajes con Bajo peso?"
      ]
    },
    {
      "cell_type": "code",
      "execution_count": 314,
      "metadata": {
        "id": "umepvEN9gjq8"
      },
      "outputs": [
        {
          "data": {
            "text/html": [
              "<div>\n",
              "<style scoped>\n",
              "    .dataframe tbody tr th:only-of-type {\n",
              "        vertical-align: middle;\n",
              "    }\n",
              "\n",
              "    .dataframe tbody tr th {\n",
              "        vertical-align: top;\n",
              "    }\n",
              "\n",
              "    .dataframe thead th {\n",
              "        text-align: right;\n",
              "    }\n",
              "</style>\n",
              "<table border=\"1\" class=\"dataframe\">\n",
              "  <thead>\n",
              "    <tr style=\"text-align: right;\">\n",
              "      <th>imc_disc</th>\n",
              "      <th>Bajo peso</th>\n",
              "      <th>Normal</th>\n",
              "      <th>Sobrepeso</th>\n",
              "      <th>Obeso</th>\n",
              "    </tr>\n",
              "    <tr>\n",
              "      <th>edad_disc</th>\n",
              "      <th></th>\n",
              "      <th></th>\n",
              "      <th></th>\n",
              "      <th></th>\n",
              "    </tr>\n",
              "  </thead>\n",
              "  <tbody>\n",
              "    <tr>\n",
              "      <th>(7.999, 29.0]</th>\n",
              "      <td>0</td>\n",
              "      <td>3</td>\n",
              "      <td>4</td>\n",
              "      <td>1</td>\n",
              "    </tr>\n",
              "    <tr>\n",
              "      <th>(29.0, 41.9]</th>\n",
              "      <td>1</td>\n",
              "      <td>2</td>\n",
              "      <td>3</td>\n",
              "      <td>2</td>\n",
              "    </tr>\n",
              "    <tr>\n",
              "      <th>(41.9, 52.0]</th>\n",
              "      <td>3</td>\n",
              "      <td>1</td>\n",
              "      <td>1</td>\n",
              "      <td>1</td>\n",
              "    </tr>\n",
              "    <tr>\n",
              "      <th>(52.0, 82.0]</th>\n",
              "      <td>0</td>\n",
              "      <td>4</td>\n",
              "      <td>2</td>\n",
              "      <td>1</td>\n",
              "    </tr>\n",
              "    <tr>\n",
              "      <th>(82.0, 896.0]</th>\n",
              "      <td>0</td>\n",
              "      <td>4</td>\n",
              "      <td>1</td>\n",
              "      <td>2</td>\n",
              "    </tr>\n",
              "  </tbody>\n",
              "</table>\n",
              "</div>"
            ],
            "text/plain": [
              "imc_disc       Bajo peso  Normal  Sobrepeso  Obeso\n",
              "edad_disc                                         \n",
              "(7.999, 29.0]          0       3          4      1\n",
              "(29.0, 41.9]           1       2          3      2\n",
              "(41.9, 52.0]           3       1          1      1\n",
              "(52.0, 82.0]           0       4          2      1\n",
              "(82.0, 896.0]          0       4          1      2"
            ]
          },
          "execution_count": 314,
          "metadata": {},
          "output_type": "execute_result"
        }
      ],
      "source": [
        "pd.crosstab(personajes_df[\"edad_disc\"], personajes_df[\"imc_disc\"])"
      ]
    },
    {
      "attachments": {},
      "cell_type": "markdown",
      "metadata": {},
      "source": [
        "### Respuesta\n",
        "Según los resultados obtenidos podemos determinar que el rango que va entre **41.9 y 52.0 años** es el que mayor conteo de personajes con `Bajo peso`, con un total de **3 individuos**."
      ]
    },
    {
      "attachments": {},
      "cell_type": "markdown",
      "metadata": {
        "id": "l2716nMZgjrE"
      },
      "source": [
        "## Ejercicio 2.6.\n",
        "\n",
        "Calcula una tabla resumen (data frame) donde se presente la media del IMC en cada tramo de edad calculado en ejercicio 2.4.\n",
        "\n",
        "Presenta por pantalla la nueva tabla resumen.\n"
      ]
    },
    {
      "cell_type": "code",
      "execution_count": 315,
      "metadata": {
        "id": "6fMs6ud7gjrG"
      },
      "outputs": [
        {
          "data": {
            "text/html": [
              "<div>\n",
              "<style scoped>\n",
              "    .dataframe tbody tr th:only-of-type {\n",
              "        vertical-align: middle;\n",
              "    }\n",
              "\n",
              "    .dataframe tbody tr th {\n",
              "        vertical-align: top;\n",
              "    }\n",
              "\n",
              "    .dataframe thead th {\n",
              "        text-align: right;\n",
              "    }\n",
              "</style>\n",
              "<table border=\"1\" class=\"dataframe\">\n",
              "  <thead>\n",
              "    <tr style=\"text-align: right;\">\n",
              "      <th></th>\n",
              "      <th>mean</th>\n",
              "    </tr>\n",
              "    <tr>\n",
              "      <th>edad_disc</th>\n",
              "      <th></th>\n",
              "    </tr>\n",
              "  </thead>\n",
              "  <tbody>\n",
              "    <tr>\n",
              "      <th>(7.999, 29.0]</th>\n",
              "      <td>25.960538</td>\n",
              "    </tr>\n",
              "    <tr>\n",
              "      <th>(29.0, 41.9]</th>\n",
              "      <td>26.242997</td>\n",
              "    </tr>\n",
              "    <tr>\n",
              "      <th>(41.9, 52.0]</th>\n",
              "      <td>22.972490</td>\n",
              "    </tr>\n",
              "    <tr>\n",
              "      <th>(52.0, 82.0]</th>\n",
              "      <td>24.774935</td>\n",
              "    </tr>\n",
              "    <tr>\n",
              "      <th>(82.0, 896.0]</th>\n",
              "      <td>85.311313</td>\n",
              "    </tr>\n",
              "  </tbody>\n",
              "</table>\n",
              "</div>"
            ],
            "text/plain": [
              "                    mean\n",
              "edad_disc               \n",
              "(7.999, 29.0]  25.960538\n",
              "(29.0, 41.9]   26.242997\n",
              "(41.9, 52.0]   22.972490\n",
              "(52.0, 82.0]   24.774935\n",
              "(82.0, 896.0]  85.311313"
            ]
          },
          "execution_count": 315,
          "metadata": {},
          "output_type": "execute_result"
        }
      ],
      "source": [
        "imc_medio_tramo = personajes_df.groupby(\"edad_disc\")[\"imc\"].agg([\"mean\"])\n",
        "imc_medio_tramo = imc_medio_tramo.dropna()\n",
        "imc_medio_tramo"
      ]
    },
    {
      "attachments": {},
      "cell_type": "markdown",
      "metadata": {
        "id": "pcJwb6B5gjrO"
      },
      "source": [
        "## Ejercicio 2.7.\n",
        "\n",
        "Presenta los datos del ej. 2.6. como un gráfico de líneas donde el eje x sea la edad y el eje y el IMC medio.\n",
        "\n",
        "> Truco: Como eje x del gráfico de líneas, puedes calcular en 2.6., en el mismo cálculo del IMC medio, la mediana de edad de cada tramo de edad."
      ]
    },
    {
      "cell_type": "code",
      "execution_count": 316,
      "metadata": {},
      "outputs": [
        {
          "data": {
            "text/plain": [
              "[<matplotlib.lines.Line2D at 0x167103d10>]"
            ]
          },
          "execution_count": 316,
          "metadata": {},
          "output_type": "execute_result"
        },
        {
          "data": {
            "image/png": "[encoded data removed]",
            "text/plain": [
              "<Figure size 1400x400 with 1 Axes>"
            ]
          },
          "metadata": {},
          "output_type": "display_data"
        }
      ],
      "source": [
        "imc_medio_tramo_idx = imc_medio_tramo.reset_index()\n",
        "plt.plot(imc_medio_tramo_idx[\"edad_disc\"].astype(str), imc_medio_tramo_idx[\"mean\"])"
      ]
    },
    {
      "attachments": {},
      "cell_type": "markdown",
      "metadata": {
        "id": "qmjm1lwigjrY"
      },
      "source": [
        "## Ejercicio 2.8.\n",
        "\n",
        "Calcula el ratio del IMC sobre la mediana del IMC de su tramo de edad (definidos en el ejercicio 2.2.) mediante la función groupby(...).apply(...).\n",
        "\n",
        "> truco: primero crea una función que devuelva:  `x / np.nanmedian(x)`.\n",
        "\n",
        "Presenta los datos mediante un boxplot de la nueva variable: [pd.boxplot()](https://pandas.pydata.org/pandas-docs/stable/reference/api/pandas.DataFrame.boxplot.html). "
      ]
    },
    {
      "cell_type": "code",
      "execution_count": 317,
      "metadata": {
        "id": "XH3ijt6Dgjra"
      },
      "outputs": [
        {
          "data": {
            "text/html": [
              "<div>\n",
              "<style scoped>\n",
              "    .dataframe tbody tr th:only-of-type {\n",
              "        vertical-align: middle;\n",
              "    }\n",
              "\n",
              "    .dataframe tbody tr th {\n",
              "        vertical-align: top;\n",
              "    }\n",
              "\n",
              "    .dataframe thead th {\n",
              "        text-align: right;\n",
              "    }\n",
              "</style>\n",
              "<table border=\"1\" class=\"dataframe\">\n",
              "  <thead>\n",
              "    <tr style=\"text-align: right;\">\n",
              "      <th></th>\n",
              "      <th>edad_disc</th>\n",
              "      <th>imc</th>\n",
              "      <th>imc_mediana_tramo</th>\n",
              "      <th>ratio_imc</th>\n",
              "    </tr>\n",
              "    <tr>\n",
              "      <th>name</th>\n",
              "      <th></th>\n",
              "      <th></th>\n",
              "      <th></th>\n",
              "      <th></th>\n",
              "    </tr>\n",
              "  </thead>\n",
              "  <tbody>\n",
              "    <tr>\n",
              "      <th>Luke Skywalker</th>\n",
              "      <td>(7.999, 29.0]</td>\n",
              "      <td>26.027582</td>\n",
              "      <td>25.454655</td>\n",
              "      <td>1.022508</td>\n",
              "    </tr>\n",
              "    <tr>\n",
              "      <th>C-3PO</th>\n",
              "      <td>(82.0, 896.0]</td>\n",
              "      <td>26.892323</td>\n",
              "      <td>23.893259</td>\n",
              "      <td>1.125519</td>\n",
              "    </tr>\n",
              "    <tr>\n",
              "      <th>R2-D2</th>\n",
              "      <td>(29.0, 41.9]</td>\n",
              "      <td>34.722222</td>\n",
              "      <td>25.416769</td>\n",
              "      <td>1.366115</td>\n",
              "    </tr>\n",
              "    <tr>\n",
              "      <th>Darth Vader</th>\n",
              "      <td>(29.0, 41.9]</td>\n",
              "      <td>33.330066</td>\n",
              "      <td>25.416769</td>\n",
              "      <td>1.311342</td>\n",
              "    </tr>\n",
              "    <tr>\n",
              "      <th>Leia Organa</th>\n",
              "      <td>(7.999, 29.0]</td>\n",
              "      <td>21.777778</td>\n",
              "      <td>25.454655</td>\n",
              "      <td>0.855552</td>\n",
              "    </tr>\n",
              "    <tr>\n",
              "      <th>Owen Lars</th>\n",
              "      <td>(41.9, 52.0]</td>\n",
              "      <td>37.874006</td>\n",
              "      <td>21.042051</td>\n",
              "      <td>1.799920</td>\n",
              "    </tr>\n",
              "    <tr>\n",
              "      <th>Beru Whitesun lars</th>\n",
              "      <td>(41.9, 52.0]</td>\n",
              "      <td>27.548209</td>\n",
              "      <td>21.042051</td>\n",
              "      <td>1.309198</td>\n",
              "    </tr>\n",
              "    <tr>\n",
              "      <th>Biggs Darklighter</th>\n",
              "      <td>(7.999, 29.0]</td>\n",
              "      <td>25.082863</td>\n",
              "      <td>25.454655</td>\n",
              "      <td>0.985394</td>\n",
              "    </tr>\n",
              "    <tr>\n",
              "      <th>Obi-Wan Kenobi</th>\n",
              "      <td>(52.0, 82.0]</td>\n",
              "      <td>23.245985</td>\n",
              "      <td>23.766410</td>\n",
              "      <td>0.978102</td>\n",
              "    </tr>\n",
              "    <tr>\n",
              "      <th>Anakin Skywalker</th>\n",
              "      <td>(29.0, 41.9]</td>\n",
              "      <td>23.766410</td>\n",
              "      <td>25.416769</td>\n",
              "      <td>0.935068</td>\n",
              "    </tr>\n",
              "  </tbody>\n",
              "</table>\n",
              "</div>"
            ],
            "text/plain": [
              "                        edad_disc        imc  imc_mediana_tramo  ratio_imc\n",
              "name                                                                      \n",
              "Luke Skywalker      (7.999, 29.0]  26.027582          25.454655   1.022508\n",
              "C-3PO               (82.0, 896.0]  26.892323          23.893259   1.125519\n",
              "R2-D2                (29.0, 41.9]  34.722222          25.416769   1.366115\n",
              "Darth Vader          (29.0, 41.9]  33.330066          25.416769   1.311342\n",
              "Leia Organa         (7.999, 29.0]  21.777778          25.454655   0.855552\n",
              "Owen Lars            (41.9, 52.0]  37.874006          21.042051   1.799920\n",
              "Beru Whitesun lars   (41.9, 52.0]  27.548209          21.042051   1.309198\n",
              "Biggs Darklighter   (7.999, 29.0]  25.082863          25.454655   0.985394\n",
              "Obi-Wan Kenobi       (52.0, 82.0]  23.245985          23.766410   0.978102\n",
              "Anakin Skywalker     (29.0, 41.9]  23.766410          25.416769   0.935068"
            ]
          },
          "execution_count": 317,
          "metadata": {},
          "output_type": "execute_result"
        }
      ],
      "source": [
        "def calcular_ratio(x):\n",
        "    x[\"imc_mediana_tramo\"] = np.nanmedian(x['imc'])\n",
        "    x[\"ratio_imc\"] = x[\"imc\"]/  np.nanmedian(x['imc'])\n",
        "    return x\n",
        "\n",
        "ratio_df = personajes_df.groupby([\"edad_disc\"], group_keys=False).apply(calcular_ratio)\n",
        "\n",
        "ratio_df[[\"edad_disc\", \"imc\", \"imc_mediana_tramo\", \"ratio_imc\"]].head(10)\n"
      ]
    },
    {
      "cell_type": "code",
      "execution_count": 318,
      "metadata": {},
      "outputs": [
        {
          "data": {
            "text/plain": [
              "Text(0.5, 1.0, '')"
            ]
          },
          "execution_count": 318,
          "metadata": {},
          "output_type": "execute_result"
        },
        {
          "data": {
            "image/png": "[encoded data removed]",
            "text/plain": [
              "<Figure size 1400x400 with 1 Axes>"
            ]
          },
          "metadata": {},
          "output_type": "display_data"
        }
      ],
      "source": [
        "# sns.set(rc={'figure.figsize':(14,4)})\n",
        "# sns.boxplot(x='edad_disc', y='ratio_imc', data=ratio_df)\n",
        "\n",
        "bp = ratio_df.boxplot(column='ratio_imc', by=\"edad_disc\")\n",
        "bp.set_xlabel(\"Rango etario\")\n",
        "bp.set_ylabel('Ratio IMC')\n",
        "\n",
        "bp.set_title(\"\")"
      ]
    },
    {
      "attachments": {},
      "cell_type": "markdown",
      "metadata": {},
      "source": [
        "### Consideración personal\n",
        "Se puede ver un valor extremo (outlier) en el rango etario **(82, 896]**, el cual afecta la visualización y apreciación de nuestros datos. Intentaré mejorar esta condición, sanitizando nuestro dataset, al quedarnos con el quantil 0.99, mejorando el detalle sobre nuestra muestra."
      ]
    },
    {
      "cell_type": "code",
      "execution_count": 319,
      "metadata": {},
      "outputs": [
        {
          "data": {
            "text/plain": [
              "Text(0.5, 1.0, '')"
            ]
          },
          "execution_count": 319,
          "metadata": {},
          "output_type": "execute_result"
        },
        {
          "data": {
            "image/png": "[encoded data removed]",
            "text/plain": [
              "<Figure size 1400x400 with 1 Axes>"
            ]
          },
          "metadata": {},
          "output_type": "display_data"
        }
      ],
      "source": [
        "q = ratio_df[\"ratio_imc\"].quantile(0.99)\n",
        "ratio_df_clean = ratio_df[ratio_df[\"ratio_imc\"] < q]\n",
        "\n",
        "bp = ratio_df_clean.boxplot(column='ratio_imc', by=\"edad_disc\")\n",
        "bp.set_xlabel(\"Rango etario\")\n",
        "bp.set_ylabel('Ratio IMC')\n",
        "\n",
        "bp.set_title(\"\")"
      ]
    },
    {
      "attachments": {},
      "cell_type": "markdown",
      "metadata": {
        "id": "mkK-wUxCgjrg"
      },
      "source": [
        "## Ejercicio 2.9.\n",
        "\n",
        "¿Cual es el nombre de planeta con un menor índice IMC medio de sus personajes?\n",
        "¿Que personaje/s son de ese planeta?"
      ]
    },
    {
      "cell_type": "code",
      "execution_count": 320,
      "metadata": {
        "id": "WsgelSYigjrh"
      },
      "outputs": [
        {
          "data": {
            "text/html": [
              "<div>\n",
              "<style scoped>\n",
              "    .dataframe tbody tr th:only-of-type {\n",
              "        vertical-align: middle;\n",
              "    }\n",
              "\n",
              "    .dataframe tbody tr th {\n",
              "        vertical-align: top;\n",
              "    }\n",
              "\n",
              "    .dataframe thead th {\n",
              "        text-align: right;\n",
              "    }\n",
              "</style>\n",
              "<table border=\"1\" class=\"dataframe\">\n",
              "  <thead>\n",
              "    <tr style=\"text-align: right;\">\n",
              "      <th></th>\n",
              "      <th>name</th>\n",
              "      <th>mean</th>\n",
              "    </tr>\n",
              "  </thead>\n",
              "  <tbody>\n",
              "    <tr>\n",
              "      <th>0</th>\n",
              "      <td>Ryloth</td>\n",
              "      <td>17.358919</td>\n",
              "    </tr>\n",
              "  </tbody>\n",
              "</table>\n",
              "</div>"
            ],
            "text/plain": [
              "     name       mean\n",
              "0  Ryloth  17.358919"
            ]
          },
          "execution_count": 320,
          "metadata": {},
          "output_type": "execute_result"
        }
      ],
      "source": [
        "# Obtenemos la media de los planetas y nos quedamos con el menor\n",
        "planeta_imc_menor = personajes_df.groupby(\"planeta\")[\"imc\"].agg([\"mean\"]).sort_values(by=\"mean\").head(1)\n",
        "planeta_imc_menor = planeta_imc_menor.reset_index()\n",
        "\n",
        "# Obtenemos los datos del planeta\n",
        "# Hacemos una copia del dataframe para poder resetear indices en cada 'Run' de la celda\n",
        "planets_aux_df = planets_df.reset_index()\n",
        "\n",
        "inner = pd.merge(planets_aux_df, planeta_imc_menor, left_on=[\"url\"], right_on=[\"planeta\"])\n",
        "\n",
        "inner[[\"name\", \"mean\"]]\n"
      ]
    },
    {
      "cell_type": "code",
      "execution_count": 321,
      "metadata": {},
      "outputs": [
        {
          "data": {
            "text/html": [
              "<div>\n",
              "<style scoped>\n",
              "    .dataframe tbody tr th:only-of-type {\n",
              "        vertical-align: middle;\n",
              "    }\n",
              "\n",
              "    .dataframe tbody tr th {\n",
              "        vertical-align: top;\n",
              "    }\n",
              "\n",
              "    .dataframe thead th {\n",
              "        text-align: right;\n",
              "    }\n",
              "</style>\n",
              "<table border=\"1\" class=\"dataframe\">\n",
              "  <thead>\n",
              "    <tr style=\"text-align: right;\">\n",
              "      <th></th>\n",
              "      <th>name_y</th>\n",
              "      <th>imc</th>\n",
              "    </tr>\n",
              "  </thead>\n",
              "  <tbody>\n",
              "    <tr>\n",
              "      <th>0</th>\n",
              "      <td>Ayla Secura</td>\n",
              "      <td>17.358919</td>\n",
              "    </tr>\n",
              "  </tbody>\n",
              "</table>\n",
              "</div>"
            ],
            "text/plain": [
              "        name_y        imc\n",
              "0  Ayla Secura  17.358919"
            ]
          },
          "execution_count": 321,
          "metadata": {},
          "output_type": "execute_result"
        }
      ],
      "source": [
        "# Obtenemos los personajes del planeta\n",
        "# Hacemos una copia del dataframe para poder resetear indices en cada 'Run' de la celda\n",
        "personajes_aux_df = personajes_df.reset_index()\n",
        "\n",
        "personajes_planeta = pd.merge(inner, personajes_aux_df, left_on=[\"url\"], right_on=[\"planeta\"])\n",
        "\n",
        "personajes_planeta[[\"name_y\", \"imc\"]].head()"
      ]
    },
    {
      "attachments": {},
      "cell_type": "markdown",
      "metadata": {},
      "source": [
        "### Respuesta\n",
        "El planeta con menor indice IMC medio es **Ryloth** con una media de **17.358919**. El planeta tiene un único personaje asociado y es **Ayla Secura**, cuyo IMC es justamente identico a la media de su planeta."
      ]
    },
    {
      "attachments": {},
      "cell_type": "markdown",
      "metadata": {
        "id": "7tWxDDGmgjrn"
      },
      "source": [
        "## Ejercicio 2.10.\n",
        "\n",
        "Convierte a datetime los siguientes strings con la función [datetime.strptime()](https://docs.python.org/3/library/datetime.html#strftime-strptime-behavior) (consulta la ayuda si es necesario) de la libreria datetime:\n",
        "\n",
        "- \"1 january, 2020\"\n",
        "- \"15-feb.-2017\"\n",
        "- \"20190701 22:30\"  # 1 de julio de 2019\n",
        "\n"
      ]
    },
    {
      "cell_type": "code",
      "execution_count": 322,
      "metadata": {
        "id": "ajD2V-K3gjrp"
      },
      "outputs": [
        {
          "name": "stdout",
          "output_type": "stream",
          "text": [
            "2020-01-01 00:00:00\n",
            "2017-02-15 00:00:00\n",
            "2019-07-01 22:30:00\n"
          ]
        }
      ],
      "source": [
        "from datetime import datetime\n",
        "\n",
        "fecha1 = datetime.strptime(\"1 january, 2020\", '%d %B, %Y')\n",
        "print(fecha1)\n",
        "\n",
        "fecha2 = datetime.strptime(\"15-feb.-2017\", '%d-%b.-%Y')\n",
        "print(fecha2)\n",
        "\n",
        "fecha3 = datetime.strptime(\"20190701 22:30\", '%Y%m%d %H:%M')\n",
        "print(fecha3)"
      ]
    }
  ],
  "metadata": {
    "colab": {
      "provenance": []
    },
    "kernelspec": {
      "display_name": "jupyter_kernel",
      "language": "python",
      "name": "jupyter_kernel"
    },
    "language_info": {
      "codemirror_mode": {
        "name": "ipython",
        "version": 3
      },
      "file_extension": ".py",
      "mimetype": "text/x-python",
      "name": "python",
      "nbconvert_exporter": "python",
      "pygments_lexer": "ipython3",
      "version": "3.12.1"
    }
  },
  "nbformat": 4,
  "nbformat_minor": 0
}
