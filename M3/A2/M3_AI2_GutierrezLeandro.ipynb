{
  "cells": [
    {
      "attachments": {},
      "cell_type": "markdown",
      "metadata": {
        "id": "jwDQ0WjtgTKo"
      },
      "source": [
        "# M3_AI2: Web Scrapping de películas\n",
        "#### Autor: Leandro Gutierrez\n",
        "#### Este documento intenta dar respuesta a la actividad individual 2 propuesta en el Modulo **Gestión de Datos y Datos Digitales** del **Master en Big Data y Ciencia de Datos**. En él se describirán cada uno de los enunciados postulados y los resultados obtenidos a través del uso de Python y Jupyter Notebook.\n",
        "#### Julio 13, 2024"
      ]
    },
    {
      "attachments": {},
      "cell_type": "markdown",
      "metadata": {
        "id": "3hg9LaNGgTKp"
      },
      "source": [
        "## Enunciado\n",
        "El objetivo de esta actividad es obtener información sobre las películas a partir de la base de datos de IMDB. En concreto se pide mostrar los siguientes datos de las primeras 50 películas de del género Comedia en español:\n",
        "\n",
        "- Nombre: Nombre de la película\n",
        "- Rating: Puntuación media de la película en IMDB (si la tiene)\n",
        "-Votos: Número de votos\n",
        "\n",
        "A partir de la siguiente URL donde se lista las comedias (comedy) en español (spanish): https://www.imdb.com/search/title/?genres=comedy&languages=es contesta las siguientes preguntas:\n",
        "\n",
        "1. Mediante el inspector de código del navegador, obtén y anota el selector CSS de los siguientes datos de la primera película:\n",
        "   1. Nombre (tipo: texto)\n",
        "   2. Puntuación del Rating (estrellas) de IMDB (tipo: numérico)\n",
        "   3. Número de votos (votes) (tipo: numérico)\n",
        "2. Identifica la parte común a los 3 selectores CSS del apartado 1 y la parte específica (última parte no común del selector CSS).\n",
        "3. Construye la estructura de árbol de nodos sobre la página de búsqueda proporcionada al inicio del ejercicio (utiliza la siguiente cabecera):\n",
        "        from urllib.request import Request, urlopen\n",
        "\n",
        "        from lxml import html\n",
        "\n",
        "        HEADERS={'User-Agent' : 'Magic Browser', 'Accept-Language': 'es-ES'}\n",
        "\n",
        "        req =Request(url, headers=HEADERS)\n",
        "\n",
        "        source = urlopen(req)\n",
        "\n",
        "        tree = html.document_fromstring(str(source.read(), 'utf-8'))\n",
        "        \n",
        "4. Busca el selector CSS selectorCSS de la clase (class) de lista de películas y crea una lista de los resultados de las películas, a partir de este selector CSS:  \n",
        "\n",
        "        resultado = tree.cssselect(selectorCSS)\n",
        "\n",
        "        \n",
        "- ¿Cuántos elementos tiene tu lista? :  len(resultado)\n",
        "5. Construye un bucle que recorra la lista: resultado y que en cada elemento: resultado_i de la lista, realice 3 búsquedas: busquea_1, búsqueda_2 y búsqueda_3, una para cada selector CSS, utilizando sólo la parte específica del selector del apartado 2.\n",
        "6. Para cada búsqueda realizada: resultado_1, resultado_2 y resultado_3, revisa si la nueva lista obtenida tiene longitud mayor que cero y en caso positivo, selecciona el primer elemento de la lista y haz un print de su contenido de texto: busquea_1[0].text_content()\n",
        "7. Guarda los resultados obtenidos de forma iterativa en un data frame que tenga como resultado 25 filas y las 3 columnas con los datos solicitados en el apartado 1."
      ]
    },
    {
      "attachments": {},
      "cell_type": "markdown",
      "metadata": {
        "id": "VG8Uip1CgTKp"
      },
      "source": [
        "## Solución"
      ]
    },
    {
      "cell_type": "code",
      "execution_count": 76,
      "metadata": {},
      "outputs": [],
      "source": [
        "# instalamos dependencias para entorno Colab\n",
        "if 'google.colab' in str(get_ipython()):\n",
        "    !pip install cssselect"
      ]
    },
    {
      "attachments": {},
      "cell_type": "markdown",
      "metadata": {
        "id": "2P2arzmZNB47"
      },
      "source": [
        "### Obtención de los datos con **requests**"
      ]
    },
    {
      "attachments": {},
      "cell_type": "markdown",
      "metadata": {},
      "source": [
        "Para poder obtener el listado de Películas primero creamos la URL donde buscaremos los datos, además es necesario mencionar que el servidor como medida restrictiva solo contesta solicitudes gestionadas desde un navegador web, por lo que debemos agregar a nuestro request los headers necesarios para saltar esta restricción."
      ]
    },
    {
      "cell_type": "code",
      "execution_count": 77,
      "metadata": {
        "colab": {
          "base_uri": "https://localhost:8080/"
        },
        "id": "AtXLxGq9gTKp",
        "outputId": "0ba4a9ae-7904-41c6-b68d-40a3b53e7a0e"
      },
      "outputs": [],
      "source": [
        "from lxml import html\n",
        "import requests\n",
        "import pandas as pd\n",
        "import re\n",
        "\n",
        "url = 'https://www.imdb.com/search/title/?genres=comedy&languages=es'\n",
        "headers = {'content-type': 'application/json', \n",
        "           'User-Agent': 'Mozilla/5.0 (Macintosh; Intel Mac OS X 10_15_7) AppleWebKit/537.36 (KHTML, like Gecko) Chrome/126.0.0.0 Safari/537.36'}\n",
        "\n",
        "source = requests.get(url, headers=headers)\n",
        "\n",
        "tree = html.document_fromstring(source.content)"
      ]
    },
    {
      "attachments": {},
      "cell_type": "markdown",
      "metadata": {},
      "source": [
        "Utilizando el inspector de código de nuestro navegador encontramos el selector `.ipc-metadata-list-summary-item` para recorrer cada uno de los elementos `<li>` de nuestra lista `<ul>`. Una vez identificado nuestro elemento fila, procedemos a encontrar los selectores que nos ayudaran a definir nuestros campos: **titulo**, **puntaje** y **votos**.\n",
        "\n",
        "- Selector de **titulo**: `.ipc-metadata-list-summary-item .ipc-title__text`\n",
        "- Selector de **puntaje**: `.ipc-metadata-list-summary-item .ipc-rating-star--imdb`\n",
        "- Selector de **votos**: `.ipc-metadata-list-summary-item .ipc-rating-star--voteCount`\n",
        "\n",
        "Siendo común a los tres selectores la sección correspondiente a la clase `ipc-metadata-list-summary-item` la cual adquiere cada elemento `<li>` de nuestra lista `<ul>`. Por lo tanto para seleccionar todos los elementos de nuestra lista hacemos:"
      ]
    },
    {
      "cell_type": "code",
      "execution_count": 78,
      "metadata": {},
      "outputs": [
        {
          "name": "stdout",
          "output_type": "stream",
          "text": [
            "Longitud de la lista: 25 elementos\n"
          ]
        }
      ],
      "source": [
        "peliculas_li = tree.cssselect('.ipc-metadata-list-summary-item')\n",
        "\n",
        "print(f'Longitud de la lista: {len(peliculas_li)} elementos')\n"
      ]
    },
    {
      "attachments": {},
      "cell_type": "markdown",
      "metadata": {},
      "source": [
        "A continución dejo un bloque de código que quedó obsoleto, producto de una primera intención de resolución, la cual se determinó erronea por no poder asegurar coincidencia entre los elementos aislados de las 3 listas resultantes, es decir no podriamos asegurar a qué película le correspondería cada puntaje o cada cantidad de votos. "
      ]
    },
    {
      "cell_type": "code",
      "execution_count": 79,
      "metadata": {},
      "outputs": [],
      "source": [
        "# titulo_css = tree.cssselect(\".ipc-metadata-list-summary-item .ipc-title__text\")\n",
        "# ranking_css = tree.cssselect(\".ipc-metadata-list-summary-item .ipc-rating-star--imdb\")\n",
        "# votos_css = tree.cssselect(\".ipc-metadata-list-summary-item .ipc-rating-star--voteCount\")\n",
        "\n",
        "# titulo = list(map(lambda x:x.text_content(),titulo_css))\n",
        "# ranking = list(map(lambda x:x.text_content(),ranking_css))\n",
        "# votos = list(map(lambda x:x.text_content(),votos_css))"
      ]
    },
    {
      "attachments": {},
      "cell_type": "markdown",
      "metadata": {},
      "source": [
        "La resolucíon adecuada del ejercicio se realiza con un `iterator` y un `bucle` para recorrerlo (en este caso utilizaremos la función `map`) y así poder asegurar correspondencia entre cada elemento de nuestra lista.\n",
        "\n",
        "Además es necesario definir las expresiones regulares que nos permitirán parsear correctamente los textos adquiridos desde la fuente."
      ]
    },
    {
      "cell_type": "code",
      "execution_count": 80,
      "metadata": {},
      "outputs": [
        {
          "name": "stdout",
          "output_type": "stream",
          "text": [
            "<class 'pandas.core.frame.DataFrame'>\n",
            "RangeIndex: 25 entries, 0 to 24\n",
            "Data columns (total 3 columns):\n",
            " #   Column   Non-Null Count  Dtype  \n",
            "---  ------   --------------  -----  \n",
            " 0   titulo   25 non-null     object \n",
            " 1   puntaje  25 non-null     float64\n",
            " 2   votos    25 non-null     float64\n",
            "dtypes: float64(2), object(1)\n",
            "memory usage: 732.0+ bytes\n"
          ]
        },
        {
          "data": {
            "text/html": [
              "<div>\n",
              "<style scoped>\n",
              "    .dataframe tbody tr th:only-of-type {\n",
              "        vertical-align: middle;\n",
              "    }\n",
              "\n",
              "    .dataframe tbody tr th {\n",
              "        vertical-align: top;\n",
              "    }\n",
              "\n",
              "    .dataframe thead th {\n",
              "        text-align: right;\n",
              "    }\n",
              "</style>\n",
              "<table border=\"1\" class=\"dataframe\">\n",
              "  <thead>\n",
              "    <tr style=\"text-align: right;\">\n",
              "      <th></th>\n",
              "      <th>titulo</th>\n",
              "      <th>puntaje</th>\n",
              "      <th>votos</th>\n",
              "    </tr>\n",
              "  </thead>\n",
              "  <tbody>\n",
              "    <tr>\n",
              "      <th>0</th>\n",
              "      <td>Superdetective en Hollywood: Axel F.</td>\n",
              "      <td>6.5</td>\n",
              "      <td>43000.0</td>\n",
              "    </tr>\n",
              "    <tr>\n",
              "      <th>1</th>\n",
              "      <td>The Bear</td>\n",
              "      <td>8.6</td>\n",
              "      <td>228000.0</td>\n",
              "    </tr>\n",
              "    <tr>\n",
              "      <th>2</th>\n",
              "      <td>The Office</td>\n",
              "      <td>9.0</td>\n",
              "      <td>725000.0</td>\n",
              "    </tr>\n",
              "    <tr>\n",
              "      <th>3</th>\n",
              "      <td>Modern Family</td>\n",
              "      <td>8.5</td>\n",
              "      <td>491000.0</td>\n",
              "    </tr>\n",
              "    <tr>\n",
              "      <th>4</th>\n",
              "      <td>Cobra Kai</td>\n",
              "      <td>8.5</td>\n",
              "      <td>206000.0</td>\n",
              "    </tr>\n",
              "    <tr>\n",
              "      <th>5</th>\n",
              "      <td>Friends</td>\n",
              "      <td>8.9</td>\n",
              "      <td>1100000.0</td>\n",
              "    </tr>\n",
              "    <tr>\n",
              "      <th>6</th>\n",
              "      <td>Babylon</td>\n",
              "      <td>7.1</td>\n",
              "      <td>172000.0</td>\n",
              "    </tr>\n",
              "    <tr>\n",
              "      <th>7</th>\n",
              "      <td>Érase una vez en... Hollywood</td>\n",
              "      <td>7.6</td>\n",
              "      <td>860000.0</td>\n",
              "    </tr>\n",
              "    <tr>\n",
              "      <th>8</th>\n",
              "      <td>Seinfeld</td>\n",
              "      <td>8.9</td>\n",
              "      <td>355000.0</td>\n",
              "    </tr>\n",
              "    <tr>\n",
              "      <th>9</th>\n",
              "      <td>Crimen en el paraíso</td>\n",
              "      <td>7.8</td>\n",
              "      <td>29000.0</td>\n",
              "    </tr>\n",
              "    <tr>\n",
              "      <th>10</th>\n",
              "      <td>La tierra de las mujeres</td>\n",
              "      <td>5.9</td>\n",
              "      <td>895.0</td>\n",
              "    </tr>\n",
              "    <tr>\n",
              "      <th>11</th>\n",
              "      <td>Barbie</td>\n",
              "      <td>6.8</td>\n",
              "      <td>555000.0</td>\n",
              "    </tr>\n",
              "    <tr>\n",
              "      <th>12</th>\n",
              "      <td>Deadpool 2</td>\n",
              "      <td>7.6</td>\n",
              "      <td>655000.0</td>\n",
              "    </tr>\n",
              "    <tr>\n",
              "      <th>13</th>\n",
              "      <td>Bullet Train</td>\n",
              "      <td>7.3</td>\n",
              "      <td>449000.0</td>\n",
              "    </tr>\n",
              "    <tr>\n",
              "      <th>14</th>\n",
              "      <td>El insoportable peso de un talento descomunal</td>\n",
              "      <td>7.0</td>\n",
              "      <td>156000.0</td>\n",
              "    </tr>\n",
              "    <tr>\n",
              "      <th>15</th>\n",
              "      <td>Malcolm</td>\n",
              "      <td>8.2</td>\n",
              "      <td>144000.0</td>\n",
              "    </tr>\n",
              "    <tr>\n",
              "      <th>16</th>\n",
              "      <td>Trolls 3: Todos juntos</td>\n",
              "      <td>6.0</td>\n",
              "      <td>15000.0</td>\n",
              "    </tr>\n",
              "    <tr>\n",
              "      <th>17</th>\n",
              "      <td>Los minions</td>\n",
              "      <td>6.4</td>\n",
              "      <td>263000.0</td>\n",
              "    </tr>\n",
              "    <tr>\n",
              "      <th>18</th>\n",
              "      <td>El menú</td>\n",
              "      <td>7.2</td>\n",
              "      <td>403000.0</td>\n",
              "    </tr>\n",
              "    <tr>\n",
              "      <th>19</th>\n",
              "      <td>Scrubs</td>\n",
              "      <td>8.4</td>\n",
              "      <td>272000.0</td>\n",
              "    </tr>\n",
              "    <tr>\n",
              "      <th>20</th>\n",
              "      <td>Somos los Miller</td>\n",
              "      <td>7.0</td>\n",
              "      <td>490000.0</td>\n",
              "    </tr>\n",
              "    <tr>\n",
              "      <th>21</th>\n",
              "      <td>Los Goonies</td>\n",
              "      <td>7.7</td>\n",
              "      <td>301000.0</td>\n",
              "    </tr>\n",
              "    <tr>\n",
              "      <th>22</th>\n",
              "      <td>Baywatch: Los vigilantes de la playa</td>\n",
              "      <td>5.5</td>\n",
              "      <td>204000.0</td>\n",
              "    </tr>\n",
              "    <tr>\n",
              "      <th>23</th>\n",
              "      <td>Royal Pains</td>\n",
              "      <td>7.2</td>\n",
              "      <td>24000.0</td>\n",
              "    </tr>\n",
              "    <tr>\n",
              "      <th>24</th>\n",
              "      <td>Niños grandes 2</td>\n",
              "      <td>5.4</td>\n",
              "      <td>171000.0</td>\n",
              "    </tr>\n",
              "  </tbody>\n",
              "</table>\n",
              "</div>"
            ],
            "text/plain": [
              "                                           titulo  puntaje      votos\n",
              "0            Superdetective en Hollywood: Axel F.      6.5    43000.0\n",
              "1                                        The Bear      8.6   228000.0\n",
              "2                                      The Office      9.0   725000.0\n",
              "3                                   Modern Family      8.5   491000.0\n",
              "4                                       Cobra Kai      8.5   206000.0\n",
              "5                                         Friends      8.9  1100000.0\n",
              "6                                         Babylon      7.1   172000.0\n",
              "7                   Érase una vez en... Hollywood      7.6   860000.0\n",
              "8                                        Seinfeld      8.9   355000.0\n",
              "9                            Crimen en el paraíso      7.8    29000.0\n",
              "10                       La tierra de las mujeres      5.9      895.0\n",
              "11                                         Barbie      6.8   555000.0\n",
              "12                                     Deadpool 2      7.6   655000.0\n",
              "13                                   Bullet Train      7.3   449000.0\n",
              "14  El insoportable peso de un talento descomunal      7.0   156000.0\n",
              "15                                        Malcolm      8.2   144000.0\n",
              "16                         Trolls 3: Todos juntos      6.0    15000.0\n",
              "17                                    Los minions      6.4   263000.0\n",
              "18                                        El menú      7.2   403000.0\n",
              "19                                         Scrubs      8.4   272000.0\n",
              "20                               Somos los Miller      7.0   490000.0\n",
              "21                                    Los Goonies      7.7   301000.0\n",
              "22           Baywatch: Los vigilantes de la playa      5.5   204000.0\n",
              "23                                    Royal Pains      7.2    24000.0\n",
              "24                                Niños grandes 2      5.4   171000.0"
            ]
          },
          "execution_count": 80,
          "metadata": {},
          "output_type": "execute_result"
        }
      ],
      "source": [
        "selector_titulo = '.ipc-title__text'\n",
        "selector_puntaje = '.ipc-rating-star--imdb'\n",
        "selector_votos = '.ipc-rating-star--voteCount'\n",
        "\n",
        "patron_titulo = re.compile('[(\\\\d*).]\\\\s(.*)')\n",
        "patron_puntaje = re.compile('(\\\\d+.\\\\d+|\\\\d+)\\\\s[(.*)]')\n",
        "patron_votos = re.compile('(\\\\d+.\\\\d+|\\\\d+)([MK]?)')\n",
        "\n",
        "def parsear(patron, base):\n",
        "    if  len(re.findall(patron, base)) > 0:\n",
        "        return re.findall(patron, base)[0]\n",
        "    else:\n",
        "        return None\n",
        "\n",
        "def crear_obj(x):\n",
        "    titulo = None\n",
        "    if len(x.cssselect(selector_titulo)) > 0:\n",
        "        titulo = str(parsear(patron_titulo, x.cssselect(selector_titulo)[0].text_content()))\n",
        "\n",
        "    puntaje = None\n",
        "    if len(x.cssselect(selector_puntaje)) > 0:\n",
        "        puntaje_str = parsear(patron_puntaje, x.cssselect(selector_puntaje)[0].text_content())\n",
        "        if puntaje_str != None:\n",
        "            puntaje = float(puntaje_str)\n",
        "\n",
        "    votos = None\n",
        "    if len(x.cssselect(selector_votos)) > 0:\n",
        "        # asumiremos que todos los votos estan expresados en miles de votos (K) o millones de votos (M)\n",
        "        aux = parsear(patron_votos, x.cssselect(selector_votos)[0].text_content())\n",
        "        \n",
        "        if aux != None:\n",
        "            base = aux[0]\n",
        "\n",
        "            multiplicador = aux[1]\n",
        "\n",
        "            if multiplicador == 'K':\n",
        "                votos = float(base) * 1000\n",
        "            elif multiplicador == 'M':\n",
        "                votos = float(base) * 1000000\n",
        "            else:\n",
        "                votos = float(base)\n",
        "\n",
        "    return {\"titulo\": titulo, \"puntaje\": puntaje, \"votos\": votos}\n",
        "    \n",
        "peliculas = map(crear_obj, peliculas_li)\n",
        "\n",
        "ranking = pd.DataFrame(peliculas)\n",
        "\n",
        "ranking.info()\n",
        "\n",
        "ranking"
      ]
    },
    {
      "cell_type": "code",
      "execution_count": 81,
      "metadata": {},
      "outputs": [
        {
          "name": "stdout",
          "output_type": "stream",
          "text": [
            "titulo     0\n",
            "puntaje    0\n",
            "votos      0\n",
            "dtype: int64\n",
            "titulo     0\n",
            "puntaje    0\n",
            "votos      0\n",
            "dtype: int64\n"
          ]
        }
      ],
      "source": [
        "print(ranking.isna().sum())\n",
        "print(ranking.isnull().sum())"
      ]
    },
    {
      "attachments": {},
      "cell_type": "markdown",
      "metadata": {},
      "source": [
        "Podemos observar que contamos con el listado de las primeras 25 peliculas o séries bajo los filtros \"Comedia\" (comedy) y \"Español\" (es). Así mismo, podemos notar que nuestro dataframe tiene 3 columnas **titulo, puntaje y votos**, las cuales son de tipo object, float64 y float64 respectivamente. Recordemos que el tipo de dato genérico para pandas es `object` el cual puede representar cualquier tipo valor, generamente siendo estos `strings`. Este mapeo surje a pesar de forzar el tipo de nuestra variable auxiliar `titulo` a string mediante el metodo `str()`. Podríamos intentar un cambio de tipo de columna una vez creado nuestro dataframe, se interpreta que esa función además de trivial no aporta valor al ejercicio.\n",
        "\n",
        "También es necesario mencionar que la cantidad de votos se obtienen de multiplicar **la base** con su **multiplicador**, ambos obtenidos mediante la seleccion css de nuestro arbol y el parseo con la expresión regular definida para el campo votos. Consideramos que solo existen los multiplicadores `K` para referirse a Miles de votos y `M` para referirse a Millones de votos; y en su defecto el multiplicador será la unidad."
      ]
    }
  ],
  "metadata": {
    "colab": {
      "provenance": []
    },
    "kernelspec": {
      "display_name": "M3",
      "language": "python",
      "name": "m3"
    },
    "language_info": {
      "codemirror_mode": {
        "name": "ipython",
        "version": 3
      },
      "file_extension": ".py",
      "mimetype": "text/x-python",
      "name": "python",
      "nbconvert_exporter": "python",
      "pygments_lexer": "ipython3",
      "version": "3.12.1"
    }
  },
  "nbformat": 4,
  "nbformat_minor": 0
}
