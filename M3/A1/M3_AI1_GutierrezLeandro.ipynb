{
  "cells": [
    {
      "attachments": {},
      "cell_type": "markdown",
      "metadata": {
        "id": "jwDQ0WjtgTKo"
      },
      "source": [
        "# M3_AI1: Consulta de la Eurostat\n",
        "#### Autor: Leandro Gutierrez\n",
        "#### Este documento intenta dar respuesta a la actividad individual 1 propuesta en el Modulo **Gestión de Datos y Datos Digitales** del **Master en Big Data y Ciencia de Datos**. En él se describirán cada uno de los enunciados postulados y los resultados obtenidos a través del uso de Python y Jupyter Notebook.\n",
        "#### Julio 5, 2024"
      ]
    },
    {
      "attachments": {},
      "cell_type": "markdown",
      "metadata": {
        "id": "3hg9LaNGgTKp"
      },
      "source": [
        "## Enunciado\n",
        "A partir del generador de consultas de Eurostat construye una consulta a la API de Eurostat para obtener datos del nivel de satisfacción (código del dataset: ilc_pw01b) en Europa.\n",
        "\n",
        "El colectivo objetivo del estudio es:\n",
        "1. Nivel de educación (isced11): Tertiary education ED5-8\n",
        "2. Indicador (life_sat):   JOB\n",
        "3. Género (sex): T – Total\n",
        "4. Edad (age): Y25-34 – From 25 to 34 years\n",
        "\n",
        "Los datos que se piden son:\n",
        "1. Crea una variable string con la url de la llamada al api de Eurostat para obtener los datos del colectivo objetivo del estudio. Ejemplo: urlEUROSTAT = \"http://ec.europa.eu/eurostat/wdds/rest/data/v2.1/json/en/XXX...... \"\n",
        "2. Crea un diccionario con el objeto JSON que se obtiene al realizar la petición a la API de la consulta del punto anterior. Imprime por pantalla el elemento \"dimension\" del diccionario creado.\n",
        "   - Puedes utilizar la función urlopen() de la librería urllib.request.\n",
        "3. Descarga los datos de Satisfacción en Europa (código del dataset: ilc_pw01b) en formato pandas a partir de la función get_data_df() de librería eurostat.\n",
        "   - Para instalar la librería Eurostat ejecuta en colab: !pip install eurostat\n",
        "4. Filtra el conjunto de datos solicitados en el punto 1 directamente en este Data Frame y presenta las 6 primeras filas.\n",
        "5. Construye un gráfico donde se presente el nivel de satisfacción en cada país del colectivo objetivo del estudio en el año 2018.\n",
        "¿En qué país están más satisfechos con el trabajo en 2018? ¿En qué país están menos satisfechos?"
      ]
    },
    {
      "cell_type": "code",
      "execution_count": 1,
      "metadata": {
        "colab": {
          "base_uri": "https://localhost:8080/"
        },
        "id": "RFXy4pjnPVuE",
        "outputId": "d980b1bc-c09d-472d-b6b7-debd377c3a88"
      },
      "outputs": [],
      "source": [
        "# instalamos dependencias para entorno Colab\n",
        "if 'google.colab' in str(get_ipython()):\n",
        "    !python -m pip install eurostat"
      ]
    },
    {
      "attachments": {},
      "cell_type": "markdown",
      "metadata": {
        "id": "VG8Uip1CgTKp"
      },
      "source": [
        "## Solución"
      ]
    },
    {
      "attachments": {},
      "cell_type": "markdown",
      "metadata": {
        "id": "7LGPRZMlNB46"
      },
      "source": [
        "### Diccionario de datos"
      ]
    },
    {
      "attachments": {},
      "cell_type": "markdown",
      "metadata": {
        "id": "gaDhTZOJNB46"
      },
      "source": [
        "<table>\n",
        "<tbody>\n",
        "<tr><th><b>Variable</b></th><th><b>Definition</b></th><th><b>Key</b></th></tr>\n",
        "<tr>\n",
        "    <td>frec</td>\n",
        "    <td>Frecuencia de toma de observaciones.</td>\n",
        "    <td></td>\n",
        "</tr>\n",
        "<tr>\n",
        "    <td>life_sat</td>\n",
        "    <td>Ambito de satisfacción en la vida.</td>\n",
        "    <td>FIN, ACCOM, JOB, COM, TIME, REC_GA, LIVENV, PER_RELS, MEANLIFE</td>\n",
        "</tr>\n",
        "<tr>\n",
        "    <td>statinfo</td>\n",
        "    <td>Medida estasdistica utilizada.</td>\n",
        "    <td>AVG</td>\n",
        "</tr>\n",
        "<tr>\n",
        "    <td>isced11</td>\n",
        "    <td>Nivel educacional logrado. </td>\n",
        "    <td></td>\n",
        "</tr>\n",
        "<tr>\n",
        "    <td>sex</td>\n",
        "    <td>Sexo.</td>\n",
        "    <td>T, M, F</td>\n",
        "</tr>\n",
        "<tr>\n",
        "    <td>age</td>\n",
        "    <td>Clase etaria de la muestra.</td>\n",
        "    <td>Y16-19, Y16-24, Y16-29, Y_GE16, Y20-24, Y25-29, Y25-34, Y25-64, Y35-49, Y50-64, Y65-74, Y_GE65, Y_GE75</td>\n",
        "</tr>\n",
        "<tr>\n",
        "    <td>geo</td>\n",
        "    <td>Monto de Ventas durante el año calendario, expresado en millones de Euros</td>\n",
        "    <td>EU27_2020, BE, BG, ..., ES, ..., UK, .., TR, XK</td>\n",
        "</tr>\n",
        "<tr>\n",
        "    <td>unit</td>\n",
        "    <td>Unidad de medición</td>\n",
        "    <td>RTG</td>\n",
        "</tr>\n",
        "<tr>\n",
        "    <td>2013</td>\n",
        "    <td>Medición para el periodo 2023</td>\n",
        "    <td></td>\n",
        "</tr>\n",
        "<tr>\n",
        "    <td>2018</td>\n",
        "    <td>Medición para el periodo 2018</td>\n",
        "    <td></td>\n",
        "</tr>\n",
        "<tr>\n",
        "    <td>2022</td>\n",
        "    <td>Medición para el periodo 2022</td>\n",
        "    <td></td>\n",
        "</tr>\n",
        "</tbody>\n",
        "</table>\n"
      ]
    },
    {
      "attachments": {},
      "cell_type": "markdown",
      "metadata": {
        "id": "oGyUhrpUgTKr"
      },
      "source": [
        "### Análisis de los tipos de variables"
      ]
    },
    {
      "attachments": {},
      "cell_type": "markdown",
      "metadata": {
        "id": "IZ-0Z_megTKr"
      },
      "source": [
        "1. frec: identifica la frecuencia de la toma de la observación. Es una variable alfanumérica, nos sirve para agrupar y clasificar, no presenta orden o jerarquia. Solo toma el valor 'A' en el dataset seleccionado. Variable cualitativa nominal.\n",
        "2. life_sat: identifica ámbito donde se determinará el nivel de satisfacción del grupo encuestado. Es una variable alfanumérica, nos sirve para agrupar y clasificar, no presenta orden o jerarquia. Variable cualitativa nominal\n",
        "3. statinfo: identifica el estadístico utilizado para el cálculo del nivel de satisfacción. AVG (promedio) es el único estadístico disponible. Variable cualitativa nominal.\n",
        "4. isced11: identifica el nivel de educación logrado. Variable alfanumerica, que nos sirve para agrupar y clasificar, presenta indicios de orden y jerarquía. Toma tres valores posibles: ED0-2, ED3-4, ED5-8. Variable cualitativa ordinal.\n",
        "5. sex: identifica sexo del grupo encuestado. Sirve para agrupar y clasificar, no presenta orden o jerarquía. Variable cualitativa nominal.\n",
        "6. age: identifica rango etario del grupo. Variable alfanumérica, nos sirve para agrupar y clasificar, presenta indicios de orden pero con superposición de rangos. Variable cuantitativa ordinal.\n",
        "7. unit: indetifica unidad de medida. RTG (rating) es el único valor disponible, indica que la medición toma valores entre 0 y 10. Variable cualitativa nominal.\n",
        "8. geo: identifica lugar de procedencia del grupo encuestado. Se utiliza el código de representación ISO 3166-1 alpha-2 con dos caracteres alfabéticos. Toma 28 valores posibles, 27 paises y la opción \"todos\", representando la UE completa. Variable cualitativa nominal.\n",
        "9. 2013 - 2018 - 2022: Variables que representan la toma de la medicición para distintos años. Su valor dependerá del estadístico (statinfo) y de la unidad (unit) seleccionados. Éste dataset solo presenta medidas AVG de la unidad RTG, es decir cada grupo poblacional (representado por una fila) tendrá expresado en estas variables el nivel de satisfacción en cada ambito de su vida, a través de la media de la calificación que cada integrante del grupo indicó. Variables cuantitativas continuas."
      ]
    },
    {
      "attachments": {},
      "cell_type": "markdown",
      "metadata": {
        "id": "2P2arzmZNB47"
      },
      "source": [
        "### Obtención de los datos con **requests** y visualización de *dimension*"
      ]
    },
    {
      "cell_type": "code",
      "execution_count": 2,
      "metadata": {
        "colab": {
          "base_uri": "https://localhost:8080/"
        },
        "id": "AtXLxGq9gTKp",
        "outputId": "0ba4a9ae-7904-41c6-b68d-40a3b53e7a0e"
      },
      "outputs": [
        {
          "name": "stdout",
          "output_type": "stream",
          "text": [
            "{\n",
            "    \"freq\": {\n",
            "        \"label\": \"Time frequency\",\n",
            "        \"category\": {\n",
            "            \"index\": {\n",
            "                \"A\": 0\n",
            "            },\n",
            "            \"label\": {\n",
            "                \"A\": \"Annual\"\n",
            "            }\n",
            "        }\n",
            "    },\n",
            "    \"life_sat\": {\n",
            "        \"label\": \"Life satisfaction\",\n",
            "        \"category\": {\n",
            "            \"index\": {\n",
            "                \"JOB\": 0\n",
            "            },\n",
            "            \"label\": {\n",
            "                \"JOB\": \"Job\"\n",
            "            }\n",
            "        }\n",
            "    },\n",
            "    \"statinfo\": {\n",
            "        \"label\": \"Statistical information\",\n",
            "        \"category\": {\n",
            "            \"index\": {\n",
            "                \"AVG\": 0\n",
            "            },\n",
            "            \"label\": {\n",
            "                \"AVG\": \"Average\"\n",
            "            }\n",
            "        }\n",
            "    },\n",
            "    \"isced11\": {\n",
            "        \"label\": \"International Standard Classification of Education (ISCED 2011)\",\n",
            "        \"category\": {\n",
            "            \"index\": {\n",
            "                \"ED5-8\": 0\n",
            "            },\n",
            "            \"label\": {\n",
            "                \"ED5-8\": \"Tertiary education (levels 5-8)\"\n",
            "            }\n",
            "        }\n",
            "    },\n",
            "    \"sex\": {\n",
            "        \"label\": \"Sex\",\n",
            "        \"category\": {\n",
            "            \"index\": {\n",
            "                \"T\": 0\n",
            "            },\n",
            "            \"label\": {\n",
            "                \"T\": \"Total\"\n",
            "            }\n",
            "        }\n",
            "    },\n",
            "    \"age\": {\n",
            "        \"label\": \"Age class\",\n",
            "        \"category\": {\n",
            "            \"index\": {\n",
            "                \"Y25-34\": 0\n",
            "            },\n",
            "            \"label\": {\n",
            "                \"Y25-34\": \"From 25 to 34 years\"\n",
            "            }\n",
            "        }\n",
            "    },\n",
            "    \"unit\": {\n",
            "        \"label\": \"Unit of measure\",\n",
            "        \"category\": {\n",
            "            \"index\": {\n",
            "                \"RTG\": 0\n",
            "            },\n",
            "            \"label\": {\n",
            "                \"RTG\": \"Rating (0-10)\"\n",
            "            }\n",
            "        }\n",
            "    },\n",
            "    \"geo\": {\n",
            "        \"label\": \"Geopolitical entity (reporting)\",\n",
            "        \"category\": {\n",
            "            \"index\": {\n",
            "                \"EU27_2020\": 0,\n",
            "                \"BE\": 1,\n",
            "                \"BG\": 2,\n",
            "                \"CZ\": 3,\n",
            "                \"DK\": 4,\n",
            "                \"DE\": 5,\n",
            "                \"EE\": 6,\n",
            "                \"IE\": 7,\n",
            "                \"EL\": 8,\n",
            "                \"ES\": 9,\n",
            "                \"FR\": 10,\n",
            "                \"HR\": 11,\n",
            "                \"IT\": 12,\n",
            "                \"CY\": 13,\n",
            "                \"LV\": 14,\n",
            "                \"LT\": 15,\n",
            "                \"LU\": 16,\n",
            "                \"HU\": 17,\n",
            "                \"MT\": 18,\n",
            "                \"NL\": 19,\n",
            "                \"AT\": 20,\n",
            "                \"PL\": 21,\n",
            "                \"PT\": 22,\n",
            "                \"RO\": 23,\n",
            "                \"SI\": 24,\n",
            "                \"SK\": 25,\n",
            "                \"FI\": 26,\n",
            "                \"SE\": 27,\n",
            "                \"IS\": 28,\n",
            "                \"NO\": 29,\n",
            "                \"CH\": 30,\n",
            "                \"UK\": 31,\n",
            "                \"ME\": 32,\n",
            "                \"MK\": 33,\n",
            "                \"AL\": 34,\n",
            "                \"RS\": 35,\n",
            "                \"TR\": 36,\n",
            "                \"XK\": 37\n",
            "            },\n",
            "            \"label\": {\n",
            "                \"EU27_2020\": \"European Union - 27 countries (from 2020)\",\n",
            "                \"BE\": \"Belgium\",\n",
            "                \"BG\": \"Bulgaria\",\n",
            "                \"CZ\": \"Czechia\",\n",
            "                \"DK\": \"Denmark\",\n",
            "                \"DE\": \"Germany\",\n",
            "                \"EE\": \"Estonia\",\n",
            "                \"IE\": \"Ireland\",\n",
            "                \"EL\": \"Greece\",\n",
            "                \"ES\": \"Spain\",\n",
            "                \"FR\": \"France\",\n",
            "                \"HR\": \"Croatia\",\n",
            "                \"IT\": \"Italy\",\n",
            "                \"CY\": \"Cyprus\",\n",
            "                \"LV\": \"Latvia\",\n",
            "                \"LT\": \"Lithuania\",\n",
            "                \"LU\": \"Luxembourg\",\n",
            "                \"HU\": \"Hungary\",\n",
            "                \"MT\": \"Malta\",\n",
            "                \"NL\": \"Netherlands\",\n",
            "                \"AT\": \"Austria\",\n",
            "                \"PL\": \"Poland\",\n",
            "                \"PT\": \"Portugal\",\n",
            "                \"RO\": \"Romania\",\n",
            "                \"SI\": \"Slovenia\",\n",
            "                \"SK\": \"Slovakia\",\n",
            "                \"FI\": \"Finland\",\n",
            "                \"SE\": \"Sweden\",\n",
            "                \"IS\": \"Iceland\",\n",
            "                \"NO\": \"Norway\",\n",
            "                \"CH\": \"Switzerland\",\n",
            "                \"UK\": \"United Kingdom\",\n",
            "                \"ME\": \"Montenegro\",\n",
            "                \"MK\": \"North Macedonia\",\n",
            "                \"AL\": \"Albania\",\n",
            "                \"RS\": \"Serbia\",\n",
            "                \"TR\": \"T\\u00fcrkiye\",\n",
            "                \"XK\": \"Kosovo*\"\n",
            "            }\n",
            "        }\n",
            "    },\n",
            "    \"time\": {\n",
            "        \"label\": \"Time\",\n",
            "        \"category\": {\n",
            "            \"index\": {\n",
            "                \"2013\": 0,\n",
            "                \"2018\": 1,\n",
            "                \"2022\": 2\n",
            "            },\n",
            "            \"label\": {\n",
            "                \"2013\": \"2013\",\n",
            "                \"2018\": \"2018\",\n",
            "                \"2022\": \"2022\"\n",
            "            }\n",
            "        }\n",
            "    }\n",
            "}\n"
          ]
        }
      ],
      "source": [
        "import requests\n",
        "import json\n",
        "import eurostat\n",
        "\n",
        "# definición de la url de los datos en fn de lo requerido\n",
        "url = 'https://ec.europa.eu/eurostat/api/dissemination/statistics/1.0/data/ilc_pw01b?format=JSON&life_sat=JOB&isced11=ED5-8&sex=T&age=Y25-34&lang=en'\n",
        "\n",
        "# realizamos el request\n",
        "response = requests.get(url)\n",
        "\n",
        "# creacion del dict\n",
        "resp_dict = json.loads(response.content)\n",
        "\n",
        "print(json.dumps(resp_dict['dimension'], indent=4))"
      ]
    },
    {
      "attachments": {},
      "cell_type": "markdown",
      "metadata": {
        "id": "DwJqCGcYNB48"
      },
      "source": [
        "### Obtención de los datos a través de la lib **eurostat**"
      ]
    },
    {
      "cell_type": "code",
      "execution_count": 3,
      "metadata": {
        "colab": {
          "base_uri": "https://localhost:8080/",
          "height": 238
        },
        "id": "oIOrWo4bNB48",
        "outputId": "f81cea1d-9e62-467a-9af1-8caabfac4df7"
      },
      "outputs": [
        {
          "data": {
            "text/html": [
              "<div>\n",
              "<style scoped>\n",
              "    .dataframe tbody tr th:only-of-type {\n",
              "        vertical-align: middle;\n",
              "    }\n",
              "\n",
              "    .dataframe tbody tr th {\n",
              "        vertical-align: top;\n",
              "    }\n",
              "\n",
              "    .dataframe thead th {\n",
              "        text-align: right;\n",
              "    }\n",
              "</style>\n",
              "<table border=\"1\" class=\"dataframe\">\n",
              "  <thead>\n",
              "    <tr style=\"text-align: right;\">\n",
              "      <th></th>\n",
              "      <th>freq</th>\n",
              "      <th>life_sat</th>\n",
              "      <th>statinfo</th>\n",
              "      <th>isced11</th>\n",
              "      <th>sex</th>\n",
              "      <th>age</th>\n",
              "      <th>unit</th>\n",
              "      <th>geo\\TIME_PERIOD</th>\n",
              "      <th>2013</th>\n",
              "      <th>2018</th>\n",
              "      <th>2022</th>\n",
              "    </tr>\n",
              "  </thead>\n",
              "  <tbody>\n",
              "    <tr>\n",
              "      <th>0</th>\n",
              "      <td>A</td>\n",
              "      <td>ACCOM</td>\n",
              "      <td>AVG</td>\n",
              "      <td>ED0-2</td>\n",
              "      <td>F</td>\n",
              "      <td>Y16-19</td>\n",
              "      <td>RTG</td>\n",
              "      <td>AT</td>\n",
              "      <td>8.7</td>\n",
              "      <td>NaN</td>\n",
              "      <td>NaN</td>\n",
              "    </tr>\n",
              "    <tr>\n",
              "      <th>1</th>\n",
              "      <td>A</td>\n",
              "      <td>ACCOM</td>\n",
              "      <td>AVG</td>\n",
              "      <td>ED0-2</td>\n",
              "      <td>F</td>\n",
              "      <td>Y16-19</td>\n",
              "      <td>RTG</td>\n",
              "      <td>BE</td>\n",
              "      <td>8.0</td>\n",
              "      <td>NaN</td>\n",
              "      <td>NaN</td>\n",
              "    </tr>\n",
              "    <tr>\n",
              "      <th>2</th>\n",
              "      <td>A</td>\n",
              "      <td>ACCOM</td>\n",
              "      <td>AVG</td>\n",
              "      <td>ED0-2</td>\n",
              "      <td>F</td>\n",
              "      <td>Y16-19</td>\n",
              "      <td>RTG</td>\n",
              "      <td>BG</td>\n",
              "      <td>6.0</td>\n",
              "      <td>NaN</td>\n",
              "      <td>NaN</td>\n",
              "    </tr>\n",
              "    <tr>\n",
              "      <th>3</th>\n",
              "      <td>A</td>\n",
              "      <td>ACCOM</td>\n",
              "      <td>AVG</td>\n",
              "      <td>ED0-2</td>\n",
              "      <td>F</td>\n",
              "      <td>Y16-19</td>\n",
              "      <td>RTG</td>\n",
              "      <td>CH</td>\n",
              "      <td>8.5</td>\n",
              "      <td>NaN</td>\n",
              "      <td>NaN</td>\n",
              "    </tr>\n",
              "    <tr>\n",
              "      <th>4</th>\n",
              "      <td>A</td>\n",
              "      <td>ACCOM</td>\n",
              "      <td>AVG</td>\n",
              "      <td>ED0-2</td>\n",
              "      <td>F</td>\n",
              "      <td>Y16-19</td>\n",
              "      <td>RTG</td>\n",
              "      <td>CY</td>\n",
              "      <td>8.3</td>\n",
              "      <td>NaN</td>\n",
              "      <td>NaN</td>\n",
              "    </tr>\n",
              "    <tr>\n",
              "      <th>5</th>\n",
              "      <td>A</td>\n",
              "      <td>ACCOM</td>\n",
              "      <td>AVG</td>\n",
              "      <td>ED0-2</td>\n",
              "      <td>F</td>\n",
              "      <td>Y16-19</td>\n",
              "      <td>RTG</td>\n",
              "      <td>CZ</td>\n",
              "      <td>6.8</td>\n",
              "      <td>NaN</td>\n",
              "      <td>NaN</td>\n",
              "    </tr>\n",
              "  </tbody>\n",
              "</table>\n",
              "</div>"
            ],
            "text/plain": [
              "  freq life_sat statinfo isced11 sex     age unit geo\\TIME_PERIOD  2013  2018  \\\n",
              "0    A    ACCOM      AVG   ED0-2   F  Y16-19  RTG              AT   8.7   NaN   \n",
              "1    A    ACCOM      AVG   ED0-2   F  Y16-19  RTG              BE   8.0   NaN   \n",
              "2    A    ACCOM      AVG   ED0-2   F  Y16-19  RTG              BG   6.0   NaN   \n",
              "3    A    ACCOM      AVG   ED0-2   F  Y16-19  RTG              CH   8.5   NaN   \n",
              "4    A    ACCOM      AVG   ED0-2   F  Y16-19  RTG              CY   8.3   NaN   \n",
              "5    A    ACCOM      AVG   ED0-2   F  Y16-19  RTG              CZ   6.8   NaN   \n",
              "\n",
              "   2022  \n",
              "0   NaN  \n",
              "1   NaN  \n",
              "2   NaN  \n",
              "3   NaN  \n",
              "4   NaN  \n",
              "5   NaN  "
            ]
          },
          "execution_count": 3,
          "metadata": {},
          "output_type": "execute_result"
        }
      ],
      "source": [
        "# obtenemos el dataframe completo con lib eurostat\n",
        "df_org = eurostat.get_data_df(code='ilc_pw01b')\n",
        "df_org.head(6)"
      ]
    },
    {
      "attachments": {},
      "cell_type": "markdown",
      "metadata": {
        "id": "NDAseIx6NB48"
      },
      "source": [
        "Podemos observar la forma y valores de los primeros 6 registros del dataset completo."
      ]
    },
    {
      "cell_type": "code",
      "execution_count": 4,
      "metadata": {
        "colab": {
          "base_uri": "https://localhost:8080/",
          "height": 238
        },
        "id": "xLy2jzoBNB48",
        "outputId": "19b7d8fa-e319-4332-d331-cc104dbd0c14"
      },
      "outputs": [
        {
          "data": {
            "text/html": [
              "<div>\n",
              "<style scoped>\n",
              "    .dataframe tbody tr th:only-of-type {\n",
              "        vertical-align: middle;\n",
              "    }\n",
              "\n",
              "    .dataframe tbody tr th {\n",
              "        vertical-align: top;\n",
              "    }\n",
              "\n",
              "    .dataframe thead th {\n",
              "        text-align: right;\n",
              "    }\n",
              "</style>\n",
              "<table border=\"1\" class=\"dataframe\">\n",
              "  <thead>\n",
              "    <tr style=\"text-align: right;\">\n",
              "      <th></th>\n",
              "      <th>freq</th>\n",
              "      <th>life_sat</th>\n",
              "      <th>statinfo</th>\n",
              "      <th>isced11</th>\n",
              "      <th>sex</th>\n",
              "      <th>age</th>\n",
              "      <th>unit</th>\n",
              "      <th>geo</th>\n",
              "      <th>2013</th>\n",
              "      <th>2018</th>\n",
              "      <th>2022</th>\n",
              "    </tr>\n",
              "  </thead>\n",
              "  <tbody>\n",
              "    <tr>\n",
              "      <th>21302</th>\n",
              "      <td>A</td>\n",
              "      <td>JOB</td>\n",
              "      <td>AVG</td>\n",
              "      <td>ED5-8</td>\n",
              "      <td>T</td>\n",
              "      <td>Y25-34</td>\n",
              "      <td>RTG</td>\n",
              "      <td>AL</td>\n",
              "      <td>NaN</td>\n",
              "      <td>6.5</td>\n",
              "      <td>NaN</td>\n",
              "    </tr>\n",
              "    <tr>\n",
              "      <th>21303</th>\n",
              "      <td>A</td>\n",
              "      <td>JOB</td>\n",
              "      <td>AVG</td>\n",
              "      <td>ED5-8</td>\n",
              "      <td>T</td>\n",
              "      <td>Y25-34</td>\n",
              "      <td>RTG</td>\n",
              "      <td>AT</td>\n",
              "      <td>8.1</td>\n",
              "      <td>8.0</td>\n",
              "      <td>NaN</td>\n",
              "    </tr>\n",
              "    <tr>\n",
              "      <th>21304</th>\n",
              "      <td>A</td>\n",
              "      <td>JOB</td>\n",
              "      <td>AVG</td>\n",
              "      <td>ED5-8</td>\n",
              "      <td>T</td>\n",
              "      <td>Y25-34</td>\n",
              "      <td>RTG</td>\n",
              "      <td>BE</td>\n",
              "      <td>7.4</td>\n",
              "      <td>7.6</td>\n",
              "      <td>NaN</td>\n",
              "    </tr>\n",
              "    <tr>\n",
              "      <th>21305</th>\n",
              "      <td>A</td>\n",
              "      <td>JOB</td>\n",
              "      <td>AVG</td>\n",
              "      <td>ED5-8</td>\n",
              "      <td>T</td>\n",
              "      <td>Y25-34</td>\n",
              "      <td>RTG</td>\n",
              "      <td>BG</td>\n",
              "      <td>6.9</td>\n",
              "      <td>7.0</td>\n",
              "      <td>NaN</td>\n",
              "    </tr>\n",
              "    <tr>\n",
              "      <th>21306</th>\n",
              "      <td>A</td>\n",
              "      <td>JOB</td>\n",
              "      <td>AVG</td>\n",
              "      <td>ED5-8</td>\n",
              "      <td>T</td>\n",
              "      <td>Y25-34</td>\n",
              "      <td>RTG</td>\n",
              "      <td>CH</td>\n",
              "      <td>7.6</td>\n",
              "      <td>7.5</td>\n",
              "      <td>NaN</td>\n",
              "    </tr>\n",
              "    <tr>\n",
              "      <th>21307</th>\n",
              "      <td>A</td>\n",
              "      <td>JOB</td>\n",
              "      <td>AVG</td>\n",
              "      <td>ED5-8</td>\n",
              "      <td>T</td>\n",
              "      <td>Y25-34</td>\n",
              "      <td>RTG</td>\n",
              "      <td>CY</td>\n",
              "      <td>7.4</td>\n",
              "      <td>7.4</td>\n",
              "      <td>NaN</td>\n",
              "    </tr>\n",
              "  </tbody>\n",
              "</table>\n",
              "</div>"
            ],
            "text/plain": [
              "      freq life_sat statinfo isced11 sex     age unit geo  2013  2018  2022\n",
              "21302    A      JOB      AVG   ED5-8   T  Y25-34  RTG  AL   NaN   6.5   NaN\n",
              "21303    A      JOB      AVG   ED5-8   T  Y25-34  RTG  AT   8.1   8.0   NaN\n",
              "21304    A      JOB      AVG   ED5-8   T  Y25-34  RTG  BE   7.4   7.6   NaN\n",
              "21305    A      JOB      AVG   ED5-8   T  Y25-34  RTG  BG   6.9   7.0   NaN\n",
              "21306    A      JOB      AVG   ED5-8   T  Y25-34  RTG  CH   7.6   7.5   NaN\n",
              "21307    A      JOB      AVG   ED5-8   T  Y25-34  RTG  CY   7.4   7.4   NaN"
            ]
          },
          "execution_count": 4,
          "metadata": {},
          "output_type": "execute_result"
        }
      ],
      "source": [
        "# filtramos y copiamos el dataframe para no editar el original\n",
        "df_aux = df_org[(df_org['isced11'] == 'ED5-8') &\n",
        "                (df_org['life_sat'] == 'JOB') &\n",
        "                (df_org['sex'] == 'T') &\n",
        "                (df_org['age'] == 'Y25-34')].copy()\n",
        "\n",
        "# renombramos columna 'geo\\TIME_PERIOD' para facilitar manipulación\n",
        "df_aux = df_aux.rename(columns={'geo\\\\TIME_PERIOD': 'geo'})\n",
        "\n",
        "df_aux.head(6)"
      ]
    },
    {
      "attachments": {},
      "cell_type": "markdown",
      "metadata": {
        "id": "IxMuNWdJNB48"
      },
      "source": [
        "Se pueden apreciar los primeros 6 registros una vez aplicado el filtro con los criterios requeridos:\n",
        "1. Nivel de educación (isced11): Tertiary education ED5-8\n",
        "2. Indicador (life_sat):   JOB\n",
        "3. Género (sex): T – Total\n",
        "4. Edad (age): Y25-34 – From 25 to 34 years"
      ]
    },
    {
      "attachments": {},
      "cell_type": "markdown",
      "metadata": {},
      "source": [
        "Veamos un análisis gráfico del grupo objetivo seleccionado para el año 2018:"
      ]
    },
    {
      "cell_type": "code",
      "execution_count": 5,
      "metadata": {
        "colab": {
          "base_uri": "https://localhost:8080/",
          "height": 1000
        },
        "id": "7MYxHm9NNB48",
        "outputId": "7a0dba0c-d53c-4a51-d242-2158ec9be15c"
      },
      "outputs": [
        {
          "data": {
            "image/png": "[encoded data removed]",
            "text/plain": [
              "<Figure size 1000x1000 with 1 Axes>"
            ]
          },
          "metadata": {},
          "output_type": "display_data"
        }
      ],
      "source": [
        "# importamos dependencias\n",
        "import seaborn as sns\n",
        "import matplotlib.pyplot as plt\n",
        "\n",
        "# establecemos el tamaño del lienzo\n",
        "plt.figure(figsize=(10, 10))  # Ancho, Alto\n",
        "\n",
        "# creamos el barploy\n",
        "bars = sns.barplot(df_aux, x=\"2018\", y=\"geo\")\n",
        "\n",
        "# establecemos la etiqueta de los ejes\n",
        "bars.set_ylabel(\"País\") ## además contiene el elemento \"todos\" (EU27_2020)\n",
        "bars.set_xlabel(\"Media de nivel de satisfaccíon en el trabajo (2018)\")\n",
        "\n",
        "# agregamos labels a las barras\n",
        "bars.bar_label(bars.containers[0], fontsize=10);\n",
        "\n",
        "# ajustamos titulo y subtitulo\n",
        "plt.suptitle(\"Media de Satisfacción en el trabajo por país de la UE para el año 2018\", fontsize=16)\n",
        "plt.title(\"\\n Grupo definido por {'isced11': 'ED5-8', 'sex': 'T', 'age': 'Y25-34'}\", fontsize=11)\n",
        "plt.tight_layout(rect=[0, 0, 1, 1])"
      ]
    },
    {
      "attachments": {},
      "cell_type": "markdown",
      "metadata": {
        "id": "SHVYtcY_NB48"
      },
      "source": [
        "Veamos los minimos y máximos para los valores del indicador de satisfacción en el trabajo, recordemos que estas observaciones corresponden al año 2018."
      ]
    },
    {
      "cell_type": "code",
      "execution_count": 6,
      "metadata": {
        "colab": {
          "base_uri": "https://localhost:8080/",
          "height": 1000
        },
        "id": "lOxsGjGWNB48",
        "outputId": "33954663-022b-49d3-a4c6-cd2f3715c706"
      },
      "outputs": [
        {
          "data": {
            "text/plain": [
              "<matplotlib.legend.Legend at 0x11a529040>"
            ]
          },
          "execution_count": 6,
          "metadata": {},
          "output_type": "execute_result"
        },
        {
          "data": {
            "image/png": "[encoded data removed]",
            "text/plain": [
              "<Figure size 1000x1000 with 1 Axes>"
            ]
          },
          "metadata": {},
          "output_type": "display_data"
        }
      ],
      "source": [
        "# establecemos el tamaño del lienzo\n",
        "plt.figure(figsize=(10, 10))  # Ancho, Alto\n",
        "\n",
        "# creamos el barploy\n",
        "bars = sns.barplot(df_aux, x=\"2018\", y=\"geo\")\n",
        "\n",
        "# establecemos la etiqueta de los ejes\n",
        "bars.set_ylabel(\"País\") ## además contiene el elemento \"todos\" (EU27_2020)\n",
        "bars.set_xlabel(\"Media de nivel de satisfaccíon en el trabajo (2018)\")\n",
        "\n",
        "# agregamos labels a las barras\n",
        "bars.bar_label(bars.containers[0], fontsize=10)\n",
        "\n",
        "# ajustamos titulo y subtitulo\n",
        "plt.suptitle(\"Media de Satisfacción en el trabajo por país de la UE para el año 2018\", fontsize=16)\n",
        "plt.title(\"\\n Grupo definido por {'isced11': 'ED5-8', 'sex': 'T', 'age': 'Y25-34'}\", fontsize=11)\n",
        "plt.tight_layout(rect=[0, 0, 1, 1])\n",
        "\n",
        "# encontramos min y max\n",
        "min = df_aux['2018'].min()\n",
        "max = df_aux['2018'].max()\n",
        "\n",
        "# visualizamos los valores\n",
        "plt.axvline(min, color='brown', linestyle='dashed', linewidth=2, label=f'min: {min:.2f}')\n",
        "plt.axvline(max, color='orange', linestyle='dashed', linewidth=2, label=f'max: {max:.2f}')\n",
        "\n",
        "# añadir una leyenda\n",
        "plt.legend(loc='upper left', bbox_to_anchor=(1, 1))"
      ]
    },
    {
      "attachments": {},
      "cell_type": "markdown",
      "metadata": {
        "id": "vSvh8qxQNB48"
      },
      "source": [
        "Ahora encontraremos el país que posee el mayor valor en su media de satisfacción respecto del trabajo:"
      ]
    },
    {
      "cell_type": "code",
      "execution_count": 7,
      "metadata": {
        "colab": {
          "base_uri": "https://localhost:8080/",
          "height": 81
        },
        "id": "iA9SFRh_NB49",
        "outputId": "20fbb221-fece-4c55-f087-b99ad4814d41"
      },
      "outputs": [
        {
          "data": {
            "text/html": [
              "<div>\n",
              "<style scoped>\n",
              "    .dataframe tbody tr th:only-of-type {\n",
              "        vertical-align: middle;\n",
              "    }\n",
              "\n",
              "    .dataframe tbody tr th {\n",
              "        vertical-align: top;\n",
              "    }\n",
              "\n",
              "    .dataframe thead th {\n",
              "        text-align: right;\n",
              "    }\n",
              "</style>\n",
              "<table border=\"1\" class=\"dataframe\">\n",
              "  <thead>\n",
              "    <tr style=\"text-align: right;\">\n",
              "      <th></th>\n",
              "      <th>geo</th>\n",
              "      <th>2018</th>\n",
              "    </tr>\n",
              "  </thead>\n",
              "  <tbody>\n",
              "    <tr>\n",
              "      <th>21332</th>\n",
              "      <td>RO</td>\n",
              "      <td>8.4</td>\n",
              "    </tr>\n",
              "  </tbody>\n",
              "</table>\n",
              "</div>"
            ],
            "text/plain": [
              "      geo  2018\n",
              "21332  RO   8.4"
            ]
          },
          "execution_count": 7,
          "metadata": {},
          "output_type": "execute_result"
        }
      ],
      "source": [
        "maximos_sat = df_aux[df_aux['2018'] == max]\n",
        "maximos_sat[['geo', '2018']]"
      ]
    },
    {
      "attachments": {},
      "cell_type": "markdown",
      "metadata": {
        "id": "yLQoWdEuNB49"
      },
      "source": [
        "Vemos que Rumania (RO) posee el índice satisfacción mas alto dentro de la UE durante el año 2018, con una media de 8.5 puntos sobre 10."
      ]
    },
    {
      "attachments": {},
      "cell_type": "markdown",
      "metadata": {
        "id": "3GTryv3MNB49"
      },
      "source": [
        "Del método gráfico podemos observar que el valor mínimo es tomado en dos oportunidades, encontremos analíticamente las correspondencias."
      ]
    },
    {
      "cell_type": "code",
      "execution_count": 8,
      "metadata": {
        "colab": {
          "base_uri": "https://localhost:8080/",
          "height": 112
        },
        "id": "FTXS1Wm3NB49",
        "outputId": "265549d6-21bc-4e81-98cd-b707e82056b3"
      },
      "outputs": [
        {
          "data": {
            "text/html": [
              "<div>\n",
              "<style scoped>\n",
              "    .dataframe tbody tr th:only-of-type {\n",
              "        vertical-align: middle;\n",
              "    }\n",
              "\n",
              "    .dataframe tbody tr th {\n",
              "        vertical-align: top;\n",
              "    }\n",
              "\n",
              "    .dataframe thead th {\n",
              "        text-align: right;\n",
              "    }\n",
              "</style>\n",
              "<table border=\"1\" class=\"dataframe\">\n",
              "  <thead>\n",
              "    <tr style=\"text-align: right;\">\n",
              "      <th></th>\n",
              "      <th>geo</th>\n",
              "      <th>2018</th>\n",
              "    </tr>\n",
              "  </thead>\n",
              "  <tbody>\n",
              "    <tr>\n",
              "      <th>21302</th>\n",
              "      <td>AL</td>\n",
              "      <td>6.5</td>\n",
              "    </tr>\n",
              "    <tr>\n",
              "      <th>21312</th>\n",
              "      <td>EL</td>\n",
              "      <td>6.5</td>\n",
              "    </tr>\n",
              "  </tbody>\n",
              "</table>\n",
              "</div>"
            ],
            "text/plain": [
              "      geo  2018\n",
              "21302  AL   6.5\n",
              "21312  EL   6.5"
            ]
          },
          "execution_count": 8,
          "metadata": {},
          "output_type": "execute_result"
        }
      ],
      "source": [
        "minimos_sat = df_aux[df_aux['2018'] == min]\n",
        "minimos_sat[['geo', '2018']]"
      ]
    },
    {
      "attachments": {},
      "cell_type": "markdown",
      "metadata": {
        "id": "aYlMTjpSNB49"
      },
      "source": [
        "Vemos que Albania (AL) y Grecia (EL) son los paises donde el grupo objetivo refirió un peor índice de satisfacción en su trabajo durante el año 2018, obteniendo ambos paises un 6.5 de media en dicho registro.\n"
      ]
    },
    {
      "attachments": {},
      "cell_type": "markdown",
      "metadata": {
        "id": "BLYhXR0yNB49"
      },
      "source": [
        "### Análisis final"
      ]
    },
    {
      "attachments": {},
      "cell_type": "markdown",
      "metadata": {
        "id": "TMXC59QtNB49"
      },
      "source": [
        "Analicemos la variable 2018, la cual representa el nivel de satisfacción en el contexto y con el grupo objetivo indicado."
      ]
    },
    {
      "cell_type": "code",
      "execution_count": 9,
      "metadata": {
        "colab": {
          "base_uri": "https://localhost:8080/"
        },
        "id": "uB5YWvOoNB49",
        "outputId": "c787dca8-de7f-45b6-b4e0-71e340508ee8"
      },
      "outputs": [
        {
          "name": "stdout",
          "output_type": "stream",
          "text": [
            "min: 6.5\n",
            "max: 8.4\n",
            "var: 0.17590327169274536\n",
            "std: 0.41940823989610093\n"
          ]
        }
      ],
      "source": [
        "# encontramos media\n",
        "media = df_aux['2018'].mean()\n",
        "\n",
        "# encontramos media\n",
        "mediana = df_aux['2018'].median()\n",
        "\n",
        "# encontramos minimo y maximo\n",
        "min = df_aux['2018'].min()\n",
        "max = df_aux['2018'].max()\n",
        "\n",
        "print(f'min: {min}')\n",
        "print(f'max: {max}')\n",
        "\n",
        "# encontramos varianza\n",
        "var = df_aux['2018'].var()\n",
        "print(f'var: {var}')\n",
        "\n",
        "# encontramos desviacion standard\n",
        "std = df_aux['2018'].std()\n",
        "print(f'std: {std}')\n"
      ]
    },
    {
      "cell_type": "code",
      "execution_count": 10,
      "metadata": {
        "colab": {
          "base_uri": "https://localhost:8080/"
        },
        "id": "siSvZGdlNB49",
        "outputId": "ba95c3fe-2784-4248-f5af-17d84f9b7bbc"
      },
      "outputs": [
        {
          "name": "stdout",
          "output_type": "stream",
          "text": [
            "var: 0.17590327169274536\n",
            "std: 0.41940823989610093\n"
          ]
        }
      ],
      "source": [
        "# encontramos varianza\n",
        "var = df_aux['2018'].var()\n",
        "print(f'var: {var}')\n",
        "\n",
        "# encontramos desviacion standard\n",
        "std = df_aux['2018'].std()\n",
        "print(f'std: {std}')"
      ]
    },
    {
      "cell_type": "code",
      "execution_count": 11,
      "metadata": {
        "colab": {
          "base_uri": "https://localhost:8080/"
        },
        "id": "if84b9A2NB49",
        "outputId": "1b8dd21e-402a-40ac-d9c2-ebc7ae763493"
      },
      "outputs": [
        {
          "name": "stdout",
          "output_type": "stream",
          "text": [
            "cv: 0.05564774132699664\n"
          ]
        }
      ],
      "source": [
        "# encontramos Coeficiente de Variación de Sperman\n",
        "cv = std / media\n",
        "print(f'cv: {cv}')"
      ]
    },
    {
      "cell_type": "code",
      "execution_count": 12,
      "metadata": {
        "colab": {
          "base_uri": "https://localhost:8080/"
        },
        "id": "8fAZltIONB49",
        "outputId": "22481fbf-dc35-42e0-8c61-97d2e4cfb326"
      },
      "outputs": [
        {
          "name": "stdout",
          "output_type": "stream",
          "text": [
            "q1: 7.325\n",
            "q3: 7.8\n",
            "rq: 0.47499999999999964\n"
          ]
        }
      ],
      "source": [
        "# obtenemos Q1 y Q3\n",
        "q1 = df_aux['2018'].quantile(0.25)\n",
        "q3 = df_aux['2018'].quantile(0.75)\n",
        "print(f'q1: {q1}')\n",
        "print(f'q3: {q3}')\n",
        "\n",
        "# obtenemos rango intercuartílico\n",
        "rq = q3 - q1\n",
        "print(f'rq: {rq}')"
      ]
    },
    {
      "attachments": {},
      "cell_type": "markdown",
      "metadata": {
        "id": "Mw0Uy1RUNB49"
      },
      "source": [
        "Vemos nuevamente, contamos con 38 registros, con una media de 7.53 puntps de satisfacción. Una varianza de 0.17 y una desviación estandard de 0.41 puntos de rating sobre 10. Un mínimo de 6.50 y un max de 8.40 puntos. Mientras que la mediana es de 7.65 puntos; y los cuartiles Q1 y Q3 son 7.32 y 7.80 respectivamente.\n",
        "\n",
        "Podemos apreciar que la mediana es ligeramente mas alta que la media, lo que expresa una leve concentración hacia valores mas pequeños, los cuales llevan la media hacia abajo. Podemos obtener tambien un Coeficiente de variación de 5.56%, lo que nos permite decir que el conjunto de datos es homogeneo, es decir tienen una disperción pequeña respecto del valor medio.\n",
        "\n",
        "También podemos obtener un rango intercuartil de 0.47 puntos sobre 10, lo que indica una variabilidad moderada y alta concentración de valores cerca de la mediana.\n",
        "\n",
        "Así mismo vimos que el país con mejor indice de satisfacción en el trabajo durante el periodo 2018, para el grupo objetivo especificado, fué Rumania con una media de satisfacción de 8.4 puntos. Mientras que Grecia y Albania fueron los que peor se desenvolvieron en este apartado, con medias de 6.5 puntos por igual.\n"
      ]
    }
  ],
  "metadata": {
    "colab": {
      "provenance": []
    },
    "kernelspec": {
      "display_name": "M3",
      "language": "python",
      "name": "m3"
    },
    "language_info": {
      "codemirror_mode": {
        "name": "ipython",
        "version": 3
      },
      "file_extension": ".py",
      "mimetype": "text/x-python",
      "name": "python",
      "nbconvert_exporter": "python",
      "pygments_lexer": "ipython3",
      "version": "3.12.1"
    }
  },
  "nbformat": 4,
  "nbformat_minor": 0
}
