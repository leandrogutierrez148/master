{
  "cells": [
    {
      "attachments": {},
      "cell_type": "markdown",
      "metadata": {
        "id": "WB16p1ILWpX5"
      },
      "source": [
        "# M6_AI2: Accidentes cerebrovaculares\n",
        "#### Autor: Leandro Gutierrez\n",
        "#### Este documento intenta dar respuesta a la actividad 2 propuesta en el Modulo **Técnicas de Machine Learning** del **Master en Big Data y Ciencia de Datos**. En él se describirán cada uno de los enunciados postulados y los resultados obtenidos utilizando Python y Google Colab.\n",
        "#### Noviembre 10, 2024"
      ]
    },
    {
      "attachments": {},
      "cell_type": "markdown",
      "metadata": {
        "id": "MX7xyGLDW7Pk"
      },
      "source": [
        "# Enunciado\n",
        "### Contexto\n",
        "Según la Organización Mundial de la Salud (OMS), el accidente cerebrovascular es la segunda causa principal de muerte a nivel mundial, responsable de, aproximadamente, el 11% del total de muertes.\n",
        "Un accidente cerebrovascular ocurre cuando el suministro de sangre a una parte del cerebro se interrumpe o se reduce, lo que impide que el tejido cerebral reciba oxígeno y nutrientes. Las células cerebrales comienzan a morir en minutos.\n",
        "\n",
        "Este conjunto de datos se utiliza para predecir si es probable que un paciente sufra un accidente cerebrovascular en función de los parámetros de entrada como el sexo, la edad, diversas enfermedades y el tabaquismo. Cada fila de datos proporciona información relevante sobre el paciente.\n",
        "\n",
        "Información de atributos: \n",
        "\n",
        "- Id: identificador único. \n",
        "- Gender: \"Masculino\", \"Femenino\" u \"Otro\". \n",
        "- Age: edad del paciente. \n",
        "- Hypertension: 0 si el paciente no tiene hipertensión, 1 si el paciente tiene hipertensión.\n",
        "- Heart_disease: 0 si el paciente no tiene ninguna enfermedad cardíaca, 1 si el paciente tiene una enfermedad cardíaca. \n",
        "- Ever_married: si ha estado alguna vez casado: \"No\" o \"Yes\". \n",
        "- Work_type: \"Children/Cuidado de hijos\", \"Govt_job/Funcionario del Gobierno\", \"Never_worked/Nunca ha trabajado\", \"Private/trabajador por cuenta ajena\" o \"Self-employeed/Trabajador por cuenta propia\". \n",
        "- Residence_type: \"Rural\" o \"Urbano\". \n",
        "- Avg_glucose_level: nivel medio de glucosa en sangre. \n",
        "- Bmi: índice de masa corporal (IMC). \n",
        "- Smoking_status: \"Fue fumador\", \"Nunca ha fumado\", \"Fuma actualmente\" o \"Desconocido\". \n",
        "- Stroke: 1 si el paciente tuvo un accidente cerebrovascular o 0 si no lo tuvo. \n",
        "\n",
        "### Con todos estos datos, os pedimos lo siguiente:\n",
        "1. Preprocesado: \n",
        "   - Convertir todas las variables categóricas a numéricas (gender, ever_married, work_type, residence_type, smoking_status). \n",
        "   - Existen 1544 personas de las que se desconoce si fuman o no; vamos a asignar también un número para esta posibilidad. \n",
        "   - Existen 201 personas de las que se desconoce su BMI (IMC); vamos a eliminar estos casos para la generación del modelo al tratarse de un bajo porcentaje (4%).\n",
        "   - Escalar los datos para su uso por el algoritmo.\n",
        "2. Generar un modelo con el algoritmo de KNN.\n",
        "3. Evaluación del modelo\n",
        "   - Calcula el Accuracy.\n",
        "   - Grafica la ROC-Curve.\n",
        "   - Grafica la Confusion-Matrix.\n",
        "   - Comenta los resultados.\n"
      ]
    },
    {
      "attachments": {},
      "cell_type": "markdown",
      "metadata": {
        "id": "9NPwGkdbYUTE"
      },
      "source": [
        "# Solución"
      ]
    },
    {
      "attachments": {},
      "cell_type": "markdown",
      "metadata": {
        "id": "7o0bza5nZOOa"
      },
      "source": [
        "## 1 - Preprocesamiento de los datos "
      ]
    },
    {
      "attachments": {},
      "cell_type": "markdown",
      "metadata": {
        "id": "nfXbVuBeYsSJ"
      },
      "source": [
        "### Carga de datos"
      ]
    },
    {
      "cell_type": "code",
      "execution_count": 104,
      "metadata": {},
      "outputs": [],
      "source": [
        "# importamos las librerias\n",
        "import pandas as pd\n",
        "import matplotlib.pyplot as plt\n",
        "import numpy\n",
        "from sklearn.preprocessing import StandardScaler\n",
        "\n",
        "# definimos el path donde buscar los datos\n",
        "path = 'data/health.csv'\n",
        "\n",
        "# creamos dataframe\n",
        "df_org = pd.read_csv(path, sep=',', decimal='.')\n",
        "\n",
        "df_org = df_org.rename(columns={\"Residence_type\": \"residence_type\"})"
      ]
    },
    {
      "cell_type": "code",
      "execution_count": 105,
      "metadata": {},
      "outputs": [
        {
          "data": {
            "text/html": [
              "<div>\n",
              "<style scoped>\n",
              "    .dataframe tbody tr th:only-of-type {\n",
              "        vertical-align: middle;\n",
              "    }\n",
              "\n",
              "    .dataframe tbody tr th {\n",
              "        vertical-align: top;\n",
              "    }\n",
              "\n",
              "    .dataframe thead th {\n",
              "        text-align: right;\n",
              "    }\n",
              "</style>\n",
              "<table border=\"1\" class=\"dataframe\">\n",
              "  <thead>\n",
              "    <tr style=\"text-align: right;\">\n",
              "      <th></th>\n",
              "      <th>id</th>\n",
              "      <th>gender</th>\n",
              "      <th>age</th>\n",
              "      <th>hypertension</th>\n",
              "      <th>heart_disease</th>\n",
              "      <th>ever_married</th>\n",
              "      <th>work_type</th>\n",
              "      <th>residence_type</th>\n",
              "      <th>avg_glucose_level</th>\n",
              "      <th>bmi</th>\n",
              "      <th>smoking_status</th>\n",
              "      <th>stroke</th>\n",
              "    </tr>\n",
              "  </thead>\n",
              "  <tbody>\n",
              "    <tr>\n",
              "      <th>0</th>\n",
              "      <td>9046</td>\n",
              "      <td>Male</td>\n",
              "      <td>67.0</td>\n",
              "      <td>0</td>\n",
              "      <td>1</td>\n",
              "      <td>Yes</td>\n",
              "      <td>Private</td>\n",
              "      <td>Urban</td>\n",
              "      <td>228.69</td>\n",
              "      <td>36.6</td>\n",
              "      <td>formerly smoked</td>\n",
              "      <td>1</td>\n",
              "    </tr>\n",
              "    <tr>\n",
              "      <th>1</th>\n",
              "      <td>51676</td>\n",
              "      <td>Female</td>\n",
              "      <td>61.0</td>\n",
              "      <td>0</td>\n",
              "      <td>0</td>\n",
              "      <td>Yes</td>\n",
              "      <td>Self-employed</td>\n",
              "      <td>Rural</td>\n",
              "      <td>202.21</td>\n",
              "      <td>NaN</td>\n",
              "      <td>never smoked</td>\n",
              "      <td>1</td>\n",
              "    </tr>\n",
              "    <tr>\n",
              "      <th>2</th>\n",
              "      <td>31112</td>\n",
              "      <td>Male</td>\n",
              "      <td>80.0</td>\n",
              "      <td>0</td>\n",
              "      <td>1</td>\n",
              "      <td>Yes</td>\n",
              "      <td>Private</td>\n",
              "      <td>Rural</td>\n",
              "      <td>105.92</td>\n",
              "      <td>32.5</td>\n",
              "      <td>never smoked</td>\n",
              "      <td>1</td>\n",
              "    </tr>\n",
              "    <tr>\n",
              "      <th>3</th>\n",
              "      <td>60182</td>\n",
              "      <td>Female</td>\n",
              "      <td>49.0</td>\n",
              "      <td>0</td>\n",
              "      <td>0</td>\n",
              "      <td>Yes</td>\n",
              "      <td>Private</td>\n",
              "      <td>Urban</td>\n",
              "      <td>171.23</td>\n",
              "      <td>34.4</td>\n",
              "      <td>smokes</td>\n",
              "      <td>1</td>\n",
              "    </tr>\n",
              "    <tr>\n",
              "      <th>4</th>\n",
              "      <td>1665</td>\n",
              "      <td>Female</td>\n",
              "      <td>79.0</td>\n",
              "      <td>1</td>\n",
              "      <td>0</td>\n",
              "      <td>Yes</td>\n",
              "      <td>Self-employed</td>\n",
              "      <td>Rural</td>\n",
              "      <td>174.12</td>\n",
              "      <td>24.0</td>\n",
              "      <td>never smoked</td>\n",
              "      <td>1</td>\n",
              "    </tr>\n",
              "  </tbody>\n",
              "</table>\n",
              "</div>"
            ],
            "text/plain": [
              "      id  gender   age  hypertension  heart_disease ever_married  \\\n",
              "0   9046    Male  67.0             0              1          Yes   \n",
              "1  51676  Female  61.0             0              0          Yes   \n",
              "2  31112    Male  80.0             0              1          Yes   \n",
              "3  60182  Female  49.0             0              0          Yes   \n",
              "4   1665  Female  79.0             1              0          Yes   \n",
              "\n",
              "       work_type residence_type  avg_glucose_level   bmi   smoking_status  \\\n",
              "0        Private          Urban             228.69  36.6  formerly smoked   \n",
              "1  Self-employed          Rural             202.21   NaN     never smoked   \n",
              "2        Private          Rural             105.92  32.5     never smoked   \n",
              "3        Private          Urban             171.23  34.4           smokes   \n",
              "4  Self-employed          Rural             174.12  24.0     never smoked   \n",
              "\n",
              "   stroke  \n",
              "0       1  \n",
              "1       1  \n",
              "2       1  \n",
              "3       1  \n",
              "4       1  "
            ]
          },
          "execution_count": 105,
          "metadata": {},
          "output_type": "execute_result"
        }
      ],
      "source": [
        "# previsualizamos los datos\n",
        "df_org.head(5)"
      ]
    },
    {
      "cell_type": "code",
      "execution_count": 106,
      "metadata": {
        "colab": {
          "base_uri": "https://localhost:8080/"
        },
        "id": "r_e2LoAoMhjd",
        "outputId": "21687a0d-b4ee-49b3-9932-cd39acf47218"
      },
      "outputs": [],
      "source": [
        "# copiamos dataframe para no alterar original\n",
        "df = df_org.copy()"
      ]
    },
    {
      "attachments": {},
      "cell_type": "markdown",
      "metadata": {},
      "source": [
        "### Análisis del dataset"
      ]
    },
    {
      "cell_type": "code",
      "execution_count": 107,
      "metadata": {
        "colab": {
          "base_uri": "https://localhost:8080/"
        },
        "collapsed": true,
        "id": "ypV2DhKMbV8F",
        "outputId": "e308e117-955d-47a7-b0fa-1f290ccdc05b"
      },
      "outputs": [
        {
          "data": {
            "text/plain": [
              "(5110, 12)"
            ]
          },
          "execution_count": 107,
          "metadata": {},
          "output_type": "execute_result"
        }
      ],
      "source": [
        "df.shape"
      ]
    },
    {
      "attachments": {},
      "cell_type": "markdown",
      "metadata": {},
      "source": [
        "Nuestro dataset cuenta con un total de 5110 observaciones y 12 variables."
      ]
    },
    {
      "cell_type": "code",
      "execution_count": 108,
      "metadata": {
        "colab": {
          "base_uri": "https://localhost:8080/"
        },
        "id": "BzgzALJvfT5M",
        "outputId": "2bcba713-3d40-43dd-dcc3-0ae466945a78"
      },
      "outputs": [
        {
          "data": {
            "text/plain": [
              "id                     0\n",
              "gender                 0\n",
              "age                    0\n",
              "hypertension           0\n",
              "heart_disease          0\n",
              "ever_married           0\n",
              "work_type              0\n",
              "residence_type         0\n",
              "avg_glucose_level      0\n",
              "bmi                  201\n",
              "smoking_status         0\n",
              "stroke                 0\n",
              "dtype: int64"
            ]
          },
          "execution_count": 108,
          "metadata": {},
          "output_type": "execute_result"
        }
      ],
      "source": [
        "df.isna().sum()"
      ]
    },
    {
      "attachments": {},
      "cell_type": "markdown",
      "metadata": {},
      "source": [
        "Encontramos 201 valores nulos en la columna `bmi` (Indice de Masa corporal)."
      ]
    },
    {
      "cell_type": "code",
      "execution_count": 109,
      "metadata": {},
      "outputs": [
        {
          "name": "stdout",
          "output_type": "stream",
          "text": [
            "<class 'pandas.core.frame.DataFrame'>\n",
            "RangeIndex: 5110 entries, 0 to 5109\n",
            "Data columns (total 12 columns):\n",
            " #   Column             Non-Null Count  Dtype  \n",
            "---  ------             --------------  -----  \n",
            " 0   id                 5110 non-null   int64  \n",
            " 1   gender             5110 non-null   object \n",
            " 2   age                5110 non-null   float64\n",
            " 3   hypertension       5110 non-null   int64  \n",
            " 4   heart_disease      5110 non-null   int64  \n",
            " 5   ever_married       5110 non-null   object \n",
            " 6   work_type          5110 non-null   object \n",
            " 7   residence_type     5110 non-null   object \n",
            " 8   avg_glucose_level  5110 non-null   float64\n",
            " 9   bmi                4909 non-null   float64\n",
            " 10  smoking_status     5110 non-null   object \n",
            " 11  stroke             5110 non-null   int64  \n",
            "dtypes: float64(3), int64(4), object(5)\n",
            "memory usage: 479.2+ KB\n",
            "None\n"
          ]
        }
      ],
      "source": [
        "# resumen de los datos\n",
        "print(df.info())"
      ]
    },
    {
      "attachments": {},
      "cell_type": "markdown",
      "metadata": {},
      "source": [
        "### Tratamiento de los datos"
      ]
    },
    {
      "attachments": {},
      "cell_type": "markdown",
      "metadata": {},
      "source": [
        "En primer lugar controlaremos la cantidad de valores únicos que tiene cada una de las columnas categóricas de nuestro dataset"
      ]
    },
    {
      "cell_type": "code",
      "execution_count": 110,
      "metadata": {},
      "outputs": [
        {
          "name": "stdout",
          "output_type": "stream",
          "text": [
            "gender - posibles valores: 3\n",
            "ever_married - posibles valores: 2\n",
            "work_type - posibles valores: 5\n",
            "residence_type - posibles valores: 2\n",
            "smoking_status - posibles valores: 4\n"
          ]
        }
      ],
      "source": [
        "print(\"gender - posibles valores:\", df['gender'].nunique())\n",
        "print(\"ever_married - posibles valores:\", df['ever_married'].nunique())\n",
        "print(\"work_type - posibles valores:\", df['work_type'].nunique())\n",
        "print(\"residence_type - posibles valores:\", df['residence_type'].nunique())\n",
        "print(\"smoking_status - posibles valores:\", df['smoking_status'].nunique())"
      ]
    },
    {
      "attachments": {},
      "cell_type": "markdown",
      "metadata": {},
      "source": [
        "Veamos la distribución de valores en cada columna"
      ]
    },
    {
      "cell_type": "code",
      "execution_count": 111,
      "metadata": {},
      "outputs": [
        {
          "name": "stdout",
          "output_type": "stream",
          "text": [
            "gender\n",
            "Female    2994\n",
            "Male      2115\n",
            "Other        1\n",
            "Name: count, dtype: int64\n",
            "ever_married\n",
            "Yes    3353\n",
            "No     1757\n",
            "Name: count, dtype: int64\n",
            "work_type\n",
            "Private          2925\n",
            "Self-employed     819\n",
            "children          687\n",
            "Govt_job          657\n",
            "Never_worked       22\n",
            "Name: count, dtype: int64\n",
            "residence_type\n",
            "Urban    2596\n",
            "Rural    2514\n",
            "Name: count, dtype: int64\n",
            "smoking_status\n",
            "never smoked       1892\n",
            "Unknown            1544\n",
            "formerly smoked     885\n",
            "smokes              789\n",
            "Name: count, dtype: int64\n",
            "stroke\n",
            "0    4861\n",
            "1     249\n",
            "Name: count, dtype: int64\n"
          ]
        }
      ],
      "source": [
        "print(df['gender'].value_counts())\n",
        "print(df['ever_married'].value_counts())\n",
        "print(df['work_type'].value_counts())\n",
        "print(df['residence_type'].value_counts())\n",
        "print(df['smoking_status'].value_counts())\n",
        "print(df['stroke'].value_counts())"
      ]
    },
    {
      "attachments": {},
      "cell_type": "markdown",
      "metadata": {},
      "source": [
        "Se puede notar que existen 1544 observaciones con valor `Unknown` para el campo `smoking_status`, necesitamos asginarles un valor. Como vimos en las clases teóricas existen diferéntes métodos para estimar un posible valor a cada observación del dataset, a manera de simplificar el análisis y avanzar con el enunciado elegimos hacerlo mediante el uso de la **moda** de la variable, es decir, obtendremos la moda de la variable `smoking_status` y asignaremos este valor a las lecturas faltantes."
      ]
    },
    {
      "attachments": {},
      "cell_type": "markdown",
      "metadata": {},
      "source": [
        "También es necesario mencionar que tenemos un desbalance importante en nuestras clases, es decir en la variable a predecir `stroke`, volveremos sobre este punto más adelante en el trabajo."
      ]
    },
    {
      "cell_type": "code",
      "execution_count": 112,
      "metadata": {},
      "outputs": [
        {
          "data": {
            "text/plain": [
              "0    never smoked\n",
              "Name: smoking_status, dtype: object"
            ]
          },
          "execution_count": 112,
          "metadata": {},
          "output_type": "execute_result"
        }
      ],
      "source": [
        "df['smoking_status'].mode()"
      ]
    },
    {
      "cell_type": "code",
      "execution_count": 113,
      "metadata": {},
      "outputs": [],
      "source": [
        "df.loc[df['smoking_status'] == 'Unknown', 'smoking_status'] = 'never smoked'"
      ]
    },
    {
      "attachments": {},
      "cell_type": "markdown",
      "metadata": {},
      "source": [
        "Procedemos a realizar una **numerización** de las variables categóricas, es decir realizaremos un encoding de los campos categóricos a enteros para que el algoritmo KNN pueda trabajar con ellos"
      ]
    },
    {
      "cell_type": "code",
      "execution_count": 114,
      "metadata": {},
      "outputs": [
        {
          "data": {
            "text/html": [
              "<div>\n",
              "<style scoped>\n",
              "    .dataframe tbody tr th:only-of-type {\n",
              "        vertical-align: middle;\n",
              "    }\n",
              "\n",
              "    .dataframe tbody tr th {\n",
              "        vertical-align: top;\n",
              "    }\n",
              "\n",
              "    .dataframe thead th {\n",
              "        text-align: right;\n",
              "    }\n",
              "</style>\n",
              "<table border=\"1\" class=\"dataframe\">\n",
              "  <thead>\n",
              "    <tr style=\"text-align: right;\">\n",
              "      <th></th>\n",
              "      <th>id</th>\n",
              "      <th>gender</th>\n",
              "      <th>age</th>\n",
              "      <th>hypertension</th>\n",
              "      <th>heart_disease</th>\n",
              "      <th>ever_married</th>\n",
              "      <th>work_type</th>\n",
              "      <th>residence_type</th>\n",
              "      <th>avg_glucose_level</th>\n",
              "      <th>bmi</th>\n",
              "      <th>smoking_status</th>\n",
              "      <th>stroke</th>\n",
              "      <th>gender_r</th>\n",
              "      <th>ever_married_r</th>\n",
              "      <th>work_type_r</th>\n",
              "      <th>residence_type_r</th>\n",
              "      <th>smoking_status_r</th>\n",
              "    </tr>\n",
              "  </thead>\n",
              "  <tbody>\n",
              "    <tr>\n",
              "      <th>0</th>\n",
              "      <td>9046</td>\n",
              "      <td>Male</td>\n",
              "      <td>67.0</td>\n",
              "      <td>0</td>\n",
              "      <td>1</td>\n",
              "      <td>Yes</td>\n",
              "      <td>Private</td>\n",
              "      <td>Urban</td>\n",
              "      <td>228.69</td>\n",
              "      <td>36.6</td>\n",
              "      <td>formerly smoked</td>\n",
              "      <td>1</td>\n",
              "      <td>1</td>\n",
              "      <td>1</td>\n",
              "      <td>2</td>\n",
              "      <td>1</td>\n",
              "      <td>0</td>\n",
              "    </tr>\n",
              "    <tr>\n",
              "      <th>1</th>\n",
              "      <td>51676</td>\n",
              "      <td>Female</td>\n",
              "      <td>61.0</td>\n",
              "      <td>0</td>\n",
              "      <td>0</td>\n",
              "      <td>Yes</td>\n",
              "      <td>Self-employed</td>\n",
              "      <td>Rural</td>\n",
              "      <td>202.21</td>\n",
              "      <td>NaN</td>\n",
              "      <td>never smoked</td>\n",
              "      <td>1</td>\n",
              "      <td>0</td>\n",
              "      <td>1</td>\n",
              "      <td>3</td>\n",
              "      <td>0</td>\n",
              "      <td>1</td>\n",
              "    </tr>\n",
              "    <tr>\n",
              "      <th>2</th>\n",
              "      <td>31112</td>\n",
              "      <td>Male</td>\n",
              "      <td>80.0</td>\n",
              "      <td>0</td>\n",
              "      <td>1</td>\n",
              "      <td>Yes</td>\n",
              "      <td>Private</td>\n",
              "      <td>Rural</td>\n",
              "      <td>105.92</td>\n",
              "      <td>32.5</td>\n",
              "      <td>never smoked</td>\n",
              "      <td>1</td>\n",
              "      <td>1</td>\n",
              "      <td>1</td>\n",
              "      <td>2</td>\n",
              "      <td>0</td>\n",
              "      <td>1</td>\n",
              "    </tr>\n",
              "    <tr>\n",
              "      <th>3</th>\n",
              "      <td>60182</td>\n",
              "      <td>Female</td>\n",
              "      <td>49.0</td>\n",
              "      <td>0</td>\n",
              "      <td>0</td>\n",
              "      <td>Yes</td>\n",
              "      <td>Private</td>\n",
              "      <td>Urban</td>\n",
              "      <td>171.23</td>\n",
              "      <td>34.4</td>\n",
              "      <td>smokes</td>\n",
              "      <td>1</td>\n",
              "      <td>0</td>\n",
              "      <td>1</td>\n",
              "      <td>2</td>\n",
              "      <td>1</td>\n",
              "      <td>2</td>\n",
              "    </tr>\n",
              "    <tr>\n",
              "      <th>4</th>\n",
              "      <td>1665</td>\n",
              "      <td>Female</td>\n",
              "      <td>79.0</td>\n",
              "      <td>1</td>\n",
              "      <td>0</td>\n",
              "      <td>Yes</td>\n",
              "      <td>Self-employed</td>\n",
              "      <td>Rural</td>\n",
              "      <td>174.12</td>\n",
              "      <td>24.0</td>\n",
              "      <td>never smoked</td>\n",
              "      <td>1</td>\n",
              "      <td>0</td>\n",
              "      <td>1</td>\n",
              "      <td>3</td>\n",
              "      <td>0</td>\n",
              "      <td>1</td>\n",
              "    </tr>\n",
              "    <tr>\n",
              "      <th>5</th>\n",
              "      <td>56669</td>\n",
              "      <td>Male</td>\n",
              "      <td>81.0</td>\n",
              "      <td>0</td>\n",
              "      <td>0</td>\n",
              "      <td>Yes</td>\n",
              "      <td>Private</td>\n",
              "      <td>Urban</td>\n",
              "      <td>186.21</td>\n",
              "      <td>29.0</td>\n",
              "      <td>formerly smoked</td>\n",
              "      <td>1</td>\n",
              "      <td>1</td>\n",
              "      <td>1</td>\n",
              "      <td>2</td>\n",
              "      <td>1</td>\n",
              "      <td>0</td>\n",
              "    </tr>\n",
              "    <tr>\n",
              "      <th>6</th>\n",
              "      <td>53882</td>\n",
              "      <td>Male</td>\n",
              "      <td>74.0</td>\n",
              "      <td>1</td>\n",
              "      <td>1</td>\n",
              "      <td>Yes</td>\n",
              "      <td>Private</td>\n",
              "      <td>Rural</td>\n",
              "      <td>70.09</td>\n",
              "      <td>27.4</td>\n",
              "      <td>never smoked</td>\n",
              "      <td>1</td>\n",
              "      <td>1</td>\n",
              "      <td>1</td>\n",
              "      <td>2</td>\n",
              "      <td>0</td>\n",
              "      <td>1</td>\n",
              "    </tr>\n",
              "    <tr>\n",
              "      <th>7</th>\n",
              "      <td>10434</td>\n",
              "      <td>Female</td>\n",
              "      <td>69.0</td>\n",
              "      <td>0</td>\n",
              "      <td>0</td>\n",
              "      <td>No</td>\n",
              "      <td>Private</td>\n",
              "      <td>Urban</td>\n",
              "      <td>94.39</td>\n",
              "      <td>22.8</td>\n",
              "      <td>never smoked</td>\n",
              "      <td>1</td>\n",
              "      <td>0</td>\n",
              "      <td>0</td>\n",
              "      <td>2</td>\n",
              "      <td>1</td>\n",
              "      <td>1</td>\n",
              "    </tr>\n",
              "    <tr>\n",
              "      <th>8</th>\n",
              "      <td>27419</td>\n",
              "      <td>Female</td>\n",
              "      <td>59.0</td>\n",
              "      <td>0</td>\n",
              "      <td>0</td>\n",
              "      <td>Yes</td>\n",
              "      <td>Private</td>\n",
              "      <td>Rural</td>\n",
              "      <td>76.15</td>\n",
              "      <td>NaN</td>\n",
              "      <td>never smoked</td>\n",
              "      <td>1</td>\n",
              "      <td>0</td>\n",
              "      <td>1</td>\n",
              "      <td>2</td>\n",
              "      <td>0</td>\n",
              "      <td>1</td>\n",
              "    </tr>\n",
              "    <tr>\n",
              "      <th>9</th>\n",
              "      <td>60491</td>\n",
              "      <td>Female</td>\n",
              "      <td>78.0</td>\n",
              "      <td>0</td>\n",
              "      <td>0</td>\n",
              "      <td>Yes</td>\n",
              "      <td>Private</td>\n",
              "      <td>Urban</td>\n",
              "      <td>58.57</td>\n",
              "      <td>24.2</td>\n",
              "      <td>never smoked</td>\n",
              "      <td>1</td>\n",
              "      <td>0</td>\n",
              "      <td>1</td>\n",
              "      <td>2</td>\n",
              "      <td>1</td>\n",
              "      <td>1</td>\n",
              "    </tr>\n",
              "  </tbody>\n",
              "</table>\n",
              "</div>"
            ],
            "text/plain": [
              "      id  gender   age  hypertension  heart_disease ever_married  \\\n",
              "0   9046    Male  67.0             0              1          Yes   \n",
              "1  51676  Female  61.0             0              0          Yes   \n",
              "2  31112    Male  80.0             0              1          Yes   \n",
              "3  60182  Female  49.0             0              0          Yes   \n",
              "4   1665  Female  79.0             1              0          Yes   \n",
              "5  56669    Male  81.0             0              0          Yes   \n",
              "6  53882    Male  74.0             1              1          Yes   \n",
              "7  10434  Female  69.0             0              0           No   \n",
              "8  27419  Female  59.0             0              0          Yes   \n",
              "9  60491  Female  78.0             0              0          Yes   \n",
              "\n",
              "       work_type residence_type  avg_glucose_level   bmi   smoking_status  \\\n",
              "0        Private          Urban             228.69  36.6  formerly smoked   \n",
              "1  Self-employed          Rural             202.21   NaN     never smoked   \n",
              "2        Private          Rural             105.92  32.5     never smoked   \n",
              "3        Private          Urban             171.23  34.4           smokes   \n",
              "4  Self-employed          Rural             174.12  24.0     never smoked   \n",
              "5        Private          Urban             186.21  29.0  formerly smoked   \n",
              "6        Private          Rural              70.09  27.4     never smoked   \n",
              "7        Private          Urban              94.39  22.8     never smoked   \n",
              "8        Private          Rural              76.15   NaN     never smoked   \n",
              "9        Private          Urban              58.57  24.2     never smoked   \n",
              "\n",
              "   stroke  gender_r  ever_married_r  work_type_r  residence_type_r  \\\n",
              "0       1         1               1            2                 1   \n",
              "1       1         0               1            3                 0   \n",
              "2       1         1               1            2                 0   \n",
              "3       1         0               1            2                 1   \n",
              "4       1         0               1            3                 0   \n",
              "5       1         1               1            2                 1   \n",
              "6       1         1               1            2                 0   \n",
              "7       1         0               0            2                 1   \n",
              "8       1         0               1            2                 0   \n",
              "9       1         0               1            2                 1   \n",
              "\n",
              "   smoking_status_r  \n",
              "0                 0  \n",
              "1                 1  \n",
              "2                 1  \n",
              "3                 2  \n",
              "4                 1  \n",
              "5                 0  \n",
              "6                 1  \n",
              "7                 1  \n",
              "8                 1  \n",
              "9                 1  "
            ]
          },
          "execution_count": 114,
          "metadata": {},
          "output_type": "execute_result"
        }
      ],
      "source": [
        "# creamos columnas auxiliares con los encondings\n",
        "df['gender_r'] = df['gender'].astype('category').cat.codes\n",
        "df['ever_married_r'] = df['ever_married'].astype('category').cat.codes\n",
        "df['work_type_r'] = df['work_type'].astype('category').cat.codes\n",
        "df['residence_type_r'] = df['residence_type'].astype('category').cat.codes\n",
        "df['smoking_status_r'] = df['smoking_status'].astype('category').cat.codes\n",
        "\n",
        "# hacemos un pequeño control \n",
        "df.head(10)"
      ]
    },
    {
      "attachments": {},
      "cell_type": "markdown",
      "metadata": {},
      "source": [
        "Ahora realizaremos un escalado de los campos originalmente numéricos `age`, `avg_glucose_level` y `bmi`"
      ]
    },
    {
      "cell_type": "code",
      "execution_count": 115,
      "metadata": {},
      "outputs": [],
      "source": [
        "# instanciamos el scaler\n",
        "scaler = StandardScaler()\n",
        "\n",
        "# escalamos las columnas age, avg_glucose_level y bmi\n",
        "columns_to_scale = ['age', 'avg_glucose_level', 'bmi']\n",
        "df[columns_to_scale] = scaler.fit_transform(df[columns_to_scale])"
      ]
    },
    {
      "cell_type": "code",
      "execution_count": 116,
      "metadata": {},
      "outputs": [
        {
          "name": "stdout",
          "output_type": "stream",
          "text": [
            "0.0\n",
            "1.0\n"
          ]
        },
        {
          "data": {
            "text/html": [
              "<div>\n",
              "<style scoped>\n",
              "    .dataframe tbody tr th:only-of-type {\n",
              "        vertical-align: middle;\n",
              "    }\n",
              "\n",
              "    .dataframe tbody tr th {\n",
              "        vertical-align: top;\n",
              "    }\n",
              "\n",
              "    .dataframe thead th {\n",
              "        text-align: right;\n",
              "    }\n",
              "</style>\n",
              "<table border=\"1\" class=\"dataframe\">\n",
              "  <thead>\n",
              "    <tr style=\"text-align: right;\">\n",
              "      <th></th>\n",
              "      <th>id</th>\n",
              "      <th>gender</th>\n",
              "      <th>age</th>\n",
              "      <th>hypertension</th>\n",
              "      <th>heart_disease</th>\n",
              "      <th>ever_married</th>\n",
              "      <th>work_type</th>\n",
              "      <th>residence_type</th>\n",
              "      <th>avg_glucose_level</th>\n",
              "      <th>bmi</th>\n",
              "      <th>smoking_status</th>\n",
              "      <th>stroke</th>\n",
              "      <th>gender_r</th>\n",
              "      <th>ever_married_r</th>\n",
              "      <th>work_type_r</th>\n",
              "      <th>residence_type_r</th>\n",
              "      <th>smoking_status_r</th>\n",
              "    </tr>\n",
              "  </thead>\n",
              "  <tbody>\n",
              "    <tr>\n",
              "      <th>0</th>\n",
              "      <td>9046</td>\n",
              "      <td>Male</td>\n",
              "      <td>1.051434</td>\n",
              "      <td>0</td>\n",
              "      <td>1</td>\n",
              "      <td>Yes</td>\n",
              "      <td>Private</td>\n",
              "      <td>Urban</td>\n",
              "      <td>2.706375</td>\n",
              "      <td>0.981345</td>\n",
              "      <td>formerly smoked</td>\n",
              "      <td>1</td>\n",
              "      <td>1</td>\n",
              "      <td>1</td>\n",
              "      <td>2</td>\n",
              "      <td>1</td>\n",
              "      <td>0</td>\n",
              "    </tr>\n",
              "    <tr>\n",
              "      <th>1</th>\n",
              "      <td>51676</td>\n",
              "      <td>Female</td>\n",
              "      <td>0.786070</td>\n",
              "      <td>0</td>\n",
              "      <td>0</td>\n",
              "      <td>Yes</td>\n",
              "      <td>Self-employed</td>\n",
              "      <td>Rural</td>\n",
              "      <td>2.121559</td>\n",
              "      <td>NaN</td>\n",
              "      <td>never smoked</td>\n",
              "      <td>1</td>\n",
              "      <td>0</td>\n",
              "      <td>1</td>\n",
              "      <td>3</td>\n",
              "      <td>0</td>\n",
              "      <td>1</td>\n",
              "    </tr>\n",
              "    <tr>\n",
              "      <th>2</th>\n",
              "      <td>31112</td>\n",
              "      <td>Male</td>\n",
              "      <td>1.626390</td>\n",
              "      <td>0</td>\n",
              "      <td>1</td>\n",
              "      <td>Yes</td>\n",
              "      <td>Private</td>\n",
              "      <td>Rural</td>\n",
              "      <td>-0.005028</td>\n",
              "      <td>0.459269</td>\n",
              "      <td>never smoked</td>\n",
              "      <td>1</td>\n",
              "      <td>1</td>\n",
              "      <td>1</td>\n",
              "      <td>2</td>\n",
              "      <td>0</td>\n",
              "      <td>1</td>\n",
              "    </tr>\n",
              "    <tr>\n",
              "      <th>3</th>\n",
              "      <td>60182</td>\n",
              "      <td>Female</td>\n",
              "      <td>0.255342</td>\n",
              "      <td>0</td>\n",
              "      <td>0</td>\n",
              "      <td>Yes</td>\n",
              "      <td>Private</td>\n",
              "      <td>Urban</td>\n",
              "      <td>1.437358</td>\n",
              "      <td>0.701207</td>\n",
              "      <td>smokes</td>\n",
              "      <td>1</td>\n",
              "      <td>0</td>\n",
              "      <td>1</td>\n",
              "      <td>2</td>\n",
              "      <td>1</td>\n",
              "      <td>2</td>\n",
              "    </tr>\n",
              "    <tr>\n",
              "      <th>4</th>\n",
              "      <td>1665</td>\n",
              "      <td>Female</td>\n",
              "      <td>1.582163</td>\n",
              "      <td>1</td>\n",
              "      <td>0</td>\n",
              "      <td>Yes</td>\n",
              "      <td>Self-employed</td>\n",
              "      <td>Rural</td>\n",
              "      <td>1.501184</td>\n",
              "      <td>-0.623083</td>\n",
              "      <td>never smoked</td>\n",
              "      <td>1</td>\n",
              "      <td>0</td>\n",
              "      <td>1</td>\n",
              "      <td>3</td>\n",
              "      <td>0</td>\n",
              "      <td>1</td>\n",
              "    </tr>\n",
              "  </tbody>\n",
              "</table>\n",
              "</div>"
            ],
            "text/plain": [
              "      id  gender       age  hypertension  heart_disease ever_married  \\\n",
              "0   9046    Male  1.051434             0              1          Yes   \n",
              "1  51676  Female  0.786070             0              0          Yes   \n",
              "2  31112    Male  1.626390             0              1          Yes   \n",
              "3  60182  Female  0.255342             0              0          Yes   \n",
              "4   1665  Female  1.582163             1              0          Yes   \n",
              "\n",
              "       work_type residence_type  avg_glucose_level       bmi   smoking_status  \\\n",
              "0        Private          Urban           2.706375  0.981345  formerly smoked   \n",
              "1  Self-employed          Rural           2.121559       NaN     never smoked   \n",
              "2        Private          Rural          -0.005028  0.459269     never smoked   \n",
              "3        Private          Urban           1.437358  0.701207           smokes   \n",
              "4  Self-employed          Rural           1.501184 -0.623083     never smoked   \n",
              "\n",
              "   stroke  gender_r  ever_married_r  work_type_r  residence_type_r  \\\n",
              "0       1         1               1            2                 1   \n",
              "1       1         0               1            3                 0   \n",
              "2       1         1               1            2                 0   \n",
              "3       1         0               1            2                 1   \n",
              "4       1         0               1            3                 0   \n",
              "\n",
              "   smoking_status_r  \n",
              "0                 0  \n",
              "1                 1  \n",
              "2                 1  \n",
              "3                 2  \n",
              "4                 1  "
            ]
          },
          "execution_count": 116,
          "metadata": {},
          "output_type": "execute_result"
        }
      ],
      "source": [
        "# checkeamos los valores escalados\n",
        "print (round(df[\"avg_glucose_level\"].mean(),2))\n",
        "print (round(df[\"avg_glucose_level\"].std(),2))\n",
        "\n",
        "# visualizamos nuestro dataset\n",
        "df.head()"
      ]
    },
    {
      "attachments": {},
      "cell_type": "markdown",
      "metadata": {},
      "source": [
        "Nos queda como paso final de sanitización la eliminación de las observaciones cuyos valores de **IMC** son **NA**"
      ]
    },
    {
      "cell_type": "code",
      "execution_count": 117,
      "metadata": {},
      "outputs": [],
      "source": [
        "# eliminamos valores na\n",
        "df = df.dropna()"
      ]
    },
    {
      "cell_type": "code",
      "execution_count": 118,
      "metadata": {},
      "outputs": [
        {
          "data": {
            "text/plain": [
              "id                   0\n",
              "gender               0\n",
              "age                  0\n",
              "hypertension         0\n",
              "heart_disease        0\n",
              "ever_married         0\n",
              "work_type            0\n",
              "residence_type       0\n",
              "avg_glucose_level    0\n",
              "bmi                  0\n",
              "smoking_status       0\n",
              "stroke               0\n",
              "gender_r             0\n",
              "ever_married_r       0\n",
              "work_type_r          0\n",
              "residence_type_r     0\n",
              "smoking_status_r     0\n",
              "dtype: int64"
            ]
          },
          "execution_count": 118,
          "metadata": {},
          "output_type": "execute_result"
        }
      ],
      "source": [
        "# realizamos un pequeño control\n",
        "df.isna().sum()"
      ]
    },
    {
      "cell_type": "code",
      "execution_count": 119,
      "metadata": {},
      "outputs": [
        {
          "data": {
            "text/plain": [
              "(4909, 17)"
            ]
          },
          "execution_count": 119,
          "metadata": {},
          "output_type": "execute_result"
        }
      ],
      "source": [
        "# checkeamos forma del df\n",
        "df.shape"
      ]
    },
    {
      "attachments": {},
      "cell_type": "markdown",
      "metadata": {},
      "source": [
        "Hasta este momento hemos hecho las siguientes modificaciones:\n",
        "- Asignamos a cada valor faltante `unknown` de la columna `smoking_status` la media del valor de la columna, la cual es `never_smoked`.\n",
        "- Codificamos de manera númerica cada una de las columnas de tipo categóricas.\n",
        "- Estandarizamos las variables numéricas `age`, `avg_glucose_level` y `bmi`, escalandolas con `media = 0` y `desviación std = 1`\n",
        "- Eliminamos las observaciones cuyos valores de `bmi` (**imc**) eran desconocidos (`NA`)"
      ]
    },
    {
      "attachments": {},
      "cell_type": "markdown",
      "metadata": {},
      "source": [
        "## 2 - Aplicación modelo de KNN"
      ]
    },
    {
      "attachments": {},
      "cell_type": "markdown",
      "metadata": {},
      "source": [
        "Habiendo realizado los trabajos de preprocsamiento y sanitización requeridos procedemos a la creación del modelo KNN y a su posterior análisis"
      ]
    },
    {
      "cell_type": "code",
      "execution_count": 120,
      "metadata": {},
      "outputs": [],
      "source": [
        "from sklearn.model_selection import cross_val_predict, cross_val_score\n",
        "from sklearn.neighbors import KNeighborsClassifier\n",
        "from sklearn.metrics import confusion_matrix, ConfusionMatrixDisplay\n",
        "from sklearn.metrics import classification_report\n",
        "from sklearn.metrics import precision_recall_curve"
      ]
    },
    {
      "attachments": {},
      "cell_type": "markdown",
      "metadata": {},
      "source": [
        "Seleccionaremos primero nuestras variables predictoras sanitizadas y la variable objetivo a utilizar"
      ]
    },
    {
      "cell_type": "code",
      "execution_count": 121,
      "metadata": {},
      "outputs": [],
      "source": [
        "# creamos dos dfs auxiliares\n",
        "features = df[['gender_r', 'ever_married_r', 'work_type_r', 'residence_type_r', 'smoking_status_r', 'smoking_status_r', 'bmi', 'avg_glucose_level', 'heart_disease', 'hypertension', 'age']].copy()\n",
        "target = df.loc[:,'stroke']"
      ]
    },
    {
      "attachments": {},
      "cell_type": "markdown",
      "metadata": {},
      "source": [
        "Procedemos a encontrar un candidato adecuado para el valor de $K$, lo haremos mediante un método iterativo, es decir crearemos múltiples modelos cada uno con un valor diferente de K, para luego visualizar y comparar la `accuracy` de cada uno de ellos"
      ]
    },
    {
      "cell_type": "code",
      "execution_count": 122,
      "metadata": {},
      "outputs": [],
      "source": [
        "weights=\"uniform\"\n",
        "metric=\"minkowski\"\n",
        "\n",
        "preds_list = []\n",
        "score_list = []\n",
        "k_list = []\n",
        "\n",
        "# iteramos por valores de k impares de 1 a 20\n",
        "for k in list(range(1, 20, 2)):\n",
        "  knn_model = KNeighborsClassifier(n_neighbors=k, weights=weights, metric=metric)\n",
        "  preds_aux = cross_val_predict(knn_model, features, target, cv=3, method=\"predict\", n_jobs=3)\n",
        "  score_aux = cross_val_score(knn_model, features, target, cv=3, scoring=\"accuracy\")\n",
        "  k_list.append(k)\n",
        "  preds_list.append(preds_aux)\n",
        "  score_list.append(score_aux.mean())\n",
        "  \n",
        "df_scores = pd.DataFrame({\"K\":k_list, \n",
        "    \"score\":score_list\n",
        "})"
      ]
    },
    {
      "cell_type": "code",
      "execution_count": 123,
      "metadata": {},
      "outputs": [
        {
          "data": {
            "image/png": "[encoded data removed]",
            "text/plain": [
              "<Figure size 640x480 with 1 Axes>"
            ]
          },
          "metadata": {},
          "output_type": "display_data"
        }
      ],
      "source": [
        "# graficamos la variacion de accuracy con cada valor de k\n",
        "df_scores.set_index(\"K\")[\"score\"].plot(label=\"Rendimiento K-NN para diferentes valores de K\")\n",
        "plt.legend()\n",
        "plt.show()"
      ]
    },
    {
      "attachments": {},
      "cell_type": "markdown",
      "metadata": {},
      "source": [
        "Vemos que tenemos un pico de rendimiento cercano a $K = 7$, utilizaremos este valor y analizaremos sus métricas de bondad"
      ]
    },
    {
      "cell_type": "code",
      "execution_count": 124,
      "metadata": {},
      "outputs": [
        {
          "name": "stdout",
          "output_type": "stream",
          "text": [
            "Accuracy por capa:  [0.95519348 0.95723014 0.95519348 0.95723014 0.95112016 0.95519348\n",
            " 0.95723014 0.95519348 0.95723014 0.95918367]\n",
            "Accuracy media:  0.9559998337420508\n"
          ]
        }
      ],
      "source": [
        "k = 7\n",
        "folds = 10\n",
        "\n",
        "# creamos el clasificador\n",
        "knn_model = KNeighborsClassifier(n_neighbors=k, weights=weights, metric=metric)\n",
        "preds1 = cross_val_predict(knn_model, features, target, cv=folds, method=\"predict\", n_jobs=3)\n",
        "score1 = cross_val_score(knn_model, features, target, cv=folds, scoring=\"accuracy\", n_jobs=3)\n",
        "probs1 = cross_val_predict(knn_model, features, target, cv=folds, method=\"predict_proba\", n_jobs=3)\n",
        "\n",
        "# vemos accuracy por capa\n",
        "print(\"Accuracy por capa: \" , score1)\n",
        "print(\"Accuracy media: \", numpy.mean(score1))"
      ]
    },
    {
      "cell_type": "code",
      "execution_count": 142,
      "metadata": {},
      "outputs": [
        {
          "data": {
            "text/plain": [
              "<sklearn.metrics._plot.confusion_matrix.ConfusionMatrixDisplay at 0x12a25c4d0>"
            ]
          },
          "execution_count": 142,
          "metadata": {},
          "output_type": "execute_result"
        },
        {
          "data": {
            "image/png": "[encoded data removed]",
            "text/plain": [
              "<Figure size 640x480 with 2 Axes>"
            ]
          },
          "metadata": {},
          "output_type": "display_data"
        }
      ],
      "source": [
        "# creamos la matriz de confusion\n",
        "cm = confusion_matrix(target, preds1)\n",
        "ConfusionMatrixDisplay(confusion_matrix=cm).plot()"
      ]
    },
    {
      "attachments": {},
      "cell_type": "markdown",
      "metadata": {},
      "source": [
        "Volvamos un minuto al desbalance de clases con el que lidiamos, pudimos ver que la variable a predecir `stroke` posee muchas mas observaciones con valor igual a 0 (**False**) que las veces que toma el valor 1 (**True**)"
      ]
    },
    {
      "cell_type": "code",
      "execution_count": 126,
      "metadata": {},
      "outputs": [
        {
          "data": {
            "text/plain": [
              "stroke\n",
              "0    0.957425\n",
              "1    0.042575\n",
              "Name: count, dtype: float64"
            ]
          },
          "execution_count": 126,
          "metadata": {},
          "output_type": "execute_result"
        }
      ],
      "source": [
        "df[\"stroke\"].value_counts()/len(df)"
      ]
    },
    {
      "attachments": {},
      "cell_type": "markdown",
      "metadata": {},
      "source": [
        "El 95.7% de los pacientes analizados no sufrieron un Accidente Cerebro Vascular, mientras que solo un 4.3% restante si lo hizo. Lo que significa que si nuestro modelo predijese siempre un posible **caso de ACV como False** acertaría un 95% de las veces pero **fallaría la mayoría de las veces** en predecir los casos en los que el accidente cerebro vascular si sucederá."
      ]
    },
    {
      "cell_type": "code",
      "execution_count": 127,
      "metadata": {},
      "outputs": [
        {
          "data": {
            "image/png": "[encoded data removed]",
            "text/plain": [
              "<Figure size 640x480 with 1 Axes>"
            ]
          },
          "metadata": {},
          "output_type": "display_data"
        }
      ],
      "source": [
        "# obtenemos las curvas precision y recall\n",
        "precision, recall, threshold = precision_recall_curve(target,probs1[:,1])\n",
        "\n",
        "# dibujamos las curvas\n",
        "plt.plot(threshold, precision[:-1], c=\"green\", label=\"Precision\")\n",
        "plt.plot(threshold, recall[:-1], c=\"red\", label=\"Recall\")\n",
        "plt.axvline(0.5, alpha=0.5, c=\"gray\")\n",
        "plt.suptitle(\"Curva Precision vs. Recall\")\n",
        "plt.legend()\n",
        "plt.show()"
      ]
    },
    {
      "attachments": {},
      "cell_type": "markdown",
      "metadata": {},
      "source": [
        "Recordemos como se calculan `accuracy`, `recall` y `precision`\n",
        "\n",
        "$$ accuracy = (TP+TN)/Total Observaciones$$\n",
        "$$ precision=TP/(TP+FP) $$\n",
        "$$ recall=TP/(TP+FN) $$"
      ]
    },
    {
      "attachments": {},
      "cell_type": "markdown",
      "metadata": {},
      "source": [
        "Analizaremos que sucede si utilizamos diferentes valores de `umbral` o `threshold` en la detección de clases"
      ]
    },
    {
      "cell_type": "code",
      "execution_count": 128,
      "metadata": {},
      "outputs": [],
      "source": [
        "df_dict = {\"prob_class0\": probs1[:,0],\n",
        "           \"prob_class1\": probs1[:,1],\n",
        "           \"preds\":preds1}"
      ]
    },
    {
      "cell_type": "code",
      "execution_count": 129,
      "metadata": {},
      "outputs": [
        {
          "data": {
            "text/html": [
              "<div>\n",
              "<style scoped>\n",
              "    .dataframe tbody tr th:only-of-type {\n",
              "        vertical-align: middle;\n",
              "    }\n",
              "\n",
              "    .dataframe tbody tr th {\n",
              "        vertical-align: top;\n",
              "    }\n",
              "\n",
              "    .dataframe thead th {\n",
              "        text-align: right;\n",
              "    }\n",
              "</style>\n",
              "<table border=\"1\" class=\"dataframe\">\n",
              "  <thead>\n",
              "    <tr style=\"text-align: right;\">\n",
              "      <th></th>\n",
              "      <th>prob_class0</th>\n",
              "      <th>prob_class1</th>\n",
              "      <th>preds</th>\n",
              "    </tr>\n",
              "  </thead>\n",
              "  <tbody>\n",
              "    <tr>\n",
              "      <th>0</th>\n",
              "      <td>0.857143</td>\n",
              "      <td>0.142857</td>\n",
              "      <td>0</td>\n",
              "    </tr>\n",
              "    <tr>\n",
              "      <th>1</th>\n",
              "      <td>1.000000</td>\n",
              "      <td>0.000000</td>\n",
              "      <td>0</td>\n",
              "    </tr>\n",
              "    <tr>\n",
              "      <th>2</th>\n",
              "      <td>0.857143</td>\n",
              "      <td>0.142857</td>\n",
              "      <td>0</td>\n",
              "    </tr>\n",
              "    <tr>\n",
              "      <th>3</th>\n",
              "      <td>0.714286</td>\n",
              "      <td>0.285714</td>\n",
              "      <td>0</td>\n",
              "    </tr>\n",
              "    <tr>\n",
              "      <th>4</th>\n",
              "      <td>0.714286</td>\n",
              "      <td>0.285714</td>\n",
              "      <td>0</td>\n",
              "    </tr>\n",
              "  </tbody>\n",
              "</table>\n",
              "</div>"
            ],
            "text/plain": [
              "   prob_class0  prob_class1  preds\n",
              "0     0.857143     0.142857      0\n",
              "1     1.000000     0.000000      0\n",
              "2     0.857143     0.142857      0\n",
              "3     0.714286     0.285714      0\n",
              "4     0.714286     0.285714      0"
            ]
          },
          "execution_count": 129,
          "metadata": {},
          "output_type": "execute_result"
        }
      ],
      "source": [
        "df_probs = pd.DataFrame(df_dict)\n",
        "df_probs.head()"
      ]
    },
    {
      "cell_type": "code",
      "execution_count": 130,
      "metadata": {},
      "outputs": [
        {
          "data": {
            "text/html": [
              "<div>\n",
              "<style scoped>\n",
              "    .dataframe tbody tr th:only-of-type {\n",
              "        vertical-align: middle;\n",
              "    }\n",
              "\n",
              "    .dataframe tbody tr th {\n",
              "        vertical-align: top;\n",
              "    }\n",
              "\n",
              "    .dataframe thead th {\n",
              "        text-align: right;\n",
              "    }\n",
              "</style>\n",
              "<table border=\"1\" class=\"dataframe\">\n",
              "  <thead>\n",
              "    <tr style=\"text-align: right;\">\n",
              "      <th></th>\n",
              "      <th>prob_class0</th>\n",
              "      <th>prob_class1</th>\n",
              "      <th>preds</th>\n",
              "      <th>preds_10</th>\n",
              "      <th>preds_20</th>\n",
              "      <th>preds_30</th>\n",
              "    </tr>\n",
              "  </thead>\n",
              "  <tbody>\n",
              "    <tr>\n",
              "      <th>0</th>\n",
              "      <td>0.857143</td>\n",
              "      <td>0.142857</td>\n",
              "      <td>0</td>\n",
              "      <td>1</td>\n",
              "      <td>0</td>\n",
              "      <td>0</td>\n",
              "    </tr>\n",
              "    <tr>\n",
              "      <th>1</th>\n",
              "      <td>1.000000</td>\n",
              "      <td>0.000000</td>\n",
              "      <td>0</td>\n",
              "      <td>0</td>\n",
              "      <td>0</td>\n",
              "      <td>0</td>\n",
              "    </tr>\n",
              "    <tr>\n",
              "      <th>2</th>\n",
              "      <td>0.857143</td>\n",
              "      <td>0.142857</td>\n",
              "      <td>0</td>\n",
              "      <td>1</td>\n",
              "      <td>0</td>\n",
              "      <td>0</td>\n",
              "    </tr>\n",
              "    <tr>\n",
              "      <th>3</th>\n",
              "      <td>0.714286</td>\n",
              "      <td>0.285714</td>\n",
              "      <td>0</td>\n",
              "      <td>1</td>\n",
              "      <td>1</td>\n",
              "      <td>0</td>\n",
              "    </tr>\n",
              "    <tr>\n",
              "      <th>4</th>\n",
              "      <td>0.714286</td>\n",
              "      <td>0.285714</td>\n",
              "      <td>0</td>\n",
              "      <td>1</td>\n",
              "      <td>1</td>\n",
              "      <td>0</td>\n",
              "    </tr>\n",
              "    <tr>\n",
              "      <th>...</th>\n",
              "      <td>...</td>\n",
              "      <td>...</td>\n",
              "      <td>...</td>\n",
              "      <td>...</td>\n",
              "      <td>...</td>\n",
              "      <td>...</td>\n",
              "    </tr>\n",
              "    <tr>\n",
              "      <th>4904</th>\n",
              "      <td>1.000000</td>\n",
              "      <td>0.000000</td>\n",
              "      <td>0</td>\n",
              "      <td>0</td>\n",
              "      <td>0</td>\n",
              "      <td>0</td>\n",
              "    </tr>\n",
              "    <tr>\n",
              "      <th>4905</th>\n",
              "      <td>0.857143</td>\n",
              "      <td>0.142857</td>\n",
              "      <td>0</td>\n",
              "      <td>1</td>\n",
              "      <td>0</td>\n",
              "      <td>0</td>\n",
              "    </tr>\n",
              "    <tr>\n",
              "      <th>4906</th>\n",
              "      <td>1.000000</td>\n",
              "      <td>0.000000</td>\n",
              "      <td>0</td>\n",
              "      <td>0</td>\n",
              "      <td>0</td>\n",
              "      <td>0</td>\n",
              "    </tr>\n",
              "    <tr>\n",
              "      <th>4907</th>\n",
              "      <td>0.857143</td>\n",
              "      <td>0.142857</td>\n",
              "      <td>0</td>\n",
              "      <td>1</td>\n",
              "      <td>0</td>\n",
              "      <td>0</td>\n",
              "    </tr>\n",
              "    <tr>\n",
              "      <th>4908</th>\n",
              "      <td>1.000000</td>\n",
              "      <td>0.000000</td>\n",
              "      <td>0</td>\n",
              "      <td>0</td>\n",
              "      <td>0</td>\n",
              "      <td>0</td>\n",
              "    </tr>\n",
              "  </tbody>\n",
              "</table>\n",
              "<p>4909 rows × 6 columns</p>\n",
              "</div>"
            ],
            "text/plain": [
              "      prob_class0  prob_class1  preds  preds_10  preds_20  preds_30\n",
              "0        0.857143     0.142857      0         1         0         0\n",
              "1        1.000000     0.000000      0         0         0         0\n",
              "2        0.857143     0.142857      0         1         0         0\n",
              "3        0.714286     0.285714      0         1         1         0\n",
              "4        0.714286     0.285714      0         1         1         0\n",
              "...           ...          ...    ...       ...       ...       ...\n",
              "4904     1.000000     0.000000      0         0         0         0\n",
              "4905     0.857143     0.142857      0         1         0         0\n",
              "4906     1.000000     0.000000      0         0         0         0\n",
              "4907     0.857143     0.142857      0         1         0         0\n",
              "4908     1.000000     0.000000      0         0         0         0\n",
              "\n",
              "[4909 rows x 6 columns]"
            ]
          },
          "execution_count": 130,
          "metadata": {},
          "output_type": "execute_result"
        }
      ],
      "source": [
        "df_probs[\"preds_10\"] = 0\n",
        "df_probs[\"preds_20\"] = 0\n",
        "df_probs[\"preds_30\"] = 0\n",
        "\n",
        "df_probs.loc[df_probs[\"prob_class1\"]>0.1, \"preds_10\"] = 1\n",
        "df_probs.loc[df_probs[\"prob_class1\"]>0.2, \"preds_20\"] = 1\n",
        "df_probs.loc[df_probs[\"prob_class1\"]>0.3, \"preds_30\"] = 1\n",
        "\n",
        "df_probs"
      ]
    },
    {
      "attachments": {},
      "cell_type": "markdown",
      "metadata": {},
      "source": [
        "### Threshold = 30"
      ]
    },
    {
      "cell_type": "code",
      "execution_count": 143,
      "metadata": {},
      "outputs": [
        {
          "name": "stdout",
          "output_type": "stream",
          "text": [
            "Informe de Clasificación:\n",
            "              precision    recall  f1-score   support\n",
            "\n",
            "           0       0.96      0.99      0.98      4700\n",
            "           1       0.13      0.02      0.04       209\n",
            "\n",
            "    accuracy                           0.95      4909\n",
            "   macro avg       0.54      0.51      0.51      4909\n",
            "weighted avg       0.92      0.95      0.94      4909\n",
            "\n"
          ]
        },
        {
          "data": {
            "image/png": "[encoded data removed]",
            "text/plain": [
              "<Figure size 640x480 with 2 Axes>"
            ]
          },
          "metadata": {},
          "output_type": "display_data"
        }
      ],
      "source": [
        "preds30 = df_probs[\"preds_30\"].values\n",
        "cm = confusion_matrix(target, preds30)\n",
        "ConfusionMatrixDisplay(confusion_matrix=cm).plot()\n",
        "print(f\"Informe de Clasificación:\\n\"\n",
        "      f\"{classification_report(target, preds30)}\")\n"
      ]
    },
    {
      "attachments": {},
      "cell_type": "markdown",
      "metadata": {},
      "source": [
        "### Threshold = 20"
      ]
    },
    {
      "cell_type": "code",
      "execution_count": 132,
      "metadata": {},
      "outputs": [
        {
          "name": "stdout",
          "output_type": "stream",
          "text": [
            "Informe de Clasificación:\n",
            "              precision    recall  f1-score   support\n",
            "\n",
            "           0       0.96      0.96      0.96      4700\n",
            "           1       0.12      0.13      0.12       209\n",
            "\n",
            "    accuracy                           0.92      4909\n",
            "   macro avg       0.54      0.54      0.54      4909\n",
            "weighted avg       0.93      0.92      0.92      4909\n",
            "\n"
          ]
        },
        {
          "data": {
            "image/png": "[encoded data removed]",
            "text/plain": [
              "<Figure size 640x480 with 2 Axes>"
            ]
          },
          "metadata": {},
          "output_type": "display_data"
        }
      ],
      "source": [
        "preds20 = df_probs[\"preds_20\"].values\n",
        "cm = confusion_matrix(target, preds20)\n",
        "ConfusionMatrixDisplay(confusion_matrix=cm).plot()\n",
        "print(f\"Informe de Clasificación:\\n\"\n",
        "      f\"{classification_report(target, preds20)}\")\n"
      ]
    },
    {
      "attachments": {},
      "cell_type": "markdown",
      "metadata": {},
      "source": [
        "### Threshold = 10"
      ]
    },
    {
      "cell_type": "code",
      "execution_count": 133,
      "metadata": {},
      "outputs": [
        {
          "name": "stdout",
          "output_type": "stream",
          "text": [
            "Informe de Clasificación:\n",
            "              precision    recall  f1-score   support\n",
            "\n",
            "           0       0.97      0.80      0.88      4700\n",
            "           1       0.10      0.49      0.16       209\n",
            "\n",
            "    accuracy                           0.79      4909\n",
            "   macro avg       0.54      0.65      0.52      4909\n",
            "weighted avg       0.94      0.79      0.85      4909\n",
            "\n"
          ]
        },
        {
          "data": {
            "image/png": "[encoded data removed]",
            "text/plain": [
              "<Figure size 640x480 with 2 Axes>"
            ]
          },
          "metadata": {},
          "output_type": "display_data"
        }
      ],
      "source": [
        "preds10 = df_probs[\"preds_10\"].values\n",
        "cm = confusion_matrix(target, preds10)\n",
        "ConfusionMatrixDisplay(confusion_matrix=cm).plot()\n",
        "print(f\"Informe de Clasificación:\\n\"\n",
        "      f\"{classification_report(target, preds10)}\")\n"
      ]
    },
    {
      "attachments": {},
      "cell_type": "markdown",
      "metadata": {},
      "source": [
        "Podemos observar como al disminuir el umbral de detección de `stroke` la cantidad de casos de tipo `falso negativo` disminuyen, mejorando el `recall` de nuestro modelo, a su vez tambien notamos que la cantidad de `falsos positivos` aumenta considerablemente, perjudicando la `precisión` del mismo.\n",
        "\n",
        "El balance correcto entre `recall` y `precision` lo determinará el caso de uso. Si hablamos de `pacientes` y `riesgo de vida` seguramente ponderemos tener el mejor alcance (recall) posible en detrimento de la precisión, asumiendo que se antepone el riesgo de vida por sobre el coste de tratamientos preventivos."
      ]
    },
    {
      "attachments": {},
      "cell_type": "markdown",
      "metadata": {},
      "source": [
        "### OverSampler"
      ]
    },
    {
      "cell_type": "code",
      "execution_count": 134,
      "metadata": {},
      "outputs": [],
      "source": [
        "from imblearn.over_sampling import RandomOverSampler\n",
        "ros = RandomOverSampler(random_state=42)\n",
        "features_r, target_r = ros.fit_resample(features, target)"
      ]
    },
    {
      "cell_type": "code",
      "execution_count": 135,
      "metadata": {},
      "outputs": [],
      "source": [
        "weights=\"uniform\"\n",
        "metric=\"minkowski\"\n",
        "\n",
        "preds_list = []\n",
        "score_list = []\n",
        "k_list = []\n",
        "\n",
        "for k in list(range(1, 100, 2)):\n",
        "  knn_model = KNeighborsClassifier(n_neighbors=k, weights=weights, metric=metric)\n",
        "  preds_aux = cross_val_predict(knn_model, features_r, target_r, cv=3, method=\"predict\", n_jobs=3)\n",
        "  score_aux = cross_val_score(knn_model, features_r, target_r, cv=3, scoring=\"accuracy\")\n",
        "  k_list.append(k)\n",
        "  preds_list.append(preds_aux)\n",
        "  score_list.append(score_aux.mean())\n",
        "  \n",
        "df_scores = pd.DataFrame({\"K\":k_list, \n",
        "                   \"score\":score_list\n",
        "                   })"
      ]
    },
    {
      "cell_type": "code",
      "execution_count": 136,
      "metadata": {},
      "outputs": [
        {
          "data": {
            "image/png": "[encoded data removed]",
            "text/plain": [
              "<Figure size 640x480 with 1 Axes>"
            ]
          },
          "metadata": {},
          "output_type": "display_data"
        }
      ],
      "source": [
        "df_scores.set_index(\"K\")[\"score\"].plot(label=\"Rendimiento K-NN para diferentes valores de K\")\n",
        "plt.legend()\n",
        "plt.show()"
      ]
    },
    {
      "cell_type": "code",
      "execution_count": 146,
      "metadata": {},
      "outputs": [
        {
          "name": "stdout",
          "output_type": "stream",
          "text": [
            "Accuracy por capa:  [0.97659574 0.97978723 0.98191489 0.98191489 0.9712766  0.97978723\n",
            " 0.98510638 0.98191489 0.98510638 0.97765957]\n",
            "Accuracy media:  0.9801063829787232\n"
          ]
        }
      ],
      "source": [
        "k=2\n",
        "folds=10\n",
        "\n",
        "knn_model = KNeighborsClassifier(n_neighbors=k, weights=weights, metric=metric)\n",
        "preds = cross_val_predict(knn_model, features_r, target_r, cv=folds, method=\"predict\", n_jobs=3)\n",
        "score = cross_val_score(knn_model, features_r, target_r, cv=folds, scoring=\"accuracy\", n_jobs=3)\n",
        "probs = cross_val_predict(knn_model, features_r, target_r, cv=folds, method=\"predict_proba\", n_jobs=3)\n",
        "\n",
        "print(\"Accuracy por capa: \" , score)\n",
        "print(\"Accuracy media: \", numpy.mean(score))"
      ]
    },
    {
      "cell_type": "code",
      "execution_count": 147,
      "metadata": {},
      "outputs": [
        {
          "data": {
            "text/plain": [
              "<sklearn.metrics._plot.confusion_matrix.ConfusionMatrixDisplay at 0x12a055130>"
            ]
          },
          "execution_count": 147,
          "metadata": {},
          "output_type": "execute_result"
        },
        {
          "data": {
            "image/png": "[encoded data removed]",
            "text/plain": [
              "<Figure size 640x480 with 2 Axes>"
            ]
          },
          "metadata": {},
          "output_type": "display_data"
        }
      ],
      "source": [
        "from sklearn.metrics import confusion_matrix, ConfusionMatrixDisplay\n",
        "cm = confusion_matrix(target_r, preds)\n",
        "ConfusionMatrixDisplay(confusion_matrix=cm).plot()"
      ]
    },
    {
      "cell_type": "code",
      "execution_count": 139,
      "metadata": {},
      "outputs": [
        {
          "name": "stdout",
          "output_type": "stream",
          "text": [
            "Informe de Clasificación:\n",
            "              precision    recall  f1-score   support\n",
            "\n",
            "           0       1.00      0.93      0.96      4700\n",
            "           1       0.93      1.00      0.96      4700\n",
            "\n",
            "    accuracy                           0.96      9400\n",
            "   macro avg       0.97      0.96      0.96      9400\n",
            "weighted avg       0.97      0.96      0.96      9400\n",
            "\n"
          ]
        }
      ],
      "source": [
        "from sklearn.metrics import classification_report\n",
        "print(f\"Informe de Clasificación:\\n\"\n",
        "      f\"{classification_report(target_r, preds)}\")"
      ]
    },
    {
      "cell_type": "code",
      "execution_count": 140,
      "metadata": {},
      "outputs": [
        {
          "name": "stdout",
          "output_type": "stream",
          "text": [
            "Métricas *precision* vs. *recall*\n",
            "---------------------------------\n",
            "Precision:  [0.5        0.90176516 0.93032462 0.96173522 1.        ]\n",
            "Recall:  [1. 1. 1. 1. 0.]\n",
            "Umbral:  [0.         0.33333333 0.66666667 1.        ]\n"
          ]
        }
      ],
      "source": [
        "from sklearn.metrics import precision_recall_curve\n",
        "precision, recall, threshold = precision_recall_curve(target_r,probs[:,1])\n",
        "\n",
        "print(\"Métricas *precision* vs. *recall*\")\n",
        "print(\"---------------------------------\")\n",
        "print(\"Precision: \", precision)\n",
        "print(\"Recall: \", recall)\n",
        "print(\"Umbral: \", threshold)"
      ]
    },
    {
      "cell_type": "code",
      "execution_count": 148,
      "metadata": {},
      "outputs": [
        {
          "data": {
            "image/png": "[encoded data removed]",
            "text/plain": [
              "<Figure size 640x480 with 1 Axes>"
            ]
          },
          "metadata": {},
          "output_type": "display_data"
        }
      ],
      "source": [
        "plt.plot(threshold, precision[:-1], c=\"green\", label=\"Precision\")\n",
        "plt.plot(threshold, recall[:-1], c=\"red\", label=\"Recall\")\n",
        "plt.axvline(0.5, alpha=0.5, c=\"gray\")\n",
        "plt.suptitle(\"Curva Precision vs. Recall\")\n",
        "plt.legend()\n",
        "plt.show()"
      ]
    }
  ],
  "metadata": {
    "colab": {
      "provenance": []
    },
    "kernelspec": {
      "display_name": ".venv",
      "language": "python",
      "name": "python3"
    },
    "language_info": {
      "codemirror_mode": {
        "name": "ipython",
        "version": 3
      },
      "file_extension": ".py",
      "mimetype": "text/x-python",
      "name": "python",
      "nbconvert_exporter": "python",
      "pygments_lexer": "ipython3",
      "version": "3.12.1"
    }
  },
  "nbformat": 4,
  "nbformat_minor": 0
}
